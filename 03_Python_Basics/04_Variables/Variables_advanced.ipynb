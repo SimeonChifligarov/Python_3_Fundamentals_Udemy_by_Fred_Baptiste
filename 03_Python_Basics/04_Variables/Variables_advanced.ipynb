{
 "cells": [
  {
   "cell_type": "markdown",
   "id": "44f9e62c",
   "metadata": {},
   "source": [
    "# 🧠 Advanced Practice: Variables, Names & Scope in Python\n",
    "\n",
    "This notebook goes beyond simple assignment and covers:\n",
    "- Names vs. objects; identity vs. equality\n",
    "- Mutability, aliasing, and copy semantics\n",
    "- Unpacking & starred targets; augmented assignment\n",
    "- Scopes (LEGB), `global`, `nonlocal`, and closures\n",
    "- Shadowing builtins safely\n",
    "- `del`, garbage collection cues, and `weakref`\n",
    "- Variable annotations & type hints\n",
    "- The walrus operator (`:=`) and comprehension scope"
   ]
  },
  {
   "cell_type": "markdown",
   "id": "9fe5c1b6",
   "metadata": {},
   "source": [
    "## 1) Names, objects, identity vs equality"
   ]
  },
  {
   "cell_type": "code",
   "execution_count": 13,
   "id": "d148092f",
   "metadata": {},
   "outputs": [
    {
     "name": "stdout",
     "output_type": "stream",
     "text": [
      "a == b: True\n",
      "a is b: True\n",
      "x == y: True\n",
      "x is y: False\n",
      "s1 is s2: True\n",
      "id(x): 1878908547632 id(y): 1878908547600\n"
     ]
    }
   ],
   "source": [
    "a = 256\n",
    "b = 256\n",
    "print(\"a == b:\", a == b)\n",
    "print(\"a is b:\", a is b)\n",
    "\n",
    "x = 10_000\n",
    "y = 10_000\n",
    "print(\"x == y:\", x == y)\n",
    "print(\"x is y:\", x is y)\n",
    "\n",
    "s1 = \"hello\"\n",
    "s2 = \"he\" + \"llo\"\n",
    "print(\"s1 is s2:\", s1 is s2)\n",
    "\n",
    "print(\"id(x):\", id(x), \"id(y):\", id(y))"
   ]
  },
  {
   "cell_type": "markdown",
   "id": "e222654c",
   "metadata": {},
   "source": [
    "## 2) Mutability & aliasing"
   ]
  },
  {
   "cell_type": "code",
   "execution_count": 14,
   "id": "7e6ce201",
   "metadata": {},
   "outputs": [
    {
     "name": "stdout",
     "output_type": "stream",
     "text": [
      "nums: [1, 2, 3, 4]\n",
      "a: [1, [2, 3, 99]]\n",
      "b (shallow): [1, [2, 3, 99]]\n",
      "c (deep): [1, [2, 3]]\n",
      "OK ✅\n"
     ]
    }
   ],
   "source": [
    "nums = [1, 2, 3]\n",
    "alias = nums\n",
    "alias.append(4)\n",
    "print(\"nums:\", nums)\n",
    "\n",
    "import copy\n",
    "a = [1, [2, 3]]\n",
    "b = copy.copy(a)\n",
    "c = copy.deepcopy(a)\n",
    "\n",
    "a[1].append(99)\n",
    "print(\"a:\", a)\n",
    "print(\"b (shallow):\", b)\n",
    "print(\"c (deep):\", c)\n",
    "\n",
    "assert a is not b and a == b\n",
    "assert a is not c and a != c\n",
    "print(\"OK ✅\")"
   ]
  },
  {
   "cell_type": "markdown",
   "id": "28e404a4",
   "metadata": {},
   "source": [
    "## 3) Unpacking targets, starred assignment, augmented assignment"
   ]
  },
  {
   "cell_type": "code",
   "execution_count": 15,
   "id": "28445bca",
   "metadata": {},
   "outputs": [
    {
     "name": "stdout",
     "output_type": "stream",
     "text": [
      "10 [20, 30, 40] 50\n",
      "x, y: [0, 1] [0, 1]\n",
      "p, q: [1] []\n"
     ]
    }
   ],
   "source": [
    "head, *middle, tail = [10, 20, 30, 40, 50]\n",
    "print(head, middle, tail)\n",
    "\n",
    "x = y = [0]\n",
    "x += [1]\n",
    "print(\"x, y:\", x, y)\n",
    "\n",
    "p, q = [], []\n",
    "p += [1]\n",
    "print(\"p, q:\", p, q)"
   ]
  },
  {
   "cell_type": "markdown",
   "id": "02d1c274",
   "metadata": {},
   "source": [
    "## 4) Scopes (LEGB), `global`, `nonlocal`, closures"
   ]
  },
  {
   "cell_type": "code",
   "execution_count": 16,
   "id": "75ba4071",
   "metadata": {},
   "outputs": [
    {
     "name": "stdout",
     "output_type": "stream",
     "text": [
      "inner sees: enclosed\n",
      "inner sees: enclosed\n",
      "module name: module-level\n"
     ]
    }
   ],
   "source": [
    "name = \"module-level\"\n",
    "\n",
    "def outer():\n",
    "    name = \"enclosed\"\n",
    "    def inner():\n",
    "        # nonlocal name\n",
    "        # global name\n",
    "        print(\"inner sees:\", name)\n",
    "    inner()\n",
    "    return inner\n",
    "\n",
    "fn = outer()\n",
    "fn()\n",
    "print(\"module name:\", name)"
   ]
  },
  {
   "cell_type": "code",
   "execution_count": 17,
   "id": "9e35f851",
   "metadata": {},
   "outputs": [
    {
     "name": "stdout",
     "output_type": "stream",
     "text": [
      "[2, 2, 2]\n",
      "[0, 1, 2]\n"
     ]
    }
   ],
   "source": [
    "# Closure capturing and late binding pitfall\n",
    "funcs = []\n",
    "for i in range(3):\n",
    "    funcs.append(lambda: i)\n",
    "print([f() for f in funcs])\n",
    "\n",
    "funcs2 = []\n",
    "for i in range(3):\n",
    "    funcs2.append(lambda i=i: i)\n",
    "print([f() for f in funcs2])"
   ]
  },
  {
   "cell_type": "markdown",
   "id": "99ac66f8",
   "metadata": {},
   "source": [
    "## 5) Shadowing builtins (and how to avoid breaking your session)"
   ]
  },
  {
   "cell_type": "code",
   "execution_count": 18,
   "id": "f88634d3",
   "metadata": {},
   "outputs": [
    {
     "name": "stdout",
     "output_type": "stream",
     "text": [
      "Original len: 3\n",
      "len is now: 42\n",
      "builtins.len([1,2,3]) = 3\n",
      "Restored len: 3\n"
     ]
    }
   ],
   "source": [
    "import builtins\n",
    "print(\"Original len:\", len([1,2,3]))\n",
    "\n",
    "len_backup = builtins.len\n",
    "try:\n",
    "    len = 42\n",
    "    print(\"len is now:\", len)\n",
    "    print(\"builtins.len([1,2,3]) =\", builtins.len([1,2,3]))\n",
    "finally:\n",
    "    if 'len' in globals():\n",
    "        del globals()['len']\n",
    "print(\"Restored len:\", len_backup([1,2,3]))"
   ]
  },
  {
   "cell_type": "markdown",
   "id": "83df9192",
   "metadata": {},
   "source": [
    "## 6) `del`, garbage collection cues, and `weakref`"
   ]
  },
  {
   "cell_type": "code",
   "execution_count": 19,
   "id": "e04e759d",
   "metadata": {},
   "outputs": [
    {
     "name": "stdout",
     "output_type": "stream",
     "text": [
      "weakref() returns: <weakref at 0x000001B5772222F0; to 'Blob' at 0x000001B577249A90> -> Blob(99)\n",
      "after del obj, weakref -> Blob(99)\n",
      "after del alias, weakref -> None\n"
     ]
    }
   ],
   "source": [
    "import weakref\n",
    "\n",
    "class Blob:\n",
    "    def __init__(self, value):\n",
    "        self.value = value\n",
    "    def __repr__(self):\n",
    "        return f\"Blob({self.value})\"\n",
    "\n",
    "obj = Blob(99)\n",
    "ref = weakref.ref(obj)\n",
    "print(\"weakref() returns:\", ref, \"->\", ref())\n",
    "\n",
    "alias = obj\n",
    "del obj\n",
    "print(\"after del obj, weakref ->\", ref())\n",
    "del alias\n",
    "print(\"after del alias, weakref ->\", ref())"
   ]
  },
  {
   "cell_type": "markdown",
   "id": "2256ff7d",
   "metadata": {},
   "source": [
    "## 7) Variable annotations & static checking hints"
   ]
  },
  {
   "cell_type": "code",
   "execution_count": 20,
   "id": "3066309e",
   "metadata": {},
   "outputs": [
    {
     "name": "stdout",
     "output_type": "stream",
     "text": [
      "{'a': [1, 2, 3]}\n"
     ]
    }
   ],
   "source": [
    "from typing import List, Dict, Optional, Tuple\n",
    "\n",
    "total: int = 0\n",
    "cache: Dict[str, List[int]] = {}\n",
    "point: Tuple[int, int] = (10, 20)\n",
    "nickname: Optional[str] = None\n",
    "\n",
    "def add_to_cache(key: str, value: List[int]) -> None:\n",
    "    cache.setdefault(key, []).extend(value)\n",
    "\n",
    "add_to_cache(\"a\", [1,2,3])\n",
    "print(cache)"
   ]
  },
  {
   "cell_type": "markdown",
   "id": "26d713c6",
   "metadata": {},
   "source": [
    "## 8) Walrus operator (`:=`) and comprehension scope"
   ]
  },
  {
   "cell_type": "code",
   "execution_count": 21,
   "id": "6e6d5340",
   "metadata": {},
   "outputs": [
    {
     "name": "stdout",
     "output_type": "stream",
     "text": [
      "caps: ['alice', 'BOB', 'Carla']\n",
      "Is 'n' in globals after comprehension? True\n"
     ]
    }
   ],
   "source": [
    "data = ['alice', 'BOB', 'Carla', 'd']\n",
    "caps = [s for s in data if (n := len(s)) >= 2]\n",
    "print(\"caps:\", caps)\n",
    "print(\"Is 'n' in globals after comprehension?\", 'n' in globals())"
   ]
  },
  {
   "cell_type": "markdown",
   "id": "edfb73d5",
   "metadata": {},
   "source": [
    "## 9) Mini-exercises (assertions must pass)"
   ]
  },
  {
   "cell_type": "code",
   "execution_count": 22,
   "id": "e250e921",
   "metadata": {},
   "outputs": [
    {
     "name": "stdout",
     "output_type": "stream",
     "text": [
      "All mini-exercises passed ✅\n"
     ]
    }
   ],
   "source": [
    "funcs = []\n",
    "for i in range(4):\n",
    "    funcs.append(lambda i=i: i)\n",
    "assert [f() for f in funcs] == [0,1,2,3]\n",
    "\n",
    "a = [1,2,[3]]\n",
    "b = a.copy()\n",
    "b[2] = b[2].copy()\n",
    "a[2].append(4)\n",
    "assert a != b and a[2] != b[2]\n",
    "\n",
    "def make_counter(start=0):\n",
    "    count = start\n",
    "    def inc():\n",
    "        nonlocal count\n",
    "        count += 1\n",
    "        return count\n",
    "    return inc\n",
    "c = make_counter(10)\n",
    "assert [c(), c(), c()] == [11,12,13]\n",
    "\n",
    "print('All mini-exercises passed ✅')"
   ]
  },
  {
   "cell_type": "code",
   "execution_count": null,
   "id": "27e5b4b8-e04c-451a-a2d6-9c7e46608175",
   "metadata": {},
   "outputs": [],
   "source": []
  }
 ],
 "metadata": {
  "kernelspec": {
   "display_name": "Python 3 (ipykernel)",
   "language": "python",
   "name": "python3"
  },
  "language_info": {
   "codemirror_mode": {
    "name": "ipython",
    "version": 3
   },
   "file_extension": ".py",
   "mimetype": "text/x-python",
   "name": "python",
   "nbconvert_exporter": "python",
   "pygments_lexer": "ipython3",
   "version": "3.13.7"
  }
 },
 "nbformat": 4,
 "nbformat_minor": 5
}
