{
 "cells": [
  {
   "cell_type": "markdown",
   "metadata": {},
   "source": [
    "# Boolean Operators — Practice Notebook\n",
    "\n",
    "Hands-on exercises focusing on:\n",
    "- Truthiness and `bool()`\n",
    "- Short-circuiting: `and` / `or`\n",
    "- Return values of `and` / `or` (not just True/False!)\n",
    "- De Morgan's laws\n",
    "- Guard patterns and defaults\n",
    "- `any` / `all` (including edge cases)\n",
    "- Bitwise vs boolean operators (&/| vs and/or)\n",
    "- Conditional expression `x if cond else y`\n",
    "- Custom truthiness with `__bool__` / `__len__`\n"
   ]
  },
  {
   "cell_type": "markdown",
   "metadata": {},
   "source": [
    "## 1) Truthiness: what turns into `True` / `False`?\n",
    "In Python, many non-bool objects have a truth value. Use `bool(x)` to see it."
   ]
  },
  {
   "cell_type": "code",
   "execution_count": 1,
   "metadata": {},
   "outputs": [
    {
     "name": "stdout",
     "output_type": "stream",
     "text": [
      "         0 -> False\n",
      "         1 -> True\n",
      "        -1 -> True\n",
      "       0.0 -> False\n",
      "       0.1 -> True\n",
      "        '' -> False\n",
      "       ' ' -> True\n",
      "      'hi' -> True\n",
      "        [] -> False\n",
      "       [0] -> True\n",
      "        () -> False\n",
      "      (0,) -> True\n",
      "        {} -> False\n",
      "    {1: 2} -> True\n",
      "     set() -> False\n",
      "       {0} -> True\n",
      "      None -> False\n",
      "OK ✅\n"
     ]
    }
   ],
   "source": [
    "samples = [\n",
    "    0, 1, -1, 0.0, 0.1, \"\", \" \", \"hi\", [], [0], (), (0,), {}, {1:2}, set(), {0}, None\n",
    "]\n",
    "table = [(repr(x), bool(x)) for x in samples]\n",
    "for r in table:\n",
    "    print(f\"{r[0]:>10} -> {r[1]}\")\n",
    "\n",
    "assert bool(0) is False\n",
    "assert bool(()) is False and bool((0,)) is True\n",
    "assert bool(\"\") is False and bool(\"0\") is True\n",
    "assert bool(None) is False\n",
    "print(\"OK ✅\")\n"
   ]
  },
  {
   "cell_type": "markdown",
   "metadata": {},
   "source": [
    "## 2) Short-circuiting and side effects\n",
    "`and` stops at the first falsy value; `or` stops at the first truthy value."
   ]
  },
  {
   "cell_type": "code",
   "execution_count": 2,
   "metadata": {},
   "outputs": [
    {
     "name": "stdout",
     "output_type": "stream",
     "text": [
      "called A\n",
      "called B\n",
      "called X\n",
      "OK ✅\n"
     ]
    }
   ],
   "source": [
    "calls = []\n",
    "def mark(name, value):\n",
    "    calls.append(name)\n",
    "    print(\"called\", name)\n",
    "    return value\n",
    "\n",
    "calls.clear()\n",
    "_ = mark('A', True) and mark('B', False) and mark('C', True)\n",
    "assert calls == ['A','B']  # stopped before C\n",
    "\n",
    "calls.clear()\n",
    "_ = mark('X', True) or mark('Y', False)\n",
    "assert calls == ['X']      # stopped before Y\n",
    "print(\"OK ✅\")\n"
   ]
  },
  {
   "cell_type": "markdown",
   "metadata": {},
   "source": [
    "## 3) Return values of `and` / `or`\n",
    "They return one of the **operands**, not necessarily a `bool`."
   ]
  },
  {
   "cell_type": "code",
   "execution_count": 3,
   "metadata": {},
   "outputs": [
    {
     "name": "stdout",
     "output_type": "stream",
     "text": [
      "OK ✅\n"
     ]
    }
   ],
   "source": [
    "# AND returns first falsy or the last value\n",
    "assert (0 and 123) == 0\n",
    "assert (\"hi\" and 42) == 42\n",
    "\n",
    "# OR returns first truthy or the last value\n",
    "assert (\"\" or \"fallback\") == \"fallback\"\n",
    "assert (None or 0 or [] or \"go\") == \"go\"\n",
    "\n",
    "# Useful: pick defaults\n",
    "name = \"\"  # imagine user input\n",
    "display = name or \"<anonymous>\"\n",
    "assert display == \"<anonymous>\"\n",
    "print(\"OK ✅\")\n"
   ]
  },
  {
   "cell_type": "markdown",
   "metadata": {},
   "source": [
    "## 4) De Morgan's laws\n",
    "For any booleans `A`, `B`:\n",
    "- `not (A and B)`  == `(not A) or (not B)`\n",
    "- `not (A or  B)`  == `(not A) and (not B)`"
   ]
  },
  {
   "cell_type": "code",
   "execution_count": 4,
   "metadata": {},
   "outputs": [
    {
     "name": "stdout",
     "output_type": "stream",
     "text": [
      "De Morgan OK ✅\n"
     ]
    }
   ],
   "source": [
    "vals = [False, True]\n",
    "for A in vals:\n",
    "    for B in vals:\n",
    "        assert (not (A and B)) == ((not A) or (not B))\n",
    "        assert (not (A or  B)) == ((not A) and (not B))\n",
    "print(\"De Morgan OK ✅\")\n"
   ]
  },
  {
   "cell_type": "markdown",
   "metadata": {},
   "source": [
    "## 5) Guard patterns with short-circuiting\n",
    "Use `and` to guard a risky operation (e.g., division by zero)."
   ]
  },
  {
   "cell_type": "code",
   "execution_count": 5,
   "metadata": {},
   "outputs": [
    {
     "name": "stdout",
     "output_type": "stream",
     "text": [
      "Guards OK ✅\n"
     ]
    }
   ],
   "source": [
    "a, b = 20, 0\n",
    "safe = (b != 0) and (a / b > 1)  # right side never evaluated when b==0\n",
    "assert safe is False\n",
    "\n",
    "a, b = 20, 10\n",
    "safe = (b != 0) and (a / b > 1)\n",
    "assert safe is True\n",
    "print(\"Guards OK ✅\")\n"
   ]
  },
  {
   "cell_type": "markdown",
   "metadata": {},
   "source": [
    "## 6) `any` / `all` (and the empty-iterable edge case)\n",
    "- `any(iterable)` → True if **any** element is truthy; False for empty iterables.\n",
    "- `all(iterable)` → True if **all** elements are truthy; **True for empty** iterables (vacuous truth)."
   ]
  },
  {
   "cell_type": "code",
   "execution_count": 6,
   "metadata": {},
   "outputs": [
    {
     "name": "stdout",
     "output_type": "stream",
     "text": [
      "test 1\n",
      "test 5\n",
      "test 12\n",
      "any/all OK ✅\n"
     ]
    }
   ],
   "source": [
    "assert any([0, 0, 3]) is True\n",
    "assert all([1, 2, 3]) is True\n",
    "assert any([]) is False\n",
    "assert all([]) is True\n",
    "\n",
    "# With generators (short-circuits internally)\n",
    "def gt10(n):\n",
    "    print(\"test\", n)\n",
    "    return n > 10\n",
    "res = any(gt10(n) for n in [1, 5, 12, 99])  # stops at 12\n",
    "    \n",
    "assert res is True\n",
    "print(\"any/all OK ✅\")\n"
   ]
  },
  {
   "cell_type": "markdown",
   "metadata": {},
   "source": [
    "## 7) Bitwise vs boolean operators (gotcha!)\n",
    "`&` and `|` are **bitwise** (and evaluate both sides); `and`/`or` are **boolean** (and short-circuit). Precedence differs too: `&` binds tighter than `and`."
   ]
  },
  {
   "cell_type": "code",
   "execution_count": 7,
   "metadata": {},
   "outputs": [
    {
     "name": "stdout",
     "output_type": "stream",
     "text": [
      "Bitwise vs boolean OK ✅\n"
     ]
    }
   ],
   "source": [
    "# With booleans, results look similar, but evaluation differs\n",
    "seen = []\n",
    "def T(): seen.append('T'); return True\n",
    "def F(): seen.append('F'); return False\n",
    "\n",
    "seen.clear(); _ = F() and T();  assert seen == ['F']      # short-circuit\n",
    "seen.clear(); _ = F() & T();    assert seen == ['F','T']  # both evaluated\n",
    "\n",
    "# Precedence difference\n",
    "val1 = True or False and False   # True or (False and False) -> True\n",
    "val2 = True | False & False      # True | (False & False) -> True\n",
    "assert val1 == val2 == True\n",
    "print(\"Bitwise vs boolean OK ✅\")\n"
   ]
  },
  {
   "cell_type": "markdown",
   "metadata": {},
   "source": [
    "## 8) Conditional expression vs `or` default\n",
    "`x if cond else y` is explicit; `x or y` picks the first **truthy** value (which might not be what you want when `x` can be falsy-but-valid like `0`)."
   ]
  },
  {
   "cell_type": "code",
   "execution_count": 8,
   "metadata": {},
   "outputs": [
    {
     "name": "stdout",
     "output_type": "stream",
     "text": [
      "Conditional vs or OK ✅\n"
     ]
    }
   ],
   "source": [
    "count_from_db = 0  # 0 is a valid value!\n",
    "using_or = count_from_db or 100\n",
    "using_if = count_from_db if count_from_db is not None else 100\n",
    "assert using_or == 100            # picked fallback because 0 is falsy\n",
    "assert using_if == 0              # kept valid 0\n",
    "print(\"Conditional vs or OK ✅\")\n"
   ]
  },
  {
   "cell_type": "markdown",
   "metadata": {},
   "source": [
    "## 9) Custom truthiness (`__bool__` / `__len__`)\n",
    "Objects are truthy if `__bool__` returns True, or if absent, if `__len__` > 0. Otherwise falsy."
   ]
  },
  {
   "cell_type": "code",
   "execution_count": 9,
   "metadata": {},
   "outputs": [
    {
     "name": "stdout",
     "output_type": "stream",
     "text": [
      "Custom truthiness OK ✅\n"
     ]
    }
   ],
   "source": [
    "class Box:\n",
    "    def __init__(self, items=None):\n",
    "        self.items = list(items or [])\n",
    "    def __len__(self):\n",
    "        return len(self.items)\n",
    "    def add(self, x):\n",
    "        self.items.append(x)\n",
    "\n",
    "b = Box()\n",
    "assert bool(b) is False\n",
    "b.add(1)\n",
    "assert bool(b) is True and len(b) == 1\n",
    "\n",
    "class Flag:\n",
    "    def __init__(self, on=False):\n",
    "        self.on = on\n",
    "    def __bool__(self):\n",
    "        return self.on\n",
    "\n",
    "f = Flag()\n",
    "assert bool(f) is False\n",
    "f.on = True\n",
    "assert bool(f) is True\n",
    "print(\"Custom truthiness OK ✅\")\n"
   ]
  },
  {
   "cell_type": "markdown",
   "metadata": {},
   "source": [
    "## 10) Quick quiz — predict before you run\n",
    "Compute mentally, then verify with asserts."
   ]
  },
  {
   "cell_type": "code",
   "execution_count": 10,
   "metadata": {
    "scrolled": true
   },
   "outputs": [
    {
     "name": "stdout",
     "output_type": "stream",
     "text": [
      "All quiz checks passed ✅\n"
     ]
    }
   ],
   "source": [
    "# A) Truthiness\n",
    "assert (bool([]), bool([0]), bool(\"\"), bool(\"0\")) == (False, True, False, True)\n",
    "\n",
    "# B) Short-circuit and operand return values\n",
    "assert (\"\" or None or \"ok\") == \"ok\"\n",
    "assert (\"go\" and 123) == 123\n",
    "\n",
    "# C) De Morgan\n",
    "A, B = False, True\n",
    "assert (not (A and B)) == ((not A) or (not B))\n",
    "assert (not (A or B)) == ((not A) and (not B))\n",
    "\n",
    "# D) any/all edge cases\n",
    "assert any([]) is False and all([]) is True\n",
    "assert any([0, 0, 1]) is True and all([1, 1, 1]) is True\n",
    "\n",
    "# E) Bitwise vs boolean\n",
    "seen = []\n",
    "def T(): seen.append('T'); return True\n",
    "def F(): seen.append('F'); return False\n",
    "seen.clear(); _ = F() and T();  assert seen == ['F']\n",
    "seen.clear(); _ = F() | T();    assert seen == ['F','T']  # bitwise OR evaluates both\n",
    "\n",
    "# F) Conditional vs or\n",
    "value = 0\n",
    "assert (value or 99) == 99\n",
    "assert (value if value is not None else 99) == 0\n",
    "\n",
    "print(\"All quiz checks passed ✅\")\n"
   ]
  },
  {
   "cell_type": "code",
   "execution_count": null,
   "metadata": {},
   "outputs": [],
   "source": []
  }
 ],
 "metadata": {
  "kernelspec": {
   "display_name": "Python 3 (ipykernel)",
   "language": "python",
   "name": "python3"
  },
  "language_info": {
   "codemirror_mode": {
    "name": "ipython",
    "version": 3
   },
   "file_extension": ".py",
   "mimetype": "text/x-python",
   "name": "python",
   "nbconvert_exporter": "python",
   "pygments_lexer": "ipython3",
   "version": "3.13.7"
  }
 },
 "nbformat": 4,
 "nbformat_minor": 4
}
