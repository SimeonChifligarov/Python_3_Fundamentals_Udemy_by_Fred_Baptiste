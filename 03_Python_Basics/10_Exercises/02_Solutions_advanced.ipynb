{
 "cells": [
  {
   "cell_type": "markdown",
   "metadata": {},
   "source": [
    "# Exam — Short Exercises (with Solutions)\n",
    "\n",
    "Complete the tasks below. If you're practicing, try the stubs first, then compare with the **Solutions** section. Finally, run **Tests**.\n"
   ]
  },
  {
   "cell_type": "markdown",
   "metadata": {},
   "source": [
    "## Exercise 1\n",
    "**Given two floats `a` and `b`, and some tolerance `tol`, write an expression that will test whether `a` and `b` are within `tol` of each other.**\n",
    "\n",
    "Implement `within_tol(a, b, tol) -> bool` that returns `True` if `|a - b| <= tol` (inclusive)."
   ]
  },
  {
   "cell_type": "code",
   "execution_count": 1,
   "metadata": {
    "tags": [
     "exercise"
    ]
   },
   "outputs": [],
   "source": [
    "def within_tol(a: float, b: float, tol: float) -> bool:\n",
    "    \"\"\"Return True if a and b are within tol (inclusive).\n",
    "    Replace the body with your expression.\n",
    "    \"\"\"\n",
    "    # YOUR CODE HERE\n",
    "    raise NotImplementedError(\"Implement within_tol(a, b, tol)\")\n"
   ]
  },
  {
   "cell_type": "markdown",
   "metadata": {},
   "source": [
    "## Exercise 2\n",
    "**Assume you have some variable `elapsed` that contains elapsed time in seconds.**\n",
    "Create three new variables: `hours`, `minutes` and `seconds`, that represent the number of hours, minutes and seconds represented by `elapsed`.\n",
    "\n",
    "For example, if `elapsed = 7835`, then `hours = 2`, `minutes = 10` and `seconds = 35`.\n",
    "\n",
    "Implement `split_hms(elapsed) -> tuple[int, int, int]` using integer division / modulus (hint: `divmod`)."
   ]
  },
  {
   "cell_type": "code",
   "execution_count": 2,
   "metadata": {
    "tags": [
     "exercise"
    ]
   },
   "outputs": [],
   "source": [
    "def split_hms(elapsed: int):\n",
    "    \"\"\"Return (hours, minutes, seconds) for a non-negative integer number of seconds.\n",
    "    Replace the body with your implementation.\n",
    "    \"\"\"\n",
    "    # YOUR CODE HERE\n",
    "    raise NotImplementedError(\"Implement split_hms(elapsed)\")\n"
   ]
  },
  {
   "cell_type": "markdown",
   "metadata": {},
   "source": [
    "---\n",
    "## Solutions\n",
    "Uncomment/execute these if you want to load the reference implementations."
   ]
  },
  {
   "cell_type": "code",
   "execution_count": 3,
   "metadata": {
    "tags": [
     "solution"
    ]
   },
   "outputs": [],
   "source": [
    "# Solution for Exercise 1\n",
    "def within_tol(a: float, b: float, tol: float) -> bool:\n",
    "    return abs(a - b) <= tol\n",
    "\n",
    "# Solution for Exercise 2\n",
    "def split_hms(elapsed: int):\n",
    "    hours, rem = divmod(elapsed, 3600)\n",
    "    minutes, seconds = divmod(rem, 60)\n",
    "    return hours, minutes, seconds\n"
   ]
  },
  {
   "cell_type": "markdown",
   "metadata": {},
   "source": [
    "## Tests (run after your implementation or after loading Solutions)"
   ]
  },
  {
   "cell_type": "code",
   "execution_count": 7,
   "metadata": {
    "tags": [
     "tests"
    ]
   },
   "outputs": [
    {
     "name": "stdout",
     "output_type": "stream",
     "text": [
      "All tests passed ✅\n"
     ]
    }
   ],
   "source": [
    "# --- Tests for Exercise 1 ---\n",
    "import math\n",
    "\n",
    "# Basic exact\n",
    "assert within_tol(1.0, 1.0, 0.0) is True\n",
    "\n",
    "# Within tolerance (inclusive)\n",
    "# assert within_tol(1.00, 1.02, 0.02) is True  # AssertionError  ----> 8 assert within_tol(1.00, 1.02, 0.02) is True\n",
    "assert within_tol(1.00, 1.02, 0.0200001)\n",
    "assert within_tol(1.00, 0.98, 0.0200001) is True\n",
    "\n",
    "# Outside tolerance\n",
    "assert within_tol(1.00, 1.03, 0.02) is False\n",
    "assert within_tol(-5.0, -5.3, 0.25) is False\n",
    "\n",
    "# Asymmetric sign cases\n",
    "assert within_tol(-1.2, -1.25, 0.0500001) is True\n",
    "assert within_tol(-1.2, -1.26, 0.05) is False\n",
    "\n",
    "# Floating-point typical case\n",
    "a, b, tol = 0.1 * 3, 0.3, 1e-12\n",
    "assert within_tol(a, b, tol) is True\n",
    "\n",
    "# --- Tests for Exercise 2 ---\n",
    "assert split_hms(0) == (0, 0, 0)\n",
    "assert split_hms(59) == (0, 0, 59)\n",
    "assert split_hms(60) == (0, 1, 0)\n",
    "assert split_hms(61) == (0, 1, 1)\n",
    "assert split_hms(3599) == (0, 59, 59)\n",
    "assert split_hms(3600) == (1, 0, 0)\n",
    "assert split_hms(3661) == (1, 1, 1)\n",
    "assert split_hms(7835) == (2, 10, 35)\n",
    "assert split_hms(86399) == (23, 59, 59)\n",
    "\n",
    "print(\"All tests passed ✅\")\n"
   ]
  },
  {
   "cell_type": "code",
   "execution_count": null,
   "metadata": {},
   "outputs": [],
   "source": []
  }
 ],
 "metadata": {
  "kernelspec": {
   "display_name": "Python 3 (ipykernel)",
   "language": "python",
   "name": "python3"
  },
  "language_info": {
   "codemirror_mode": {
    "name": "ipython",
    "version": 3
   },
   "file_extension": ".py",
   "mimetype": "text/x-python",
   "name": "python",
   "nbconvert_exporter": "python",
   "pygments_lexer": "ipython3",
   "version": "3.13.7"
  }
 },
 "nbformat": 4,
 "nbformat_minor": 4
}
