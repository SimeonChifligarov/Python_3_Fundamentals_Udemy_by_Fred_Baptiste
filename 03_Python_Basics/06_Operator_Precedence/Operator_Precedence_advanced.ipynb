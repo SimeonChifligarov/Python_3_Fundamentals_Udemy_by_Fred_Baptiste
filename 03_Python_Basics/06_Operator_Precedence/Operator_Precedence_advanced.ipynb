{
 "cells": [
  {
   "cell_type": "markdown",
   "metadata": {},
   "source": [
    "# Operator Precedence — Practice Notebook\n",
    "\n",
    "This standalone workbook focuses on **practice**. Use it alongside your lesson notebook.\n",
    "\n",
    "Reference: https://docs.python.org/3/reference/expressions.html#operator-precedence\n"
   ]
  },
  {
   "cell_type": "markdown",
   "metadata": {},
   "source": [
    "---\n",
    "## Practice Pack: Operator Precedence & Associativity\n",
    "You’ll practice reading/evaluating expressions, avoiding gotchas with `**`, unary minus, boolean vs bitwise operators, short-circuiting, chained comparisons, and the conditional expression.\n"
   ]
  },
  {
   "cell_type": "markdown",
   "metadata": {},
   "source": [
    "### 1) Exponentiation & associativity\n",
    "`**` is **right-associative** and binds tighter than unary minus.\n"
   ]
  },
  {
   "cell_type": "code",
   "execution_count": 1,
   "metadata": {},
   "outputs": [
    {
     "name": "stdout",
     "output_type": "stream",
     "text": [
      "OK ✅\n"
     ]
    }
   ],
   "source": [
    "# Right-associative: 2 ** 3 ** 2 == 2 ** (3 ** 2)\n",
    "assert 2 ** 3 ** 2 == 2 ** (3 ** 2)\n",
    "assert 2 ** 3 ** 2 == 512\n",
    "\n",
    "# Unary minus has lower precedence than ** (when minus is on the left)\n",
    "assert -2 ** 2 == -(2 ** 2) == -4\n",
    "assert (-2) ** 2 == 4  # parentheses change the base\n",
    "print(\"OK ✅\")\n"
   ]
  },
  {
   "cell_type": "markdown",
   "metadata": {},
   "source": [
    "### 2) Boolean precedence (`not` > `and` > `or`)\n",
    "`not` binds tighter than `and`, which binds tighter than `or`.\n"
   ]
  },
  {
   "cell_type": "code",
   "execution_count": 2,
   "metadata": {},
   "outputs": [
    {
     "name": "stdout",
     "output_type": "stream",
     "text": [
      "True True\n",
      "OK ✅\n"
     ]
    }
   ],
   "source": [
    "a, b, c = False, True, False\n",
    "expr1 = not a and b or c   # ((not a) and b) or c\n",
    "expr2 = not (a and (b or c))\n",
    "print(expr1, expr2)\n",
    "assert expr1 is True\n",
    "assert expr2 is True\n",
    "\n",
    "# Practice — predict before running\n",
    "x = True or False and False      # True or (False and False) -> True\n",
    "y = (True or False) and False    # (True) and False -> False\n",
    "assert x is True and y is False\n",
    "print(\"OK ✅\")\n"
   ]
  },
  {
   "cell_type": "markdown",
   "metadata": {},
   "source": [
    "### 3) Short-circuiting `and` / `or`\n",
    "`and` stops on the first falsy value; `or` stops on the first truthy value. This affects **side effects**.\n"
   ]
  },
  {
   "cell_type": "code",
   "execution_count": 3,
   "metadata": {},
   "outputs": [
    {
     "name": "stdout",
     "output_type": "stream",
     "text": [
      "called A\n",
      "called B\n",
      "called X\n",
      "OK ✅\n"
     ]
    }
   ],
   "source": [
    "calls = []\n",
    "def f(name, value):\n",
    "    calls.append(name)\n",
    "    print(\"called\", name)\n",
    "    return value\n",
    "\n",
    "# Only f('A') and f('B') run; 'C' is skipped because A and B already make the result False\n",
    "calls.clear()\n",
    "result_and = f('A', True) and f('B', False) and f('C', True)\n",
    "assert result_and is False and calls == ['A','B']\n",
    "\n",
    "# Only f('X') runs; 'Y' skipped because 'X' returned True so OR short-circuits\n",
    "calls.clear()\n",
    "result_or = f('X', True) or f('Y', False)\n",
    "assert result_or is True and calls == ['X']\n",
    "print(\"OK ✅\")\n"
   ]
  },
  {
   "cell_type": "markdown",
   "metadata": {},
   "source": [
    "### 4) Bitwise vs Boolean (gotcha!)\n",
    "`&` and `|` are **bitwise** (higher precedence than `and`/`or`). With booleans, they behave like logical ops **but without short-circuiting**, and precedence differs.\n"
   ]
  },
  {
   "cell_type": "code",
   "execution_count": 4,
   "metadata": {},
   "outputs": [
    {
     "name": "stdout",
     "output_type": "stream",
     "text": [
      "OK ✅\n"
     ]
    }
   ],
   "source": [
    "# Precedence: & binds tighter than ==\n",
    "assert (1 & 3) == 1\n",
    "assert 1 & 3 == 1\n",
    "\n",
    "# Difference from 'and'/'or' precedence\n",
    "val1 = True or False and False   # True or (False and False) -> True\n",
    "val2 = True | False & False      # True | (False & False) -> True\n",
    "assert val1 == val2 == True\n",
    "\n",
    "# BUT '&' evaluates both sides (no short-circuit):\n",
    "seen = []\n",
    "def t(): seen.append('t'); return True\n",
    "def f(): seen.append('f'); return False\n",
    "seen.clear(); _ = f() and t();  assert seen == ['f']      # short-circuit\n",
    "seen.clear(); _ = f() & t();    assert seen == ['f','t']  # no short-circuit\n",
    "print(\"OK ✅\")\n"
   ]
  },
  {
   "cell_type": "markdown",
   "metadata": {},
   "source": [
    "### 5) Chained comparisons\n",
    "`a < b < c` means `(a < b) and (b < c)` with `b` evaluated **once**.\n"
   ]
  },
  {
   "cell_type": "code",
   "execution_count": 5,
   "metadata": {},
   "outputs": [
    {
     "name": "stdout",
     "output_type": "stream",
     "text": [
      "OK ✅\n"
     ]
    }
   ],
   "source": [
    "a, b, c = 2, 3, 5\n",
    "assert (a < b < c) is True\n",
    "assert (a < b and b < c) is True\n",
    "\n",
    "# Watch out for side effects: middle expression evaluated once\n",
    "calls = 0\n",
    "def mid():\n",
    "    global calls\n",
    "    calls += 1\n",
    "    return 10\n",
    "calls = 0\n",
    "ok = 5 < mid() < 20\n",
    "assert ok is True and calls == 1\n",
    "print(\"OK ✅\")\n"
   ]
  },
  {
   "cell_type": "markdown",
   "metadata": {},
   "source": [
    "### 6) Conditional expression (`a if cond else b`) precedence\n",
    "It has **lower precedence** than `or`/`and` arithmetic. Parenthesize when mixing.\n"
   ]
  },
  {
   "cell_type": "code",
   "execution_count": 6,
   "metadata": {},
   "outputs": [
    {
     "name": "stdout",
     "output_type": "stream",
     "text": [
      "OK ✅\n"
     ]
    }
   ],
   "source": [
    "a = 'A'\n",
    "b = 'B'\n",
    "cond1 = 0 or 1  # True-ish\n",
    "cond2 = 0 and 1 # False-ish\n",
    "\n",
    "x = a if cond1 else b  # -> 'A'\n",
    "y = a if cond2 else b  # -> 'B'\n",
    "assert x == 'A' and y == 'B'\n",
    "\n",
    "# When in doubt, use parentheses\n",
    "z = (a if (1 + 1 == 2) else b).lower()\n",
    "assert z == 'a'\n",
    "print(\"OK ✅\")\n"
   ]
  },
  {
   "cell_type": "markdown",
   "metadata": {},
   "source": [
    "### 7) Augmented assignment and evaluation order\n",
    "Target is evaluated **once**; RHS uses the original value. Useful with mutable containers.\n"
   ]
  },
  {
   "cell_type": "code",
   "execution_count": 7,
   "metadata": {},
   "outputs": [
    {
     "name": "stdout",
     "output_type": "stream",
     "text": [
      "OK ✅\n"
     ]
    }
   ],
   "source": [
    "lst = [1, 2, 3]\n",
    "i = 1\n",
    "lst[i] += 10   # reads lst[i] (2), adds 10, writes back -> 12\n",
    "assert lst == [1, 12, 3]\n",
    "\n",
    "d = {'k': 5}\n",
    "d['k'] *= 4\n",
    "assert d['k'] == 20\n",
    "print(\"OK ✅\")\n"
   ]
  },
  {
   "cell_type": "markdown",
   "metadata": {},
   "source": [
    "### 8) Practice quiz — predict then run\n",
    "Try to compute the results *before* executing. Then verify with asserts.\n"
   ]
  },
  {
   "cell_type": "code",
   "execution_count": 8,
   "metadata": {
    "scrolled": true
   },
   "outputs": [
    {
     "name": "stdout",
     "output_type": "stream",
     "text": [
      "All quiz checks passed ✅\n"
     ]
    }
   ],
   "source": [
    "# 1) Exponentiation & unary minus\n",
    "assert -3 ** 3 == -27\n",
    "assert (-3) ** 3 == -27\n",
    "assert (-3) ** 2 == 9\n",
    "\n",
    "# 2) Mixed arithmetic precedence\n",
    "assert 10 + 2 * 5 == 20\n",
    "assert (10 + 2) * 5 == 60\n",
    "assert 100 / 5 * 2 == 40.0  # left-associative\n",
    "\n",
    "# 3) Boolean logic precedence\n",
    "assert (not False and False or True) is True      # ((not False) and False) or True\n",
    "assert not (False and (False or True)) is True\n",
    "\n",
    "# 4) Bitwise\n",
    "assert (6 & 3) == 2\n",
    "assert (4 | 1) == 5\n",
    "assert (8 ^ 3) == 11\n",
    "\n",
    "# 5) Chained comparisons & membership\n",
    "x = 5\n",
    "assert 1 < x < 10\n",
    "assert x in {3, 4, 5, 6} and x not in (1, 2)\n",
    "\n",
    "print(\"All quiz checks passed ✅\")\n"
   ]
  },
  {
   "cell_type": "code",
   "execution_count": null,
   "metadata": {},
   "outputs": [],
   "source": []
  }
 ],
 "metadata": {
  "kernelspec": {
   "display_name": "Python 3 (ipykernel)",
   "language": "python",
   "name": "python3"
  },
  "language_info": {
   "codemirror_mode": {
    "name": "ipython",
    "version": 3
   },
   "file_extension": ".py",
   "mimetype": "text/x-python",
   "name": "python",
   "nbconvert_exporter": "python",
   "pygments_lexer": "ipython3",
   "version": "3.13.7"
  }
 },
 "nbformat": 4,
 "nbformat_minor": 4
}
