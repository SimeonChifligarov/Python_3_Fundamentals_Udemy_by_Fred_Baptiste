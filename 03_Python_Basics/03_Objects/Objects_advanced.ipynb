{
 "cells": [
  {
   "cell_type": "markdown",
   "metadata": {},
   "source": [
    "---\n",
    "## Practice Roadmap (Objects)\n",
    "In this section you'll practice:\n",
    "- Inspecting objects (`dir`, `getattr`, `callable`)\n",
    "- Designing classes with `__repr__`, validation, and properties\n",
    "- Class vs instance attributes\n",
    "- Equality & ordering via `dataclass`\n",
    "- Inheritance & polymorphism (abstract base classes)\n",
    "- Composition (a `Ledger` managing accounts)\n",
    "- Context managers (`__enter__` / `__exit__`)\n",
    "- Iterables & `__iter__`\n",
    "- `__slots__` for lightweight objects\n",
    "- `copy` vs `deepcopy`\n",
    "- Protocols (duck typing)\n"
   ]
  },
  {
   "cell_type": "code",
   "execution_count": 1,
   "metadata": {},
   "outputs": [],
   "source": [
    "class Account:\n",
    "    def __init__(self, account_number, account_type, initial_balance):\n",
    "        self.account_number = account_number\n",
    "        self.account_type = account_type\n",
    "        self.balance = initial_balance\n",
    "        \n",
    "    def deposit(self, amount):\n",
    "        # should also check that amount is a numerical value!\n",
    "        if amount > 0:\n",
    "            self.balance = self.balance + amount\n",
    "            print(f'Deposited {amount}')\n",
    "            print(f'New balance is: {self.balance}')\n",
    "        else:\n",
    "            print(f'{amount} is an invalid amount.')\n",
    "            \n",
    "    def withdraw(self, amount):\n",
    "        # should also check that amount is a numerical value!\n",
    "        if amount > 0 and amount <= self.balance:\n",
    "            self.balance = self.balance - amount\n",
    "            print(f'Withdrawal: {amount}')\n",
    "            print(f'New Balance: {self.balance}')\n",
    "        else:\n",
    "            if amount < 0:\n",
    "                print(f'{amount} is an invalid amount')\n",
    "            else:\n",
    "                print('Insufficient funds.')\n",
    "                print(f'Current balance is {self.balance}')"
   ]
  },
  {
   "cell_type": "code",
   "execution_count": 2,
   "metadata": {},
   "outputs": [],
   "source": [
    "my_account = Account('123-456', 'savings', 1_000.00)"
   ]
  },
  {
   "cell_type": "markdown",
   "metadata": {},
   "source": [
    "### 1) Inspect object state & behavior\n",
    "Use built-ins to discover what an object can do.\n"
   ]
  },
  {
   "cell_type": "code",
   "execution_count": 3,
   "metadata": {},
   "outputs": [
    {
     "name": "stdout",
     "output_type": "stream",
     "text": [
      "Public-ish attributes/methods: ['account_number', 'account_type', 'balance', 'deposit', 'withdraw']\n",
      "Has attribute 'balance'? True\n",
      "deposit is callable? True\n"
     ]
    }
   ],
   "source": [
    "# Using your existing my_account from above\n",
    "names = [n for n in dir(my_account) if not n.startswith('_')]\n",
    "print(\"Public-ish attributes/methods:\", names)\n",
    "print(\"Has attribute 'balance'?\", hasattr(my_account, 'balance'))\n",
    "print(\"deposit is callable?\", callable(getattr(my_account, 'deposit', None)))\n"
   ]
  },
  {
   "cell_type": "markdown",
   "metadata": {},
   "source": [
    "### 2) A safer money class: `BankAccount`\n",
    "- Uses `Decimal` (avoid float rounding for money)\n",
    "- Validates amounts\n",
    "- Exposes `balance` via a read-only property\n",
    "- Friendly `__repr__`\n",
    "- `classmethod` constructor\n",
    "- `staticmethod` validator\n"
   ]
  },
  {
   "cell_type": "code",
   "execution_count": 4,
   "metadata": {},
   "outputs": [
    {
     "name": "stdout",
     "output_type": "stream",
     "text": [
      "OK ✅ BankAccount(number='BE-001', kind='savings', balance=1037.66)\n"
     ]
    }
   ],
   "source": [
    "from decimal import Decimal, ROUND_HALF_UP\n",
    "\n",
    "class BankAccount:\n",
    "    bank_name = \"PyBank\"  # class attribute (shared default)\n",
    "\n",
    "    def __init__(self, number: str, kind: str, initial_balance: \"Decimal|int|str|float\" = 0):\n",
    "        self.number = number\n",
    "        self.kind = kind\n",
    "        self._balance = self._to_decimal(initial_balance)\n",
    "\n",
    "    def __repr__(self):\n",
    "        return f\"BankAccount(number={self.number!r}, kind={self.kind!r}, balance={self._balance})\"\n",
    "\n",
    "    @staticmethod\n",
    "    def _to_decimal(x):\n",
    "        # Convert safely via str for floats/ints\n",
    "        return Decimal(str(x)).quantize(Decimal(\"0.01\"), rounding=ROUND_HALF_UP)\n",
    "\n",
    "    @staticmethod\n",
    "    def _validate_amount(amount):\n",
    "        d = BankAccount._to_decimal(amount)\n",
    "        if d <= 0:\n",
    "            raise ValueError(\"amount must be > 0\")\n",
    "        return d\n",
    "\n",
    "    @property\n",
    "    def balance(self) -> Decimal:\n",
    "        return self._balance\n",
    "\n",
    "    def deposit(self, amount):\n",
    "        d = self._validate_amount(amount)\n",
    "        self._balance += d\n",
    "        return self  # enable chaining\n",
    "\n",
    "    def withdraw(self, amount):\n",
    "        d = self._validate_amount(amount)\n",
    "        if d > self._balance:\n",
    "            raise ValueError(\"insufficient funds\")\n",
    "        self._balance -= d\n",
    "        return self\n",
    "\n",
    "    @classmethod\n",
    "    def from_eur(cls, number: str, kind: str, eur):\n",
    "        return cls(number, kind, eur)\n",
    "\n",
    "# Quick checks\n",
    "acct = BankAccount.from_eur(\"BE-001\", \"savings\", 1000)\n",
    "acct.deposit(50).withdraw(\"12.34\")\n",
    "assert str(acct.balance) == \"1037.66\"\n",
    "repr(acct)\n",
    "print(\"OK ✅\", acct)\n"
   ]
  },
  {
   "cell_type": "markdown",
   "metadata": {},
   "source": [
    "### 3) Class vs instance attributes\n",
    "Show how instances can shadow class attributes.\n"
   ]
  },
  {
   "cell_type": "code",
   "execution_count": 5,
   "metadata": {},
   "outputs": [
    {
     "name": "stdout",
     "output_type": "stream",
     "text": [
      "PyBank PyBank PyBank\n",
      "After shadow: PyBank MyOwnBank PyBank\n",
      "After delete shadow: PyBank\n"
     ]
    }
   ],
   "source": [
    "a = BankAccount(\"X-1\", \"checking\", 10)\n",
    "b = BankAccount(\"X-2\", \"checking\", 10)\n",
    "print(BankAccount.bank_name, a.bank_name, b.bank_name)\n",
    "a.bank_name = \"MyOwnBank\"  # shadows class attr on a only\n",
    "print(\"After shadow:\", BankAccount.bank_name, a.bank_name, b.bank_name)\n",
    "del a.bank_name\n",
    "print(\"After delete shadow:\", a.bank_name)\n"
   ]
  },
  {
   "cell_type": "markdown",
   "metadata": {},
   "source": [
    "### 4) Equality & ordering with `@dataclass`\n",
    "Use dataclasses to get `__init__`, `__repr__`, `__eq__`, and ordering for free.\n"
   ]
  },
  {
   "cell_type": "code",
   "execution_count": 6,
   "metadata": {},
   "outputs": [
    {
     "name": "stdout",
     "output_type": "stream",
     "text": [
      "Unsorted:\n",
      "AccountRecord(number='A-2', owner='Bea', opened=datetime.datetime(2024, 1, 1, 0, 0), balance=Decimal('200.00'))\n",
      "AccountRecord(number='A-1', owner='Alex', opened=datetime.datetime(2023, 6, 1, 0, 0), balance=Decimal('300.00'))\n",
      "AccountRecord(number='A-3', owner='Cara', opened=datetime.datetime(2025, 3, 1, 0, 0), balance=Decimal('100.00'))\n",
      "\n",
      "Sorted by opened (order=True):\n",
      "AccountRecord(number='A-1', owner='Alex', opened=datetime.datetime(2023, 6, 1, 0, 0), balance=Decimal('300.00'))\n",
      "AccountRecord(number='A-2', owner='Bea', opened=datetime.datetime(2024, 1, 1, 0, 0), balance=Decimal('200.00'))\n",
      "AccountRecord(number='A-3', owner='Cara', opened=datetime.datetime(2025, 3, 1, 0, 0), balance=Decimal('100.00'))\n",
      "OK ✅\n"
     ]
    }
   ],
   "source": [
    "from dataclasses import dataclass, field\n",
    "from datetime import datetime\n",
    "\n",
    "@dataclass(order=True)\n",
    "class AccountRecord:\n",
    "    sort_index: datetime = field(init=False, repr=False, compare=True)\n",
    "    number: str\n",
    "    owner: str\n",
    "    opened: datetime\n",
    "    balance: Decimal\n",
    "\n",
    "    def __post_init__(self):\n",
    "        self.sort_index = self.opened\n",
    "\n",
    "recs = [\n",
    "    AccountRecord(\"A-2\", \"Bea\", datetime(2024, 1, 1), Decimal(\"200.00\")),\n",
    "    AccountRecord(\"A-1\", \"Alex\", datetime(2023, 6, 1), Decimal(\"300.00\")),\n",
    "    AccountRecord(\"A-3\", \"Cara\", datetime(2025, 3, 1), Decimal(\"100.00\")),\n",
    "]\n",
    "print(\"Unsorted:\")\n",
    "for r in recs: print(r)\n",
    "print(\"\\nSorted by opened (order=True):\")\n",
    "for r in sorted(recs): print(r)\n",
    "assert sorted(recs)[0].number == \"A-1\"\n",
    "print(\"OK ✅\")\n"
   ]
  },
  {
   "cell_type": "markdown",
   "metadata": {},
   "source": [
    "### 5) Inheritance & polymorphism\n",
    "Define a small hierarchy and operate on a mixed list polymorphically.\n"
   ]
  },
  {
   "cell_type": "code",
   "execution_count": 7,
   "metadata": {},
   "outputs": [
    {
     "name": "stdout",
     "output_type": "stream",
     "text": [
      "[('SavingsAccount', '105.00'), ('CheckingAccount', '104.50')]\n",
      "OK ✅\n"
     ]
    }
   ],
   "source": [
    "from abc import ABC, abstractmethod\n",
    "\n",
    "class AccountBase(ABC):\n",
    "    @abstractmethod\n",
    "    def deposit(self, amount): ...\n",
    "    @abstractmethod\n",
    "    def withdraw(self, amount): ...\n",
    "\n",
    "class SavingsAccount(BankAccount, AccountBase):\n",
    "    pass  # same as BankAccount for now\n",
    "\n",
    "class CheckingAccount(BankAccount, AccountBase):\n",
    "    FEE = Decimal(\"0.50\")\n",
    "    def withdraw(self, amount):\n",
    "        super().withdraw(amount)\n",
    "        # apply flat fee\n",
    "        if self.balance < self.FEE:\n",
    "            raise ValueError(\"insufficient for fee\")\n",
    "        self._balance -= self.FEE\n",
    "        return self\n",
    "\n",
    "accts: list[AccountBase] = [\n",
    "    SavingsAccount(\"S-1\", \"savings\", 100),\n",
    "    CheckingAccount(\"C-1\", \"checking\", 100),\n",
    "]\n",
    "for a in accts:\n",
    "    a.deposit(10).withdraw(5)\n",
    "print([(type(a).__name__, str(a.balance)) for a in accts])\n",
    "assert str(accts[0].balance) == \"105.00\"\n",
    "assert str(accts[1].balance) == \"104.50\"  # 100+10-5-0.50\n",
    "print(\"OK ✅\")\n"
   ]
  },
  {
   "cell_type": "markdown",
   "metadata": {},
   "source": [
    "### 6) Composition: a `Ledger` that manages accounts & history\n",
    "Prefer composition to inheritance when modeling \"has-a\" relationships.\n"
   ]
  },
  {
   "cell_type": "code",
   "execution_count": 8,
   "metadata": {},
   "outputs": [
    {
     "name": "stdout",
     "output_type": "stream",
     "text": [
      "[(datetime.datetime(2025, 10, 11, 16, 14, 20, 650480), 'deposit 25 on S-42'), (datetime.datetime(2025, 10, 11, 16, 14, 20, 650565), 'withdraw 10 on S-42')]\n",
      "OK ✅\n"
     ]
    },
    {
     "name": "stderr",
     "output_type": "stream",
     "text": [
      "C:\\Users\\user1\\AppData\\Local\\Temp\\ipykernel_9084\\237361166.py:20: DeprecationWarning: datetime.datetime.utcnow() is deprecated and scheduled for removal in a future version. Use timezone-aware objects to represent datetimes in UTC: datetime.datetime.now(datetime.UTC).\n",
      "  self._history.append((datetime.utcnow(), msg))\n"
     ]
    }
   ],
   "source": [
    "from datetime import datetime\n",
    "\n",
    "class Ledger:\n",
    "    def __init__(self):\n",
    "        self._accounts: dict[str, BankAccount] = {}\n",
    "        self._history: list[tuple[datetime, str]] = []  # (timestamp, message)\n",
    "\n",
    "    def add(self, acct: BankAccount):\n",
    "        if acct.number in self._accounts:\n",
    "            raise KeyError(\"duplicate account number\")\n",
    "        self._accounts[acct.number] = acct\n",
    "        self._log(f\"added {acct.number}\")\n",
    "\n",
    "    def post(self, number: str, action: str, amount):\n",
    "        acct = self._accounts[number]\n",
    "        getattr(acct, action)(amount)\n",
    "        self._log(f\"{action} {amount} on {number}\")\n",
    "\n",
    "    def _log(self, msg: str):\n",
    "        self._history.append((datetime.utcnow(), msg))\n",
    "\n",
    "    def history(self):\n",
    "        return list(self._history)\n",
    "\n",
    "ledger = Ledger()\n",
    "ledger.add(SavingsAccount(\"S-42\", \"savings\", 50))\n",
    "ledger.post(\"S-42\", \"deposit\", 25)\n",
    "ledger.post(\"S-42\", \"withdraw\", 10)\n",
    "print(ledger.history()[-2:])\n",
    "assert \"deposit\" in ledger.history()[1][1]\n",
    "print(\"OK ✅\")\n"
   ]
  },
  {
   "cell_type": "markdown",
   "metadata": {},
   "source": [
    "### 7) Context manager: atomic transaction with rollback on error\n",
    "Use `__enter__`/`__exit__` to ensure state safety.\n"
   ]
  },
  {
   "cell_type": "code",
   "execution_count": 9,
   "metadata": {},
   "outputs": [
    {
     "name": "stdout",
     "output_type": "stream",
     "text": [
      "Rolled back due to: insufficient funds\n",
      "After tx: 100.00\n",
      "OK ✅\n"
     ]
    }
   ],
   "source": [
    "class Transaction:\n",
    "    def __init__(self, acct: BankAccount):\n",
    "        self.acct = acct\n",
    "        self._snapshot = acct.balance\n",
    "    def __enter__(self):\n",
    "        return self.acct\n",
    "    def __exit__(self, exc_type, exc, tb):\n",
    "        if exc:\n",
    "            # Roll back\n",
    "            self.acct._balance = self._snapshot\n",
    "            print(\"Rolled back due to:\", exc)\n",
    "            return True  # suppress exception\n",
    "        return False\n",
    "\n",
    "acct2 = BankAccount(\"TX-1\", \"checking\", 100)\n",
    "with Transaction(acct2) as a:\n",
    "    a.deposit(50)\n",
    "    a.withdraw(200)  # will raise, then rollback\n",
    "print(\"After tx:\", acct2.balance)\n",
    "assert str(acct2.balance) == \"100.00\"\n",
    "print(\"OK ✅\")\n"
   ]
  },
  {
   "cell_type": "markdown",
   "metadata": {},
   "source": [
    "### 8) Iterables: make a simple history object you can loop over\n",
    "Implement `__iter__` to support `for ... in ...`.\n"
   ]
  },
  {
   "cell_type": "code",
   "execution_count": 10,
   "metadata": {},
   "outputs": [
    {
     "name": "stdout",
     "output_type": "stream",
     "text": [
      "event: opened\n",
      "event: deposit 20\n",
      "OK ✅\n"
     ]
    }
   ],
   "source": [
    "class History:\n",
    "    def __init__(self):\n",
    "        self._events: list[str] = []\n",
    "    def add(self, msg: str):\n",
    "        self._events.append(msg)\n",
    "    def __iter__(self):\n",
    "        yield from self._events\n",
    "\n",
    "h = History()\n",
    "h.add(\"opened\")\n",
    "h.add(\"deposit 20\")\n",
    "for ev in h:\n",
    "    print(\"event:\", ev)\n",
    "assert list(h) == [\"opened\", \"deposit 20\"]\n",
    "print(\"OK ✅\")\n"
   ]
  },
  {
   "cell_type": "markdown",
   "metadata": {},
   "source": [
    "### 9) `__slots__` for lightweight objects\n",
    "Restrict attributes to save memory & catch typos at runtime.\n"
   ]
  },
  {
   "cell_type": "code",
   "execution_count": 11,
   "metadata": {},
   "outputs": [
    {
     "name": "stdout",
     "output_type": "stream",
     "text": [
      "Caught: 'LightweightPoint' object has no attribute 'z' and no __dict__ for setting new attributes\n",
      "OK ✅\n"
     ]
    }
   ],
   "source": [
    "class LightweightPoint:\n",
    "    __slots__ = (\"x\", \"y\")\n",
    "    def __init__(self, x, y):\n",
    "        self.x = x\n",
    "        self.y = y\n",
    "\n",
    "p = LightweightPoint(1, 2)\n",
    "try:\n",
    "    p.z = 3  # AttributeError (not in __slots__)\n",
    "except AttributeError as e:\n",
    "    print(\"Caught:\", e)\n",
    "print(\"OK ✅\")\n"
   ]
  },
  {
   "cell_type": "markdown",
   "metadata": {},
   "source": [
    "### 10) `copy` vs `deepcopy`\n",
    "Understand how nested state behaves when copying objects.\n"
   ]
  },
  {
   "cell_type": "code",
   "execution_count": 12,
   "metadata": {},
   "outputs": [
    {
     "name": "stdout",
     "output_type": "stream",
     "text": [
      "shallow sees change? 15.00\n",
      "deep sees change?   10.00\n",
      "OK ✅\n"
     ]
    }
   ],
   "source": [
    "import copy\n",
    "\n",
    "class Portfolio:\n",
    "    def __init__(self, accounts: list[BankAccount]):\n",
    "        self.accounts = accounts  # shared list reference!\n",
    "\n",
    "ba = BankAccount(\"P-1\", \"savings\", 10)\n",
    "pb1 = Portfolio([ba])\n",
    "pb2 = copy.copy(pb1)       # shallow copy\n",
    "pb3 = copy.deepcopy(pb1)   # deep copy\n",
    "\n",
    "pb1.accounts[0].deposit(5)\n",
    "print(\"shallow sees change?\", pb2.accounts[0].balance)\n",
    "print(\"deep sees change?  \", pb3.accounts[0].balance)\n",
    "assert str(pb2.accounts[0].balance) == \"15.00\"\n",
    "assert str(pb3.accounts[0].balance) == \"10.00\"\n",
    "print(\"OK ✅\")\n"
   ]
  },
  {
   "cell_type": "markdown",
   "metadata": {},
   "source": [
    "### 11) Protocols (duck typing)\n",
    "Use `Protocol` to type-check behavior without inheritance coupling.\n"
   ]
  },
  {
   "cell_type": "code",
   "execution_count": 13,
   "metadata": {},
   "outputs": [
    {
     "name": "stdout",
     "output_type": "stream",
     "text": [
      "OK ✅\n"
     ]
    }
   ],
   "source": [
    "from typing import Protocol, Iterable\n",
    "\n",
    "class SupportsDeposit(Protocol):\n",
    "    def deposit(self, amount): ...\n",
    "\n",
    "def credit_all(items: Iterable[SupportsDeposit], amount):\n",
    "    for it in items:\n",
    "        it.deposit(amount)\n",
    "\n",
    "class Piggy:\n",
    "    def __init__(self): self.total = Decimal(\"0.00\")\n",
    "    def deposit(self, amount): self.total += BankAccount._to_decimal(amount)\n",
    "\n",
    "pa = Piggy()\n",
    "ba = BankAccount(\"PR-1\", \"savings\", 0)\n",
    "credit_all([pa, ba], 2.5)\n",
    "assert str(pa.total) == \"2.50\" and str(ba.balance) == \"2.50\"\n",
    "print(\"OK ✅\")\n"
   ]
  },
  {
   "cell_type": "markdown",
   "metadata": {},
   "source": [
    "### Bonus exercises (optional)\n",
    "1. Add a `transfer(to_account, amount)` method to `BankAccount` that is atomic (use the `Transaction` context manager).\n",
    "2. Make `BankAccount` hashable by account `number` only (`__hash__`, `__eq__`). Discuss pros/cons.\n",
    "3. Add an `InterestBearing` mixin with `apply_interest(rate)` and mix it into `SavingsAccount` only; test polymorphically.\n",
    "4. Turn `History` into a reversible iterable: implement `__reversed__`.\n",
    "5. Use `@dataclass(frozen=True)` to create an immutable `Customer` and show that attribute reassignment raises.\n"
   ]
  },
  {
   "cell_type": "code",
   "execution_count": null,
   "metadata": {},
   "outputs": [],
   "source": []
  }
 ],
 "metadata": {
  "kernelspec": {
   "display_name": "Python 3 (ipykernel)",
   "language": "python",
   "name": "python3"
  },
  "language_info": {
   "codemirror_mode": {
    "name": "ipython",
    "version": 3
   },
   "file_extension": ".py",
   "mimetype": "text/x-python",
   "name": "python",
   "nbconvert_exporter": "python",
   "pygments_lexer": "ipython3",
   "version": "3.13.7"
  }
 },
 "nbformat": 4,
 "nbformat_minor": 4
}
