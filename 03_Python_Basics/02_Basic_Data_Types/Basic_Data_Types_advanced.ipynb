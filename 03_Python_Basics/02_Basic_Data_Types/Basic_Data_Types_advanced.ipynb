{
 "cells": [
  {
   "cell_type": "markdown",
   "metadata": {
    "editable": true,
    "slideshow": {
     "slide_type": ""
    },
    "tags": []
   },
   "source": [
    "### Basic Data Types"
   ]
  },
  {
   "cell_type": "markdown",
   "metadata": {
    "editable": true,
    "slideshow": {
     "slide_type": ""
    },
    "tags": []
   },
   "source": [
    "We are going to use literals to create integers, floats and booleans:"
   ]
  },
  {
   "cell_type": "markdown",
   "metadata": {},
   "source": [
    "---\n",
    "## Practice: Inspecting Types\n",
    "Use `type()` to inspect the types of literals and variables. Then, try changing the values and re-running the assertions.\n"
   ]
  },
  {
   "cell_type": "code",
   "execution_count": 1,
   "metadata": {},
   "outputs": [
    {
     "name": "stdout",
     "output_type": "stream",
     "text": [
      "<class 'int'> <class 'float'> <class 'bool'> <class 'complex'>\n"
     ]
    }
   ],
   "source": [
    "a = 42\n",
    "b = 3.14\n",
    "c = True\n",
    "d = 2 + 3j  # complex numbers also exist in Python\n",
    "\n",
    "print(type(a), type(b), type(c), type(d))\n",
    "\n",
    "# ✅ Mini-checks\n",
    "assert isinstance(a, int)\n",
    "assert isinstance(b, float)\n",
    "assert isinstance(c, bool)\n",
    "assert isinstance(d, complex)\n"
   ]
  },
  {
   "cell_type": "markdown",
   "metadata": {},
   "source": [
    "## Integer vs Float Division\n",
    "Try `/` (true division), `//` (floor division), and `%` (modulo). Predict the outputs before you run them.\n"
   ]
  },
  {
   "cell_type": "code",
   "execution_count": 2,
   "metadata": {},
   "outputs": [
    {
     "name": "stdout",
     "output_type": "stream",
     "text": [
      "x / y  = 2.3333333333333335\n",
      "x // y = 2\n",
      "x % y  = 1\n"
     ]
    }
   ],
   "source": [
    "x, y = 7, 3\n",
    "print('x / y  =', x / y)   # true division -> float\n",
    "print('x // y =', x // y)  # floor division -> int for ints\n",
    "print('x % y  =', x % y)   # remainder\n",
    "\n",
    "# 🧪 Practice: make these assertions pass by choosing values\n",
    "a, b = 9, 4\n",
    "assert a // b == 2\n",
    "assert a % b == 1\n",
    "assert a / b == 2.25\n"
   ]
  },
  {
   "cell_type": "markdown",
   "metadata": {},
   "source": [
    "## Booleans Are Integers (Careful!)\n",
    "In Python, `True == 1` and `False == 0`. This is sometimes useful, but it can hide bugs.\n"
   ]
  },
  {
   "cell_type": "code",
   "execution_count": 3,
   "metadata": {},
   "outputs": [
    {
     "name": "stdout",
     "output_type": "stream",
     "text": [
      "2 5\n",
      "True False True\n",
      "True False\n"
     ]
    },
    {
     "name": "stderr",
     "output_type": "stream",
     "text": [
      "<>:5: SyntaxWarning: \"is\" with 'int' literal. Did you mean \"==\"?\n",
      "C:\\Users\\user1\\AppData\\Local\\Temp\\ipykernel_8724\\2147584514.py:5: SyntaxWarning: \"is\" with 'int' literal. Did you mean \"==\"?\n",
      "  print(True == 1, True is 1)  # equality vs identity\n"
     ]
    }
   ],
   "source": [
    "print(True + True, False + 5)    # 2  and  5\n",
    "print(bool(3), bool(0), bool(-1))  # truthiness\n",
    "\n",
    "# ⚠️ Identity vs equality\n",
    "print(True == 1, True is 1)  # equality vs identity\n"
   ]
  },
  {
   "cell_type": "markdown",
   "metadata": {},
   "source": [
    "## Equality vs Identity (`==` vs `is`)\n",
    "`==` compares values; `is` compares object identity (same memory object). Use `==` for values; use `is` for singletons like `None`.\n"
   ]
  },
  {
   "cell_type": "code",
   "execution_count": 4,
   "metadata": {},
   "outputs": [
    {
     "name": "stdout",
     "output_type": "stream",
     "text": [
      "True\n",
      "False\n",
      "True\n"
     ]
    }
   ],
   "source": [
    "a = 5000\n",
    "b = 5000\n",
    "print(a == b)  # same value\n",
    "print(a is b)  # may be False (different objects)\n",
    "\n",
    "n1 = None\n",
    "n2 = None\n",
    "print(n1 is n2)  # always True for None singletons\n"
   ]
  },
  {
   "cell_type": "markdown",
   "metadata": {},
   "source": [
    "## Comparing Floats Properly\n",
    "Use `math.isclose` for numeric comparisons with tolerance. Avoid `==` with floats.\n"
   ]
  },
  {
   "cell_type": "code",
   "execution_count": 5,
   "metadata": {},
   "outputs": [
    {
     "name": "stdout",
     "output_type": "stream",
     "text": [
      "True\n"
     ]
    }
   ],
   "source": [
    "import math\n",
    "\n",
    "print(math.isclose(0.1 + 0.2, 0.3, rel_tol=1e-09, abs_tol=0.0))\n",
    "\n",
    "def almost_equal(x, y, rel=1e-9, abs_=0.0):\n",
    "    return math.isclose(x, y, rel_tol=rel, abs_tol=abs_)\n",
    "\n",
    "# ✅ Checks\n",
    "assert almost_equal(0.1 + 0.2, 0.3)\n",
    "assert almost_equal(1e16 + 1 - 1e16, 0.0, rel=0.0, abs_=1.0)  # catastrophic cancellation example\n"
   ]
  },
  {
   "cell_type": "markdown",
   "metadata": {},
   "source": [
    "## Exact Arithmetic with `decimal` and `fractions`\n",
    "When precision matters (e.g., money), prefer `decimal.Decimal` or `fractions.Fraction`.\n"
   ]
  },
  {
   "cell_type": "code",
   "execution_count": 6,
   "metadata": {},
   "outputs": [
    {
     "name": "stdout",
     "output_type": "stream",
     "text": [
      "float: 0.30000000000000004\n",
      "Decimal: 0.3\n",
      "Fraction: 3/10 as float -> 0.3\n"
     ]
    }
   ],
   "source": [
    "from decimal import Decimal, getcontext\n",
    "from fractions import Fraction\n",
    "\n",
    "getcontext().prec = 28  # default is 28; adjust as needed\n",
    "\n",
    "print('float:', 0.1 + 0.2)\n",
    "print('Decimal:', Decimal('0.1') + Decimal('0.2'))\n",
    "\n",
    "frac = Fraction(1, 10) + Fraction(2, 10)\n",
    "print('Fraction:', frac, 'as float ->', float(frac))\n",
    "\n",
    "# 🧪 Practice\n",
    "# Set x so that x == Fraction(3, 8)\n",
    "x = Fraction(1, 8) + Fraction(1, 4)\n",
    "assert x == Fraction(3, 8)\n"
   ]
  },
  {
   "cell_type": "markdown",
   "metadata": {},
   "source": [
    "## Formatting Numbers (f-strings / `format`)\n",
    "Control how numbers display using format specs.\n"
   ]
  },
  {
   "cell_type": "code",
   "execution_count": 7,
   "metadata": {},
   "outputs": [
    {
     "name": "stdout",
     "output_type": "stream",
     "text": [
      "1234567.89\n",
      "1,234,568\n",
      "0.1000000000000000055511151\n"
     ]
    }
   ],
   "source": [
    "n = 1234567.89123\n",
    "print(f'{n:.2f}')   # 2 decimal places\n",
    "print(f'{n:,.0f}')  # thousands separator, 0 decimals\n",
    "print(format(0.1, '.25f'))  # detailed float view (from earlier)\n"
   ]
  },
  {
   "cell_type": "markdown",
   "metadata": {},
   "source": [
    "## Special Float Values: `nan` and `inf`\n",
    "`nan` is \"not a number\"; `inf` is infinity. `nan` is never equal to itself!\n"
   ]
  },
  {
   "cell_type": "code",
   "execution_count": 8,
   "metadata": {},
   "outputs": [
    {
     "name": "stdout",
     "output_type": "stream",
     "text": [
      "True False\n",
      "True True\n"
     ]
    }
   ],
   "source": [
    "import math\n",
    "nan = float('nan')\n",
    "pos_inf = float('inf')\n",
    "neg_inf = float('-inf')\n",
    "\n",
    "print(math.isnan(nan), nan == nan)     # True, False\n",
    "print(math.isinf(pos_inf), math.isinf(neg_inf))  # True, True\n",
    "\n",
    "# 🧪 Practice: safe mean that ignores NaNs\n",
    "def safe_mean(values):\n",
    "    clean = [v for v in values if not math.isnan(v)]\n",
    "    return sum(clean) / len(clean) if clean else float('nan')\n",
    "\n",
    "assert math.isclose(safe_mean([1.0, 2.0, float('nan'), 3.0]), 2.0)\n"
   ]
  },
  {
   "cell_type": "markdown",
   "metadata": {},
   "source": [
    "## Mini Exercises\n",
    "1) Write `hypotenuse(a, b)` that returns `sqrt(a**2 + b**2)`.\\n\n",
    "2) Convert a list of Celsius temps to Fahrenheit using a list comprehension.\\n\n",
    "3) Round a price to 2 decimals safely using `Decimal`.\\n\n",
    "Run the cell to see the tests.\n"
   ]
  },
  {
   "cell_type": "code",
   "execution_count": 9,
   "metadata": {},
   "outputs": [
    {
     "name": "stdout",
     "output_type": "stream",
     "text": [
      "All mini exercises passed ✅\n"
     ]
    }
   ],
   "source": [
    "import math\n",
    "from decimal import Decimal, ROUND_HALF_UP\n",
    "\n",
    "def hypotenuse(a, b):\n",
    "    return math.hypot(a, b)\n",
    "\n",
    "celsius = [0, 20, 37.5]\n",
    "fahrenheit = [ (9/5)*t + 32 for t in celsius ]\n",
    "\n",
    "def round_price(value):\n",
    "    d = Decimal(str(value)).quantize(Decimal('0.01'), rounding=ROUND_HALF_UP)\n",
    "    return d\n",
    "\n",
    "# ✅ Tests\n",
    "assert math.isclose(hypotenuse(3,4), 5.0)\n",
    "assert all(math.isclose(f, e) for f, e in zip(fahrenheit, [32.0, 68.0, 99.5]))\n",
    "assert str(round_price(12.345)) == '12.35'\n",
    "assert str(round_price(12.344)) == '12.34'\n",
    "print(\"All mini exercises passed ✅\")\n"
   ]
  },
  {
   "cell_type": "markdown",
   "metadata": {},
   "source": [
    "---\n",
    "### (Optional) Challenge: Binary and Hex Literals\n",
    "Python supports binary (`0b1010`), octal (`0o12`), and hex (`0xA`) integer literals. Convert between bases.\n"
   ]
  },
  {
   "cell_type": "code",
   "execution_count": 10,
   "metadata": {},
   "outputs": [
    {
     "name": "stdout",
     "output_type": "stream",
     "text": [
      "10 0xa 0o12 0b1010\n"
     ]
    }
   ],
   "source": [
    "n = 0b1010\n",
    "print(n, hex(n), oct(n), bin(n))\n",
    "assert int('ff', 16) == 255\n",
    "assert format(255, '08b') == '11111111'\n"
   ]
  },
  {
   "cell_type": "code",
   "execution_count": null,
   "metadata": {},
   "outputs": [],
   "source": []
  }
 ],
 "metadata": {
  "kernelspec": {
   "display_name": "Python 3 (ipykernel)",
   "language": "python",
   "name": "python3"
  },
  "language_info": {
   "codemirror_mode": {
    "name": "ipython",
    "version": 3
   },
   "file_extension": ".py",
   "mimetype": "text/x-python",
   "name": "python",
   "nbconvert_exporter": "python",
   "pygments_lexer": "ipython3",
   "version": "3.13.7"
  }
 },
 "nbformat": 4,
 "nbformat_minor": 4
}
