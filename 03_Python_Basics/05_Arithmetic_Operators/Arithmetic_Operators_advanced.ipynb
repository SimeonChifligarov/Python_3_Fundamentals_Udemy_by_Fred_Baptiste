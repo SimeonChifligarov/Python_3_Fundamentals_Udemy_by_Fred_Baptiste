{
 "cells": [
  {
   "cell_type": "markdown",
   "id": "78a1cf7e",
   "metadata": {},
   "source": [
    "# 🔢 Advanced Practice: Arithmetic Operators in Python\n",
    "\n",
    "This notebook digs deeper into arithmetic in Python:\n",
    "- Precedence & associativity\n",
    "- `/` vs `//` vs `%` (including negatives) and `divmod`\n",
    "- `pow` and modular exponentiation\n",
    "- Floating-point pitfalls, `math.isclose`, `math.fsum`, and exact arithmetic with `decimal`/`fractions`\n",
    "- Exponentiation edge cases (e.g., `0.0 ** 0`), real vs complex roots\n",
    "- Complex arithmetic with `cmath`\n",
    "- Augmented assignment (`+=`) vs regular addition\n",
    "- Operator overloading practice with a `Vector2` class\n",
    "- Mini-exercises with assertions\n"
   ]
  },
  {
   "cell_type": "markdown",
   "id": "df647513",
   "metadata": {},
   "source": [
    "## 1) Precedence & associativity\n",
    "Python follows standard math-like precedence: `**` > `* / // %` > `+ -`. Exponentiation is **right-associative**."
   ]
  },
  {
   "cell_type": "code",
   "execution_count": 1,
   "id": "0860bb95",
   "metadata": {},
   "outputs": [
    {
     "name": "stdout",
     "output_type": "stream",
     "text": [
      "14\n",
      "20\n",
      "512\n",
      "64\n",
      "OK ✅ precedence & associativity\n"
     ]
    }
   ],
   "source": [
    "print(2 + 3 * 4)        # 14 (3*4 first)\n",
    "print((2 + 3) * 4)      # 20 (parentheses change order)\n",
    "print(2 ** 3 ** 2)      # 2 ** (3 ** 2) = 2 ** 9 = 512\n",
    "print((2 ** 3) ** 2)    # 8 ** 2 = 64\n",
    "\n",
    "# Sanity checks\n",
    "assert 2 + 3 * 4 == 14\n",
    "assert 2 ** 3 ** 2 == 512\n",
    "print(\"OK ✅ precedence & associativity\")"
   ]
  },
  {
   "cell_type": "markdown",
   "id": "f9e8c5bf",
   "metadata": {},
   "source": [
    "## 2) `/`, `//`, `%` with positives and negatives\n",
    "- `/` is true division (float)\n",
    "- `//` is floor division (rounds down to `-∞`)\n",
    "- `%` is the remainder with the identity: `a == (a // b) * b + (a % b)`\n",
    "\n",
    "⚠️ With negatives, floor division rounds **down**, so results may differ from truncation."
   ]
  },
  {
   "cell_type": "code",
   "execution_count": 2,
   "id": "712097e0",
   "metadata": {},
   "outputs": [
    {
     "name": "stdout",
     "output_type": "stream",
     "text": [
      "a=18, b=4\n",
      "/  -> 4.5\n",
      "// -> 4\n",
      "%  -> 2\n",
      "identity holds\n",
      "\n",
      "a=-18, b=4\n",
      "/  -> -4.5\n",
      "// -> -5\n",
      "%  -> 2\n",
      "identity holds\n",
      "\n",
      "a=18, b=-4\n",
      "/  -> -4.5\n",
      "// -> -5\n",
      "%  -> -2\n",
      "identity holds\n",
      "\n",
      "a=-18, b=-4\n",
      "/  -> 4.5\n",
      "// -> 4\n",
      "%  -> -2\n",
      "identity holds\n",
      "\n",
      "OK ✅ division trio & identity\n"
     ]
    }
   ],
   "source": [
    "pairs = [(18, 4), (-18, 4), (18, -4), (-18, -4)]\n",
    "for a, b in pairs:\n",
    "    print(f\"a={a}, b={b}\")\n",
    "    print(\"/  ->\", a / b)\n",
    "    print(\"// ->\", a // b)\n",
    "    print(\"%  ->\", a % b)\n",
    "    # Identity check\n",
    "    assert a == (a // b) * b + (a % b)\n",
    "    print(\"identity holds\\n\")\n",
    "print(\"OK ✅ division trio & identity\")"
   ]
  },
  {
   "cell_type": "markdown",
   "id": "dc2b4ec7",
   "metadata": {},
   "source": [
    "## 3) `divmod(a, b)` and `pow(base, exp, mod)`\n",
    "- `divmod(a, b)` returns `(a // b, a % b)` efficiently\n",
    "- `pow(a, b, m)` computes `(a ** b) % m` efficiently (modular exponentiation)"
   ]
  },
  {
   "cell_type": "code",
   "execution_count": 3,
   "id": "677b8fee",
   "metadata": {},
   "outputs": [
    {
     "name": "stdout",
     "output_type": "stream",
     "text": [
      "4 3\n",
      "1\n",
      "OK ✅ divmod & modular pow\n"
     ]
    }
   ],
   "source": [
    "q, r = divmod(23, 5)\n",
    "print(q, r)\n",
    "assert (q, r) == (23 // 5, 23 % 5)\n",
    "\n",
    "print(pow(7, 560, 561))  # Fermat-like test example; fast even for large exponents\n",
    "assert pow(2, 10, 7) == (2 ** 10) % 7\n",
    "print(\"OK ✅ divmod & modular pow\")"
   ]
  },
  {
   "cell_type": "markdown",
   "id": "bc4e89d2",
   "metadata": {},
   "source": [
    "## 4) Floating-point realities: `isclose`, `fsum`, exact arithmetic\n",
    "- Binary floats cannot exactly represent many decimals\n",
    "- Use `math.isclose` for comparisons\n",
    "- Use `math.fsum` for numerically stable summation\n",
    "- Use `decimal.Decimal` or `fractions.Fraction` for exactness when needed (e.g., money)"
   ]
  },
  {
   "cell_type": "code",
   "execution_count": 4,
   "id": "996ac4b8",
   "metadata": {},
   "outputs": [
    {
     "name": "stdout",
     "output_type": "stream",
     "text": [
      "0.30000000000000004\n",
      "True\n",
      "sum: 0.0\n",
      "fsum: 1.0\n",
      "Decimal: 0.30\n",
      "Fraction: 3/10 as float -> 0.3\n",
      "OK ✅ float reality & exact arithmetic\n"
     ]
    }
   ],
   "source": [
    "import math\n",
    "from decimal import Decimal, getcontext, ROUND_HALF_UP\n",
    "from fractions import Fraction\n",
    "\n",
    "print(0.1 + 0.2)                           # not exactly 0.3\n",
    "print(math.isclose(0.1 + 0.2, 0.3))        # True with default tolerances\n",
    "\n",
    "# fsum vs sum\n",
    "xs = [1e16, 1, -1e16]\n",
    "print(\"sum:\", sum(xs))                     # 0.0 (catastrophic cancellation)\n",
    "print(\"fsum:\", math.fsum(xs))              # 1.0 (better)\n",
    "\n",
    "# Decimal for money\n",
    "getcontext().prec = 28\n",
    "amount = Decimal('0.10') + Decimal('0.20')\n",
    "print(\"Decimal:\", amount)\n",
    "\n",
    "# Fraction for exact rationals\n",
    "f = Fraction(1, 10) + Fraction(2, 10)\n",
    "print(\"Fraction:\", f, \"as float ->\", float(f))\n",
    "\n",
    "assert math.isclose(math.fsum(xs), 1.0)\n",
    "assert amount == Decimal('0.30') and f == Fraction(3, 10)\n",
    "print(\"OK ✅ float reality & exact arithmetic\")"
   ]
  },
  {
   "cell_type": "markdown",
   "id": "9a670409",
   "metadata": {},
   "source": [
    "## 5) Exponentiation edge cases\n",
    "- `0.0 ** 0` is defined as `1.0` in Python\n",
    "- Fractional powers of negative numbers produce complex results (or `ValueError` with `math`) — use `cmath` for complex math\n"
   ]
  },
  {
   "cell_type": "code",
   "execution_count": 5,
   "id": "598b4f60",
   "metadata": {},
   "outputs": [
    {
     "name": "stdout",
     "output_type": "stream",
     "text": [
      "1.0\n",
      "(1.2246467991473532e-16+2j)\n",
      "2j\n",
      "(0.5000000000000001+0.8660254037844386j)\n",
      "abs(z)= 1.0 phase= 1.0471975511965976\n",
      "OK ✅ exponentiation edge cases\n"
     ]
    }
   ],
   "source": [
    "import cmath\n",
    "print(0.0 ** 0)              # 1.0\n",
    "print((-4) ** 0.5)           # complex result due to fractional power\n",
    "\n",
    "# Using cmath for clarity\n",
    "print(cmath.sqrt(-4))        # 2j\n",
    "z = (-1) ** (1/3)            # branch-dependent complex root\n",
    "print(z)\n",
    "print(\"abs(z)=\", abs(z), \"phase=\", cmath.phase(z))\n",
    "print(\"OK ✅ exponentiation edge cases\")"
   ]
  },
  {
   "cell_type": "markdown",
   "id": "c3b164f5",
   "metadata": {},
   "source": [
    "## 6) Complex arithmetic quick tour (`cmath`)\n",
    "- Complex numbers are first-class: `a + bj`\n",
    "- `abs(z)` gives magnitude, `z.real` / `z.imag` parts\n",
    "- `cmath.phase`, `cmath.rect`, `cmath.polar` for polar/rectangular conversions\n"
   ]
  },
  {
   "cell_type": "code",
   "execution_count": 6,
   "id": "787c5deb",
   "metadata": {},
   "outputs": [
    {
     "name": "stdout",
     "output_type": "stream",
     "text": [
      "(4+2j)\n",
      "|z|: 5.0\n",
      "real, imag: 3.0 4.0\n",
      "polar: (5.0, 0.9272952180016122)\n",
      "rect back: (3.0000000000000004+3.9999999999999996j)\n",
      "OK ✅ complex arithmetic\n"
     ]
    }
   ],
   "source": [
    "z = 3 + 4j\n",
    "print(z + (1 - 2j))\n",
    "print(\"|z|:\", abs(z))\n",
    "print(\"real, imag:\", z.real, z.imag)\n",
    "r, phi = cmath.polar(z)\n",
    "print(\"polar:\", (r, phi))\n",
    "print(\"rect back:\", cmath.rect(r, phi))\n",
    "assert abs(abs(z) - 5.0) < 1e-12\n",
    "print(\"OK ✅ complex arithmetic\")"
   ]
  },
  {
   "cell_type": "markdown",
   "id": "42a7edbb",
   "metadata": {},
   "source": [
    "## 7) Augmented assignment (`+=`) vs `+`\n",
    "- For immutable types (e.g., `int`, `tuple`), `+=` creates a new object\n",
    "- For mutable types that implement `__iadd__`, it may modify in place\n",
    "- Demonstrate with a custom numeric holder\n"
   ]
  },
  {
   "cell_type": "code",
   "execution_count": 7,
   "id": "50a486f2",
   "metadata": {},
   "outputs": [
    {
     "name": "stdout",
     "output_type": "stream",
     "text": [
      "NumberBox(10) NumberBox(15)\n",
      "NumberBox(17)\n",
      "(1, 2, 3) False\n",
      "OK ✅ augmented assignment semantics\n"
     ]
    }
   ],
   "source": [
    "class NumberBox:\n",
    "    def __init__(self, value):\n",
    "        self.value = value\n",
    "    def __add__(self, other):\n",
    "        return NumberBox(self.value + other)\n",
    "    def __iadd__(self, other):\n",
    "        # in-place addition\n",
    "        self.value += other\n",
    "        return self\n",
    "    def __repr__(self):\n",
    "        return f\"NumberBox({self.value})\"\n",
    "\n",
    "nb1 = NumberBox(10)\n",
    "nb2 = nb1 + 5\n",
    "print(nb1, nb2)  # nb1 unchanged, nb2 new\n",
    "nb1 += 7\n",
    "print(nb1)       # modified in place\n",
    "assert repr(nb1) == 'NumberBox(17)' and repr(nb2) == 'NumberBox(15)'\n",
    "\n",
    "# Immutable example: tuple\n",
    "t = (1, 2)\n",
    "t_id_before = id(t)\n",
    "t += (3,)\n",
    "print(t, t_id_before == id(t))  # id changed (new tuple)\n",
    "print(\"OK ✅ augmented assignment semantics\")"
   ]
  },
  {
   "cell_type": "markdown",
   "id": "bad19297",
   "metadata": {},
   "source": [
    "## 8) Operator overloading practice: `Vector2`\n",
    "Implement vector arithmetic:\n",
    "- `+`, `-` for vector addition/subtraction\n",
    "- `*` for scalar multiply; support `scalar * vector` via `__rmul__`\n",
    "- `abs(v)` for length\n",
    "- dot product via `.dot(other)`\n",
    "- robust equality using `math.isclose`\n"
   ]
  },
  {
   "cell_type": "code",
   "execution_count": 8,
   "id": "c1f6932f",
   "metadata": {},
   "outputs": [
    {
     "name": "stdout",
     "output_type": "stream",
     "text": [
      "Vector2(4.0, 2.0) Vector2(2.0, 6.0)\n",
      "Vector2(6.0, 8.0) Vector2(1.5, 2.0)\n",
      "|v1|: 5.0\n",
      "dot: -5.0\n",
      "OK ✅ Vector2 overloads\n"
     ]
    }
   ],
   "source": [
    "import math\n",
    "\n",
    "class Vector2:\n",
    "    __slots__ = (\"x\", \"y\")\n",
    "    def __init__(self, x: float, y: float):\n",
    "        self.x = float(x)\n",
    "        self.y = float(y)\n",
    "    def __repr__(self):\n",
    "        return f\"Vector2({self.x}, {self.y})\"\n",
    "    def __eq__(self, other):\n",
    "        if not isinstance(other, Vector2):\n",
    "            return NotImplemented\n",
    "        return math.isclose(self.x, other.x) and math.isclose(self.y, other.y)\n",
    "    def __add__(self, other):\n",
    "        if not isinstance(other, Vector2):\n",
    "            return NotImplemented\n",
    "        return Vector2(self.x + other.x, self.y + other.y)\n",
    "    def __sub__(self, other):\n",
    "        if not isinstance(other, Vector2):\n",
    "            return NotImplemented\n",
    "        return Vector2(self.x - other.x, self.y - other.y)\n",
    "    def __mul__(self, k):\n",
    "        try:\n",
    "            return Vector2(self.x * k, self.y * k)\n",
    "        except TypeError:\n",
    "            return NotImplemented\n",
    "    def __rmul__(self, k):\n",
    "        return self.__mul__(k)\n",
    "    def __abs__(self):\n",
    "        return math.hypot(self.x, self.y)\n",
    "    def dot(self, other: \"Vector2\"):\n",
    "        if not isinstance(other, Vector2):\n",
    "            raise TypeError(\"dot expects Vector2\")\n",
    "        return self.x * other.x + self.y * other.y\n",
    "\n",
    "v1 = Vector2(3, 4)\n",
    "v2 = Vector2(1, -2)\n",
    "print(v1 + v2, v1 - v2)\n",
    "print(2 * v1, v1 * 0.5)\n",
    "print(\"|v1|:\", abs(v1))\n",
    "print(\"dot:\", v1.dot(v2))\n",
    "assert abs(abs(v1) - 5.0) < 1e-12\n",
    "assert (v1 + v2) == Vector2(4, 2)\n",
    "assert v1.dot(v2) == 3*1 + 4*(-2)\n",
    "print(\"OK ✅ Vector2 overloads\")"
   ]
  },
  {
   "cell_type": "markdown",
   "id": "e24e32f6",
   "metadata": {},
   "source": [
    "## 9) Performance tip: `pow` with modulus vs `**` then `%`\n",
    "`pow(a, b, m)` is implemented with efficient modular exponentiation and is typically much faster for large exponents than `(a ** b) % m`."
   ]
  },
  {
   "cell_type": "code",
   "execution_count": 9,
   "id": "7f320df1",
   "metadata": {},
   "outputs": [
    {
     "name": "stdout",
     "output_type": "stream",
     "text": [
      "pow(a,b,m): 0.00018620025366544724\n",
      "(a**b_small)%m: 0.005025300197303295\n",
      "OK ✅ timing demo (values kept reasonable)\n"
     ]
    }
   ],
   "source": [
    "import timeit\n",
    "a, b, m = 123456789, 123456, 10**9+7\n",
    "t1 = timeit.timeit(lambda: pow(a, b, m), number=50)\n",
    "print(\"pow(a,b,m):\", t1)\n",
    "\n",
    "# Warning: the naive version can be *much* slower and memory-heavy; keep exponent small\n",
    "b_small = 5000\n",
    "t2 = timeit.timeit(lambda: (a ** b_small) % m, number=1)\n",
    "print(\"(a**b_small)%m:\", t2)\n",
    "print(\"OK ✅ timing demo (values kept reasonable)\")"
   ]
  },
  {
   "cell_type": "markdown",
   "id": "033edc24",
   "metadata": {},
   "source": [
    "## 10) Mini-exercises (assertions must pass)\n",
    "1. Implement a numerically stable mean using `math.fsum`.\n",
    "2. Verify `a == (a // b) * b + (a % b)` for a range of signs.\n",
    "3. Write `safe_nth_root(x, n)` that returns a real root when possible, else a complex using `cmath`.\n",
    "4. Extend `Vector2` with a `project_onto(other)` method that returns the projection vector of `self` onto `other`.\n"
   ]
  },
  {
   "cell_type": "code",
   "execution_count": 10,
   "id": "175e9a53",
   "metadata": {},
   "outputs": [
    {
     "name": "stdout",
     "output_type": "stream",
     "text": [
      "All mini-exercises passed ✅\n"
     ]
    }
   ],
   "source": [
    "import math, cmath\n",
    "\n",
    "# 1) stable mean\n",
    "def stable_mean(seq):\n",
    "    seq = list(seq)\n",
    "    return math.fsum(seq) / len(seq) if seq else float('nan')\n",
    "\n",
    "vals = [1e16, 1, -1e16]\n",
    "assert math.isclose(stable_mean(vals), 1.0/3)\n",
    "\n",
    "# 2) identity across signs\n",
    "for a in range(-7, 8):\n",
    "    for b in range(-5, 6):\n",
    "        if b == 0:\n",
    "            continue\n",
    "        assert a == (a // b) * b + (a % b)\n",
    "\n",
    "# 3) safe nth root\n",
    "def safe_nth_root(x, n):\n",
    "    if n == 0:\n",
    "        raise ValueError(\"n must be non-zero\")\n",
    "    if x >= 0 or n % 2 == 1:\n",
    "        return (x if x >= 0 else -(-x) ) ** (1/n)  # real when possible\n",
    "    # otherwise complex\n",
    "    return cmath.exp(cmath.log(x) / n)\n",
    "\n",
    "assert math.isclose(safe_nth_root(27, 3), 3.0)\n",
    "assert isinstance(safe_nth_root(-1, 2), complex)\n",
    "\n",
    "# 4) add projection to Vector2\n",
    "def _v2_project_onto(self, other):\n",
    "    if not isinstance(other, Vector2):\n",
    "        raise TypeError(\"other must be Vector2\")\n",
    "    denom = other.dot(other)\n",
    "    if denom == 0:\n",
    "        raise ZeroDivisionError(\"cannot project onto zero vector\")\n",
    "    k = self.dot(other) / denom\n",
    "    return k * other\n",
    "\n",
    "setattr(Vector2, 'project_onto', _v2_project_onto)\n",
    "u = Vector2(3, 4)\n",
    "w = Vector2(1, 0)\n",
    "proj = u.project_onto(w)\n",
    "assert proj == Vector2(3, 0)\n",
    "print(\"All mini-exercises passed ✅\")"
   ]
  },
  {
   "cell_type": "code",
   "execution_count": null,
   "id": "5184d23f-6293-4000-a3f2-21e28f40c77f",
   "metadata": {},
   "outputs": [],
   "source": []
  }
 ],
 "metadata": {
  "kernelspec": {
   "display_name": "Python 3 (ipykernel)",
   "language": "python",
   "name": "python3"
  },
  "language_info": {
   "codemirror_mode": {
    "name": "ipython",
    "version": 3
   },
   "file_extension": ".py",
   "mimetype": "text/x-python",
   "name": "python",
   "nbconvert_exporter": "python",
   "pygments_lexer": "ipython3",
   "version": "3.13.7"
  }
 },
 "nbformat": 4,
 "nbformat_minor": 5
}
