{
 "cells": [
  {
   "cell_type": "markdown",
   "metadata": {},
   "source": [
    "# Comparison Operators — Practice Notebook\n",
    "\n",
    "Hands-on exercises for:\n",
    "- Equality vs identity: `==` vs `is`\n",
    "- Ordering (`<`, `<=`, `>`, `>=`) and chained comparisons\n",
    "- Container comparisons (lists/tuples/sets/dicts)\n",
    "- Floats and `math.isclose`, `nan` gotchas\n",
    "- Custom types: implementing equality & ordering\n",
    "- Membership: `in` / `not in`\n"
   ]
  },
  {
   "cell_type": "markdown",
   "metadata": {},
   "source": [
    "## 1) Equality (`==`) vs Identity (`is`)\n",
    "- Use `==` to compare **values**.\n",
    "- Use `is` only for **object identity** (e.g., checking against `None`).\n",
    "- Do **not** rely on `is` for numbers/strings; interning is an implementation detail.\n"
   ]
  },
  {
   "cell_type": "code",
   "execution_count": 1,
   "metadata": {},
   "outputs": [
    {
     "name": "stdout",
     "output_type": "stream",
     "text": [
      "OK ✅\n"
     ]
    }
   ],
   "source": [
    "a = [1, 2, 3]\n",
    "b = [1, 2, 3]\n",
    "c = a\n",
    "\n",
    "assert (a == b) is True      # same contents\n",
    "assert (a is b) is False     # different list objects\n",
    "assert (a is c) is True      # same object\n",
    "\n",
    "x = None\n",
    "assert (x is None) is True   # preferred way to check None\n",
    "print(\"OK ✅\")\n"
   ]
  },
  {
   "cell_type": "markdown",
   "metadata": {},
   "source": [
    "## 2) Container equality & ordering\n",
    "- Lists/tuples compare elementwise; tuples/lists are ordered.\n",
    "- Sets compare by members (order-insensitive); dicts compare by key/value pairs.\n",
    "- Tuples compare **lexicographically**.\n"
   ]
  },
  {
   "cell_type": "code",
   "execution_count": 2,
   "metadata": {},
   "outputs": [
    {
     "name": "stdout",
     "output_type": "stream",
     "text": [
      "OK ✅\n"
     ]
    }
   ],
   "source": [
    "# Lists / tuples: elementwise equality\n",
    "assert [1, 2] == [1, 2] and (1, 2) == (1, 2)\n",
    "assert [1, 2] != [2, 1]  # order matters for lists/tuples\n",
    "\n",
    "# Sets: order-insensitive / unique elements by equality\n",
    "assert {1, 2, 3} == {3, 2, 1}\n",
    "\n",
    "# Dicts: compare by key-value pairs\n",
    "assert {\"a\": 1, \"b\": 2} == {\"b\": 2, \"a\": 1}\n",
    "\n",
    "# Tuples: lexicographic ordering\n",
    "assert (1, 10) < (2, 0)    # 1 < 2 so True\n",
    "assert (1, 10) > (1, 2)    # first equal, 10 > 2\n",
    "print(\"OK ✅\")\n"
   ]
  },
  {
   "cell_type": "markdown",
   "metadata": {},
   "source": [
    "## 3) Chained comparisons\n",
    "`a < b < c` is equivalent to `(a < b) and (b < c)` with `b` evaluated **once**. Mixed chains like `a < b == c` are allowed.\n"
   ]
  },
  {
   "cell_type": "code",
   "execution_count": 3,
   "metadata": {},
   "outputs": [
    {
     "name": "stdout",
     "output_type": "stream",
     "text": [
      "OK ✅\n"
     ]
    }
   ],
   "source": [
    "calls = 0\n",
    "def mid():\n",
    "    global calls\n",
    "    calls += 1\n",
    "    return 10\n",
    "\n",
    "calls = 0\n",
    "assert (5 < mid() < 20) is True and calls == 1\n",
    "\n",
    "# Mixed comparison chain\n",
    "a, b, c = 3, 3, 3\n",
    "assert (2 < b == c <= 3) is True\n",
    "print(\"OK ✅\")\n"
   ]
  },
  {
   "cell_type": "markdown",
   "metadata": {},
   "source": [
    "## 4) Floats: avoid `==` — use `math.isclose`\n",
    "- Most decimal fractions are not exactly representable in binary floating point.\n",
    "- Use `math.isclose` with appropriate tolerances.\n",
    "- `nan` is never equal to anything, including itself.\n"
   ]
  },
  {
   "cell_type": "code",
   "execution_count": 4,
   "metadata": {},
   "outputs": [
    {
     "name": "stdout",
     "output_type": "stream",
     "text": [
      "OK ✅\n"
     ]
    }
   ],
   "source": [
    "import math\n",
    "\n",
    "assert (0.1 * 3 == 0.3) is False\n",
    "assert math.isclose(0.1 * 3, 0.3, rel_tol=1e-12, abs_tol=0.0)\n",
    "\n",
    "nan = float('nan')\n",
    "assert (nan == nan) is False\n",
    "assert math.isnan(nan) is True\n",
    "print(\"OK ✅\")\n"
   ]
  },
  {
   "cell_type": "markdown",
   "metadata": {},
   "source": [
    "## 5) Custom types: equality & ordering\n",
    "Use `functools.total_ordering` to derive full ordering from `__eq__` and one other method (e.g., `__lt__`).\n"
   ]
  },
  {
   "cell_type": "code",
   "execution_count": 5,
   "metadata": {},
   "outputs": [
    {
     "name": "stdout",
     "output_type": "stream",
     "text": [
      "OK ✅ [Vector(1, 1), Vector(1, 1), Vector(2, 3)]\n"
     ]
    }
   ],
   "source": [
    "from functools import total_ordering\n",
    "\n",
    "@total_ordering\n",
    "    \n",
    "class Vector:\n",
    "    def __init__(self, x, y):\n",
    "        self.x = x\n",
    "        self.y = y\n",
    "    def __repr__(self):\n",
    "        return f\"Vector({self.x}, {self.y})\"\n",
    "    def __eq__(self, other):\n",
    "        if isinstance(other, Vector):\n",
    "            return (self.x, self.y) == (other.x, other.y)\n",
    "        return NotImplemented\n",
    "    def __lt__(self, other):\n",
    "        if isinstance(other, Vector):\n",
    "            # order by length squared\n",
    "            return (self.x**2 + self.y**2) < (other.x**2 + other.y**2)\n",
    "        return NotImplemented\n",
    "\n",
    "v1, v2, v3 = Vector(1,1), Vector(1,1), Vector(2,3)\n",
    "assert (v1 == v2) is True\n",
    "assert (v1 is v2) is False\n",
    "assert (v1 < v3) is True\n",
    "assert sorted([v3, v1, v2])[0] == v1\n",
    "print(\"OK ✅\", sorted([v3, v1, v2]))\n"
   ]
  },
  {
   "cell_type": "markdown",
   "metadata": {},
   "source": [
    "## 6) Membership: `in` / `not in`\n",
    "- Sequences use equality to test membership.\n",
    "- Sets/dicts use hash + equality; order doesn’t matter for sets.\n",
    "- Remember: `True == 1` and `False == 0`, which can affect sets.\n"
   ]
  },
  {
   "cell_type": "code",
   "execution_count": 6,
   "metadata": {},
   "outputs": [
    {
     "name": "stdout",
     "output_type": "stream",
     "text": [
      "OK ✅\n"
     ]
    }
   ],
   "source": [
    "seq = [\"cat\", \"dog\", \"fox\"]\n",
    "assert (\"dog\" in seq) is True\n",
    "assert (\"cow\" not in seq) is True\n",
    "\n",
    "# Set quirk: True and 1 are equal, so they collide in a set\n",
    "    \n",
    "s = {0, 1, True, False}\n",
    "assert len(s) == 2   # {0, 1}\n",
    "assert (True in s) and (1 in s)\n",
    "\n",
    "# Dict membership checks keys by default\n",
    "d = {\"a\": 1, \"b\": 2}\n",
    "assert (\"a\" in d) and (1 not in d)\n",
    "print(\"OK ✅\")\n"
   ]
  },
  {
   "cell_type": "markdown",
   "metadata": {},
   "source": [
    "## 7) Edge cases & best practices\n",
    "- Prefer `is` only for `None`, `True`, `False` **identity checks** (not value comparisons).\n",
    "- Do not depend on identity of small integers/strings (implementation detail).\n",
    "- For floats, prefer `math.isclose` or domain-specific tolerances.\n",
    "- For custom classes, return `NotImplemented` when comparing to unsupported types.\n"
   ]
  },
  {
   "cell_type": "markdown",
   "metadata": {},
   "source": [
    "## 8) Quick quiz — predict before running\n"
   ]
  },
  {
   "cell_type": "code",
   "execution_count": 7,
   "metadata": {
    "scrolled": true
   },
   "outputs": [
    {
     "name": "stdout",
     "output_type": "stream",
     "text": [
      "All quiz checks passed ✅\n"
     ]
    }
   ],
   "source": [
    "# A) Equality vs identity\n",
    "t1 = (1, 2, 3)\n",
    "t2 = (1, 2, 3)\n",
    "assert (t1 == t2) is True and (t1 is t2) is False\n",
    "\n",
    "# B) Chained comparisons\n",
    "x, y, z = 2, 3, 3\n",
    "assert (1 < x < y <= z) is True\n",
    "\n",
    "# C) Lexicographic tuple order\n",
    "assert (\"a\", 10) < (\"b\", 0)\n",
    "assert (\"a\", 10) > (\"a\", 2)\n",
    "\n",
    "# D) Sets and equality\n",
    "assert {1, 2, 3} == {3, 2, 1} and {1, 2} != {1, 2, 3}\n",
    "\n",
    "# E) Floats and NaN\n",
    "import math\n",
    "v = float('nan')\n",
    "assert (v == v) is False and math.isnan(v) is True\n",
    "assert (0.1 + 0.2 == 0.3) is False\n",
    "assert math.isclose(0.1 + 0.2, 0.3, rel_tol=1e-12)\n",
    "\n",
    "print(\"All quiz checks passed ✅\")\n"
   ]
  },
  {
   "cell_type": "code",
   "execution_count": null,
   "metadata": {},
   "outputs": [],
   "source": []
  }
 ],
 "metadata": {
  "kernelspec": {
   "display_name": "Python 3 (ipykernel)",
   "language": "python",
   "name": "python3"
  },
  "language_info": {
   "codemirror_mode": {
    "name": "ipython",
    "version": 3
   },
   "file_extension": ".py",
   "mimetype": "text/x-python",
   "name": "python",
   "nbconvert_exporter": "python",
   "pygments_lexer": "ipython3",
   "version": "3.13.7"
  }
 },
 "nbformat": 4,
 "nbformat_minor": 4
}
