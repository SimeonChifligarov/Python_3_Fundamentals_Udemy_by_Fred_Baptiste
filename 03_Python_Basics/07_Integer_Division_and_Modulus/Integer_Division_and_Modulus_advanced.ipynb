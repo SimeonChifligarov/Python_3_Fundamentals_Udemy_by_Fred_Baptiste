{
 "cells": [
  {
   "cell_type": "markdown",
   "metadata": {},
   "source": [
    "# Integer Division & Modulus — Practice Notebook\n",
    "\n",
    "Hands-on exercises for `//` (floor division), `%` (modulus), and `divmod()`.\n",
    "\n",
    "Key identity (Euclidean division): for integers `a` (dividend) and nonzero `b` (divisor),\n",
    "\n",
    "```\n",
    "q = a // b   # floor quotient\n",
    "r = a % b    # remainder\n",
    "a == q*b + r\n",
    "```\n",
    "\n",
    "- In Python, `//` is **floor** division (rounds toward `-∞`).\n",
    "- The remainder `r` has the **same sign as the divisor** `b` (and is `0` when divisible).\n",
    "- `divmod(a, b)` returns `(q, r)` efficiently.\n"
   ]
  },
  {
   "cell_type": "markdown",
   "metadata": {},
   "source": [
    "## 1) Warm-up: basic identities with positives\n",
    "Verify the fundamental identity and equivalence with `divmod`.\n"
   ]
  },
  {
   "cell_type": "code",
   "execution_count": 1,
   "metadata": {},
   "outputs": [
    {
     "name": "stdout",
     "output_type": "stream",
     "text": [
      "a=10, b=3 -> q=3, r=1\n",
      "a=27, b=5 -> q=5, r=2\n",
      "a=100, b=10 -> q=10, r=0\n",
      "a=623, b=60 -> q=10, r=23\n",
      "OK ✅\n"
     ]
    }
   ],
   "source": [
    "def check_identity(a, b):\n",
    "    q, r = divmod(a, b)\n",
    "    assert a == q*b + r\n",
    "    return q, r\n",
    "\n",
    "pairs = [(10, 3), (27, 5), (100, 10), (623, 60)]\n",
    "for a, b in pairs:\n",
    "    q, r = check_identity(a, b)\n",
    "    print(f\"a={a}, b={b} -> q={q}, r={r}\")\n",
    "print(\"OK ✅\")\n"
   ]
  },
  {
   "cell_type": "markdown",
   "metadata": {},
   "source": [
    "## 2) `divmod(a, b)` vs `a // b` and `a % b`\n",
    "They’re equivalent, but `divmod` computes both at once (and is often clearer).\n"
   ]
  },
  {
   "cell_type": "code",
   "execution_count": 2,
   "metadata": {},
   "outputs": [
    {
     "name": "stdout",
     "output_type": "stream",
     "text": [
      "// -> 2  % -> 45  | divmod -> (2, 45)\n"
     ]
    }
   ],
   "source": [
    "a, b = 165, 60\n",
    "q1, r1 = a // b, a % b\n",
    "q2, r2 = divmod(a, b)\n",
    "assert (q1, r1) == (q2, r2)\n",
    "print(\"// ->\", q1, \" % ->\", r1, \" | divmod ->\", (q2, r2))\n"
   ]
  },
  {
   "cell_type": "markdown",
   "metadata": {},
   "source": [
    "## 3) Negative numbers: floor division rounds **down**\n",
    "Python’s `//` rounds toward `-∞`, so be careful:\n",
    "\n",
    "- `-7 // 3 == -3` (since `-2.333…` floored is `-3`)\n",
    "- `-7 % 3 == 2` (so that `-7 == 3*(-3) + 2`)\n",
    "- Remainder sign follows the divisor (`b`).\n"
   ]
  },
  {
   "cell_type": "code",
   "execution_count": 3,
   "metadata": {},
   "outputs": [
    {
     "name": "stdout",
     "output_type": "stream",
     "text": [
      "All negative-cases OK ✅\n"
     ]
    }
   ],
   "source": [
    "# a negative, b positive\n",
    "assert (-7) // 3 == -3\n",
    "assert (-7) % 3 == 2\n",
    "assert (-7) == 3*((-7)//3) + ((-7)%3)\n",
    "\n",
    "# a positive, b negative\n",
    "assert 7 // (-3) == -3\n",
    "assert 7 % (-3) == -2\n",
    "assert 7 == (-3)*(7//-3) + (7%-3)\n",
    "\n",
    "# both negative\n",
    "assert (-7) // (-3) == 2\n",
    "assert (-7) % (-3) == -1\n",
    "assert (-7) == (-3)*((-7)//-3) + ((-7)%-3)\n",
    "\n",
    "print(\"All negative-cases OK ✅\")\n"
   ]
  },
  {
   "cell_type": "markdown",
   "metadata": {},
   "source": [
    "## 4) Time conversion with `divmod`\n",
    "Split total minutes into `(hours, minutes)` with a single call.\n"
   ]
  },
  {
   "cell_type": "code",
   "execution_count": 4,
   "metadata": {},
   "outputs": [
    {
     "name": "stdout",
     "output_type": "stream",
     "text": [
      "OK ✅ (2, 45) (10, 23)\n"
     ]
    }
   ],
   "source": [
    "def split_h_m(elapsed_minutes: int):\n",
    "    return divmod(elapsed_minutes, 60)\n",
    "\n",
    "assert split_h_m(165) == (2, 45)\n",
    "assert split_h_m(623) == (10, 23)\n",
    "print(\"OK ✅\", split_h_m(165), split_h_m(623))\n"
   ]
  },
  {
   "cell_type": "markdown",
   "metadata": {},
   "source": [
    "## 5) Even/odd and multiples\n",
    "Use `%` to test parity and divisibility.\n"
   ]
  },
  {
   "cell_type": "code",
   "execution_count": 5,
   "metadata": {},
   "outputs": [
    {
     "name": "stdout",
     "output_type": "stream",
     "text": [
      "OK ✅\n"
     ]
    }
   ],
   "source": [
    "def is_even(n: int) -> bool:\n",
    "    return n % 2 == 0\n",
    "\n",
    "def is_multiple_of(n: int, k: int) -> bool:\n",
    "    return n % k == 0\n",
    "\n",
    "assert is_even(10) and not is_even(11)\n",
    "assert is_multiple_of(21, 7) and not is_multiple_of(22, 7)\n",
    "print(\"OK ✅\")\n"
   ]
  },
  {
   "cell_type": "markdown",
   "metadata": {},
   "source": [
    "## 6) Weekday arithmetic (clock math / modular arithmetic)\n",
    "Let Monday = 0, …, Sunday = 6. What day is it `n` days later?\n"
   ]
  },
  {
   "cell_type": "code",
   "execution_count": 6,
   "metadata": {},
   "outputs": [
    {
     "name": "stdout",
     "output_type": "stream",
     "text": [
      "OK ✅\n"
     ]
    }
   ],
   "source": [
    "DAYS = [\"Mon\",\"Tue\",\"Wed\",\"Thu\",\"Fri\",\"Sat\",\"Sun\"]\n",
    "def add_days(start_idx: int, delta: int) -> int:\n",
    "    return (start_idx + delta) % 7\n",
    "\n",
    "assert DAYS[add_days(0, 3)] == \"Thu\"   # Mon + 3 -> Thu\n",
    "assert DAYS[add_days(5, 10)] == \"Tue\"  # Sat + 10 -> Tue\n",
    "assert DAYS[add_days(2, -3)] == \"Sun\"  # Wed - 3 -> Sun\n",
    "print(\"OK ✅\")\n"
   ]
  },
  {
   "cell_type": "markdown",
   "metadata": {},
   "source": [
    "## 7) Cycling through a list with `%`\n",
    "Index safely with `% len(seq)` to loop around.\n"
   ]
  },
  {
   "cell_type": "code",
   "execution_count": 7,
   "metadata": {},
   "outputs": [
    {
     "name": "stdout",
     "output_type": "stream",
     "text": [
      "OK ✅\n"
     ]
    }
   ],
   "source": [
    "colors = [\"red\",\"green\",\"blue\"]\n",
    "def cycle_get(seq, i):\n",
    "    return seq[i % len(seq)]\n",
    "\n",
    "assert cycle_get(colors, 0) == \"red\"\n",
    "assert cycle_get(colors, 3) == \"red\"\n",
    "assert cycle_get(colors, -1) == \"blue\"\n",
    "print(\"OK ✅\")\n"
   ]
  },
  {
   "cell_type": "markdown",
   "metadata": {},
   "source": [
    "## 8) Pagination (pages & leftover)\n",
    "Given `n_items` and `per_page`, compute `(n_pages, last_page_items)`.\n",
    "- `n_pages = ceil(n_items / per_page)` → via `//` and `%` without `math.ceil`.\n",
    "- `last_page_items = n_items % per_page` (or `per_page` when it divides exactly).\n"
   ]
  },
  {
   "cell_type": "code",
   "execution_count": 8,
   "metadata": {},
   "outputs": [
    {
     "name": "stdout",
     "output_type": "stream",
     "text": [
      "OK ✅\n"
     ]
    }
   ],
   "source": [
    "def paginate(n_items: int, per_page: int):\n",
    "    q, r = divmod(n_items, per_page)\n",
    "    n_pages = q if r == 0 else q + 1\n",
    "    last_items = r if r != 0 else (per_page if n_items else 0)\n",
    "    return n_pages, last_items\n",
    "\n",
    "assert paginate(0, 10) == (0, 0)\n",
    "assert paginate(100, 10) == (10, 10)\n",
    "assert paginate(101, 10) == (11, 1)\n",
    "assert paginate(237, 25) == (10, 12)\n",
    "print(\"OK ✅\")\n"
   ]
  },
  {
   "cell_type": "markdown",
   "metadata": {},
   "source": [
    "## 9) GCD via Euclid’s algorithm (uses `%`)\n",
    "Classic algorithm: repeatedly replace `(a, b)` with `(b, a % b)` until `b == 0`.\n"
   ]
  },
  {
   "cell_type": "code",
   "execution_count": 9,
   "metadata": {},
   "outputs": [
    {
     "name": "stdout",
     "output_type": "stream",
     "text": [
      "OK ✅\n"
     ]
    }
   ],
   "source": [
    "def gcd(a: int, b: int) -> int:\n",
    "    a, b = abs(a), abs(b)\n",
    "    while b:\n",
    "        a, b = b, a % b\n",
    "    return a\n",
    "\n",
    "assert gcd(54, 24) == 6\n",
    "assert gcd(48, 180) == 12\n",
    "assert gcd(-42, 56) == 14\n",
    "print(\"OK ✅\")\n"
   ]
  },
  {
   "cell_type": "markdown",
   "metadata": {},
   "source": [
    "## 10) Base conversion by repeated division and modulus\n",
    "Convert a nonnegative integer to a base (2..36) string using `//` and `%`.\n"
   ]
  },
  {
   "cell_type": "code",
   "execution_count": 10,
   "metadata": {},
   "outputs": [
    {
     "name": "stdout",
     "output_type": "stream",
     "text": [
      "OK ✅\n"
     ]
    }
   ],
   "source": [
    "DIGITS = \"0123456789ABCDEFGHIJKLMNOPQRSTUVWXYZ\"\n",
    "\n",
    "def to_base(n: int, base: int = 2) -> str:\n",
    "    if n == 0:\n",
    "        return \"0\"\n",
    "    if not (2 <= base <= 36):\n",
    "        raise ValueError(\"base must be in 2..36\")\n",
    "    out = []\n",
    "    while n > 0:\n",
    "        n, r = divmod(n, base)\n",
    "        out.append(DIGITS[r])\n",
    "    return \"\".join(reversed(out))\n",
    "\n",
    "assert to_base(13, 2) == \"1101\"\n",
    "assert to_base(255, 16) == \"FF\"\n",
    "assert to_base(12345, 36) == \"9IX\"\n",
    "print(\"OK ✅\")\n"
   ]
  },
  {
   "cell_type": "markdown",
   "metadata": {},
   "source": [
    "## 11) Quick quiz — predict before you run\n",
    "Compute mentally, then verify with asserts.\n"
   ]
  },
  {
   "cell_type": "code",
   "execution_count": 11,
   "metadata": {
    "scrolled": true
   },
   "outputs": [
    {
     "name": "stdout",
     "output_type": "stream",
     "text": [
      "All quiz checks passed ✅\n"
     ]
    }
   ],
   "source": [
    "# A) identities\n",
    "a, b = 27, 5\n",
    "q, r = a // b, a % b\n",
    "assert a == q*b + r and (q, r) == divmod(a, b)\n",
    "\n",
    "# B) negatives (remember: floor division)\n",
    "assert (-10) // 3 == -4\n",
    "assert (-10) % 3 == 2\n",
    "assert 10 // (-3) == -4\n",
    "assert 10 % (-3) == -2\n",
    "\n",
    "# C) time split\n",
    "h, m = divmod(1000, 60)\n",
    "assert (h, m) == (16, 40)\n",
    "\n",
    "# D) parity & multiples\n",
    "assert all((n % 2 == 0) for n in (0, 2, 4, 100))\n",
    "assert (45 % 9 == 0) and (46 % 9 != 0)\n",
    "\n",
    "# E) cycling index\n",
    "seq = [9, 8, 7]\n",
    "assert seq[(5) % len(seq)] == 7\n",
    "assert seq[(-1) % len(seq)] == 7\n",
    "\n",
    "print(\"All quiz checks passed ✅\")\n"
   ]
  },
  {
   "cell_type": "code",
   "execution_count": null,
   "metadata": {},
   "outputs": [],
   "source": []
  }
 ],
 "metadata": {
  "kernelspec": {
   "display_name": "Python 3 (ipykernel)",
   "language": "python",
   "name": "python3"
  },
  "language_info": {
   "codemirror_mode": {
    "name": "ipython",
    "version": 3
   },
   "file_extension": ".py",
   "mimetype": "text/x-python",
   "name": "python",
   "nbconvert_exporter": "python",
   "pygments_lexer": "ipython3",
   "version": "3.13.7"
  }
 },
 "nbformat": 4,
 "nbformat_minor": 4
}
