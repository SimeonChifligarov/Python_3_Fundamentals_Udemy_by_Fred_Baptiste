{
 "cells": [
  {
   "cell_type": "markdown",
   "metadata": {},
   "source": [
    "### Advanced Lists in Python\n",
    "\n",
    "This notebook goes beyond the basics of Python lists. We'll cover:\n",
    "- Creation, heterogeneity, and identity vs equality\n",
    "- Indexing (positive/negative), slicing, and slice assignment\n",
    "- Adding/removing items (`append`, `extend`, `insert`, `pop`, `remove`, `del`)\n",
    "- Sorting (`sorted` vs `list.sort`, keys, reverse, stability)\n",
    "- Copying, aliasing, shallow vs deep copies (and common pitfalls)\n",
    "- Comprehensions (with conditions, nested)\n",
    "- Iteration patterns (`enumerate`, unpacking, `_` placeholder)\n",
    "- Membership, `index`, `count`\n",
    "- Concatenation and repetition\n",
    "- 2D lists (matrix-like data) and the *repetition pitfall*\n",
    "- Idioms: reversing, rotating, deduplicating while preserving order\n",
    "\n",
    "Where useful, we include quick checks to illustrate behavior and edge cases."
   ]
  },
  {
   "cell_type": "markdown",
   "metadata": {},
   "source": [
    "## 1) Creation, Heterogeneity, Identity vs Equality"
   ]
  },
  {
   "cell_type": "code",
   "execution_count": 1,
   "metadata": {},
   "outputs": [
    {
     "data": {
      "text/plain": [
       "([10, 3.14, 'python', True, None], list, 5)"
      ]
     },
     "execution_count": 1,
     "metadata": {},
     "output_type": "execute_result"
    }
   ],
   "source": [
    "# Literal creation, heterogeneous types\n",
    "l = [10, 3.14, \"python\", True, None]\n",
    "l, type(l), len(l)"
   ]
  },
  {
   "cell_type": "code",
   "execution_count": 2,
   "metadata": {},
   "outputs": [
    {
     "data": {
      "text/plain": [
       "(True, False, True, 2902853603776, 2902853494848, 2902853603776)"
      ]
     },
     "execution_count": 2,
     "metadata": {},
     "output_type": "execute_result"
    }
   ],
   "source": [
    "# Equality vs identity\n",
    "a = [1, 2, 3]\n",
    "b = [1, 2, 3]\n",
    "c = a  # alias (same object)\n",
    "a == b, a is b, a is c, id(a), id(b), id(c)"
   ]
  },
  {
   "cell_type": "markdown",
   "metadata": {},
   "source": [
    "## 2) Indexing and Slicing\n",
    "\n",
    "- Positive and negative indices\n",
    "- Slices: `seq[start:stop:step]` (any part optional)\n",
    "- Slices never raise `IndexError`; indexing can.\n",
    "- Slicing returns a **new list** (copy of the selected portion); indexing returns a single element (no copy for immutable elements; but remember nested mutables!)."
   ]
  },
  {
   "cell_type": "code",
   "execution_count": 3,
   "metadata": {},
   "outputs": [
    {
     "data": {
      "text/plain": [
       "(10,\n",
       " 60,\n",
       " [20, 30, 40],\n",
       " [10, 20, 30],\n",
       " [40, 50, 60],\n",
       " [10, 30, 50],\n",
       " [60, 50, 40, 30, 20, 10],\n",
       " [10, 20, 30, 40, 50, 60])"
      ]
     },
     "execution_count": 3,
     "metadata": {},
     "output_type": "execute_result"
    }
   ],
   "source": [
    "seq = [10, 20, 30, 40, 50, 60]\n",
    "first = seq[0]\n",
    "last = seq[-1]\n",
    "middle_slice = seq[1:4]   # 20,30,40\n",
    "open_ended_left = seq[:3] # 10,20,30\n",
    "open_ended_right = seq[3:]# 40,50,60\n",
    "step_slice = seq[::2]     # 10,30,50\n",
    "reverse_copy = seq[::-1]  # reversed copy\n",
    "first, last, middle_slice, open_ended_left, open_ended_right, step_slice, reverse_copy, seq"
   ]
  },
  {
   "cell_type": "markdown",
   "metadata": {},
   "source": [
    "**Slice assignment** can replace a range (and can change length!). Useful for in-place edits and efficient splicing without rebuilds of tails/heads by hand."
   ]
  },
  {
   "cell_type": "code",
   "execution_count": 4,
   "metadata": {},
   "outputs": [
    {
     "data": {
      "text/plain": [
       "[10, 1, 20, 3, 30, 5]"
      ]
     },
     "execution_count": 4,
     "metadata": {},
     "output_type": "execute_result"
    }
   ],
   "source": [
    "nums = [1, 2, 3, 4, 5]\n",
    "nums[1:4] = [20, 30]  # Replace 2,3,4 with two elements (length changes)\n",
    "nums  # -> [1, 20, 30, 5]\n",
    "\n",
    "# Inserting via empty slice\n",
    "nums[2:2] = [25, 26]\n",
    "nums  # -> [1, 20, 25, 26, 30, 5]\n",
    "\n",
    "# Deleting via slice assignment to []\n",
    "nums[1:4] = []\n",
    "nums  # -> [1, 26, 30, 5]\n",
    "\n",
    "# Strided slice assignment requires matching lengths\n",
    "a = [0, 1, 2, 3, 4, 5]\n",
    "a[::2] = [10, 20, 30]  # Replaces indices 0,2,4\n",
    "a  # -> [10, 1, 20, 3, 30, 5]"
   ]
  },
  {
   "cell_type": "markdown",
   "metadata": {},
   "source": [
    "## 3) Adding and Removing Elements\n",
    "- `append(x)`: add one item to the end\n",
    "- `extend(iterable)`: add many items (iterates over the argument)\n",
    "- `insert(i, x)`: insert at index `i`\n",
    "- `pop([i])`: remove and return item at index (default last)\n",
    "- `remove(x)`: remove first occurrence of value `x` (raises `ValueError` if not found)\n",
    "- `del seq[i:j:k]`: delete by index/slice (in place)"
   ]
  },
  {
   "cell_type": "code",
   "execution_count": 5,
   "metadata": {},
   "outputs": [
    {
     "data": {
      "text/plain": [
       "(['a'], 'e', 'b')"
      ]
     },
     "execution_count": 5,
     "metadata": {},
     "output_type": "execute_result"
    }
   ],
   "source": [
    "items = [\"a\", \"b\"]\n",
    "items.append(\"c\")                   # [\"a\",\"b\",\"c\"]\n",
    "items.extend([\"d\", \"e\"])           # [\"a\",\"b\",\"c\",\"d\",\"e\"]\n",
    "items.insert(1, \"X\")               # [\"a\",\"X\",\"b\",\"c\",\"d\",\"e\"]\n",
    "last = items.pop()                  # removes \"e\"\n",
    "middle = items.pop(2)               # removes \"b\"\n",
    "items.remove(\"X\")                   # removes first \"X\"\n",
    "del items[1:3]                      # delete a slice in place\n",
    "items, last, middle                 # Expect (['a', 'd'], 'e', 'b') or similar sequence showing operations worked."
   ]
  },
  {
   "cell_type": "markdown",
   "metadata": {},
   "source": [
    "## 4) Sorting\n",
    "- `sorted(iterable, *, key=None, reverse=False)` returns a **new list**.\n",
    "- `list.sort(*, key=None, reverse=False)` sorts **in place** and returns `None`.\n",
    "- Sort is **stable**: equal keys preserve original order.\n",
    "- Use `key` for custom order and complex structures."
   ]
  },
  {
   "cell_type": "code",
   "execution_count": 6,
   "metadata": {},
   "outputs": [
    {
     "data": {
      "text/plain": [
       "(['Apple', 'Cherry', 'apricot', 'banana', 'pear'],\n",
       " ['Apple', 'apricot', 'banana', 'Cherry', 'pear'],\n",
       " ['apricot', 'banana', 'Cherry', 'Apple', 'pear'],\n",
       " ['pear', 'Apple', 'banana', 'apricot', 'Cherry'])"
      ]
     },
     "execution_count": 6,
     "metadata": {},
     "output_type": "execute_result"
    }
   ],
   "source": [
    "words = [\"pear\", \"Apple\", \"banana\", \"apricot\", \"Cherry\"]\n",
    "sorted_case_sensitive = sorted(words)\n",
    "sorted_case_insensitive = sorted(words, key=str.lower)\n",
    "words_sorted_inplace = words[:]\n",
    "words_sorted_inplace.sort(key=len, reverse=True)  # by length, descending\n",
    "sorted_case_sensitive, sorted_case_insensitive, words_sorted_inplace, words  # words unchanged by sorted(), but changed by .sort() on its copy"
   ]
  },
  {
   "cell_type": "markdown",
   "metadata": {},
   "source": [
    "**Sorting complex structures** using `key`:\n",
    "- Sort list of dicts by a field\n",
    "- Sort tuples by secondary key\n",
    "- Leverage stability to do multi-pass sorts (least significant first)"
   ]
  },
  {
   "cell_type": "code",
   "execution_count": 7,
   "metadata": {},
   "outputs": [
    {
     "data": {
      "text/plain": [
       "([{'name': 'Bob', 'age': 25, 'score': 88},\n",
       "  {'name': 'Cara', 'age': 25, 'score': 95},\n",
       "  {'name': 'Alice', 'age': 30, 'score': 88}],\n",
       " [{'name': 'Cara', 'age': 25, 'score': 95},\n",
       "  {'name': 'Alice', 'age': 30, 'score': 88},\n",
       "  {'name': 'Bob', 'age': 25, 'score': 88}],\n",
       " [{'name': 'Cara', 'age': 25, 'score': 95},\n",
       "  {'name': 'Alice', 'age': 30, 'score': 88},\n",
       "  {'name': 'Bob', 'age': 25, 'score': 88}])"
      ]
     },
     "execution_count": 7,
     "metadata": {},
     "output_type": "execute_result"
    }
   ],
   "source": [
    "records = [\n",
    "    {\"name\": \"Alice\", \"age\": 30, \"score\": 88},\n",
    "    {\"name\": \"Bob\",   \"age\": 25, \"score\": 88},\n",
    "    {\"name\": \"Cara\",  \"age\": 25, \"score\": 95},\n",
    "]\n",
    "by_age = sorted(records, key=lambda r: r[\"age\"])                  # age asc\n",
    "by_score_desc = sorted(records, key=lambda r: r[\"score\"], reverse=True)\n",
    "\n",
    "# Multi-pass stable sort: sort by name asc, then by score desc (score primary)\n",
    "tmp = sorted(records, key=lambda r: r[\"name\"])                   # secondary\n",
    "stable_multi = sorted(tmp, key=lambda r: r[\"score\"], reverse=True) # primary\n",
    "by_age, by_score_desc, stable_multi"
   ]
  },
  {
   "cell_type": "markdown",
   "metadata": {},
   "source": [
    "## 5) Copying, Aliasing, Shallow vs Deep Copies\n",
    "- Assignment creates an **alias** (no copy).\n",
    "- Shallow copies: `list(x)`, `x[:]`, `x.copy()` — copies the outer list, **not** nested objects.\n",
    "- Deep copies: `copy.deepcopy(x)` — recursively copy nested structures.\n",
    "- Pitfall: multiplying nested lists replicates references, not values!"
   ]
  },
  {
   "cell_type": "code",
   "execution_count": 8,
   "metadata": {},
   "outputs": [
    {
     "data": {
      "text/plain": [
       "([[0, 7, 0], [0, 7, 0], [0, 7, 0], [0, 7, 0]],\n",
       " [[0, 7, 0], [0, 0, 0], [0, 0, 0], [0, 0, 0]])"
      ]
     },
     "execution_count": 8,
     "metadata": {},
     "output_type": "execute_result"
    }
   ],
   "source": [
    "import copy\n",
    "\n",
    "outer = [[0, 0], [1, 1]]\n",
    "alias = outer                    # same object\n",
    "shallow1 = list(outer)\n",
    "shallow2 = outer[:]              # same as copy()\n",
    "deep = copy.deepcopy(outer)\n",
    "\n",
    "outer[0][0] = 99\n",
    "id(outer), id(alias), id(shallow1), id(shallow2), id(deep), outer, shallow1, shallow2, deep\n",
    "\n",
    "# Notice shallow copies see the inner mutation (shared inner lists), deep does not.\n",
    "\n",
    "# Repetition pitfall:\n",
    "bad = [[0]*3]*4  # 4 references to the SAME inner list\n",
    "bad[0][1] = 7\n",
    "good = [[0]*3 for _ in range(4)]\n",
    "good[0][1] = 7\n",
    "bad, good  # In 'bad', the 7 appears in every row's column 1; in 'good', only the first row changes."
   ]
  },
  {
   "cell_type": "markdown",
   "metadata": {},
   "source": [
    "## 6) Comprehensions (and Conditional/Nested Variants)\n",
    "- Fast, expressive way to construct lists\n",
    "- Optional `if` filter\n",
    "- Nest for simple 2D transforms (but keep readability in mind)"
   ]
  },
  {
   "cell_type": "code",
   "execution_count": 9,
   "metadata": {},
   "outputs": [
    {
     "data": {
      "text/plain": [
       "([0, 1, 4, 9, 16, 25, 36, 49, 64, 81],\n",
       " [0, 2, 4, 6, 8],\n",
       " [(0, 1), (0, 2), (1, 0), (1, 2), (2, 0), (2, 1)])"
      ]
     },
     "execution_count": 9,
     "metadata": {},
     "output_type": "execute_result"
    }
   ],
   "source": [
    "nums = list(range(10))\n",
    "squares = [n*n for n in nums]\n",
    "evens = [n for n in nums if n % 2 == 0]\n",
    "pairs = [(i, j) for i in range(3) for j in range(3) if i != j]\n",
    "squares, evens, pairs  # quick peek at results to verify intent/shape"
   ]
  },
  {
   "cell_type": "markdown",
   "metadata": {},
   "source": [
    "Comprehensions with expressions and guarding against edge cases (e.g., division by zero):"
   ]
  },
  {
   "cell_type": "code",
   "execution_count": 10,
   "metadata": {},
   "outputs": [
    {
     "data": {
      "text/plain": [
       "[0.3333333333333333, 0.5, 1.0, None, -1.0]"
      ]
     },
     "execution_count": 10,
     "metadata": {},
     "output_type": "execute_result"
    }
   ],
   "source": [
    "denoms = [3, 2, 1, 0, -1]\n",
    "safe_inverses = [ (1/d) if d != 0 else None for d in denoms ]\n",
    "safe_inverses  # None where inverse undefined; avoids ZeroDivisionError with a simple guard."
   ]
  },
  {
   "cell_type": "markdown",
   "metadata": {},
   "source": [
    "## 7) Idiomatic Iteration\n",
    "- `for x in seq` (simple iteration)\n",
    "- `enumerate(seq, start=0)` for index + value\n",
    "- Unpacking tuples per element\n",
    "- Using `_` as a throwaway variable name for ignored fields\n",
    "- Avoid mutating a list while iterating **over that same list**; iterate over a copy when necessary (`for x in seq[:]`)."
   ]
  },
  {
   "cell_type": "code",
   "execution_count": 11,
   "metadata": {},
   "outputs": [
    {
     "data": {
      "text/plain": [
       "[1, 3, 5]"
      ]
     },
     "execution_count": 11,
     "metadata": {},
     "output_type": "execute_result"
    }
   ],
   "source": [
    "data = [(\"alice\", 3), (\"bob\", 1), (\"cara\", 2)]\n",
    "indexed = [(i, name, count) for i, (name, count) in enumerate(data, start=1)]\n",
    "indexed\n",
    "\n",
    "# Ignoring fields example\n",
    "triples = [(1, 2, 3), (4, 5, 6)]\n",
    "just_middles = [m for _, m, _ in triples]\n",
    "just_middles\n",
    "\n",
    "# Safe remove while iterating: iterate over a copy\n",
    "vals = [0, 1, 2, 3, 4, 5]\n",
    "for v in vals[:]:\n",
    "    if v % 2 == 0:\n",
    "        vals.remove(v)\n",
    "vals  # Expect only odd numbers remain"
   ]
  },
  {
   "cell_type": "markdown",
   "metadata": {},
   "source": [
    "## 8) Membership, `index`, `count`\n",
    "- `x in seq` / `x not in seq` — membership test (linear time for lists)\n",
    "- `seq.index(x)` — index of first occurrence (raises `ValueError` if not found)\n",
    "- `seq.count(x)` — number of occurrences\n",
    "\n",
    "For many membership tests, consider a `set` for O(1) average-lookups (but it is unordered and deduplicates)."
   ]
  },
  {
   "cell_type": "code",
   "execution_count": 12,
   "metadata": {},
   "outputs": [
    {
     "data": {
      "text/plain": [
       "(-1, 3)"
      ]
     },
     "execution_count": 12,
     "metadata": {},
     "output_type": "execute_result"
    }
   ],
   "source": [
    "fruits = [\"apple\", \"banana\", \"banana\", \"cherry\"]\n",
    "\"banana\" in fruits, fruits.index(\"banana\"), fruits.count(\"banana\")\n",
    "\n",
    "# Safely getting index if present\n",
    "def safe_index(seq, value, default=-1):\n",
    "    try:\n",
    "        return seq.index(value)\n",
    "    except ValueError:\n",
    "        return default\n",
    "\n",
    "safe_index(fruits, \"kiwi\"), safe_index(fruits, \"cherry\")  # (-1, position of 'cherry')"
   ]
  },
  {
   "cell_type": "markdown",
   "metadata": {},
   "source": [
    "## 9) Concatenation and Repetition\n",
    "- `a + b` creates a new list\n",
    "- `a += b` extends in place\n",
    "- `a * n` repeats contents (shallow copy of the top level!)\n",
    "- Beware of repetition with nested lists (see the pitfall section above)."
   ]
  },
  {
   "cell_type": "code",
   "execution_count": 13,
   "metadata": {},
   "outputs": [
    {
     "data": {
      "text/plain": [
       "([1, 2, 3, 4], [3, 4], [1, 2, 3, 4], [0, 1, 0, 1, 0, 1])"
      ]
     },
     "execution_count": 13,
     "metadata": {},
     "output_type": "execute_result"
    }
   ],
   "source": [
    "a = [1, 2]\n",
    "b = [3, 4]\n",
    "c = a + b            # new list\n",
    "a += b               # mutate a in place\n",
    "rep = [0, 1] * 3\n",
    "a, b, c, rep  # observe changes to 'a' after a += b, and c remains independent."
   ]
  },
  {
   "cell_type": "markdown",
   "metadata": {},
   "source": [
    "## 10) 2D Lists and Common Operations\n",
    "Treat a list of lists as a simple matrix-like structure:\n",
    "- Access row/column\n",
    "- Row/column operations via comprehensions\n",
    "- Transpose (zip trick)\n",
    "- Beware repetition pitfall when creating grids."
   ]
  },
  {
   "cell_type": "code",
   "execution_count": 14,
   "metadata": {},
   "outputs": [
    {
     "data": {
      "text/plain": [
       "[[10, 2, 3], [40, 5, 6], [70, 8, 9]]"
      ]
     },
     "execution_count": 14,
     "metadata": {},
     "output_type": "execute_result"
    }
   ],
   "source": [
    "grid = [\n",
    "    [1, 2, 3],\n",
    "    [4, 5, 6],\n",
    "    [7, 8, 9],\n",
    "]\n",
    "first_row = grid[0]\n",
    "second_col = [row[1] for row in grid]\n",
    "diag = [grid[i][i] for i in range(len(grid))]\n",
    "transpose = [list(col) for col in zip(*grid)]\n",
    "first_row, second_col, diag, transpose  # quick inspection of shapes/values\n",
    "\n",
    "# Update a whole column by slice assignment on each row\n",
    "for row in grid:\n",
    "    row[0:1] = [row[0]*10]  # multiply first column by 10 in-place\n",
    "grid  # first column scaled"
   ]
  },
  {
   "cell_type": "markdown",
   "metadata": {},
   "source": [
    "## 11) Handy Idioms\n",
    "- **Reverse in place**: `l.reverse()`; reversed iterator: `reversed(l)`\n",
    "- **Rotate** (k to the right): `l[-k:] + l[:-k]` (copy) or slice-assign in place\n",
    "- **Unique while preserving order**:\n",
    "  - For hashables: keep a `set` of seen\n",
    "  - For unhashables: use a tuple conversion or a custom key function if possible\n",
    "- **Clamp** all numbers to a range using comprehension and `min/max`"
   ]
  },
  {
   "cell_type": "code",
   "execution_count": 15,
   "metadata": {},
   "outputs": [
    {
     "data": {
      "text/plain": [
       "[0, 0, 5, 10, 10]"
      ]
     },
     "execution_count": 15,
     "metadata": {},
     "output_type": "execute_result"
    }
   ],
   "source": [
    "# Reverse\n",
    "r = [1, 2, 3]\n",
    "r.reverse()  # in place\n",
    "list(reversed([1,2,3]))  # iterator -> list\n",
    "\n",
    "# Rotate right by k (copy-based)\n",
    "def rotate(seq, k):\n",
    "    if not seq:\n",
    "        return seq\n",
    "    k %= len(seq)\n",
    "    return seq[-k:] + seq[:-k]\n",
    "\n",
    "rotate([1,2,3,4,5], 2)  # -> [4,5,1,2,3]\n",
    "\n",
    "# Unique while preserving order (hashable elements)\n",
    "def unique_preserve_order(seq):\n",
    "    seen = set()\n",
    "    out = []\n",
    "    for x in seq:\n",
    "        if x not in seen:\n",
    "            seen.add(x)\n",
    "            out.append(x)\n",
    "    return out\n",
    "\n",
    "unique_preserve_order([1,2,2,3,1,5,3,5])  # -> [1,2,3,5]\n",
    "\n",
    "# Clamp numbers into [lo, hi]\n",
    "def clamp_list(nums, lo, hi):\n",
    "    return [min(hi, max(lo, n)) for n in nums]\n",
    "\n",
    "clamp_list([-5, 0, 5, 10, 15], 0, 10)  # -> [0,0,5,10,10]"
   ]
  },
  {
   "cell_type": "code",
   "execution_count": null,
   "metadata": {},
   "outputs": [],
   "source": []
  }
 ],
 "metadata": {
  "kernelspec": {
   "display_name": "Python 3 (ipykernel)",
   "language": "python",
   "name": "python3"
  },
  "language_info": {
   "codemirror_mode": {
    "name": "ipython",
    "version": 3
   },
   "file_extension": ".py",
   "mimetype": "text/x-python",
   "name": "python",
   "nbconvert_exporter": "python",
   "pygments_lexer": "ipython3",
   "version": "3.13.7"
  }
 },
 "nbformat": 4,
 "nbformat_minor": 4
}
