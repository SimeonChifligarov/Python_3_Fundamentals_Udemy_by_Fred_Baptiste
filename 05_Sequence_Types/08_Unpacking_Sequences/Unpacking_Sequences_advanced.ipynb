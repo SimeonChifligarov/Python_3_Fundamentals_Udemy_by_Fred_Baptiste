{
 "cells": [
  {
   "cell_type": "markdown",
   "metadata": {},
   "source": [
    "# Unpacking Sequences — Advanced\n",
    "\n",
    "This notebook goes beyond basic tuple/list/string unpacking. You'll learn:\n",
    "- Starred (extended) unpacking and common idioms (`head, *body, tail`, throwaways with `_`)\n",
    "- Nested unpacking (including with `dict.items()`)\n",
    "- Unpacking *any* iterable (generators), and caveats (e.g., sets)\n",
    "- Swapping, parallel updates, and loop unpacking patterns\n",
    "- Argument unpacking for calls (`*iterable`, `**mapping`) and merging with literals\n",
    "- Edge cases, error messages, and performance notes\n"
   ]
  },
  {
   "cell_type": "markdown",
   "metadata": {},
   "source": [
    "## 1) Quick recap: straight unpacking"
   ]
  },
  {
   "cell_type": "code",
   "execution_count": 1,
   "metadata": {},
   "outputs": [
    {
     "data": {
      "text/plain": [
       "(5.0, 5.12)"
      ]
     },
     "execution_count": 1,
     "metadata": {},
     "output_type": "execute_result"
    }
   ],
   "source": [
    "pair = (5.0, 5.12)  # (APR, APY)\n",
    "apr, apy = pair\n",
    "apr, apy"
   ]
  },
  {
   "cell_type": "markdown",
   "metadata": {},
   "source": [
    "Unpacking works with any iterable (lists, tuples, strings, generators, ...),\n",
    "as long as the number of targets matches the number of values (unless using a starred target)."
   ]
  },
  {
   "cell_type": "code",
   "execution_count": 2,
   "metadata": {},
   "outputs": [
    {
     "data": {
      "text/plain": [
       "('a', 'b', 'c')"
      ]
     },
     "execution_count": 2,
     "metadata": {},
     "output_type": "execute_result"
    }
   ],
   "source": [
    "x, y, z = 'abc'\n",
    "(x, y, z)"
   ]
  },
  {
   "cell_type": "markdown",
   "metadata": {},
   "source": [
    "## 2) Starred (extended) unpacking\n",
    "Use `*name` to capture “the rest”. You may use at most one starred target per assignment."
   ]
  },
  {
   "cell_type": "code",
   "execution_count": 3,
   "metadata": {},
   "outputs": [
    {
     "data": {
      "text/plain": [
       "(10, [20, 30, 40, 50])"
      ]
     },
     "execution_count": 3,
     "metadata": {},
     "output_type": "execute_result"
    }
   ],
   "source": [
    "data = [10, 20, 30, 40, 50]\n",
    "head, *body = data\n",
    "head, body  # body becomes a list"
   ]
  },
  {
   "cell_type": "code",
   "execution_count": 4,
   "metadata": {},
   "outputs": [
    {
     "data": {
      "text/plain": [
       "([10, 20, 30, 40], 50)"
      ]
     },
     "execution_count": 4,
     "metadata": {},
     "output_type": "execute_result"
    }
   ],
   "source": [
    "*prefix, tail = data\n",
    "prefix, tail"
   ]
  },
  {
   "cell_type": "code",
   "execution_count": 5,
   "metadata": {},
   "outputs": [
    {
     "data": {
      "text/plain": [
       "(10, [20, 30, 40], 50)"
      ]
     },
     "execution_count": 5,
     "metadata": {},
     "output_type": "execute_result"
    }
   ],
   "source": [
    "front, *middle, back = data\n",
    "front, middle, back"
   ]
  },
  {
   "cell_type": "markdown",
   "metadata": {},
   "source": [
    "**Throwaways**: use `_` or `__` when you intentionally ignore values (convention only)."
   ]
  },
  {
   "cell_type": "code",
   "execution_count": 6,
   "metadata": {},
   "outputs": [
    {
     "data": {
      "text/plain": [
       "6"
      ]
     },
     "execution_count": 6,
     "metadata": {},
     "output_type": "execute_result"
    }
   ],
   "source": [
    "_first, *_ignored, last = range(7)\n",
    "last"
   ]
  },
  {
   "cell_type": "markdown",
   "metadata": {},
   "source": [
    "## 3) Nested unpacking\n",
    "Targets can be nested to mirror the shape of the right-hand side."
   ]
  },
  {
   "cell_type": "code",
   "execution_count": 22,
   "metadata": {},
   "outputs": [
    {
     "data": {
      "text/plain": [
       "(42, 3.0, 4.0, 5.0, 'python', 'unpacking')"
      ]
     },
     "execution_count": 22,
     "metadata": {},
     "output_type": "execute_result"
    }
   ],
   "source": [
    "record = (\n",
    "    42,\n",
    "    (3.0, 4.0, 5.0),\n",
    "    (\"python\", \"unpacking\")\n",
    ")\n",
    "rec_id, (x, y, z), (t1, t2) = record\n",
    "rec_id, x, y, z, t1, t2"
   ]
  },
  {
   "cell_type": "markdown",
   "metadata": {},
   "source": [
    "You can also unpack while iterating dictionaries using `.items()`:"
   ]
  },
  {
   "cell_type": "code",
   "execution_count": 8,
   "metadata": {},
   "outputs": [
    {
     "data": {
      "text/plain": [
       "[('name', 'Ada'), ('born', 1815)]"
      ]
     },
     "execution_count": 8,
     "metadata": {},
     "output_type": "execute_result"
    }
   ],
   "source": [
    "person = {\"name\": \"Ada\", \"born\": 1815}\n",
    "pairs = []\n",
    "for k, v in person.items():  # k, v unpack each (key, value) tuple\n",
    "    pairs.append((k, v))\n",
    "pairs"
   ]
  },
  {
   "cell_type": "markdown",
   "metadata": {},
   "source": [
    "## 4) Unpacking *any* iterable (including generators)\n",
    "Sets are iterable but unordered; their iteration order is not guaranteed.\n",
    "Generators produce values on-the-fly and are single-use."
   ]
  },
  {
   "cell_type": "code",
   "execution_count": 9,
   "metadata": {},
   "outputs": [
    {
     "data": {
      "text/plain": [
       "(0, 1, 4)"
      ]
     },
     "execution_count": 9,
     "metadata": {},
     "output_type": "execute_result"
    }
   ],
   "source": [
    "def squares(n):\n",
    "    for i in range(n):\n",
    "        yield i * i\n",
    "\n",
    "a, b, c = squares(3)\n",
    "a, b, c"
   ]
  },
  {
   "cell_type": "markdown",
   "metadata": {},
   "source": [
    "With starred targets you can collect an arbitrary number of items from an iterable of unknown length:"
   ]
  },
  {
   "cell_type": "code",
   "execution_count": 10,
   "metadata": {},
   "outputs": [
    {
     "data": {
      "text/plain": [
       "([0, 1, 4, 9, 16], 25)"
      ]
     },
     "execution_count": 10,
     "metadata": {},
     "output_type": "execute_result"
    }
   ],
   "source": [
    "*most, last = squares(6)\n",
    "most, last"
   ]
  },
  {
   "cell_type": "markdown",
   "metadata": {},
   "source": [
    "## 5) Classic patterns: swap, head/tail, CSV rows, enumerate\n",
    "**Swap without a temp** works because the RHS tuple is fully evaluated before assignment happens."
   ]
  },
  {
   "cell_type": "code",
   "execution_count": 11,
   "metadata": {},
   "outputs": [
    {
     "data": {
      "text/plain": [
       "(3.14, 100)"
      ]
     },
     "execution_count": 11,
     "metadata": {},
     "output_type": "execute_result"
    }
   ],
   "source": [
    "a, b = 100, 3.14\n",
    "a, b = b, a\n",
    "a, b"
   ]
  },
  {
   "cell_type": "code",
   "execution_count": 12,
   "metadata": {
    "tags": [
     "csv-demo"
    ]
   },
   "outputs": [
    {
     "data": {
      "text/plain": [
       "('ada', 1815, 'analytical engine')"
      ]
     },
     "execution_count": 12,
     "metadata": {},
     "output_type": "execute_result"
    }
   ],
   "source": [
    "# Parsing 'CSV' row\n",
    "row = \"ada,1815,analytical engine\"\n",
    "name, year, topic = row.split(\",\")\n",
    "name, int(year), topic"
   ]
  },
  {
   "cell_type": "code",
   "execution_count": 13,
   "metadata": {
    "tags": [
     "enumerate-demo"
    ]
   },
   "outputs": [
    {
     "data": {
      "text/plain": [
       "[(1, 'a'), (2, 'b'), (3, 'c'), (4, 'd')]"
      ]
     },
     "execution_count": 13,
     "metadata": {},
     "output_type": "execute_result"
    }
   ],
   "source": [
    "# enumerate returns (index, item) pairs, easy to unpack in loops\n",
    "letters = list(\"abcd\")\n",
    "indexed = [(i, ch) for i, ch in enumerate(letters, start=1)]\n",
    "indexed"
   ]
  },
  {
   "cell_type": "markdown",
   "metadata": {},
   "source": [
    "## 6) Argument unpacking for function calls and merging literals\n",
    "- `*seq` unpacks a sequence into positional arguments\n",
    "- `**mapping` unpacks a dict into keyword arguments\n",
    "- Inside literals you can merge with `*` (lists/tuples/sets) and `**` (dicts)"
   ]
  },
  {
   "cell_type": "code",
   "execution_count": 14,
   "metadata": {
    "tags": [
     "call-unpack"
    ]
   },
   "outputs": [
    {
     "data": {
      "text/plain": [
       "{'area': 40, 'unit': 'cm^2'}"
      ]
     },
     "execution_count": 14,
     "metadata": {},
     "output_type": "execute_result"
    }
   ],
   "source": [
    "def area(w, h, *, unit=\"px\"):\n",
    "    return {\"area\": w*h, \"unit\": unit}\n",
    "\n",
    "args = (8, 5)\n",
    "kw = {\"unit\": \"cm^2\"}\n",
    "area(*args, **kw)"
   ]
  },
  {
   "cell_type": "code",
   "execution_count": 15,
   "metadata": {
    "tags": [
     "merge-literals"
    ]
   },
   "outputs": [
    {
     "data": {
      "text/plain": [
       "([1, 2, 3, 4, 5, 6], (1, 2, 3, 4, 5, 6), {'x': 1, 'y': 20, 'z': 3})"
      ]
     },
     "execution_count": 15,
     "metadata": {},
     "output_type": "execute_result"
    }
   ],
   "source": [
    "a = [1, 2]\n",
    "b = (3, 4)\n",
    "c = {5, 6}\n",
    "merged_list = [*a, *b, *c]  # order: left-to-right iteration\n",
    "merged_tuple = (*a, *b, *c)\n",
    "d1 = {\"x\": 1, \"y\": 2}\n",
    "d2 = {\"y\": 20, \"z\": 3}\n",
    "merged_dict = {**d1, **d2}  # later keys override earlier\n",
    "merged_list, merged_tuple, merged_dict"
   ]
  },
  {
   "cell_type": "markdown",
   "metadata": {},
   "source": [
    "## 7) Path / filesystem example (tuple-of-parts)\n",
    "Unpacking plays well with libraries that expose iterable views (like `pathlib.Path.parts`)."
   ]
  },
  {
   "cell_type": "code",
   "execution_count": 16,
   "metadata": {
    "tags": [
     "pathlib"
    ]
   },
   "outputs": [
    {
     "data": {
      "text/plain": [
       "('\\\\', ['usr', 'local', 'bin'], 'python3')"
      ]
     },
     "execution_count": 16,
     "metadata": {},
     "output_type": "execute_result"
    }
   ],
   "source": [
    "from pathlib import Path\n",
    "p = Path(\"/usr/local/bin/python3\")\n",
    "root, *folders, filename = p.parts\n",
    "root, folders, filename"
   ]
  },
  {
   "cell_type": "markdown",
   "metadata": {},
   "source": [
    "## 8) Edge cases & informative errors\n",
    "Unpacking count must match unless a single starred target absorbs the rest. Only one starred target is allowed at a given assignment level."
   ]
  },
  {
   "cell_type": "code",
   "execution_count": 17,
   "metadata": {
    "collapsed": false,
    "jupyter": {
     "outputs_hidden": false
    },
    "tags": [
     "errors"
    ]
   },
   "outputs": [
    {
     "data": {
      "text/plain": [
       "('too many values to unpack (expected 2)',\n",
       " 'not enough values to unpack (expected 3, got 2)')"
      ]
     },
     "execution_count": 17,
     "metadata": {},
     "output_type": "execute_result"
    }
   ],
   "source": [
    "try:\n",
    "    a, b = (1, 2, 3)\n",
    "except ValueError as e:\n",
    "    err1 = str(e)\n",
    "try:\n",
    "    a, b, c = (1, 2)\n",
    "except ValueError as e:\n",
    "    err2 = str(e)\n",
    "err1, err2"
   ]
  },
  {
   "cell_type": "code",
   "execution_count": 18,
   "metadata": {
    "tags": [
     "errors"
    ]
   },
   "outputs": [
    {
     "ename": "SyntaxError",
     "evalue": "multiple starred expressions in assignment (2449514481.py, line 2)",
     "output_type": "error",
     "traceback": [
      "  \u001b[36mCell\u001b[39m\u001b[36m \u001b[39m\u001b[32mIn[18]\u001b[39m\u001b[32m, line 2\u001b[39m\n\u001b[31m    \u001b[39m\u001b[31m*a, *b = [1, 2, 3]\u001b[39m\n    ^\n\u001b[31mSyntaxError\u001b[39m\u001b[31m:\u001b[39m multiple starred expressions in assignment\n"
     ]
    }
   ],
   "source": [
    "try:\n",
    "    *a, *b = [1, 2, 3]\n",
    "except SyntaxError as e:\n",
    "    pass\n",
    "# Note: This is a SyntaxError at parse time; cannot be caught at runtime in a cell.\n",
    "# The rule: only one starred target allowed per assignment level."
   ]
  },
  {
   "cell_type": "markdown",
   "metadata": {},
   "source": [
    "## 9) Parallel updates in place\n",
    "You can update multiple items of a list (or variables) in one statement using unpacking on both sides."
   ]
  },
  {
   "cell_type": "code",
   "execution_count": 19,
   "metadata": {
    "tags": [
     "parallel-update"
    ]
   },
   "outputs": [
    {
     "data": {
      "text/plain": [
       "[40, 20, 30, 10]"
      ]
     },
     "execution_count": 19,
     "metadata": {},
     "output_type": "execute_result"
    }
   ],
   "source": [
    "nums = [10, 20, 30, 40]\n",
    "nums[0], nums[-1] = nums[-1], nums[0]\n",
    "nums"
   ]
  },
  {
   "cell_type": "markdown",
   "metadata": {},
   "source": [
    "## 10) Unpacking with `heapq` / priority queues\n",
    "Common in algorithms: unpack `(priority, payload)` pairs as you pop/push."
   ]
  },
  {
   "cell_type": "code",
   "execution_count": 20,
   "metadata": {
    "tags": [
     "heapq"
    ]
   },
   "outputs": [
    {
     "data": {
      "text/plain": [
       "[(1, 'A'), (2, 'B'), (3, 'C')]"
      ]
     },
     "execution_count": 20,
     "metadata": {},
     "output_type": "execute_result"
    }
   ],
   "source": [
    "import heapq\n",
    "h = []\n",
    "for pr, item in [(3, 'C'), (1, 'A'), (2, 'B')]:\n",
    "    heapq.heappush(h, (pr, item))\n",
    "out = []\n",
    "while h:\n",
    "    priority, payload = heapq.heappop(h)\n",
    "    out.append((priority, payload))\n",
    "out"
   ]
  },
  {
   "cell_type": "markdown",
   "metadata": {},
   "source": [
    "## 11) Performance notes\n",
    "Unpacking itself is very fast. The heavy part is often constructing the RHS (e.g., building lists) or materializing generators. Here's a tiny, noisy micro-benchmark (indicative only)."
   ]
  },
  {
   "cell_type": "code",
   "execution_count": 21,
   "metadata": {
    "tags": [
     "perf"
    ]
   },
   "outputs": [
    {
     "data": {
      "text/plain": [
       "{'unpack_front': 0.16184960000100546, 'slice_front': 0.09978879999835044}"
      ]
     },
     "execution_count": 21,
     "metadata": {},
     "output_type": "execute_result"
    }
   ],
   "source": [
    "from timeit import timeit\n",
    "setup = \"data = list(range(1000))\"\n",
    "t_unpack_front = timeit(\"a, *rest = data\", setup=setup, number=20000)\n",
    "t_slice_front  = timeit(\"a, rest = data[0], data[1:]\", setup=setup, number=20000)\n",
    "{\"unpack_front\": t_unpack_front, \"slice_front\": t_slice_front}"
   ]
  },
  {
   "cell_type": "markdown",
   "metadata": {},
   "source": [
    "## 12) Summary\n",
    "- Use **starred unpacking** to flexibly capture the “rest”.\n",
    "- Mirror nested shapes to get values you need (including from `dict.items()`).\n",
    "- Unpack generators with care (single-use) and avoid relying on set order.\n",
    "- Use unpacking for clean swaps, parallel updates, and function calls (`*`/`**`).\n",
    "- Remember the one-star rule and the helpful error messages when counts don’t match."
   ]
  },
  {
   "cell_type": "code",
   "execution_count": null,
   "metadata": {},
   "outputs": [],
   "source": []
  }
 ],
 "metadata": {
  "kernelspec": {
   "display_name": "Python 3 (ipykernel)",
   "language": "python",
   "name": "python3"
  },
  "language_info": {
   "codemirror_mode": {
    "name": "ipython",
    "version": 3
   },
   "file_extension": ".py",
   "mimetype": "text/x-python",
   "name": "python",
   "nbconvert_exporter": "python",
   "pygments_lexer": "ipython3",
   "version": "3.13.7"
  }
 },
 "nbformat": 4,
 "nbformat_minor": 4
}
