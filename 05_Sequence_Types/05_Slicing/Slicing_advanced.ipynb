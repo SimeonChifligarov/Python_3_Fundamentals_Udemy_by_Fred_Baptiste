{
 "cells": [
  {
   "cell_type": "markdown",
   "metadata": {},
   "source": [
    "### Slicing — Advanced\n",
    "\n",
    "This notebook goes deeper into Python slicing for built-in sequence types (`str`, `list`, `tuple`).\n",
    "\n",
    "**You'll learn:**\n",
    "- Slice anatomy and `slice` objects\n",
    "- Default indices and negative steps (gotchas)\n",
    "- Copying vs views (shallow copy semantics)\n",
    "- Slice *assignment* for lists (insert/replace/delete/stride)\n",
    "- `del` with slices\n",
    "- Using `slice.indices()` to clamp ranges safely\n",
    "- Idioms: reversing, sampling, chunking, windowing\n",
    "- Common pitfalls (step = 0, mixing signs, etc.)"
   ]
  },
  {
   "cell_type": "markdown",
   "metadata": {},
   "source": [
    "## 1) Slice objects vs literal syntax\n",
    "Literal syntax `seq[start:stop:step]` is sugar for `seq[ slice(start, stop, step) ]`. You can build slices first, then reuse them.\n",
    "\n",
    "- Defaults: `start=None`, `stop=None`, `step=None` (interpreted as 1).\n",
    "- Step cannot be 0.\n",
    "- Negative `step` walks right→left; bounds are interpreted accordingly."
   ]
  },
  {
   "cell_type": "code",
   "execution_count": 1,
   "metadata": {},
   "outputs": [
    {
     "data": {
      "text/plain": [
       "('rocks!', 'Python', 'Pto ok!')"
      ]
     },
     "execution_count": 1,
     "metadata": {},
     "output_type": "execute_result"
    }
   ],
   "source": [
    "s = 'Python rocks!'\n",
    "sl = slice(7, None)     # same as s[7:]\n",
    "sl2 = slice(None, 6)    # same as s[:6]\n",
    "sl3 = slice(None, None, 2)  # same as s[::2]\n",
    "s[sl], s[sl2], s[sl3]"
   ]
  },
  {
   "cell_type": "markdown",
   "metadata": {},
   "source": [
    "`slice.indices(len)` normalizes possibly negative/None bounds into concrete `(start, stop, step)` safely clamped to the sequence length. Great when writing utilities."
   ]
  },
  {
   "cell_type": "code",
   "execution_count": 2,
   "metadata": {},
   "outputs": [
    {
     "data": {
      "text/plain": [
       "(0, 6, 3)"
      ]
     },
     "execution_count": 2,
     "metadata": {},
     "output_type": "execute_result"
    }
   ],
   "source": [
    "seq = [0,1,2,3,4,5]\n",
    "sl = slice(-10, 999, 3)\n",
    "sl.indices(len(seq))  # (start, stop, step) normalized"
   ]
  },
  {
   "cell_type": "markdown",
   "metadata": {},
   "source": [
    "## 2) Defaults and negative steps — gotchas\n",
    "- With a **negative** step, omitting `start` means \"start from the last element\".\n",
    "- With a **negative** step, omitting `stop` means \"go past the first element\".\n",
    "- If `start` and `stop` are inconsistent with the sign of `step`, you get an empty slice."
   ]
  },
  {
   "cell_type": "code",
   "execution_count": 3,
   "metadata": {},
   "outputs": [
    {
     "data": {
      "text/plain": [
       "(('f', 'e', 'd', 'c', 'b', 'a'), ('f', 'e', 'd', 'c'), ())"
      ]
     },
     "execution_count": 3,
     "metadata": {},
     "output_type": "execute_result"
    }
   ],
   "source": [
    "t = tuple('abcdef')\n",
    "t[::-1], t[5:1:-1], t[1:5:-1]  # last is empty because 1..5 with -1 doesn't make sense"
   ]
  },
  {
   "cell_type": "markdown",
   "metadata": {},
   "source": [
    "**Zero step raises:**"
   ]
  },
  {
   "cell_type": "code",
   "execution_count": 4,
   "metadata": {},
   "outputs": [],
   "source": [
    "try:\n",
    "    _ = t[::0]\n",
    "except ValueError as e:\n",
    "    str(e)"
   ]
  },
  {
   "cell_type": "markdown",
   "metadata": {},
   "source": [
    "## 3) Slices create **new containers**, but elements are **shared** (shallow copy)\n",
    "Works the same for lists/tuples/strings: a new container is created, referencing the same element objects (if any are mutable, changes inside them are reflected)."
   ]
  },
  {
   "cell_type": "code",
   "execution_count": 5,
   "metadata": {},
   "outputs": [
    {
     "data": {
      "text/plain": [
       "([[0], [1, 99], [2], [3]], [[1, 99], [2]], True)"
      ]
     },
     "execution_count": 5,
     "metadata": {},
     "output_type": "execute_result"
    }
   ],
   "source": [
    "l = [[0], [1], [2], [3]]\n",
    "sub = l[1:3]\n",
    "same_object = (sub[0] is l[1])  # True — shared inner list\n",
    "sub[0].append(99)\n",
    "l, sub, same_object"
   ]
  },
  {
   "cell_type": "markdown",
   "metadata": {},
   "source": [
    "**Full-slice is a common shallow copy idiom:** `l_copy = l[:]` (same as `list(l)`)."
   ]
  },
  {
   "cell_type": "code",
   "execution_count": 6,
   "metadata": {},
   "outputs": [
    {
     "data": {
      "text/plain": [
       "(False, True)"
      ]
     },
     "execution_count": 6,
     "metadata": {},
     "output_type": "execute_result"
    }
   ],
   "source": [
    "l = [1,2,3]\n",
    "l_copy = l[:]\n",
    "l is l_copy, l == l_copy"
   ]
  },
  {
   "cell_type": "markdown",
   "metadata": {},
   "source": [
    "## 4) Slice **assignment** — lists only\n",
    "Slice assignment lets you replace, insert, delete, or stride-replace multiple elements in one shot. Strings/tuples are immutable, so only lists support this."
   ]
  },
  {
   "cell_type": "code",
   "execution_count": 7,
   "metadata": {},
   "outputs": [
    {
     "data": {
      "text/plain": [
       "[10, 1, 11, 3, 12, 5, 13]"
      ]
     },
     "execution_count": 7,
     "metadata": {},
     "output_type": "execute_result"
    }
   ],
   "source": [
    "# Replace a contiguous region (lengths may differ)\n",
    "l = [0,1,2,3,4,5]\n",
    "l[2:5] = [20, 30]          # shrink\n",
    "l\n",
    "\n",
    "# Insert via empty slice\n",
    "l[2:2] = ['A','B']         # insertion at index 2\n",
    "l\n",
    "\n",
    "# Delete via empty RHS\n",
    "l[1:4] = []\n",
    "l\n",
    "\n",
    "# Replace with step — lengths must match\n",
    "l = [0,1,2,3,4,5,6]\n",
    "l[::2] = [10,11,12,13]     # positions 0,2,4,6\n",
    "l"
   ]
  },
  {
   "cell_type": "markdown",
   "metadata": {},
   "source": [
    "**Mismatch raises `ValueError` when step is used:** RHS length must equal the number of positions addressed by the LHS slice when a non-`None` step is present."
   ]
  },
  {
   "cell_type": "code",
   "execution_count": 8,
   "metadata": {},
   "outputs": [],
   "source": [
    "try:\n",
    "    l = [0,1,2,3,4,5]\n",
    "    l[::2] = [99, 88]  # 3 targets vs 2 values\n",
    "except ValueError as e:\n",
    "    str(e)"
   ]
  },
  {
   "cell_type": "markdown",
   "metadata": {},
   "source": [
    "### `del` with slices\n",
    "`del seq[start:stop:step]` removes multiple items at once (lists only)."
   ]
  },
  {
   "cell_type": "code",
   "execution_count": 9,
   "metadata": {},
   "outputs": [
    {
     "data": {
      "text/plain": [
       "[1, 2, 4, 5, 7, 8]"
      ]
     },
     "execution_count": 9,
     "metadata": {},
     "output_type": "execute_result"
    }
   ],
   "source": [
    "l = list(range(10))\n",
    "del l[::3]     # delete indices 0,3,6,9\n",
    "l  # [1,2,4,5,7,8]"
   ]
  },
  {
   "cell_type": "markdown",
   "metadata": {},
   "source": [
    "## 5) Useful idioms\n",
    "- **Reverse:** `seq[::-1]`\n",
    "- **Every k-th item (sampling):** `seq[::k]`\n",
    "- **Tail (last n):** `seq[-n:]`\n",
    "- **Head (first n):** `seq[:n]`\n",
    "- **Drop head/tail:** `seq[n:]`, `seq[:-n]`\n",
    "- **Rotate right by k:** `seq[-k:] + seq[:-k]` (works for strings/tuples/lists)\n",
    "- **Chunking (non-overlapping):** use slicing in a loop or comprehension\n",
    "- **Sliding windows (overlapping):** combine start/stop with window size"
   ]
  },
  {
   "cell_type": "code",
   "execution_count": 10,
   "metadata": {},
   "outputs": [
    {
     "data": {
      "text/plain": [
       "('jihgfedcba', 'adgj', 'ghij', 'ijabcdefgh')"
      ]
     },
     "execution_count": 10,
     "metadata": {},
     "output_type": "execute_result"
    }
   ],
   "source": [
    "s = 'abcdefghij'\n",
    "reverse = s[::-1]\n",
    "sample3 = s[::3]\n",
    "tail4 = s[-4:]\n",
    "rotate2 = s[-2:] + s[:-2]\n",
    "reverse, sample3, tail4, rotate2"
   ]
  },
  {
   "cell_type": "markdown",
   "metadata": {},
   "source": [
    "**Chunking** (size `k`, final chunk may be shorter):"
   ]
  },
  {
   "cell_type": "code",
   "execution_count": 11,
   "metadata": {},
   "outputs": [
    {
     "data": {
      "text/plain": [
       "(['abc', 'def', 'ghi', 'j'], [[0, 1, 2, 3], [4, 5, 6, 7], [8, 9]])"
      ]
     },
     "execution_count": 11,
     "metadata": {},
     "output_type": "execute_result"
    }
   ],
   "source": [
    "def chunks(seq, k):\n",
    "    return [seq[i:i+k] for i in range(0, len(seq), k)]\n",
    "\n",
    "chunks('abcdefghij', 3), chunks(list(range(10)), 4)"
   ]
  },
  {
   "cell_type": "markdown",
   "metadata": {},
   "source": [
    "**Sliding windows** (size `k`, step `1`):"
   ]
  },
  {
   "cell_type": "code",
   "execution_count": 12,
   "metadata": {},
   "outputs": [
    {
     "data": {
      "text/plain": [
       "(['abcd', 'bcde', 'cdef'], [[1, 2], [2, 3], [3, 4], [4, 5]])"
      ]
     },
     "execution_count": 12,
     "metadata": {},
     "output_type": "execute_result"
    }
   ],
   "source": [
    "def sliding_windows(seq, k):\n",
    "    if k <= 0:\n",
    "        raise ValueError('k must be positive')\n",
    "    return [seq[i:i+k] for i in range(0, len(seq)-k+1)]\n",
    "\n",
    "sliding_windows('abcdef', 4), sliding_windows([1,2,3,4,5], 2)"
   ]
  },
  {
   "cell_type": "markdown",
   "metadata": {},
   "source": [
    "## 6) Palindromes, normalization, and slicing\n",
    "A quick palindrome check is `s == s[::-1]`. For robust checks on user input, normalize and casefold first (especially with Unicode)."
   ]
  },
  {
   "cell_type": "code",
   "execution_count": 13,
   "metadata": {},
   "outputs": [
    {
     "data": {
      "text/plain": [
       "(True, True, False)"
      ]
     },
     "execution_count": 13,
     "metadata": {},
     "output_type": "execute_result"
    }
   ],
   "source": [
    "import unicodedata as ud\n",
    "def clean_text(x):\n",
    "    x = ud.normalize('NFC', x).casefold()\n",
    "    return ''.join(ch for ch in x if ch.isalnum())\n",
    "\n",
    "def is_palindrome(text):\n",
    "    c = clean_text(text)\n",
    "    return c == c[::-1]\n",
    "\n",
    "is_palindrome('Racecar'), is_palindrome('A man, a plan, a canal: Panama!'), is_palindrome('hello')"
   ]
  },
  {
   "cell_type": "markdown",
   "metadata": {},
   "source": [
    "## 7) Performance notes\n",
    "- Slicing runs in time proportional to the **result length** (needs to copy references/characters).\n",
    "- Full-slice copies (`seq[:]`) are O(n); avoid in hot loops unless necessary.\n",
    "- For immense strings, consider `io.StringIO`/`join` to build, rather than repeated concatenation. For lists, slice-assignment can be efficient for batch edits."
   ]
  },
  {
   "cell_type": "markdown",
   "metadata": {},
   "source": [
    "---\n",
    "### Quick reference\n",
    "- `seq[a:b]` → `a`..`b-1`\n",
    "- `seq[a:b:c]` → step `c` (no `c=0`)\n",
    "- Missing `a`/`b` default to start/end; with negative step they flip to end/start respectively\n",
    "- New container (shallow copy); elements shared\n",
    "- Lists: slice assignment & `del` slices mutate in bulk\n",
    "- Use `slice.indices(len)` for safe bounds"
   ]
  },
  {
   "cell_type": "code",
   "execution_count": null,
   "metadata": {},
   "outputs": [],
   "source": []
  }
 ],
 "metadata": {
  "kernelspec": {
   "display_name": "Python 3 (ipykernel)",
   "language": "python",
   "name": "python3"
  },
  "language_info": {
   "codemirror_mode": {
    "name": "ipython",
    "version": 3
   },
   "file_extension": ".py",
   "mimetype": "text/x-python",
   "name": "python",
   "nbconvert_exporter": "python",
   "pygments_lexer": "ipython3",
   "version": "3.13.7"
  }
 },
 "nbformat": 4,
 "nbformat_minor": 4
}
