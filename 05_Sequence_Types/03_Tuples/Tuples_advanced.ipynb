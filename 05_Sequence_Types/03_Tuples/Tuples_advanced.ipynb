{
 "cells": [
  {
   "cell_type": "markdown",
   "metadata": {},
   "source": [
    "### Advanced Tuples\n",
    "\n",
    "This notebook goes beyond the basics of Python tuples. We'll cover:\n",
    "- Tuple creation, packing/unpacking, and the *single-item* gotcha\n",
    "- Indexing, slicing, and sequence operations\n",
    "- Immutability nuances with nested mutables\n",
    "- Tuple methods (`count`, `index`) and membership\n",
    "- Lexicographic comparisons and sorting of tuples\n",
    "- Using tuples as dictionary keys / set elements (hashability)\n",
    "- Multiple assignment, swapping, star-unpacking\n",
    "- Returning multiple values from functions\n",
    "- Memory/performance notes: tuples vs lists\n",
    "- Generators vs tuple comprehensions, `tuple()` materialization\n",
    "- Zipping/unzipping data with tuples\n"
   ]
  },
  {
   "cell_type": "markdown",
   "metadata": {},
   "source": [
    "## 1) Creation, Packing, and the Single-Item Gotcha"
   ]
  },
  {
   "cell_type": "code",
   "execution_count": 1,
   "metadata": {},
   "outputs": [
    {
     "data": {
      "text/plain": [
       "((1, 2, 3), (1, 2, 3), tuple, (), tuple)"
      ]
     },
     "execution_count": 1,
     "metadata": {},
     "output_type": "execute_result"
    }
   ],
   "source": [
    "t1 = (1, 2, 3)\n",
    "t2 = 1, 2, 3           # packing without parentheses\n",
    "empty = ()\n",
    "t1, t2, type(t2), empty, type(empty)"
   ]
  },
  {
   "cell_type": "markdown",
   "metadata": {},
   "source": [
    "**Single-item tuples require a trailing comma.** Without the comma it's just the item in parentheses."
   ]
  },
  {
   "cell_type": "code",
   "execution_count": 2,
   "metadata": {},
   "outputs": [
    {
     "data": {
      "text/plain": [
       "(int, tuple, tuple, (42,))"
      ]
     },
     "execution_count": 2,
     "metadata": {},
     "output_type": "execute_result"
    }
   ],
   "source": [
    "not_a_tuple = (42)\n",
    "single = (42,)\n",
    "also_single = 42,\n",
    "type(not_a_tuple), type(single), type(also_single), single"
   ]
  },
  {
   "cell_type": "markdown",
   "metadata": {},
   "source": [
    "## 2) Indexing, Slicing, and Sequence Operations\n",
    "Tuples support all sequence operations that do not mutate the container."
   ]
  },
  {
   "cell_type": "code",
   "execution_count": 3,
   "metadata": {},
   "outputs": [
    {
     "data": {
      "text/plain": [
       "(5, 10, 50, (20, 30, 40), (10, 30, 50), (50, 40, 30, 20, 10))"
      ]
     },
     "execution_count": 3,
     "metadata": {},
     "output_type": "execute_result"
    }
   ],
   "source": [
    "t = (10, 20, 30, 40, 50)\n",
    "first = t[0]\n",
    "last = t[-1]\n",
    "mid_slice = t[1:4]\n",
    "step_slice = t[::2]\n",
    "rev = t[::-1]\n",
    "len(t), first, last, mid_slice, step_slice, rev"
   ]
  },
  {
   "cell_type": "markdown",
   "metadata": {},
   "source": [
    "Concatenation and repetition create new tuples (they do not mutate):"
   ]
  },
  {
   "cell_type": "code",
   "execution_count": 4,
   "metadata": {},
   "outputs": [
    {
     "data": {
      "text/plain": [
       "((1, 2), (3, 4), (1, 2, 3, 4), (0, 1, 0, 1, 0, 1))"
      ]
     },
     "execution_count": 4,
     "metadata": {},
     "output_type": "execute_result"
    }
   ],
   "source": [
    "a = (1, 2)\n",
    "b = (3, 4)\n",
    "c = a + b\n",
    "rep = (0, 1) * 3\n",
    "a, b, c, rep"
   ]
  },
  {
   "cell_type": "markdown",
   "metadata": {},
   "source": [
    "## 3) Immutability Nuance with Nested Mutables\n",
    "Tuples are immutable as containers, but can hold mutable elements that themselves can change."
   ]
  },
  {
   "cell_type": "code",
   "execution_count": 5,
   "metadata": {},
   "outputs": [
    {
     "data": {
      "text/plain": [
       "(\"'tuple' object does not support item assignment\",\n",
       " ([1, 2, 3], {'x': 10, 'y': 20}))"
      ]
     },
     "execution_count": 5,
     "metadata": {},
     "output_type": "execute_result"
    }
   ],
   "source": [
    "u = ([1, 2], {\"x\": 10})\n",
    "try:\n",
    "    u[0] = [9, 9]\n",
    "except TypeError as e:\n",
    "    err = str(e)\n",
    "u[0].append(3)\n",
    "u[1][\"y\"] = 20\n",
    "err, u"
   ]
  },
  {
   "cell_type": "markdown",
   "metadata": {},
   "source": [
    "## 4) Tuple Methods and Membership\n",
    "- `t.count(x)` — occurrences of `x`\n",
    "- `t.index(x[, start[, stop]])` — first index of `x` (raises `ValueError` if not found)"
   ]
  },
  {
   "cell_type": "code",
   "execution_count": 6,
   "metadata": {},
   "outputs": [
    {
     "data": {
      "text/plain": [
       "(3, 3, False)"
      ]
     },
     "execution_count": 6,
     "metadata": {},
     "output_type": "execute_result"
    }
   ],
   "source": [
    "t = (1, 2, 2, 3, 2, 4)\n",
    "count_2 = t.count(2)\n",
    "idx_3 = t.index(3)\n",
    "exists_5 = 5 in t\n",
    "count_2, idx_3, exists_5"
   ]
  },
  {
   "cell_type": "markdown",
   "metadata": {},
   "source": [
    "## 5) Lexicographic Comparison and Sorting of Tuples\n",
    "Tuples compare lexicographically (element-wise). Useful for sorting records by multiple fields effortlessly."
   ]
  },
  {
   "cell_type": "code",
   "execution_count": 7,
   "metadata": {},
   "outputs": [
    {
     "data": {
      "text/plain": [
       "(True, True, True)"
      ]
     },
     "execution_count": 7,
     "metadata": {},
     "output_type": "execute_result"
    }
   ],
   "source": [
    "(1, 2, 3) < (1, 2, 4), (1, 10) < (2, 0), (\"Alice\", 2) < (\"Bob\", 1)"
   ]
  },
  {
   "cell_type": "code",
   "execution_count": 8,
   "metadata": {},
   "outputs": [
    {
     "data": {
      "text/plain": [
       "[('Cara', 25, 95), ('Bob', 25, 88), ('Alice', 30, 88)]"
      ]
     },
     "execution_count": 8,
     "metadata": {},
     "output_type": "execute_result"
    }
   ],
   "source": [
    "records = [\n",
    "    (\"Bob\",   25, 88),\n",
    "    (\"Alice\", 30, 88),\n",
    "    (\"Cara\",  25, 95),\n",
    "]\n",
    "# Sort by score desc, then age asc, then name asc\n",
    "sorted_records = sorted(records, key=lambda r: (-r[2], r[1], r[0]))\n",
    "sorted_records"
   ]
  },
  {
   "cell_type": "markdown",
   "metadata": {},
   "source": [
    "## 6) Tuples as Dict Keys / Set Elements (Hashability)\n",
    "Tuples are hashable if **all** their elements are hashable. This allows them to be used as dict keys or set elements."
   ]
  },
  {
   "cell_type": "code",
   "execution_count": 9,
   "metadata": {},
   "outputs": [
    {
     "data": {
      "text/plain": [
       "('here', {(0, 0), (10, 20)})"
      ]
     },
     "execution_count": 9,
     "metadata": {},
     "output_type": "execute_result"
    }
   ],
   "source": [
    "point = (10, 20)\n",
    "d = {point: \"here\"}\n",
    "s = {point, (0, 0)}\n",
    "d[(10, 20)], s"
   ]
  },
  {
   "cell_type": "markdown",
   "metadata": {},
   "source": [
    "If a tuple contains an unhashable element (like a list or dict), the tuple itself becomes unhashable."
   ]
  },
  {
   "cell_type": "code",
   "execution_count": 10,
   "metadata": {},
   "outputs": [],
   "source": [
    "try:\n",
    "    bad_key = ([1, 2], 3)\n",
    "    d2 = {bad_key: 123}\n",
    "except TypeError as e:\n",
    "    str(e)"
   ]
  },
  {
   "cell_type": "markdown",
   "metadata": {},
   "source": [
    "## 7) Multiple Assignment, Swapping, and Star-Unpacking\n",
    "Tuple packing/unpacking powers elegant multiple assignment patterns."
   ]
  },
  {
   "cell_type": "code",
   "execution_count": 11,
   "metadata": {},
   "outputs": [
    {
     "data": {
      "text/plain": [
       "(20, 10)"
      ]
     },
     "execution_count": 11,
     "metadata": {},
     "output_type": "execute_result"
    }
   ],
   "source": [
    "x, y = 10, 20\n",
    "x, y = y, x  # swap without temp\n",
    "x, y"
   ]
  },
  {
   "cell_type": "code",
   "execution_count": 12,
   "metadata": {},
   "outputs": [
    {
     "data": {
      "text/plain": [
       "(1, 2, [3, 4, 5], 10, [20, 30], 40)"
      ]
     },
     "execution_count": 12,
     "metadata": {},
     "output_type": "execute_result"
    }
   ],
   "source": [
    "a, b, *rest = (1, 2, 3, 4, 5)\n",
    "head, *mid, tail = (10, 20, 30, 40)\n",
    "a, b, rest, head, mid, tail"
   ]
  },
  {
   "cell_type": "markdown",
   "metadata": {},
   "source": [
    "Star-unpacking can help destructure sequences of variable length while keeping code readable."
   ]
  },
  {
   "cell_type": "markdown",
   "metadata": {},
   "source": [
    "## 8) Functions Returning Multiple Values\n",
    "Functions often \"return multiple values\" by returning a tuple (implicit packing). Call sites typically unpack."
   ]
  },
  {
   "cell_type": "code",
   "execution_count": 13,
   "metadata": {},
   "outputs": [
    {
     "data": {
      "text/plain": [
       "(10, 40, 25.0)"
      ]
     },
     "execution_count": 13,
     "metadata": {},
     "output_type": "execute_result"
    }
   ],
   "source": [
    "def min_max_avg(nums):\n",
    "    nmin = min(nums)\n",
    "    nmax = max(nums)\n",
    "    avg = sum(nums)/len(nums)\n",
    "    return nmin, nmax, avg  # tuple packing\n",
    "\n",
    "lo, hi, mean = min_max_avg([10, 20, 30, 40])\n",
    "lo, hi, round(mean, 2)"
   ]
  },
  {
   "cell_type": "markdown",
   "metadata": {},
   "source": [
    "## 9) Memory and (Light) Performance Notes\n",
    "- Tuples are generally smaller than lists with the same contents, because they don't store mutation machinery.\n",
    "- They're a good choice for fixed-size records.\n",
    "Below is a rough size comparison (just the container overhead; inner elements are shared references)."
   ]
  },
  {
   "cell_type": "code",
   "execution_count": 14,
   "metadata": {},
   "outputs": [
    {
     "data": {
      "text/plain": [
       "(64, 88, 24)"
      ]
     },
     "execution_count": 14,
     "metadata": {},
     "output_type": "execute_result"
    }
   ],
   "source": [
    "t = (1, 2, 3, 4, 5)\n",
    "l = [1, 2, 3, 4, 5]\n",
    "t_size = t.__sizeof__()\n",
    "l_size = l.__sizeof__()\n",
    "t_size, l_size, l_size - t_size"
   ]
  },
  {
   "cell_type": "markdown",
   "metadata": {},
   "source": [
    "## 10) Generators vs Tuple Comprehensions\n",
    "There is no *tuple comprehension* syntax. `(expr for x in it)` creates a **generator**. Use `tuple(gen)` to materialize."
   ]
  },
  {
   "cell_type": "code",
   "execution_count": 15,
   "metadata": {},
   "outputs": [
    {
     "data": {
      "text/plain": [
       "('generator', (0, 1, 4, 9, 16))"
      ]
     },
     "execution_count": 15,
     "metadata": {},
     "output_type": "execute_result"
    }
   ],
   "source": [
    "gen = (i*i for i in range(5))\n",
    "type(gen).__name__, tuple(gen)"
   ]
  },
  {
   "cell_type": "markdown",
   "metadata": {},
   "source": [
    "## 11) Zipping and Unzipping with Tuples\n",
    "`zip` emits tuples, great for pairing columns or transposing row/column data."
   ]
  },
  {
   "cell_type": "code",
   "execution_count": 16,
   "metadata": {},
   "outputs": [
    {
     "data": {
      "text/plain": [
       "(('alice', 88), ('bob', 91), ('cara', 95))"
      ]
     },
     "execution_count": 16,
     "metadata": {},
     "output_type": "execute_result"
    }
   ],
   "source": [
    "names = (\"alice\", \"bob\", \"cara\")\n",
    "scores = (88, 91, 95)\n",
    "paired = tuple(zip(names, scores))\n",
    "paired"
   ]
  },
  {
   "cell_type": "code",
   "execution_count": 17,
   "metadata": {},
   "outputs": [
    {
     "data": {
      "text/plain": [
       "(('alice', 'bob', 'cara'), (88, 91, 95))"
      ]
     },
     "execution_count": 17,
     "metadata": {},
     "output_type": "execute_result"
    }
   ],
   "source": [
    "unzipped_names, unzipped_scores = zip(*paired)\n",
    "unzipped_names, unzipped_scores"
   ]
  },
  {
   "cell_type": "markdown",
   "metadata": {},
   "source": [
    "## 12) Practical Pattern: Using Tuples as Lightweight Records\n",
    "Tuples can act as small records when field order is agreed upon. For larger projects consider `namedtuple` or `dataclasses` for readability, but simple tuples are often perfectly fine."
   ]
  },
  {
   "cell_type": "code",
   "execution_count": 18,
   "metadata": {},
   "outputs": [
    {
     "data": {
      "text/plain": [
       "(59.97, 149.0)"
      ]
     },
     "execution_count": 18,
     "metadata": {},
     "output_type": "execute_result"
    }
   ],
   "source": [
    "Order = tuple  # (id, sku, qty, price)\n",
    "o1 = (1001, \"SKU-ABC\", 3, 19.99)\n",
    "o2 = (1002, \"SKU-XYZ\", 1, 149.00)\n",
    "\n",
    "def order_total(order):\n",
    "    _, _, qty, price = order\n",
    "    return qty * price\n",
    "\n",
    "order_total(o1), order_total(o2)"
   ]
  },
  {
   "cell_type": "code",
   "execution_count": null,
   "metadata": {},
   "outputs": [],
   "source": []
  }
 ],
 "metadata": {
  "kernelspec": {
   "display_name": "Python 3 (ipykernel)",
   "language": "python",
   "name": "python3"
  },
  "language_info": {
   "codemirror_mode": {
    "name": "ipython",
    "version": 3
   },
   "file_extension": ".py",
   "mimetype": "text/x-python",
   "name": "python",
   "nbconvert_exporter": "python",
   "pygments_lexer": "ipython3",
   "version": "3.13.7"
  }
 },
 "nbformat": 4,
 "nbformat_minor": 4
}
