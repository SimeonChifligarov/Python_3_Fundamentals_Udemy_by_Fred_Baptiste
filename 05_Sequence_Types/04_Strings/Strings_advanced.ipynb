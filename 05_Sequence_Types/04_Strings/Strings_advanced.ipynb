{
 "cells": [
  {
   "cell_type": "markdown",
   "metadata": {},
   "source": [
    "### Advanced Strings\n",
    "\n",
    "This notebook goes beyond the basics of Python strings. We'll cover:\n",
    "- Creation: quotes, escaping, raw strings, and multi-line strings\n",
    "- Indexing, slicing, and immutability\n",
    "- Common operations: membership, `len`, concatenation, repetition\n",
    "- String methods: search, replace, split/join, strip, change case\n",
    "- Unicode & normalization, casefolding\n",
    "- Encoding/decoding between `str` and `bytes`\n",
    "- Efficient building with `str.join`\n",
    "- Formatting: f-strings and format specifiers\n",
    "- Translation tables and character filtering\n",
    "- Practical patterns and gotchas"
   ]
  },
  {
   "cell_type": "markdown",
   "metadata": {},
   "source": [
    "## 1) Creation: quotes, escaping, raw strings, multi-line"
   ]
  },
  {
   "cell_type": "code",
   "execution_count": 1,
   "metadata": {},
   "outputs": [
    {
     "data": {
      "text/plain": [
       "(\"He said: 'hi'\",\n",
       " \"He said: 'hi'\",\n",
       " ['Multi-line', 'string with \"quotes\" and \\'quotes\\''],\n",
       " 'C:\\\\\\\\Users\\\\\\\\me\\\\\\\\Documents\\\\\\\\file.txt')"
      ]
     },
     "execution_count": 1,
     "metadata": {},
     "output_type": "execute_result"
    }
   ],
   "source": [
    "single = 'He said: \\'hi\\''\n",
    "double = \"He said: 'hi'\"\n",
    "triple = \"\"\"Multi-line\\nstring with \"quotes\" and 'quotes'\"\"\"\n",
    "raw_path = r\"C:\\\\Users\\\\me\\\\Documents\\\\file.txt\"  # raw string: backslashes not treated as escapes\n",
    "single, double, triple.splitlines(), raw_path"
   ]
  },
  {
   "cell_type": "markdown",
   "metadata": {},
   "source": [
    "**Caveat (raw strings):** A raw string cannot end with a single backslash (e.g. `r\"\\\"` is invalid). Use `r\"\\\\\"` or concatenate."
   ]
  },
  {
   "cell_type": "markdown",
   "metadata": {},
   "source": [
    "## 2) Indexing, slicing, and immutability"
   ]
  },
  {
   "cell_type": "code",
   "execution_count": 2,
   "metadata": {},
   "outputs": [
    {
     "data": {
      "text/plain": [
       "(13, 'P', '!', 'rock', 'Pto ok!', '!skcor nohtyP')"
      ]
     },
     "execution_count": 2,
     "metadata": {},
     "output_type": "execute_result"
    }
   ],
   "source": [
    "s = \"Python rocks!\"\n",
    "first = s[0]\n",
    "last = s[-1]\n",
    "mid = s[7:11]   # 'rock'\n",
    "step = s[::2]\n",
    "rev = s[::-1]\n",
    "len(s), first, last, mid, step, rev"
   ]
  },
  {
   "cell_type": "code",
   "execution_count": 3,
   "metadata": {},
   "outputs": [
    {
     "data": {
      "text/plain": [
       "\"'str' object does not support item assignment\""
      ]
     },
     "execution_count": 3,
     "metadata": {},
     "output_type": "execute_result"
    }
   ],
   "source": [
    "try:\n",
    "    s[0] = 'J'\n",
    "except TypeError as e:\n",
    "    immutability_error = str(e)\n",
    "immutability_error  # strings are immutable"
   ]
  },
  {
   "cell_type": "markdown",
   "metadata": {},
   "source": [
    "To \"modify\" a string, build a **new** one:"
   ]
  },
  {
   "cell_type": "code",
   "execution_count": 4,
   "metadata": {},
   "outputs": [
    {
     "data": {
      "text/plain": [
       "('Python rocks!', 'Jython rocks!')"
      ]
     },
     "execution_count": 4,
     "metadata": {},
     "output_type": "execute_result"
    }
   ],
   "source": [
    "s2 = 'J' + s[1:]\n",
    "s, s2"
   ]
  },
  {
   "cell_type": "markdown",
   "metadata": {},
   "source": [
    "## 3) Membership, concatenation, repetition, and comparisons"
   ]
  },
  {
   "cell_type": "code",
   "execution_count": 5,
   "metadata": {},
   "outputs": [
    {
     "data": {
      "text/plain": [
       "(True, False, True, 'Python rocks!!', '----------', True)"
      ]
     },
     "execution_count": 5,
     "metadata": {},
     "output_type": "execute_result"
    }
   ],
   "source": [
    "'rock' in s, 'java' in s, 'Py' in s, s + '!' , '-' * 10, 'Python' < 'python'  # lexicographic / ordinal comparison"
   ]
  },
  {
   "cell_type": "markdown",
   "metadata": {},
   "source": [
    "**Note:** `'A' < 'a'` because uppercase letters have smaller Unicode code points than lowercase (ASCII subset). Use `.casefold()` or `.lower()` for case-insensitive comparisons."
   ]
  },
  {
   "cell_type": "markdown",
   "metadata": {},
   "source": [
    "## 4) Core search & replace methods (safe, no exceptions unless noted)"
   ]
  },
  {
   "cell_type": "code",
   "execution_count": 6,
   "metadata": {},
   "outputs": [
    {
     "data": {
      "text/plain": [
       "(0, 8, 2, 5, 'ABRAcadabra', 'abracadabra')"
      ]
     },
     "execution_count": 6,
     "metadata": {},
     "output_type": "execute_result"
    }
   ],
   "source": [
    "t = \"abracadabra\"\n",
    "first_a = t.find('a')          # -1 if not found\n",
    "last_b = t.rfind('b')          # -1 if not found\n",
    "idx_ra = t.index('ra')         # raises ValueError if not found\n",
    "count_a = t.count('a')\n",
    "replaced = t.replace('abra', 'ABRA', 1)  # limit with count\n",
    "first_a, last_b, idx_ra, count_a, replaced, t  # original unchanged"
   ]
  },
  {
   "cell_type": "markdown",
   "metadata": {},
   "source": [
    "`startswith`/`endswith` accept tuples for multiple options; you can also set slice-like `start`, `end` bounds."
   ]
  },
  {
   "cell_type": "code",
   "execution_count": 7,
   "metadata": {},
   "outputs": [
    {
     "data": {
      "text/plain": [
       "(True, True, True)"
      ]
     },
     "execution_count": 7,
     "metadata": {},
     "output_type": "execute_result"
    }
   ],
   "source": [
    "\"hello.py\".endswith((\".py\", \".pyw\")), \"data.csv\".startswith(\"dat\"), \"abc\".startswith(\"b\", 1)  # True"
   ]
  },
  {
   "cell_type": "markdown",
   "metadata": {},
   "source": [
    "## 5) Strip/trim, split/join, partition/splitlines, and case changing"
   ]
  },
  {
   "cell_type": "code",
   "execution_count": 8,
   "metadata": {},
   "outputs": [
    {
     "data": {
      "text/plain": [
       "('spam,eggs,ham',\n",
       " ['spam', 'eggs', 'ham'],\n",
       " ['spam', 'eggs,ham'],\n",
       " 'spam;eggs;ham',\n",
       " ('key', '=', 'value=extra'),\n",
       " ('key=value', '=', 'extra'),\n",
       " ['a', 'b', 'c'],\n",
       " ('Title Case', 'mixed', 'MIXED', 'strasse'))"
      ]
     },
     "execution_count": 8,
     "metadata": {},
     "output_type": "execute_result"
    }
   ],
   "source": [
    "u = \"  \\t  spam,eggs,ham  \\n\"\n",
    "trim = u.strip()            # lstrip / rstrip for one side\n",
    "split_csv = trim.split(',') # split on comma\n",
    "split_max = trim.split(',', maxsplit=1)\n",
    "joined = \";\".join(split_csv)\n",
    "parts = \"key=value=extra\".partition('=')    # ('key', '=', 'value=extra')\n",
    "rparts = \"key=value=extra\".rpartition('=')  # ('key=value', '=', 'extra')\n",
    "lines = \"a\\nb\\r\\nc\".splitlines()          # handles different line endings\n",
    "caps = \"tiTle cAsE\".title(), \"MiXeD\".lower(), \"MiXeD\".upper(), \"straße\".casefold()\n",
    "trim, split_csv, split_max, joined, parts, rparts, lines, caps"
   ]
  },
  {
   "cell_type": "markdown",
   "metadata": {},
   "source": [
    "**When to use `partition`?** For splitting **once** around a delimiter while keeping the delimiter. Safer than `split` when the delimiter may not exist (always returns a 3-tuple)."
   ]
  },
  {
   "cell_type": "markdown",
   "metadata": {},
   "source": [
    "## 6) Unicode details: normalization & case-insensitive matching\n",
    "Different Unicode representations can look identical but compare unequal unless normalized. Use `unicodedata.normalize` and `casefold` for robust comparisons."
   ]
  },
  {
   "cell_type": "code",
   "execution_count": 9,
   "metadata": {},
   "outputs": [
    {
     "data": {
      "text/plain": [
       "(False, True, True)"
      ]
     },
     "execution_count": 9,
     "metadata": {},
     "output_type": "execute_result"
    }
   ],
   "source": [
    "import unicodedata as ud\n",
    "# 'é' as a single code point vs 'e' + combining accent\n",
    "s1 = \"é\"\n",
    "s2 = \"e\\u0301\"\n",
    "raw_equal = (s1 == s2)\n",
    "nfc_equal = (ud.normalize('NFC', s1) == ud.normalize('NFC', s2))\n",
    "casefold_equal = (\"Straße\".casefold() == \"strasse\".casefold())\n",
    "raw_equal, nfc_equal, casefold_equal"
   ]
  },
  {
   "cell_type": "markdown",
   "metadata": {},
   "source": [
    "**Tip:** For user-facing string equality or deduplication, normalize (e.g., 'NFC') and `.casefold()` before comparing."
   ]
  },
  {
   "cell_type": "markdown",
   "metadata": {},
   "source": [
    "## 7) Encoding/decoding between `str` and `bytes`\n",
    "`str` is Unicode text. `bytes` is a sequence of raw bytes. Use `.encode()` and `.decode()` with an explicit encoding (UTF-8 is standard). Handle errors gracefully when needed."
   ]
  },
  {
   "cell_type": "code",
   "execution_count": 10,
   "metadata": {},
   "outputs": [
    {
     "data": {
      "text/plain": [
       "(11, 14, b'\\xcf\\x80 \\xe2\\x89\\x88 3.14159', 'π ≈ 3.14159')"
      ]
     },
     "execution_count": 10,
     "metadata": {},
     "output_type": "execute_result"
    }
   ],
   "source": [
    "text = \"π ≈ 3.14159\"\n",
    "b = text.encode('utf-8')           # to bytes\n",
    "back = b.decode('utf-8')           # to str\n",
    "len(text), len(b), b, back"
   ]
  },
  {
   "cell_type": "code",
   "execution_count": 11,
   "metadata": {},
   "outputs": [
    {
     "data": {
      "text/plain": [
       "('abcdef', 'abc�def', 'abc\\\\xffdef')"
      ]
     },
     "execution_count": 11,
     "metadata": {},
     "output_type": "execute_result"
    }
   ],
   "source": [
    "# Error strategies: 'ignore', 'replace', 'backslashreplace'\n",
    "bad_bytes = b\"abc\\xffdef\"\n",
    "ignored = bad_bytes.decode('utf-8', errors='ignore')\n",
    "replaced = bad_bytes.decode('utf-8', errors='replace')\n",
    "backslashed = bad_bytes.decode('utf-8', errors='backslashreplace')\n",
    "ignored, replaced, backslashed"
   ]
  },
  {
   "cell_type": "markdown",
   "metadata": {},
   "source": [
    "**Bytes literals:** `b'...'` creates bytes. Use for I/O, hashing, protocols. Convert to/from `str` explicitly."
   ]
  },
  {
   "cell_type": "code",
   "execution_count": 12,
   "metadata": {},
   "outputs": [
    {
     "data": {
      "text/plain": [
       "(b'hello', bytes, [104, 101, 108, 108, 111])"
      ]
     },
     "execution_count": 12,
     "metadata": {},
     "output_type": "execute_result"
    }
   ],
   "source": [
    "b_lit = b\"hello\"  # ASCII-only in bytes literals\n",
    "b_lit, type(b_lit), list(b_lit)  # ints 0..255"
   ]
  },
  {
   "cell_type": "markdown",
   "metadata": {},
   "source": [
    "## 8) Efficient concatenation with `str.join`\n",
    "Repeated `+` on strings creates many temporaries. Prefer `''.join(parts)` for large loops or collections of fragments."
   ]
  },
  {
   "cell_type": "code",
   "execution_count": 13,
   "metadata": {},
   "outputs": [
    {
     "data": {
      "text/plain": [
       "('0123456789', '0123456789', True)"
      ]
     },
     "execution_count": 13,
     "metadata": {},
     "output_type": "execute_result"
    }
   ],
   "source": [
    "parts = [str(i) for i in range(10)]\n",
    "bad = ''\n",
    "for p in parts:\n",
    "    bad += p  # okay small, but scales poorly\n",
    "good = ''.join(parts)\n",
    "bad, good, bad == good"
   ]
  },
  {
   "cell_type": "markdown",
   "metadata": {},
   "source": [
    "## 9) Formatting: f-strings and format specs\n",
    "F-strings are concise and fast. Format specifiers control width, alignment, precision, number style, etc."
   ]
  },
  {
   "cell_type": "code",
   "execution_count": 14,
   "metadata": {},
   "outputs": [
    {
     "data": {
      "text/plain": [
       "('Hello, Ada! pi≈3.142', '12,345', '     12345', '0x3039', '88%')"
      ]
     },
     "execution_count": 14,
     "metadata": {},
     "output_type": "execute_result"
    }
   ],
   "source": [
    "name = \"Ada\"\n",
    "pi = 3.1415926535\n",
    "n = 12345\n",
    "f1 = f\"Hello, {name}! pi≈{pi:.3f}\"\n",
    "f2 = f\"{n:,}\"                      # thousands separator\n",
    "f3 = f\"{n:>10}\"                    # right align width 10\n",
    "f4 = f\"{n:#x}\"                      # hex with prefix\n",
    "f5 = f\"{0.875:.0%}\"                 # percentage 88%\n",
    "f1, f2, f3, f4, f5"
   ]
  },
  {
   "cell_type": "markdown",
   "metadata": {},
   "source": [
    "**Debugging helper:** `f\"{var=}\"` shows name and value (Python 3.8+)."
   ]
  },
  {
   "cell_type": "code",
   "execution_count": 15,
   "metadata": {},
   "outputs": [
    {
     "data": {
      "text/plain": [
       "'total=42'"
      ]
     },
     "execution_count": 15,
     "metadata": {},
     "output_type": "execute_result"
    }
   ],
   "source": [
    "total = 42\n",
    "f\"{total=}\"  # 'total=42'"
   ]
  },
  {
   "cell_type": "markdown",
   "metadata": {},
   "source": [
    "## 10) Translation tables and character filtering\n",
    "`str.maketrans` + `str.translate` can replace or delete many characters efficiently in one pass (no regex needed)."
   ]
  },
  {
   "cell_type": "code",
   "execution_count": 16,
   "metadata": {},
   "outputs": [
    {
     "data": {
      "text/plain": [
       "('a plus b equals c,  1 plus 2 equals 3!', 'a+b=c; +=!')"
      ]
     },
     "execution_count": 16,
     "metadata": {},
     "output_type": "execute_result"
    }
   ],
   "source": [
    "s = \"a+b=c; 1+2=3!\"\n",
    "table = str.maketrans({'+': ' plus ', '=': ' equals ', ';': ', '})\n",
    "translated = s.translate(table)\n",
    "delete_digits = str.maketrans('', '', '0123456789')  # third arg: delete chars\n",
    "no_digits = s.translate(delete_digits)\n",
    "translated, no_digits"
   ]
  },
  {
   "cell_type": "markdown",
   "metadata": {},
   "source": [
    "**Filtering example:** Keep only letters and spaces using `translate` with a deletion set of unwanted characters."
   ]
  },
  {
   "cell_type": "code",
   "execution_count": 17,
   "metadata": {},
   "outputs": [
    {
     "data": {
      "text/plain": [
       "'Hello World'"
      ]
     },
     "execution_count": 17,
     "metadata": {},
     "output_type": "execute_result"
    }
   ],
   "source": [
    "import string\n",
    "text = \"Hello, World! 123\"\n",
    "to_delete = string.punctuation + string.digits\n",
    "clean = text.translate(str.maketrans('', '', to_delete))\n",
    "clean.strip()"
   ]
  },
  {
   "cell_type": "markdown",
   "metadata": {},
   "source": [
    "## 11) Character classes and `.is*` predicates\n",
    "Useful for quick validation without regex:\n",
    "- `isalpha`, `isalnum`, `isdecimal`, `isdigit`, `isnumeric`\n",
    "- `isspace`, `islower`, `isupper`, `istitle`\n",
    "- `isprintable` (no control chars)"
   ]
  },
  {
   "cell_type": "code",
   "execution_count": 18,
   "metadata": {},
   "outputs": [
    {
     "data": {
      "text/plain": [
       "(True, True, True, True, True, True)"
      ]
     },
     "execution_count": 18,
     "metadata": {},
     "output_type": "execute_result"
    }
   ],
   "source": [
    "\"ABC\".isalpha(), \"A1\".isalnum(), \"²\".isdigit(), \"½\".isnumeric(), \"  \\t\\n\".isspace(), \"Hello World\".istitle()"
   ]
  },
  {
   "cell_type": "markdown",
   "metadata": {},
   "source": [
    "**Note:** `isdigit` vs `isnumeric`: some Unicode numeric chars (like \"½\") are numeric but not digits; prefer `isnumeric` for broader coverage."
   ]
  },
  {
   "cell_type": "markdown",
   "metadata": {},
   "source": [
    "## 12) Practical patterns & gotchas\n",
    "- **Building large text**: accumulate in a list, then `''.join` once.\n",
    "- **Case-insensitive search**: normalize and `.casefold()` both sides.\n",
    "- **Paths/regex patterns**: use raw strings to avoid escape headaches.\n",
    "- **Binary vs text I/O**: open files with correct mode and encoding.\n",
    "- **Normalization**: before deduplication or keys, normalize (e.g., NFC)."
   ]
  },
  {
   "cell_type": "code",
   "execution_count": null,
   "metadata": {},
   "outputs": [],
   "source": []
  }
 ],
 "metadata": {
  "kernelspec": {
   "display_name": "Python 3 (ipykernel)",
   "language": "python",
   "name": "python3"
  },
  "language_info": {
   "codemirror_mode": {
    "name": "ipython",
    "version": 3
   },
   "file_extension": ".py",
   "mimetype": "text/x-python",
   "name": "python",
   "nbconvert_exporter": "python",
   "pygments_lexer": "ipython3",
   "version": "3.13.7"
  }
 },
 "nbformat": 4,
 "nbformat_minor": 4
}
