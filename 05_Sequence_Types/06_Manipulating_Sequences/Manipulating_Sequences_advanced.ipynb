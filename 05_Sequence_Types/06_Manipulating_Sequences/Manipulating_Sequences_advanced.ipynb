{
 "cells": [
  {
   "cell_type": "markdown",
   "metadata": {},
   "source": [
    "### Manipulating Sequences — Advanced\n",
    "\n",
    "This advanced notebook extends sequence manipulation beyond basic indexing/slicing. It covers:\n",
    "\n",
    "- In-place vs. new-object operations (identity & aliasing)\n",
    "- Concatenation vs. `extend` (and performance/semantics)\n",
    "- Slice assignment idioms (insert/replace/delete/stride)\n",
    "- `del` on slices (bulk deletions)\n",
    "- `append`, `extend`, `insert`, `pop`, `remove`, `clear`\n",
    "- Multiplication pitfalls with nested lists\n",
    "- Sorting: `list.sort()` vs `sorted()`; stability, `key=`, `reverse=`\n",
    "- Copying lists: `[:]`, `.copy()`, `list()`, and `copy.deepcopy`\n",
    "- `bytearray` (mutable string-like sequence) & `memoryview`\n",
    "- Queues/stacks: `list` vs `collections.deque`\n",
    "- Safe insert/search with `bisect`\n",
    "- Quick micro-benchmarks with `timeit` (no plots)\n",
    "\n",
    "All examples are pure Python and safe to run in a fresh kernel."
   ]
  },
  {
   "cell_type": "markdown",
   "metadata": {},
   "source": [
    "## 1) In-place vs new-object operations\n",
    "- Some operations mutate the **same** list (in-place) and keep its identity.\n",
    "- Others allocate a **new** object.\n",
    "\n",
    "Use `is` to check identity."
   ]
  },
  {
   "cell_type": "code",
   "execution_count": 2,
   "metadata": {},
   "outputs": [
    {
     "ename": "IndentationError",
     "evalue": "unexpected indent (2428078543.py, line 9)",
     "output_type": "error",
     "traceback": [
      "  \u001b[36mCell\u001b[39m\u001b[36m \u001b[39m\u001b[32mIn[2]\u001b[39m\u001b[32m, line 9\u001b[39m\n\u001b[31m    \u001b[39m\u001b[31mnew_object_created = (id(l2) != same_id_before2)\u001b[39m\n    ^\n\u001b[31mIndentationError\u001b[39m\u001b[31m:\u001b[39m unexpected indent\n"
     ]
    }
   ],
   "source": [
    "l = [1, 2, 3]\n",
    "same_id_before = id(l)\n",
    "l += [4, 5]            # in-place extend for lists\n",
    "same_id_after_plus_eq = (id(l) == same_id_before)\n",
    "\n",
    "l2 = [1, 2, 3]\n",
    "same_id_before2 = id(l2)\n",
    "l2 = l2 + [4, 5]       # creates a new list\n",
    "        new_object_created = (id(l2) != same_id_before2)\n",
    "same_id_after_plus_eq, new_object_created, l, l2"
   ]
  },
  {
   "cell_type": "markdown",
   "metadata": {},
   "source": [
    "Takeaway: `+=` on lists is generally in-place (like `extend`), while `+` returns a new object (and may copy more data)."
   ]
  },
  {
   "cell_type": "markdown",
   "metadata": {},
   "source": [
    "## 2) Concatenation vs `extend`\n",
    "- `l + r` → new list; `l += r` or `l.extend(r)` → mutate `l`.\n",
    "- `extend` iterates over the right-hand iterable and appends each element.\n",
    "- Use `append` for a **single** object; `extend` for many; avoid `append(iterable)` unless you actually want a nested object."
   ]
  },
  {
   "cell_type": "code",
   "execution_count": 3,
   "metadata": {},
   "outputs": [
    {
     "data": {
      "text/plain": [
       "([1, 2, [3, 4]], [1, 2, 3, 4])"
      ]
     },
     "execution_count": 3,
     "metadata": {},
     "output_type": "execute_result"
    }
   ],
   "source": [
    "l = [1, 2]\n",
    "l.append([3, 4])  # a single object (a list) appended\n",
    "nested = l.copy()\n",
    "\n",
    "l = [1, 2]\n",
    "l.extend([3, 4])  # 3 and 4 are appended\n",
    "flat = l.copy()\n",
    "\n",
    "nested, flat"
   ]
  },
  {
   "cell_type": "markdown",
   "metadata": {},
   "source": [
    "## 3) Slice assignment idioms (insert/replace/delete/stride)\n",
    "Slice assignment lets you edit multiple elements at once. With a **step** specified, RHS length must match the number of targeted positions."
   ]
  },
  {
   "cell_type": "code",
   "execution_count": 4,
   "metadata": {},
   "outputs": [
    {
     "ename": "IndentationError",
     "evalue": "unexpected indent (3792199994.py, line 15)",
     "output_type": "error",
     "traceback": [
      "  \u001b[36mCell\u001b[39m\u001b[36m \u001b[39m\u001b[32mIn[4]\u001b[39m\u001b[32m, line 15\u001b[39m\n\u001b[31m    \u001b[39m\u001b[31ml = [0,1,2,3,4,5,6]\u001b[39m\n    ^\n\u001b[31mIndentationError\u001b[39m\u001b[31m:\u001b[39m unexpected indent\n"
     ]
    }
   ],
   "source": [
    "# Replace a contiguous region (lengths can differ)\n",
    "l = [0,1,2,3,4,5]\n",
    "l[2:5] = [20,30]        # shrink\n",
    "rep1 = l.copy()\n",
    "\n",
    "# Insert via empty slice\n",
    "l[2:2] = ['A','B']      # insertion at index 2\n",
    "rep2 = l.copy()\n",
    "\n",
    "# Delete via empty RHS\n",
    "l[1:4] = []\n",
    "rep3 = l.copy()\n",
    "\n",
    "# Stride replacement — lengths must match\n",
    "        l = [0,1,2,3,4,5,6]\n",
    "l[::2] = [10,11,12,13]  # replace indices 0,2,4,6\n",
    "rep4 = l.copy()\n",
    "rep1, rep2, rep3, rep4"
   ]
  },
  {
   "cell_type": "markdown",
   "metadata": {},
   "source": [
    "**`del` with slices** removes many items at once (lists only)."
   ]
  },
  {
   "cell_type": "code",
   "execution_count": 5,
   "metadata": {},
   "outputs": [
    {
     "data": {
      "text/plain": [
       "[1, 2, 4, 5, 7, 8]"
      ]
     },
     "execution_count": 5,
     "metadata": {},
     "output_type": "execute_result"
    }
   ],
   "source": [
    "l = list(range(10))\n",
    "del l[::3]   # delete indices 0,3,6,9\n",
    "l  # [1,2,4,5,7,8]"
   ]
  },
  {
   "cell_type": "markdown",
   "metadata": {},
   "source": [
    "## 4) Element-level methods: `append`, `insert`, `extend`, `pop`, `remove`, `clear`\n",
    "- `append(x)`: push one object `x`\n",
    "- `insert(i, x)`: insert at index `i` (O(n))\n",
    "- `extend(iterable)`: append all items\n",
    "- `pop([i])`: remove and return item at `i` (default last)\n",
    "- `remove(x)`: remove first occurrence of `x` (ValueError if not found)\n",
    "- `clear()`: remove all items (same as `del l[:]`)\n",
    "\n",
    "Note: inserting near the front of a list is slower than appending at the end (due to shifting elements)."
   ]
  },
  {
   "cell_type": "code",
   "execution_count": 6,
   "metadata": {},
   "outputs": [
    {
     "data": {
      "text/plain": [
       "([1, 'X', 2, 3], 3, [1, 'X', 2], [1, 2], [])"
      ]
     },
     "execution_count": 6,
     "metadata": {},
     "output_type": "execute_result"
    }
   ],
   "source": [
    "l = [1, 2, 3]\n",
    "l.insert(1, 'X')   # [1, 'X', 2, 3]\n",
    "mid = l.copy()\n",
    "last = l.pop()     # removes 3\n",
    "after_pop = l.copy()\n",
    "l.remove('X')      # remove first 'X'\n",
    "after_remove = l.copy()\n",
    "l.clear()          # []\n",
    "mid, last, after_pop, after_remove, l"
   ]
  },
  {
   "cell_type": "markdown",
   "metadata": {},
   "source": [
    "## 5) Multiplication pitfalls with nested lists\n",
    "Multiplying a list repeats **references** to the same inner objects (shallow replication), which can cause surprising shared-mutation bugs with nested lists."
   ]
  },
  {
   "cell_type": "code",
   "execution_count": 7,
   "metadata": {},
   "outputs": [
    {
     "data": {
      "text/plain": [
       "([[0, 99, 0], [0, 99, 0], [0, 99, 0]], [[0, 0, 0], [0, 99, 0], [0, 0, 0]])"
      ]
     },
     "execution_count": 7,
     "metadata": {},
     "output_type": "execute_result"
    }
   ],
   "source": [
    "row = [0, 0, 0]\n",
    "m = [row] * 3          # three references to the same row\n",
    "m[1][1] = 99\n",
    "bad = m                 # every row appears changed in the same column\n",
    "\n",
    "# Correct way: list comprehension to create distinct rows\n",
    "m2 = [[0,0,0] for _ in range(3)]\n",
    "m2[1][1] = 99\n",
    "good = m2\n",
    "bad, good"
   ]
  },
  {
   "cell_type": "markdown",
   "metadata": {},
   "source": [
    "## 6) Sorting sequences\n",
    "- `sorted(iterable, *, key=None, reverse=False)` returns a **new** list.\n",
    "- `list.sort(*, key=None, reverse=False)` sorts **in place** and returns `None`.\n",
    "- Python's sort is **stable** (equal keys keep original order). Useful for multi-key sorts (sort by secondary key first, then primary)."
   ]
  },
  {
   "cell_type": "code",
   "execution_count": 8,
   "metadata": {},
   "outputs": [
    {
     "data": {
      "text/plain": [
       "([{'name': 'Ana', 'age': 30},\n",
       "  {'name': 'Bob', 'age': 20},\n",
       "  {'name': 'Bob', 'age': 25},\n",
       "  {'name': 'Eve', 'age': 25}],\n",
       " [{'name': 'Ana', 'age': 30},\n",
       "  {'name': 'Bob', 'age': 20},\n",
       "  {'name': 'Bob', 'age': 25},\n",
       "  {'name': 'Eve', 'age': 25}])"
      ]
     },
     "execution_count": 8,
     "metadata": {},
     "output_type": "execute_result"
    }
   ],
   "source": [
    "data = [\n",
    "    {\"name\": \"Ana\", \"age\": 30},\n",
    "    {\"name\": \"Bob\", \"age\": 25},\n",
    "    {\"name\": \"Bob\", \"age\": 20},\n",
    "    {\"name\": \"Eve\", \"age\": 25},\n",
    "]\n",
    "\n",
    "# Multi-key stable sort: secondary age asc, then primary name asc\n",
    "by_age_then_name = sorted(sorted(data, key=lambda d: d[\"age\"]), key=lambda d: d[\"name\"]) \n",
    "\n",
    "# Or use a tuple key in one pass\n",
    "tuple_key = sorted(data, key=lambda d: (d[\"name\"], d[\"age\"]))\n",
    "by_age_then_name, tuple_key"
   ]
  },
  {
   "cell_type": "markdown",
   "metadata": {},
   "source": [
    "Reverse numeric sort and custom key example:"
   ]
  },
  {
   "cell_type": "code",
   "execution_count": 9,
   "metadata": {},
   "outputs": [
    {
     "data": {
      "text/plain": [
       "([10, 7, 2, -3, -20], [2, -3, 7, 10, -20])"
      ]
     },
     "execution_count": 9,
     "metadata": {},
     "output_type": "execute_result"
    }
   ],
   "source": [
    "nums = [10, -3, 7, 2, -20]\n",
    "descending = sorted(nums, reverse=True)\n",
    "by_abs = sorted(nums, key=abs)\n",
    "descending, by_abs"
   ]
  },
  {
   "cell_type": "markdown",
   "metadata": {},
   "source": [
    "## 7) Copying lists correctly\n",
    "- Shallow copies:\n",
    "  - `l_copy = l[:]`\n",
    "  - `l_copy = list(l)`\n",
    "  - `l_copy = l.copy()`\n",
    "- Deep copies (nested structures):\n",
    "  - `copy.deepcopy(l)`\n",
    "\n",
    "Shallow copies duplicate the **outer** list but **share** inner objects. Use deep copy for independent nested copies (slower)."
   ]
  },
  {
   "cell_type": "code",
   "execution_count": 10,
   "metadata": {},
   "outputs": [
    {
     "data": {
      "text/plain": [
       "([[1, 99], [2]], [[1, 99], [2]], [[1], [2]])"
      ]
     },
     "execution_count": 10,
     "metadata": {},
     "output_type": "execute_result"
    }
   ],
   "source": [
    "import copy\n",
    "nested = [[1], [2]]\n",
    "shallow = nested[:]          # shares inner lists\n",
    "deep = copy.deepcopy(nested)\n",
    "nested[0].append(99)\n",
    "nested, shallow, deep  # shallow reflects change; deep does not."
   ]
  },
  {
   "cell_type": "markdown",
   "metadata": {},
   "source": [
    "## 8) `bytearray` and `memoryview`\n",
    "`bytearray` is a **mutable** sequence of integers in range 0..255 (bytes). `bytes` is immutable.\n",
    "`memoryview` provides a zero-copy view of bytes-like objects (including slices) and can be used to mutate underlying buffers (when allowed)."
   ]
  },
  {
   "cell_type": "code",
   "execution_count": 11,
   "metadata": {},
   "outputs": [
    {
     "data": {
      "text/plain": [
       "(b'HELLO', b'HELLO')"
      ]
     },
     "execution_count": 11,
     "metadata": {},
     "output_type": "execute_result"
    }
   ],
   "source": [
    "b = bytearray(b\"hello\")\n",
    "b[0] = ord('H')        # mutate first byte\n",
    "mv = memoryview(b)\n",
    "mv[1:5] = b\"ELLO\"      # mutate via view\n",
    "bytes(b), bytes(mv)    # show as immutable bytes for display"
   ]
  },
  {
   "cell_type": "markdown",
   "metadata": {},
   "source": [
    "Large binary manipulations benefit from `bytearray`/`memoryview` for fewer copies compared to string/bytes recreation."
   ]
  },
  {
   "cell_type": "markdown",
   "metadata": {},
   "source": [
    "## 9) Queues/Stacks: `list` vs `collections.deque`\n",
    "- `list.append` and `list.pop()` (from the end) are amortized O(1) → good stack.\n",
    "- Insert/remove at the **front** of a list is O(n).\n",
    "- `collections.deque` provides O(1) append/pop **both ends** → better queue/Deque.\n",
    "\n",
    "Use the right container for your access pattern."
   ]
  },
  {
   "cell_type": "code",
   "execution_count": 12,
   "metadata": {},
   "outputs": [
    {
     "data": {
      "text/plain": [
       "([1, 2, 3], 0, 4)"
      ]
     },
     "execution_count": 12,
     "metadata": {},
     "output_type": "execute_result"
    }
   ],
   "source": [
    "from collections import deque\n",
    "dq = deque([1,2,3])\n",
    "dq.appendleft(0)\n",
    "dq.append(4)\n",
    "left = dq.popleft(); right = dq.pop()\n",
    "list(dq), left, right  # remaining, left popped, right popped"
   ]
  },
  {
   "cell_type": "markdown",
   "metadata": {},
   "source": [
    "## 10) Ordered insert/search with `bisect`\n",
    "For sorted lists, `bisect` computes insertion points in O(log n) while insert remains O(n) (shift cost). Still, it's often cleaner/less error-prone than manual searches."
   ]
  },
  {
   "cell_type": "code",
   "execution_count": 13,
   "metadata": {},
   "outputs": [
    {
     "data": {
      "text/plain": [
       "([10, 20, 25, 30, 40], 2)"
      ]
     },
     "execution_count": 13,
     "metadata": {},
     "output_type": "execute_result"
    }
   ],
   "source": [
    "import bisect\n",
    "a = [10, 20, 30, 40]\n",
    "pos = bisect.bisect_left(a, 25)  # insertion point to keep order\n",
    "a.insert(pos, 25)\n",
    "a, pos  # [10, 20, 25, 30, 40], 2"
   ]
  },
  {
   "cell_type": "markdown",
   "metadata": {},
   "source": [
    "Lower/upper bounds:\n",
    "- `bisect_left(a, x)` → first index where `x` could be inserted (before equal items)\n",
    "- `bisect_right(a, x)` → after equal items (aka upper bound)"
   ]
  },
  {
   "cell_type": "code",
   "execution_count": 14,
   "metadata": {},
   "outputs": [
    {
     "data": {
      "text/plain": [
       "((1, 4), [20, 20, 20])"
      ]
     },
     "execution_count": 14,
     "metadata": {},
     "output_type": "execute_result"
    }
   ],
   "source": [
    "a = [10, 20, 20, 20, 30]\n",
    "lo = bisect.bisect_left(a, 20)\n",
    "hi = bisect.bisect_right(a, 20)\n",
    "(lo, hi), a[lo:hi]  # range of equals"
   ]
  },
  {
   "cell_type": "markdown",
   "metadata": {},
   "source": [
    "## 11) Micro-benchmarks (indicative only)\n",
    "Use `timeit` for rough comparisons; avoid premature optimization. Here we compare `append` vs `insert(0, x)` into an ever-growing list (append wins for lists). Numbers will vary by machine/Python version.\n",
    "\n",
    "*Note:* These are small, safe, terminal-only timings (no charts)."
   ]
  },
  {
   "cell_type": "code",
   "execution_count": 15,
   "metadata": {},
   "outputs": [
    {
     "data": {
      "text/plain": [
       "(0.015946200001053512, 1.1252600000007078)"
      ]
     },
     "execution_count": 15,
     "metadata": {},
     "output_type": "execute_result"
    }
   ],
   "source": [
    "from timeit import timeit\n",
    "append_time = timeit(\"l.append(1)\", setup=\"l=[]\", number=200_000)\n",
    "insert_front_time = timeit(\"l.insert(0, 1)\", setup=\"l=[]\", number=50_000)\n",
    "append_time, insert_front_time  # append is typically much faster for lists."
   ]
  },
  {
   "cell_type": "code",
   "execution_count": null,
   "metadata": {},
   "outputs": [],
   "source": []
  }
 ],
 "metadata": {
  "kernelspec": {
   "display_name": "Python 3 (ipykernel)",
   "language": "python",
   "name": "python3"
  },
  "language_info": {
   "codemirror_mode": {
    "name": "ipython",
    "version": 3
   },
   "file_extension": ".py",
   "mimetype": "text/x-python",
   "name": "python",
   "nbconvert_exporter": "python",
   "pygments_lexer": "ipython3",
   "version": "3.13.7"
  }
 },
 "nbformat": 4,
 "nbformat_minor": 4
}
