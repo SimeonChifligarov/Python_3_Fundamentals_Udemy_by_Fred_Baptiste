{
 "cells": [
  {
   "cell_type": "markdown",
   "id": "advanced-solutions",
   "metadata": {},
   "source": [
    "### Advanced Solutions"
   ]
  },
  {
   "cell_type": "markdown",
   "id": "ex1-title",
   "metadata": {},
   "source": [
    "#### Exercise 1"
   ]
  },
  {
   "cell_type": "markdown",
   "id": "ex1-statement",
   "metadata": {},
   "source": [
    "Given the string `s = 'FfEeDdCcBbAa'`, create two strings containing the uppercase and lowercase letters in alphabetical order:\n",
    "- `'ABCDEF'`\n",
    "- `'abcdef'`"
   ]
  },
  {
   "cell_type": "code",
   "execution_count": 1,
   "id": "ex1-advanced",
   "metadata": {},
   "outputs": [
    {
     "data": {
      "text/plain": [
       "('ABCDEF', 'abcdef')"
      ]
     },
     "execution_count": 1,
     "metadata": {},
     "output_type": "execute_result"
    }
   ],
   "source": [
    "s = 'FfEeDdCcBbAa'\n",
    "upper_sorted = ''.join(sorted(filter(str.isupper, s)))\n",
    "lower_sorted = ''.join(sorted(filter(str.islower, s)))\n",
    "upper_sorted, lower_sorted"
   ]
  },
  {
   "cell_type": "markdown",
   "id": "ex2-title",
   "metadata": {},
   "source": [
    "#### Exercise 2"
   ]
  },
  {
   "cell_type": "markdown",
   "id": "ex2-statement",
   "metadata": {},
   "source": [
    "Concatenate tuples and replace odd values with `0` in a generic way."
   ]
  },
  {
   "cell_type": "code",
   "execution_count": 2,
   "id": "ex2-advanced",
   "metadata": {},
   "outputs": [
    {
     "data": {
      "text/plain": [
       "(0, 2, 0, 4, 0, 6, 0, 8, 0, 10, 0, 12, 0, 14, 0, 16, 0)"
      ]
     },
     "execution_count": 2,
     "metadata": {},
     "output_type": "execute_result"
    }
   ],
   "source": [
    "from itertools import chain\n",
    "t1 = (1, 2, 3, 4, 5, 6)\n",
    "t2 = (7, 8, 9, 10)\n",
    "t3 = (11, 12, 13, 14, 15, 16, 17)\n",
    "result = tuple(0 if x % 2 else x for x in chain(t1, t2, t3))\n",
    "result"
   ]
  },
  {
   "cell_type": "markdown",
   "id": "ex3-title",
   "metadata": {},
   "source": [
    "#### Exercise 3"
   ]
  },
  {
   "cell_type": "markdown",
   "id": "ex3-statement",
   "metadata": {},
   "source": [
    "Mutate the 3×3 zero matrix into an identity matrix."
   ]
  },
  {
   "cell_type": "code",
   "execution_count": 3,
   "id": "ex3-advanced",
   "metadata": {},
   "outputs": [
    {
     "data": {
      "text/plain": [
       "[[1, 0, 0], [0, 1, 0], [0, 0, 1]]"
      ]
     },
     "execution_count": 3,
     "metadata": {},
     "output_type": "execute_result"
    }
   ],
   "source": [
    "m = [\n",
    "    [0, 0, 0],\n",
    "    [0, 0, 0],\n",
    "    [0, 0, 0]\n",
    "]\n",
    "for i, row in enumerate(m):\n",
    "    row[i] = 1\n",
    "m"
   ]
  },
  {
   "cell_type": "markdown",
   "id": "ex4-title",
   "metadata": {},
   "source": [
    "#### Exercise 4"
   ]
  },
  {
   "cell_type": "markdown",
   "id": "ex4-statement",
   "metadata": {},
   "source": [
    "Create an identity matrix without mutating `m`."
   ]
  },
  {
   "cell_type": "code",
   "execution_count": 4,
   "id": "ex4-advanced",
   "metadata": {},
   "outputs": [
    {
     "data": {
      "text/plain": [
       "([[1, 0, 0], [0, 1, 0], [0, 0, 1]], [[0, 0, 0], [0, 0, 0], [0, 0, 0]])"
      ]
     },
     "execution_count": 4,
     "metadata": {},
     "output_type": "execute_result"
    }
   ],
   "source": [
    "m = [\n",
    "    [0, 0, 0],\n",
    "    [0, 0, 0],\n",
    "    [0, 0, 0]\n",
    "]\n",
    "result = [[1 if i == j else m[i][j] for j, _ in enumerate(row)] for i, row in enumerate(m)]\n",
    "result, m"
   ]
  },
  {
   "cell_type": "markdown",
   "id": "ex5-title",
   "metadata": {},
   "source": [
    "#### Exercise 5"
   ]
  },
  {
   "cell_type": "markdown",
   "id": "ex5-statement",
   "metadata": {},
   "source": [
    "Convert amounts using exchange tuples `(amount, currency, target_currency, rate)` and print results."
   ]
  },
  {
   "cell_type": "code",
   "execution_count": 5,
   "id": "ex5-advanced",
   "metadata": {},
   "outputs": [
    {
     "name": "stdout",
     "output_type": "stream",
     "text": [
      "100 USD = 83 EUR\n",
      "100 USD = 127 CAD\n",
      "100 CAD = 65 EUR\n"
     ]
    }
   ],
   "source": [
    "data = [\n",
    "    (100, 'USD', 'EUR', 0.83),\n",
    "    (100, 'USD', 'CAD', 1.27),\n",
    "    (100, 'CAD', 'EUR', 0.65)\n",
    "]\n",
    "for amount, src, dst, rate in data:\n",
    "    converted = amount * rate\n",
    "    lhs = f\"{amount:g} {src}\"\n",
    "    rhs = f\"{converted:.2f}\".rstrip('0').rstrip('.')\n",
    "    print(f\"{lhs} = {rhs} {dst}\")"
   ]
  },
  {
   "cell_type": "code",
   "execution_count": null,
   "id": "28ac66b0-1d7f-4d22-833c-ecdf204d8093",
   "metadata": {},
   "outputs": [],
   "source": []
  }
 ],
 "metadata": {
  "kernelspec": {
   "display_name": "Python 3 (ipykernel)",
   "language": "python",
   "name": "python3"
  },
  "language_info": {
   "codemirror_mode": {
    "name": "ipython",
    "version": 3
   },
   "file_extension": ".py",
   "mimetype": "text/x-python",
   "name": "python",
   "nbconvert_exporter": "python",
   "pygments_lexer": "ipython3",
   "version": "3.13.7"
  }
 },
 "nbformat": 4,
 "nbformat_minor": 5
}
