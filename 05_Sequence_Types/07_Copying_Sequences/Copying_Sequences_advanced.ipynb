{
 "cells": [
  {
   "cell_type": "markdown",
   "metadata": {},
   "source": [
    "### Copying Sequences — Advanced\n",
    "\n",
    "This notebook expands on shallow vs deep copies, covers multiple ways to copy, shows pitfalls with nested structures, explains how `copy` works for other containers, and demonstrates customizing copy behavior for your own classes.\n",
    "\n",
    "**Topics**\n",
    "- Shallow copies: `[:]`, `.copy()`, `list()`, `copy.copy`\n",
    "- Deep copies: `copy.deepcopy` (and the memo table preserving shared structure)\n",
    "- Copy semantics for lists/tuples/strings/sets/dicts\n",
    "- Aliasing pitfalls with nested mutables\n",
    "- Copying from arbitrary iterables (e.g., generators)\n",
    "- Customizing copy with `__copy__` and `__deepcopy__`\n",
    "- Performance notes (micro-benchmarks)\n"
   ]
  },
  {
   "cell_type": "markdown",
   "metadata": {},
   "source": [
    "## 1) Shallow copies of lists\n",
    "Four common ways to make a **shallow** copy of a list:"
   ]
  },
  {
   "cell_type": "code",
   "execution_count": 1,
   "metadata": {},
   "outputs": [
    {
     "data": {
      "text/plain": [
       "((True, True, True, True), (False, False, False, False))"
      ]
     },
     "execution_count": 1,
     "metadata": {},
     "output_type": "execute_result"
    }
   ],
   "source": [
    "import copy\n",
    "\n",
    "l1 = [1, 2, 3]\n",
    "c_slice = l1[:]        # slicing\n",
    "c_method = l1.copy()   # list method\n",
    "c_ctor  = list(l1)     # constructor\n",
    "c_copy  = copy.copy(l1) # generic shallow copy\n",
    "\n",
    "(c_slice == l1, c_method == l1, c_ctor == l1, c_copy == l1), \\\n",
    "(c_slice is l1, c_method is l1, c_ctor is l1, c_copy is l1)"
   ]
  },
  {
   "cell_type": "markdown",
   "metadata": {},
   "source": [
    "**Shallow** means the outer container is new, but its elements are the **same objects** (shared references)."
   ]
  },
  {
   "cell_type": "code",
   "execution_count": 2,
   "metadata": {},
   "outputs": [
    {
     "data": {
      "text/plain": [
       "([[1, 99], [2], [3]], [[1, 99], [2], [3]])"
      ]
     },
     "execution_count": 2,
     "metadata": {},
     "output_type": "execute_result"
    }
   ],
   "source": [
    "nested = [[1], [2], [3]]\n",
    "shallow = nested[:]   # shallow copy\n",
    "nested[0].append(99)\n",
    "nested, shallow  # both reflect inner mutation because inner lists are shared"
   ]
  },
  {
   "cell_type": "markdown",
   "metadata": {},
   "source": [
    "## 2) Deep copies of nested structures\n",
    "`copy.deepcopy` recursively copies nested objects, producing fully independent structures. It also keeps a **memo** to preserve shared references and handle cycles safely."
   ]
  },
  {
   "cell_type": "code",
   "execution_count": 3,
   "metadata": {},
   "outputs": [
    {
     "data": {
      "text/plain": [
       "([[1, 42], [2], [3]], [[1], [2], [3]])"
      ]
     },
     "execution_count": 3,
     "metadata": {},
     "output_type": "execute_result"
    }
   ],
   "source": [
    "import copy\n",
    "nested = [[1], [2], [3]]\n",
    "deep = copy.deepcopy(nested)\n",
    "nested[0].append(42)\n",
    "nested, deep  # deep copy unaffected"
   ]
  },
  {
   "cell_type": "markdown",
   "metadata": {},
   "source": [
    "### Preserving shared structure\n",
    "If the original shares inner objects, `deepcopy` preserves those relationships in the copy:"
   ]
  },
  {
   "cell_type": "code",
   "execution_count": 4,
   "metadata": {},
   "outputs": [
    {
     "data": {
      "text/plain": [
       "(True, True)"
      ]
     },
     "execution_count": 4,
     "metadata": {},
     "output_type": "execute_result"
    }
   ],
   "source": [
    "a = [1, 2]\n",
    "b = [a, a]             # shared reference to the same inner list\n",
    "d = copy.deepcopy(b)\n",
    "(b[0] is b[1], d[0] is d[1])  # original shares; deep copy also shares its own inner copy"
   ]
  },
  {
   "cell_type": "markdown",
   "metadata": {},
   "source": [
    "## 3) Copy semantics for other containers\n",
    "- **Tuples/strings/bytes** are immutable → slicing returns the **same object** optimization in CPython.\n",
    "- **Sets/dicts**: use `.copy()` or constructors to make **shallow** copies. Inner mutables still alias."
   ]
  },
  {
   "cell_type": "code",
   "execution_count": 5,
   "metadata": {},
   "outputs": [
    {
     "data": {
      "text/plain": [
       "((True, True), (False, True), {'x': [1, 2, 99], 'y': [3]})"
      ]
     },
     "execution_count": 5,
     "metadata": {},
     "output_type": "execute_result"
    }
   ],
   "source": [
    "t1 = (10, 20)\n",
    "t2 = t1[:]  # immutable -> CPython typically returns same object\n",
    "s1 = 'hello'\n",
    "s2 = s1[:]  # same object\n",
    "\n",
    "d1 = {'x': [1, 2], 'y': [3]}\n",
    "d2 = d1.copy()           # shallow copy\n",
    "d1['x'].append(99)\n",
    "\n",
    "(t1 is t2, s1 is s2), (d1 is d2, d1['x'] is d2['x']), d2"
   ]
  },
  {
   "cell_type": "markdown",
   "metadata": {},
   "source": [
    "## 4) Copying from arbitrary iterables (materialization)\n",
    "Constructors like `list()`, `tuple()`, `set()` **consume** any iterable (including generators) to build a new container. This is a *copy* in the sense of materializing elements, not a structural deep copy."
   ]
  },
  {
   "cell_type": "code",
   "execution_count": 6,
   "metadata": {},
   "outputs": [
    {
     "data": {
      "text/plain": [
       "([0, 1, 4, 9, 16], [0, 1, 4, 9, 16])"
      ]
     },
     "execution_count": 6,
     "metadata": {},
     "output_type": "execute_result"
    }
   ],
   "source": [
    "def gen(n):\n",
    "    for i in range(n):\n",
    "        yield i*i\n",
    "\n",
    "g = gen(5)\n",
    "l = list(g)  # materialize generator\n",
    "l, list(gen(5))  # the generator is single-use; calling again produces fresh items"
   ]
  },
  {
   "cell_type": "markdown",
   "metadata": {},
   "source": [
    "## 5) When *not* to bother copying\n",
    "- Immutable containers (tuples/strings) are safe to share.\n",
    "- If you only **read** from a list (no mutation), aliasing is fine.\n",
    "- Copying large containers can be expensive; prefer not to unless you must avoid side-effects."
   ]
  },
  {
   "cell_type": "markdown",
   "metadata": {},
   "source": [
    "## 6) Customizing copy for your own classes\n",
    "Implement `__copy__(self)` and `__deepcopy__(self, memo)` to control how instances are copied. Use `memo` with `deepcopy` to avoid infinite recursion and to preserve shared sub-objects consistently."
   ]
  },
  {
   "cell_type": "code",
   "execution_count": 7,
   "metadata": {},
   "outputs": [
    {
     "data": {
      "text/plain": [
       "(Bag([[1, 99], [2]]), Bag([[1, 99], [2]]), Bag([[1], [2]]))"
      ]
     },
     "execution_count": 7,
     "metadata": {},
     "output_type": "execute_result"
    }
   ],
   "source": [
    "import copy\n",
    "\n",
    "class Bag:\n",
    "    def __init__(self, items):\n",
    "        self.items = list(items)\n",
    "\n",
    "    def __copy__(self):\n",
    "        # shallow: new Bag, but shares inner items list (to demonstrate)\n",
    "        new = type(self)(self.items)\n",
    "        return new\n",
    "\n",
    "    def __deepcopy__(self, memo):\n",
    "        if id(self) in memo:\n",
    "            return memo[id(self)]\n",
    "        new = type(self)(copy.deepcopy(self.items, memo))\n",
    "        memo[id(self)] = new\n",
    "        return new\n",
    "\n",
    "    def __repr__(self):\n",
    "        return f\"Bag({self.items!r})\"\n",
    "\n",
    "b1 = Bag([[1], [2]])\n",
    "b2 = copy.copy(b1)\n",
    "b3 = copy.deepcopy(b1)\n",
    "b1.items[0].append(99)\n",
    "b1, b2, b3  # shallow reflects, deep does not"
   ]
  },
  {
   "cell_type": "markdown",
   "metadata": {},
   "source": [
    "## 7) Micro-benchmarks (indicative)\n",
    "Copy strategies have different costs. Below: timing shallow copy methods for a moderately sized list. Numbers vary by machine/interpreter; use this as a rough guide only."
   ]
  },
  {
   "cell_type": "code",
   "execution_count": 8,
   "metadata": {},
   "outputs": [
    {
     "data": {
      "text/plain": [
       "{'slice': 0.13680819999717642,\n",
       " '.copy()': 0.1521898999926634,\n",
       " 'list()': 0.11645990000397433,\n",
       " 'copy.copy': 0.11819359999208245}"
      ]
     },
     "execution_count": 8,
     "metadata": {},
     "output_type": "execute_result"
    }
   ],
   "source": [
    "from timeit import timeit\n",
    "data = list(range(10000))\n",
    "t_slice = timeit(\"x = data[:]\", globals=globals(), number=2000)\n",
    "t_copy  = timeit(\"x = data.copy()\", globals=globals(), number=2000)\n",
    "t_ctor  = timeit(\"x = list(data)\", globals=globals(), number=2000)\n",
    "t_copy_mod = timeit(\"import copy; x = copy.copy(data)\", globals=globals(), number=2000)\n",
    "{'slice': t_slice, '.copy()': t_copy, 'list()': t_ctor, 'copy.copy': t_copy_mod}"
   ]
  },
  {
   "cell_type": "markdown",
   "metadata": {},
   "source": [
    "## 8) Practical patterns\n",
    "- Defend against callee mutation: pass `arg[:]` or `copy.deepcopy(arg)` depending on your needs.\n",
    "- For nested data you intend to mutate independently, **deepcopy** (or rebuild only the parts you need).\n",
    "- Prefer immutable structures (e.g., tuples, `frozen dataclasses`) when possible to avoid copying entirely.\n"
   ]
  },
  {
   "cell_type": "markdown",
   "metadata": {},
   "source": [
    "## 9) Recap with quick demonstrations\n",
    "**Shallow list copy vs deep:**"
   ]
  },
  {
   "cell_type": "code",
   "execution_count": 9,
   "metadata": {},
   "outputs": [
    {
     "data": {
      "text/plain": [
       "([[1, 0, 0, 100], [0, 1, 0], [0, 0, 1]],\n",
       " [[1, 0, 0, 100], [0, 1, 0], [0, 0, 1]],\n",
       " [[1, 0, 0], [0, 1, 0], [0, 0, 1]])"
      ]
     },
     "execution_count": 9,
     "metadata": {},
     "output_type": "execute_result"
    }
   ],
   "source": [
    "from copy import deepcopy\n",
    "m1 = [[1, 0, 0], [0, 1, 0], [0, 0, 1]]\n",
    "m2 = m1.copy()       # shallow copy\n",
    "m3 = deepcopy(m1)    # deep copy\n",
    "\n",
    "m1[0].append(100)\n",
    "m1, m2, m3"
   ]
  },
  {
   "cell_type": "markdown",
   "metadata": {},
   "source": [
    "**Immutable slicing returns same object (CPython optimization):**"
   ]
  },
  {
   "cell_type": "code",
   "execution_count": 10,
   "metadata": {},
   "outputs": [
    {
     "data": {
      "text/plain": [
       "(True, True)"
      ]
     },
     "execution_count": 10,
     "metadata": {},
     "output_type": "execute_result"
    }
   ],
   "source": [
    "t1 = (10, [1, 2], 'abc')\n",
    "t2 = t1[:]\n",
    "s1 = 'Python rocks!'\n",
    "s2 = s1[:]\n",
    "(t1 is t2, s1 is s2)"
   ]
  },
  {
   "cell_type": "code",
   "execution_count": null,
   "metadata": {},
   "outputs": [],
   "source": []
  }
 ],
 "metadata": {
  "kernelspec": {
   "display_name": "Python 3 (ipykernel)",
   "language": "python",
   "name": "python3"
  },
  "language_info": {
   "codemirror_mode": {
    "name": "ipython",
    "version": 3
   },
   "file_extension": ".py",
   "mimetype": "text/x-python",
   "name": "python",
   "nbconvert_exporter": "python",
   "pygments_lexer": "ipython3",
   "version": "3.13.7"
  }
 },
 "nbformat": 4,
 "nbformat_minor": 4
}
