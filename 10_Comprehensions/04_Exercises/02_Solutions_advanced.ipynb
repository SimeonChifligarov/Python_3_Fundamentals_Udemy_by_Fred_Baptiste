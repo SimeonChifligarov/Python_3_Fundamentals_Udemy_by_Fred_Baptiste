{
 "cells": [
  {
   "cell_type": "markdown",
   "id": "7362fd61",
   "metadata": {},
   "source": [
    "### Exam Solutions"
   ]
  },
  {
   "cell_type": "markdown",
   "id": "96e66c51",
   "metadata": {},
   "source": [
    "#### Question 1"
   ]
  },
  {
   "cell_type": "code",
   "execution_count": 1,
   "id": "94d71a09",
   "metadata": {},
   "outputs": [
    {
     "name": "stdout",
     "output_type": "stream",
     "text": [
      "Q1 result: [30, 50, 70, 90]\n"
     ]
    }
   ],
   "source": [
    "data = [\n",
    "    {'open': 100, 'high': 120, 'low': 90, 'close': 110},\n",
    "    {'open': 110, 'high': 130, 'low': 80, 'close': 120},\n",
    "    {'open': 120, 'high': 140, 'low': 70, 'close': 130},\n",
    "    {'open': 130, 'high': 150, 'low': 60, 'close': 140},\n",
    "]\n",
    "\n",
    "# Using comprehension for cleaner code\n",
    "ranges = [item['high'] - item['low'] for item in data]\n",
    "print(\"Q1 result:\", ranges)  # [30, 50, 70, 90]"
   ]
  },
  {
   "cell_type": "markdown",
   "id": "5b711351",
   "metadata": {},
   "source": [
    "#### Question 2"
   ]
  },
  {
   "cell_type": "code",
   "execution_count": 2,
   "id": "f122aac4",
   "metadata": {},
   "outputs": [
    {
     "name": "stdout",
     "output_type": "stream",
     "text": [
      "Q2 result: {1, 11, 13, 17, 19, 23, 29, 31, 37, 41, 43, 47, 53, 59, 61, 67, 71, 73, 79, 83, 89, 97}\n"
     ]
    }
   ],
   "source": [
    "# Find all numbers 1–100 divisible by any single digit (2–9)\n",
    "divisible = {\n",
    "    n\n",
    "    for n in range(1, 101)\n",
    "    if any(n % d == 0 for d in range(2, 10))\n",
    "}\n",
    "\n",
    "# Find all numbers NOT divisible by any digit 2–9\n",
    "not_divisible = set(range(1, 101)) - divisible\n",
    "print(\"Q2 result:\", not_divisible)\n",
    "\n",
    "# Verify correctness\n",
    "expected = {1, 11, 13, 17, 19, 23, 29, 31, 37, 41, 43, 47,\n",
    "            53, 59, 61, 67, 71, 73, 79, 83, 89, 97}\n",
    "assert not_divisible == expected"
   ]
  },
  {
   "cell_type": "markdown",
   "id": "0ab5d9da",
   "metadata": {},
   "source": [
    "#### Question 3"
   ]
  },
  {
   "cell_type": "code",
   "execution_count": 3,
   "id": "4d76167b",
   "metadata": {},
   "outputs": [
    {
     "name": "stdout",
     "output_type": "stream",
     "text": [
      "Q3 result: [{'symbol': 'BCDE', 'weighted': 25.0}, {'symbol': 'CDEF', 'weighted': 16.0}, {'symbol': 'FGHI', 'weighted': 100.0}, {'symbol': 'HIJK', 'weighted': 10.0}, {'symbol': 'KLMN', 'weighted': 15.0}, {'symbol': 'LMNO', 'weighted': 20.0}, {'symbol': 'MNOP', 'weighted': 40.0}, {'symbol': 'OPQR', 'weighted': 45.0}, {'symbol': 'RSTU', 'weighted': 23.33}, {'symbol': 'STUV', 'weighted': 80.0}]\n"
     ]
    }
   ],
   "source": [
    "data = [\n",
    "    {'symbol': 'ABCD', 'name': 'ABCD Company', 'ranking': 2, 'risk': 0.2},\n",
    "    {'symbol': 'BCDE', 'name': 'BCDE Company', 'ranking': 5, 'risk': 0.2},\n",
    "    {'symbol': 'CDEF', 'name': 'CDEF Company', 'ranking': 8, 'risk': 0.5},\n",
    "    {'symbol': 'DEFG', 'name': 'DEFG Company', 'ranking': 7, 'risk': 0.8},\n",
    "    {'symbol': 'EFGH', 'name': 'EFGH Company', 'ranking': 9, 'risk': 0.6},\n",
    "    {'symbol': 'FGHI', 'name': 'FGHI Company', 'ranking': 10, 'risk': 0.1},\n",
    "    {'symbol': 'GHIJ', 'name': 'GHIJ Company', 'ranking': 3, 'risk': 0.6},\n",
    "    {'symbol': 'HIJK', 'name': 'HIJK Company', 'ranking': 5, 'risk': 0.5},\n",
    "    {'symbol': 'IJKL', 'name': 'IJKL Company', 'ranking': 5, 'risk': 0.7},\n",
    "    {'symbol': 'JKLM', 'name': 'JKLM Company', 'ranking': 6, 'risk': 0.9},\n",
    "    {'symbol': 'KLMN', 'name': 'KLMN Company', 'ranking': 6, 'risk': 0.4},\n",
    "    {'symbol': 'LMNO', 'name': 'LMNO Company', 'ranking': 8, 'risk': 0.4},\n",
    "    {'symbol': 'MNOP', 'name': 'MNOP Company', 'ranking': 8, 'risk': 0.2},\n",
    "    {'symbol': 'NOPQ', 'name': 'NOPQ Company', 'ranking': 1, 'risk': 0.5},\n",
    "    {'symbol': 'OPQR', 'name': 'OPQR Company', 'ranking': 9, 'risk': 0.2},\n",
    "    {'symbol': 'PQRS', 'name': 'PQRS Company', 'ranking': 10, 'risk': 0.9},\n",
    "    {'symbol': 'QRST', 'name': 'QRST Company', 'ranking': 3, 'risk': 0.4},\n",
    "    {'symbol': 'RSTU', 'name': 'RSTU Company', 'ranking': 7, 'risk': 0.3},\n",
    "    {'symbol': 'STUV', 'name': 'STUV Company', 'ranking': 8, 'risk': 0.1},\n",
    "    {'symbol': 'TUVW', 'name': 'TUVW Company', 'ranking': 7, 'risk': 0.9}\n",
    "]\n",
    "\n",
    "# Build filtered list with computed 'weighted' key (non-mutating)\n",
    "selected = [\n",
    "    {\n",
    "        \"symbol\": item[\"symbol\"],\n",
    "        \"weighted\": round(item[\"ranking\"] / item[\"risk\"], 2)\n",
    "    }\n",
    "    for item in data\n",
    "    if item[\"ranking\"] >= 5 and item[\"risk\"] < 0.6\n",
    "]\n",
    "\n",
    "print(\"Q3 result:\", selected)\n",
    "# Example output:\n",
    "# [{'symbol': 'BCDE', 'weighted': 25.0},\n",
    "#  {'symbol': 'CDEF', 'weighted': 16.0},\n",
    "#  {'symbol': 'FGHI', 'weighted': 100.0},\n",
    "#  {'symbol': 'HIJK', 'weighted': 10.0},\n",
    "#  {'symbol': 'KLMN', 'weighted': 15.0},\n",
    "#  {'symbol': 'LMNO', 'weighted': 20.0},\n",
    "#  {'symbol': 'MNOP', 'weighted': 40.0},\n",
    "#  {'symbol': 'OPQR', 'weighted': 45.0},\n",
    "#  {'symbol': 'RSTU', 'weighted': 23.33},\n",
    "#  {'symbol': 'STUV', 'weighted': 80.0}]"
   ]
  },
  {
   "cell_type": "code",
   "execution_count": null,
   "id": "ad62db7f-cb3d-421c-8d7c-9309941d8e04",
   "metadata": {},
   "outputs": [],
   "source": []
  }
 ],
 "metadata": {
  "kernelspec": {
   "display_name": "Python 3 (ipykernel)",
   "language": "python",
   "name": "python3"
  },
  "language_info": {
   "codemirror_mode": {
    "name": "ipython",
    "version": 3
   },
   "file_extension": ".py",
   "mimetype": "text/x-python",
   "name": "python",
   "nbconvert_exporter": "python",
   "pygments_lexer": "ipython3",
   "version": "3.13.7"
  }
 },
 "nbformat": 4,
 "nbformat_minor": 5
}
