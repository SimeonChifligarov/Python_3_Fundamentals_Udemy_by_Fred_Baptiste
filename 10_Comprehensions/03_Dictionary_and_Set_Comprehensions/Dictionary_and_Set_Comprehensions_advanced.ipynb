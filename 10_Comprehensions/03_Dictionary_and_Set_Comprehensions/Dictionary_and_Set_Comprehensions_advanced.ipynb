{
 "cells": [
  {
   "cell_type": "markdown",
   "metadata": {},
   "source": [
    "# Dictionary & Set Comprehensions — Practice (Advanced, but not too much)\n",
    "\n",
    "Guidelines:\n",
    "- Prefer clarity over clever one-liners.\n",
    "- Use **filters** with trailing `if` and **fallback transforms** with inline `x if cond else y`.\n",
    "- Avoid side effects in comprehensions.\n",
    "- Use **sets** for uniqueness, **dicts** for keyed aggregation/mapping.\n",
    "\n",
    "Each exercise has a `# TODO` cell and a self-check assert. Run the assert to verify."
   ]
  },
  {
   "cell_type": "markdown",
   "metadata": {},
   "source": [
    "## 1) Clean Key/Value Pairs → Dictionary\n",
    "Given a list of `(key, value)` pairs possibly messy with spaces/casing, create a dictionary with **stripped & lower-cased** non-empty keys and **integer** values. Ignore pairs where the numeric value is invalid (non-digit).\n",
    "\n",
    "**Input:** `pairs = [('  Apples ', '10'), ('BANANAS', ' 7 '), ('oranges', 'x'), (' pears', '0'), ('', '5')]`\n",
    "\n",
    "**Expected:** `{'apples': 10, 'bananas': 7, 'pears': 0}`"
   ]
  },
  {
   "cell_type": "code",
   "execution_count": 1,
   "metadata": {},
   "outputs": [
    {
     "data": {
      "text/plain": [
       "{'apples': 10, 'bananas': 7, 'pears': 0}"
      ]
     },
     "execution_count": 1,
     "metadata": {},
     "output_type": "execute_result"
    }
   ],
   "source": [
    "pairs = [('  Apples ', '10'), ('BANANAS', ' 7 '), ('oranges', 'x'), (' pears', '0'), ('', '5')]\n",
    "# TODO: dict comprehension -> clean keys, keep only digit values\n",
    "clean_map = {k.strip().lower(): int(v)\n",
    "             for k, v in pairs\n",
    "             if k.strip() and v.strip().isdigit()}\n",
    "clean_map"
   ]
  },
  {
   "cell_type": "code",
   "execution_count": 2,
   "metadata": {},
   "outputs": [
    {
     "name": "stdout",
     "output_type": "stream",
     "text": [
      "OK - 1\n"
     ]
    }
   ],
   "source": [
    "assert clean_map == {'apples': 10, 'bananas': 7, 'pears': 0}\n",
    "print('OK - 1')"
   ]
  },
  {
   "cell_type": "markdown",
   "metadata": {},
   "source": [
    "## 2) Invert a One-to-One Mapping\n",
    "Invert a dictionary that maps ISO country code → country name into name → code. Assume values are unique.\n",
    "\n",
    "**Input:** `codes = {'us': 'United States', 'ca': 'Canada', 'mx': 'Mexico'}`\n",
    "\n",
    "**Expected:** `{'United States': 'us', 'Canada': 'ca', 'Mexico': 'mx'}`"
   ]
  },
  {
   "cell_type": "code",
   "execution_count": 3,
   "metadata": {},
   "outputs": [
    {
     "data": {
      "text/plain": [
       "{'United States': 'us', 'Canada': 'ca', 'Mexico': 'mx'}"
      ]
     },
     "execution_count": 3,
     "metadata": {},
     "output_type": "execute_result"
    }
   ],
   "source": [
    "codes = {'us': 'United States', 'ca': 'Canada', 'mx': 'Mexico'}\n",
    "# TODO: dict comprehension -> invert key/value\n",
    "inv = {country: code for code, country in codes.items()}\n",
    "inv"
   ]
  },
  {
   "cell_type": "code",
   "execution_count": 4,
   "metadata": {},
   "outputs": [
    {
     "name": "stdout",
     "output_type": "stream",
     "text": [
      "OK - 2\n"
     ]
    }
   ],
   "source": [
    "assert inv == {'United States': 'us', 'Canada': 'ca', 'Mexico': 'mx'}\n",
    "print('OK - 2')"
   ]
  },
  {
   "cell_type": "markdown",
   "metadata": {},
   "source": [
    "## 3) Histogram of Word Lengths (≥ 3)\n",
    "Given a list of words (lowercase), compute a **dictionary of counts by length** keeping only lengths ≥ 3.\n",
    "\n",
    "**Input:** `words = ['alpha', 'beta', 'gamma', 'beta', 'delta', 'pi']`\n",
    "\n",
    "**Expected:** `{4: 2, 5: 3}`"
   ]
  },
  {
   "cell_type": "code",
   "execution_count": 5,
   "metadata": {},
   "outputs": [
    {
     "data": {
      "text/plain": [
       "{4: 2, 5: 3}"
      ]
     },
     "execution_count": 5,
     "metadata": {},
     "output_type": "execute_result"
    }
   ],
   "source": [
    "words = ['alpha', 'beta', 'gamma', 'beta', 'delta', 'pi']\n",
    "# TODO: dict comprehension over unique lengths; count with a generator\n",
    "lengths = {len(w) for w in words if len(w) >= 3}\n",
    "hist = {L: sum(1 for w in words if len(w) == L) for L in lengths}\n",
    "hist"
   ]
  },
  {
   "cell_type": "code",
   "execution_count": 6,
   "metadata": {},
   "outputs": [
    {
     "name": "stdout",
     "output_type": "stream",
     "text": [
      "OK - 3\n"
     ]
    }
   ],
   "source": [
    "assert hist == {4: 2, 5: 3}\n",
    "print('OK - 3')"
   ]
  },
  {
   "cell_type": "markdown",
   "metadata": {},
   "source": [
    "## 4) Filter a Dictionary by Key & Value\n",
    "Keep only items where the key starts with `'widget'` **and** the value is strictly positive.\n",
    "\n",
    "**Input:** `sales = {'widget 1': 10, 'widget 2': 0, 'gadget': 5, 'widget 3': -1, 'widget 4': 2}`\n",
    "\n",
    "**Expected:** `{'widget 1': 10, 'widget 4': 2}`"
   ]
  },
  {
   "cell_type": "code",
   "execution_count": 7,
   "metadata": {},
   "outputs": [
    {
     "data": {
      "text/plain": [
       "{'widget 1': 10, 'widget 4': 2}"
      ]
     },
     "execution_count": 7,
     "metadata": {},
     "output_type": "execute_result"
    }
   ],
   "source": [
    "sales = {'widget 1': 10, 'widget 2': 0, 'gadget': 5, 'widget 3': -1, 'widget 4': 2}\n",
    "# TODO: dict comprehension with key predicate and value filter\n",
    "filtered = {k: v for k, v in sales.items() if k.startswith('widget') and v > 0}\n",
    "filtered"
   ]
  },
  {
   "cell_type": "code",
   "execution_count": 8,
   "metadata": {},
   "outputs": [
    {
     "name": "stdout",
     "output_type": "stream",
     "text": [
      "OK - 4\n"
     ]
    }
   ],
   "source": [
    "assert filtered == {'widget 1': 10, 'widget 4': 2}\n",
    "print('OK - 4')"
   ]
  },
  {
   "cell_type": "markdown",
   "metadata": {},
   "source": [
    "## 5) Unique Email Domains (Set)\n",
    "From a list of email strings (some with mixed case and spaces), extract the **set of domains** in lowercase.\n",
    "\n",
    "**Input:** `emails = ['Alice@Example.com', 'bob@work.io', 'carol@EXAMPLE.com', 'dave@school.edu', 'not-an-email']`\n",
    "\n",
    "**Expected:** `{'example.com', 'work.io', 'school.edu'}`"
   ]
  },
  {
   "cell_type": "code",
   "execution_count": 9,
   "metadata": {},
   "outputs": [
    {
     "data": {
      "text/plain": [
       "{'example.com', 'school.edu', 'work.io'}"
      ]
     },
     "execution_count": 9,
     "metadata": {},
     "output_type": "execute_result"
    }
   ],
   "source": [
    "emails = ['Alice@Example.com', 'bob@work.io', 'carol@EXAMPLE.com', 'dave@school.edu', 'not-an-email']\n",
    "# TODO: set comprehension; validate with '@', lower+strip\n",
    "domains = {e.strip().lower().split('@')[1] for e in emails if '@' in e}\n",
    "domains"
   ]
  },
  {
   "cell_type": "code",
   "execution_count": 10,
   "metadata": {},
   "outputs": [
    {
     "name": "stdout",
     "output_type": "stream",
     "text": [
      "OK - 5\n"
     ]
    }
   ],
   "source": [
    "assert domains == {'example.com', 'work.io', 'school.edu'}\n",
    "print('OK - 5')"
   ]
  },
  {
   "cell_type": "markdown",
   "metadata": {},
   "source": [
    "## 6) Index by First Letter → Sets of Words\n",
    "Given a list of words, build a dictionary mapping **first letter** → **set of words** starting with that letter.\n",
    "\n",
    "**Input:** `words = ['apple', 'apricot', 'banana', 'blueberry', 'cherry', 'avocado']`\n",
    "\n",
    "**Expected:** `{'a': {'apple', 'apricot', 'avocado'}, 'b': {'banana', 'blueberry'}, 'c': {'cherry'}}` (order may vary)"
   ]
  },
  {
   "cell_type": "code",
   "execution_count": 11,
   "metadata": {},
   "outputs": [
    {
     "data": {
      "text/plain": [
       "{'b': {'banana', 'blueberry'},\n",
       " 'c': {'cherry'},\n",
       " 'a': {'apple', 'apricot', 'avocado'}}"
      ]
     },
     "execution_count": 11,
     "metadata": {},
     "output_type": "execute_result"
    }
   ],
   "source": [
    "words = ['apple', 'apricot', 'banana', 'blueberry', 'cherry', 'avocado']\n",
    "# TODO: dict comprehension + inner set comprehension\n",
    "letters = {w[0] for w in words}\n",
    "index = {ch: {w for w in words if w.startswith(ch)} for ch in letters}\n",
    "index"
   ]
  },
  {
   "cell_type": "code",
   "execution_count": 12,
   "metadata": {},
   "outputs": [
    {
     "name": "stdout",
     "output_type": "stream",
     "text": [
      "OK - 6\n"
     ]
    }
   ],
   "source": [
    "assert index['a'] == {'apple', 'apricot', 'avocado'}\n",
    "assert index['b'] == {'banana', 'blueberry'}\n",
    "assert index['c'] == {'cherry'}\n",
    "print('OK - 6')"
   ]
  },
  {
   "cell_type": "markdown",
   "metadata": {},
   "source": [
    "## 7) Reverse Index: Tags → Authors (Set Values)\n",
    "You have `(author, {tags})` pairs. Build a dict mapping each **tag** to the **set of authors** that have it.\n",
    "\n",
    "**Input:** `records = [('Alice', {'math', 'cs'}), ('Bob', {'history', 'math'}), ('Cara', {'cs'})]`\n",
    "\n",
    "**Expected:** `{'math': {'Alice', 'Bob'}, 'cs': {'Alice', 'Cara'}, 'history': {'Bob'}}` (order may vary)"
   ]
  },
  {
   "cell_type": "code",
   "execution_count": 13,
   "metadata": {},
   "outputs": [
    {
     "data": {
      "text/plain": [
       "{'math': {'Alice', 'Bob'}, 'cs': {'Alice', 'Cara'}, 'history': {'Bob'}}"
      ]
     },
     "execution_count": 13,
     "metadata": {},
     "output_type": "execute_result"
    }
   ],
   "source": [
    "records = [('Alice', {'math', 'cs'}), ('Bob', {'history', 'math'}), ('Cara', {'cs'})]\n",
    "# TODO: dict comprehension over all unique tags; inner set comprehension collects authors\n",
    "all_tags = {t for _, ts in records for t in ts}\n",
    "rev = {tag: {author for author, ts in records if tag in ts} for tag in all_tags}\n",
    "rev"
   ]
  },
  {
   "cell_type": "code",
   "execution_count": 14,
   "metadata": {},
   "outputs": [
    {
     "name": "stdout",
     "output_type": "stream",
     "text": [
      "OK - 7\n"
     ]
    }
   ],
   "source": [
    "assert rev['math'] == {'Alice', 'Bob'}\n",
    "assert rev['cs'] == {'Alice', 'Cara'}\n",
    "assert rev['history'] == {'Bob'}\n",
    "print('OK - 7')"
   ]
  },
  {
   "cell_type": "markdown",
   "metadata": {},
   "source": [
    "## 8) Undirected Graph Adjacency (Dict of Sets)\n",
    "Given an undirected edge list, produce `adj` mapping **node → set(neighbors)**. Each edge `(u, v)` connects both ways.\n",
    "\n",
    "**Input:** `edges = [('A', 'B'), ('A', 'C'), ('B', 'C'), ('C', 'D')]`\n",
    "\n",
    "**Expected (order may vary):** `{'A': {'B','C'}, 'B': {'A','C'}, 'C': {'A','B','D'}, 'D': {'C'}}`"
   ]
  },
  {
   "cell_type": "code",
   "execution_count": 15,
   "metadata": {},
   "outputs": [
    {
     "data": {
      "text/plain": [
       "{'B': {'A', 'C'}, 'C': {'A', 'B', 'D'}, 'D': {'C'}, 'A': {'B', 'C'}}"
      ]
     },
     "execution_count": 15,
     "metadata": {},
     "output_type": "execute_result"
    }
   ],
   "source": [
    "edges = [('A', 'B'), ('A', 'C'), ('B', 'C'), ('C', 'D')]\n",
    "# TODO: dict of sets using set comprehension on both directions\n",
    "nodes = {u for u, v in edges} | {v for u, v in edges}\n",
    "adj = {n: ({v for u, v in edges if u == n} | {u for u, v in edges if v == n}) for n in nodes}\n",
    "adj"
   ]
  },
  {
   "cell_type": "code",
   "execution_count": 16,
   "metadata": {},
   "outputs": [
    {
     "name": "stdout",
     "output_type": "stream",
     "text": [
      "OK - 8\n"
     ]
    }
   ],
   "source": [
    "assert adj['A'] == {'B', 'C'}\n",
    "assert adj['B'] == {'A', 'C'}\n",
    "assert adj['C'] == {'A', 'B', 'D'}\n",
    "assert adj['D'] == {'C'}\n",
    "print('OK - 8')"
   ]
  },
  {
   "cell_type": "markdown",
   "metadata": {},
   "source": [
    "## 9) Character Frequency (Letters Only, Case-Insensitive)\n",
    "Given a short text, build a letter-frequency dictionary (ignore non-alphabetic). Case-insensitive.\n",
    "\n",
    "**Input:** `text = 'AaBb! aA?? bB.'`\n",
    "\n",
    "**Expected:** `{'a': 4, 'b': 4}`"
   ]
  },
  {
   "cell_type": "code",
   "execution_count": 17,
   "metadata": {},
   "outputs": [
    {
     "data": {
      "text/plain": [
       "{'b': 4, 'a': 4}"
      ]
     },
     "execution_count": 17,
     "metadata": {},
     "output_type": "execute_result"
    }
   ],
   "source": [
    "text = 'AaBb! aA?? bB.'\n",
    "# TODO: dict comprehension over unique letters in lowercased text; count with str.count\n",
    "t = text.lower()\n",
    "letters = {c for c in t if c.isalpha()}\n",
    "freq = {c: t.count(c) for c in letters}\n",
    "freq"
   ]
  },
  {
   "cell_type": "code",
   "execution_count": 18,
   "metadata": {},
   "outputs": [
    {
     "name": "stdout",
     "output_type": "stream",
     "text": [
      "OK - 9\n"
     ]
    }
   ],
   "source": [
    "assert freq == {'a': 4, 'b': 4}\n",
    "print('OK - 9')"
   ]
  },
  {
   "cell_type": "markdown",
   "metadata": {},
   "source": [
    "## 10) Items with Price Drop (Set)\n",
    "Given two price snapshots `day1` and `day2` (dicts), find items whose price **decreased** on day2. Consider only items present in both.\n",
    "\n",
    "**Input:**\n",
    "```\n",
    "day1 = {'eggs': 3.0, 'milk': 1.5, 'bread': 2.0, 'apples': 4.0}\n",
    "day2 = {'eggs': 2.5, 'milk': 1.7, 'bread': 2.0, 'apples': 3.5, 'bananas': 2.0}\n",
    "```\n",
    "\n",
    "**Expected:** `{'eggs', 'apples'}`"
   ]
  },
  {
   "cell_type": "code",
   "execution_count": 19,
   "metadata": {},
   "outputs": [
    {
     "data": {
      "text/plain": [
       "{'apples', 'eggs'}"
      ]
     },
     "execution_count": 19,
     "metadata": {},
     "output_type": "execute_result"
    }
   ],
   "source": [
    "day1 = {'eggs': 3.0, 'milk': 1.5, 'bread': 2.0, 'apples': 4.0}\n",
    "day2 = {'eggs': 2.5, 'milk': 1.7, 'bread': 2.0, 'apples': 3.5, 'bananas': 2.0}\n",
    "# TODO: set comprehension over intersection; compare values\n",
    "common = day1.keys() & day2.keys()\n",
    "drops = {k for k in common if day2[k] < day1[k]}\n",
    "drops"
   ]
  },
  {
   "cell_type": "code",
   "execution_count": 20,
   "metadata": {},
   "outputs": [
    {
     "name": "stdout",
     "output_type": "stream",
     "text": [
      "OK - 10\n"
     ]
    }
   ],
   "source": [
    "assert drops == {'eggs', 'apples'}\n",
    "print('OK - 10')"
   ]
  },
  {
   "cell_type": "code",
   "execution_count": null,
   "metadata": {},
   "outputs": [],
   "source": []
  }
 ],
 "metadata": {
  "kernelspec": {
   "display_name": "Python 3 (ipykernel)",
   "language": "python",
   "name": "python3"
  },
  "language_info": {
   "codemirror_mode": {
    "name": "ipython",
    "version": 3
   },
   "file_extension": ".py",
   "mimetype": "text/x-python",
   "name": "python",
   "nbconvert_exporter": "python",
   "pygments_lexer": "ipython3",
   "version": "3.13.7"
  }
 },
 "nbformat": 4,
 "nbformat_minor": 4
}
