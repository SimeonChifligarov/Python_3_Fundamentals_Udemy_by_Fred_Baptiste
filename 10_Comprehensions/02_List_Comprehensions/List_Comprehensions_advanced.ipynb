{
 "cells": [
  {
   "cell_type": "markdown",
   "metadata": {},
   "source": [
    "# List Comprehensions — Practice (Advanced, but not too much)\n",
    "\n",
    "These exercises focus on writing **clear, Pythonic** list comprehensions. A few notes:\n",
    "\n",
    "- Prefer clarity over cleverness; if it gets hard to read, break it up.\n",
    "- Use a trailing `if` to **filter**, and an inline `... if ... else ...` to **transform with a fallback**.\n",
    "- Avoid side effects inside a comprehension.\n",
    "- When you don't need to materialize a full list, consider a generator — but these exercises ask for **lists**.\n",
    "\n",
    "Each task includes a **self-check** cell with tests. Run it to verify your solution."
   ]
  },
  {
   "cell_type": "markdown",
   "metadata": {},
   "source": [
    "## 1) Clean & Filter Names\n",
    "Given a list of raw names (some empty, extra spaces, mixed case), produce a list of **title-cased** names with whitespace trimmed, excluding blanks.\n",
    "\n",
    "**Input:** `raw = [\"  alice  \", \"\", \"BoB\", \"  \", \"cHaRlEs\"]`\n",
    "\n",
    "**Output:** `['Alice', 'Bob', 'Charles']`"
   ]
  },
  {
   "cell_type": "code",
   "execution_count": 1,
   "metadata": {},
   "outputs": [
    {
     "data": {
      "text/plain": [
       "['Alice', 'Bob', 'Charles']"
      ]
     },
     "execution_count": 1,
     "metadata": {},
     "output_type": "execute_result"
    }
   ],
   "source": [
    "raw = [\"  alice  \", \"\", \"BoB\", \"  \", \"cHaRlEs\"]\n",
    "# TODO: list comprehension -> title-case, strip, filter out blanks\n",
    "names = [n.strip().title() for n in raw if n.strip()]\n",
    "names"
   ]
  },
  {
   "cell_type": "code",
   "execution_count": 2,
   "metadata": {},
   "outputs": [
    {
     "name": "stdout",
     "output_type": "stream",
     "text": [
      "OK - 1\n"
     ]
    }
   ],
   "source": [
    "assert names == ['Alice', 'Bob', 'Charles']\n",
    "print('OK - 1')"
   ]
  },
  {
   "cell_type": "markdown",
   "metadata": {},
   "source": [
    "## 2) Digits Only\n",
    "From a heterogeneous list of strings, keep **only** the elements that represent non-negative integers (all digits) and convert them to `int`.\n",
    "\n",
    "**Input:** `data = ['42', '3.14', '-7', '007', 'x9', '0']`\n",
    "\n",
    "**Output:** `[42, 7, 0]` (note: `'007'` becomes `7`)"
   ]
  },
  {
   "cell_type": "code",
   "execution_count": 3,
   "metadata": {},
   "outputs": [
    {
     "data": {
      "text/plain": [
       "[42, 7, 0]"
      ]
     },
     "execution_count": 3,
     "metadata": {},
     "output_type": "execute_result"
    }
   ],
   "source": [
    "data = ['42', '3.14', '-7', '007', 'x9', '0']\n",
    "# TODO: list comprehension -> filter str.isdigit(), map to int\n",
    "ints = [int(s) for s in data if s.isdigit()]\n",
    "ints"
   ]
  },
  {
   "cell_type": "code",
   "execution_count": 4,
   "metadata": {},
   "outputs": [
    {
     "name": "stdout",
     "output_type": "stream",
     "text": [
      "OK - 2\n"
     ]
    }
   ],
   "source": [
    "assert ints == [42, 7, 0]\n",
    "print('OK - 2')"
   ]
  },
  {
   "cell_type": "markdown",
   "metadata": {},
   "source": [
    "## 3) Flatten & Filter Matrix\n",
    "Given a 2-D list of integers, create a **flat list** of all **even positive** numbers only.\n",
    "\n",
    "**Input:** `M = [[-2, -1, 0, 1, 2], [3, 4], [5, 6, 7, 8]]`\n",
    "\n",
    "**Output:** `[2, 4, 6, 8]`"
   ]
  },
  {
   "cell_type": "code",
   "execution_count": 5,
   "metadata": {},
   "outputs": [
    {
     "data": {
      "text/plain": [
       "[2, 4, 6, 8]"
      ]
     },
     "execution_count": 5,
     "metadata": {},
     "output_type": "execute_result"
    }
   ],
   "source": [
    "M = [[-2, -1, 0, 1, 2], [3, 4], [5, 6, 7, 8]]\n",
    "# TODO: nested list comprehension -> flatten and filter\n",
    "flat_evens = [x for row in M for x in row if x > 0 and x % 2 == 0]\n",
    "flat_evens"
   ]
  },
  {
   "cell_type": "code",
   "execution_count": 6,
   "metadata": {},
   "outputs": [
    {
     "name": "stdout",
     "output_type": "stream",
     "text": [
      "OK - 3\n"
     ]
    }
   ],
   "source": [
    "assert flat_evens == [2, 4, 6, 8]\n",
    "print('OK - 3')"
   ]
  },
  {
   "cell_type": "markdown",
   "metadata": {},
   "source": [
    "## 4) Sliding Window Sums\n",
    "Given a list of numbers and a window size `k`, produce the list of **contiguous window sums** of length `k`.\n",
    "\n",
    "**Input:** `nums = [2, 1, 3, 4, 6, 1], k = 3`\n",
    "\n",
    "**Output:** `[6, 8, 13, 11]` (i.e., `[2+1+3, 1+3+4, 3+4+6, 4+6+1]`)"
   ]
  },
  {
   "cell_type": "code",
   "execution_count": 7,
   "metadata": {},
   "outputs": [
    {
     "data": {
      "text/plain": [
       "[6, 8, 13, 11]"
      ]
     },
     "execution_count": 7,
     "metadata": {},
     "output_type": "execute_result"
    }
   ],
   "source": [
    "nums = [2, 1, 3, 4, 6, 1]\n",
    "k = 3\n",
    "# TODO: list comprehension over indices -> sum slices\n",
    "window_sums = [sum(nums[i:i+k]) for i in range(len(nums) - k + 1)]\n",
    "window_sums"
   ]
  },
  {
   "cell_type": "code",
   "execution_count": 8,
   "metadata": {},
   "outputs": [
    {
     "name": "stdout",
     "output_type": "stream",
     "text": [
      "OK - 4\n"
     ]
    }
   ],
   "source": [
    "assert window_sums == [6, 8, 13, 11]\n",
    "print('OK - 4')"
   ]
  },
  {
   "cell_type": "markdown",
   "metadata": {},
   "source": [
    "## 5) Cartesian Triples with Constraints\n",
    "Build all ordered pairs `(x, y)` where `x` is from `A = {1,2,3,4}` and `y` is from `B = {2,3,5}`, **only** where `x < y` and `(x + y)` is **odd**. For each such pair, produce a tuple `(x, y, x*y)`.\n",
    "\n",
    "**Output (order matters: iterate `x` outer, `y` inner):** `[(1, 2, 2), (2, 3, 6), (2, 5, 10), (4, 5, 20)]`"
   ]
  },
  {
   "cell_type": "code",
   "execution_count": 9,
   "metadata": {},
   "outputs": [
    {
     "data": {
      "text/plain": [
       "[(1, 2, 2), (2, 3, 6), (2, 5, 10), (4, 5, 20)]"
      ]
     },
     "execution_count": 9,
     "metadata": {},
     "output_type": "execute_result"
    }
   ],
   "source": [
    "A = [1, 2, 3, 4]\n",
    "B = [2, 3, 5]\n",
    "# TODO: nested list comprehension with filters\n",
    "triples = [(x, y, x*y) for x in A for y in B if x < y and (x + y) % 2 == 1]\n",
    "triples"
   ]
  },
  {
   "cell_type": "code",
   "execution_count": 10,
   "metadata": {},
   "outputs": [
    {
     "name": "stdout",
     "output_type": "stream",
     "text": [
      "OK - 5\n"
     ]
    }
   ],
   "source": [
    "assert triples == [(1, 2, 2), (2, 3, 6), (2, 5, 10), (4, 5, 20)]\n",
    "print('OK - 5')"
   ]
  },
  {
   "cell_type": "markdown",
   "metadata": {},
   "source": [
    "## 6) Safe Division with Fallback\n",
    "Given two lists of numerators and denominators of equal length, compute `num/den` where possible; otherwise return the string `'NA'` when `den == 0`.\n",
    "\n",
    "**Input:** `nums = [10, 9, 8, 7]`, `dens = [2, 0, 4, 0]`\n",
    "\n",
    "**Output:** `[5.0, 'NA', 2.0, 'NA']` (use an inline `if-else` in the expression, not a filter!)"
   ]
  },
  {
   "cell_type": "code",
   "execution_count": 11,
   "metadata": {},
   "outputs": [
    {
     "data": {
      "text/plain": [
       "[5.0, 'NA', 2.0, 'NA']"
      ]
     },
     "execution_count": 11,
     "metadata": {},
     "output_type": "execute_result"
    }
   ],
   "source": [
    "nums = [10, 9, 8, 7]\n",
    "dens = [2, 0, 4, 0]\n",
    "# TODO: single list comprehension; use inline if-else expression, not a trailing filter\n",
    "ratios = [(n/d) if d != 0 else 'NA' for n, d in zip(nums, dens)]\n",
    "ratios"
   ]
  },
  {
   "cell_type": "code",
   "execution_count": 12,
   "metadata": {},
   "outputs": [
    {
     "name": "stdout",
     "output_type": "stream",
     "text": [
      "OK - 6\n"
     ]
    }
   ],
   "source": [
    "assert ratios == [5.0, 'NA', 2.0, 'NA']\n",
    "print('OK - 6')"
   ]
  },
  {
   "cell_type": "markdown",
   "metadata": {},
   "source": [
    "## 7) Words ≥ 4 Letters (Punctuation-Safe)\n",
    "Given a list of sentences, create a flat list of **lowercased words** with length ≥ 4, ignoring simple punctuation `,.;:!?'` at the ends of words.\n",
    "\n",
    "**Input:** `sentences = ['Hello, world!', 'Comprehensions are neat.', 'Do more with less.']`\n",
    "\n",
    "**Output:** `['hello', 'world', 'comprehensions', 'neat', 'more', 'with', 'less']`"
   ]
  },
  {
   "cell_type": "code",
   "execution_count": 13,
   "metadata": {},
   "outputs": [
    {
     "data": {
      "text/plain": [
       "['hello', 'world', 'comprehensions', 'neat', 'more', 'with', 'less']"
      ]
     },
     "execution_count": 13,
     "metadata": {},
     "output_type": "execute_result"
    }
   ],
   "source": [
    "sentences = ['Hello, world!', 'Comprehensions are neat.', 'Do more with less.']\n",
    "punct = \",.;:!?'\"\n",
    "# TODO: nested comprehension -> split, strip end punctuation, lower, filter by length\n",
    "words = [w.strip(punct).lower() for s in sentences for w in s.split() if len(w.strip(punct)) >= 4]\n",
    "words"
   ]
  },
  {
   "cell_type": "code",
   "execution_count": 14,
   "metadata": {},
   "outputs": [
    {
     "name": "stdout",
     "output_type": "stream",
     "text": [
      "OK - 7\n"
     ]
    }
   ],
   "source": [
    "assert words == ['hello', 'world', 'comprehensions', 'neat', 'more', 'with', 'less']\n",
    "print('OK - 7')"
   ]
  },
  {
   "cell_type": "markdown",
   "metadata": {},
   "source": [
    "## 8) Lower-Triangular Matrix (0/1)\n",
    "For a given `n`, build an `n×n` list-of-lists where entry `(i, j)` is `1` if `i ≥ j` and `0` otherwise (0-indexed). For `n = 4`, the matrix should be:\n",
    "\n",
    "```\n",
    "[[1, 0, 0, 0],\n",
    " [1, 1, 0, 0],\n",
    " [1, 1, 1, 0],\n",
    " [1, 1, 1, 1]]\n",
    "```"
   ]
  },
  {
   "cell_type": "code",
   "execution_count": 15,
   "metadata": {},
   "outputs": [
    {
     "data": {
      "text/plain": [
       "[[1, 0, 0, 0], [1, 1, 0, 0], [1, 1, 1, 0], [1, 1, 1, 1]]"
      ]
     },
     "execution_count": 15,
     "metadata": {},
     "output_type": "execute_result"
    }
   ],
   "source": [
    "n = 4\n",
    "# TODO: nested list comprehension with inline if-else\n",
    "lower_tri = [[1 if i >= j else 0 for j in range(n)] for i in range(n)]\n",
    "lower_tri"
   ]
  },
  {
   "cell_type": "code",
   "execution_count": 16,
   "metadata": {},
   "outputs": [
    {
     "name": "stdout",
     "output_type": "stream",
     "text": [
      "OK - 8\n"
     ]
    }
   ],
   "source": [
    "assert lower_tri == [\n",
    "    [1, 0, 0, 0],\n",
    "    [1, 1, 0, 0],\n",
    "    [1, 1, 1, 0],\n",
    "    [1, 1, 1, 1]\n",
    "]\n",
    "print('OK - 8')"
   ]
  },
  {
   "cell_type": "markdown",
   "metadata": {},
   "source": [
    "## 9) De-duplicate, Preserve Order — Indices Trick\n",
    "Given `data = ['a', 'b', 'a', 'c', 'b', 'd', 'a']`, build a list that keeps only the **first occurrence** of each element **without** using a set/extra loop. Hint: use indices and compare with `list.index`.\n",
    "\n",
    "**Output:** `['a', 'b', 'c', 'd']`\n",
    "\n",
    "> Note: This approach is O(n²) and fine for small lists. For large data, use a loop + set or `dict.fromkeys`."
   ]
  },
  {
   "cell_type": "code",
   "execution_count": 17,
   "metadata": {},
   "outputs": [
    {
     "data": {
      "text/plain": [
       "['a', 'b', 'c', 'd']"
      ]
     },
     "execution_count": 17,
     "metadata": {},
     "output_type": "execute_result"
    }
   ],
   "source": [
    "data = ['a', 'b', 'a', 'c', 'b', 'd', 'a']\n",
    "# TODO: list comprehension using enumerate or index trick\n",
    "dedup = [x for i, x in enumerate(data) if data.index(x) == i]\n",
    "dedup"
   ]
  },
  {
   "cell_type": "code",
   "execution_count": 18,
   "metadata": {},
   "outputs": [
    {
     "name": "stdout",
     "output_type": "stream",
     "text": [
      "OK - 9\n"
     ]
    }
   ],
   "source": [
    "assert dedup == ['a', 'b', 'c', 'd']\n",
    "print('OK - 9')"
   ]
  },
  {
   "cell_type": "markdown",
   "metadata": {},
   "source": [
    "## 10) Sparse Vector Dot Product (Indices Form)\n",
    "Two sparse vectors are represented by lists of `(index, value)` pairs **sorted by index**, e.g. `v1 = [(0, 3), (3, 5), (10, 2)]`, `v2 = [(0, 4), (2, 7), (3, 1), (10, 3)]`. Compute their dot product using a list comprehension working on **matching indices only**.\n",
    "\n",
    "Hint: Build a quick lookup `dict` for one vector, then a list comprehension over the other to collect products where indices match, and finally `sum(...)`.\n",
    "\n",
    "**Expected:** `3*4 + 5*1 + 2*3 = 23`"
   ]
  },
  {
   "cell_type": "code",
   "execution_count": 19,
   "metadata": {},
   "outputs": [
    {
     "data": {
      "text/plain": [
       "23"
      ]
     },
     "execution_count": 19,
     "metadata": {},
     "output_type": "execute_result"
    }
   ],
   "source": [
    "v1 = [(0, 3), (3, 5), (10, 2)]\n",
    "v2 = [(0, 4), (2, 7), (3, 1), (10, 3)]\n",
    "# TODO: build a dict for one vector, then list comprehension + sum\n",
    "d2 = dict(v2)\n",
    "dot = sum(val1 * d2[i] for i, val1 in v1 if i in d2)\n",
    "dot"
   ]
  },
  {
   "cell_type": "code",
   "execution_count": 20,
   "metadata": {},
   "outputs": [
    {
     "name": "stdout",
     "output_type": "stream",
     "text": [
      "OK - 10\n"
     ]
    }
   ],
   "source": [
    "assert dot == 23\n",
    "print('OK - 10')"
   ]
  },
  {
   "cell_type": "code",
   "execution_count": null,
   "metadata": {},
   "outputs": [],
   "source": []
  }
 ],
 "metadata": {
  "kernelspec": {
   "display_name": "Python 3 (ipykernel)",
   "language": "python",
   "name": "python3"
  },
  "language_info": {
   "codemirror_mode": {
    "name": "ipython",
    "version": 3
   },
   "file_extension": ".py",
   "mimetype": "text/x-python",
   "name": "python",
   "nbconvert_exporter": "python",
   "pygments_lexer": "ipython3",
   "version": "3.13.7"
  }
 },
 "nbformat": 4,
 "nbformat_minor": 4
}
