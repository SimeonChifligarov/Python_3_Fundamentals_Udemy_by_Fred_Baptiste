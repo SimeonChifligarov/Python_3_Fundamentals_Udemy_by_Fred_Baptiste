{
 "cells": [
  {
   "cell_type": "markdown",
   "metadata": {},
   "source": [
    "### For Loops — Advanced Patterns (practical, not too insane)\n",
    "\n",
    "These examples build on basic `for` loops with safe indexing, unpacking, `enumerate`, `zip`, `for`–`else`, sentinel iteration, dict iteration, controlled mutation, and a few handy recipes."
   ]
  },
  {
   "cell_type": "markdown",
   "metadata": {},
   "source": [
    "## 1) Loop unpacking & iteration over structured data"
   ]
  },
  {
   "cell_type": "code",
   "execution_count": 1,
   "metadata": {},
   "outputs": [
    {
     "name": "stdout",
     "output_type": "stream",
     "text": [
      "name='alice' count=3\n",
      "name='bob' count=5\n",
      "name='chris' count=2\n",
      "id=1 → (10, 20)\n",
      "id=2 → (30, 40)\n"
     ]
    }
   ],
   "source": [
    "pairs = [(\"alice\", 3), (\"bob\", 5), (\"chris\", 2)]\n",
    "for name, count in pairs:\n",
    "    print(f\"{name=} {count=}\")\n",
    "\n",
    "# Nested unpacking\n",
    "records = [(1, (10, 20)), (2, (30, 40))]\n",
    "for rec_id, (x, y) in records:\n",
    "    print(f\"id={rec_id} → ({x}, {y})\")"
   ]
  },
  {
   "cell_type": "markdown",
   "metadata": {},
   "source": [
    "## 2) Enumerate — indexes *and* values (with custom start)"
   ]
  },
  {
   "cell_type": "code",
   "execution_count": 2,
   "metadata": {},
   "outputs": [
    {
     "name": "stdout",
     "output_type": "stream",
     "text": [
      "row 1: 10\n",
      "row 2: 20\n",
      "row 3: 30\n"
     ]
    }
   ],
   "source": [
    "data = [10, 20, 30]\n",
    "for i, val in enumerate(data, start=1):  # start from 1\n",
    "    print(f\"row {i}: {val}\")"
   ]
  },
  {
   "cell_type": "markdown",
   "metadata": {},
   "source": [
    "## 3) Zipping multiple iterables (parallel iteration)"
   ]
  },
  {
   "cell_type": "code",
   "execution_count": 3,
   "metadata": {},
   "outputs": [
    {
     "name": "stdout",
     "output_type": "stream",
     "text": [
      "A: score=95 weight=0.5\n",
      "B: score=88 weight=0.3\n",
      "C: score=79 weight=0.2\n",
      "same length? False\n"
     ]
    }
   ],
   "source": [
    "names = [\"A\", \"B\", \"C\", \"D\"]\n",
    "scores = [95, 88, 79]\n",
    "weights = [0.5, 0.3, 0.2, 0.1]\n",
    "\n",
    "# zip stops at the shortest iterable\n",
    "for name, score, w in zip(names, scores, weights):\n",
    "    print(f\"{name}: score={score} weight={w}\")\n",
    "\n",
    "# If you need strict length matching, use zip with a check:\n",
    "ok = len(names) == len(scores) == len(weights)\n",
    "print(\"same length?\", ok)"
   ]
  },
  {
   "cell_type": "markdown",
   "metadata": {},
   "source": [
    "## 4) Dictionary iteration (keys, values, items)"
   ]
  },
  {
   "cell_type": "code",
   "execution_count": 4,
   "metadata": {},
   "outputs": [
    {
     "name": "stdout",
     "output_type": "stream",
     "text": [
      "key: host\n",
      "key: port\n",
      "key: ssl\n",
      "value: db.local\n",
      "value: 5432\n",
      "value: True\n",
      "host → db.local\n",
      "port → 5432\n",
      "ssl → True\n"
     ]
    }
   ],
   "source": [
    "cfg = {\"host\": \"db.local\", \"port\": 5432, \"ssl\": True}\n",
    "for key in cfg:  # same as: for key in cfg.keys()\n",
    "    print(\"key:\", key)\n",
    "\n",
    "for value in cfg.values():\n",
    "    print(\"value:\", value)\n",
    "\n",
    "for key, value in cfg.items():\n",
    "    print(f\"{key} → {value}\")"
   ]
  },
  {
   "cell_type": "markdown",
   "metadata": {},
   "source": [
    "## 5) `for`–`else` (run `else` only if loop **didn't** `break`)"
   ]
  },
  {
   "cell_type": "code",
   "execution_count": 5,
   "metadata": {},
   "outputs": [
    {
     "name": "stdout",
     "output_type": "stream",
     "text": [
      "Found odd: 9\n"
     ]
    }
   ],
   "source": [
    "nums = [2, 4, 6, 9, 12]\n",
    "for n in nums:\n",
    "    if n % 2:  # found an odd\n",
    "        print(\"Found odd:\", n)\n",
    "        break\n",
    "else:  # runs only if no break happened\n",
    "    print(\"All numbers were even\")"
   ]
  },
  {
   "cell_type": "markdown",
   "metadata": {},
   "source": [
    "## 6) `continue`, `break`, and guarded loops (skipping & early exit)"
   ]
  },
  {
   "cell_type": "code",
   "execution_count": 6,
   "metadata": {},
   "outputs": [
    {
     "name": "stdout",
     "output_type": "stream",
     "text": [
      "ok: alpha\n",
      "ok: beta\n",
      "stop at: gamma\n"
     ]
    }
   ],
   "source": [
    "words = [\"alpha\", \"\", \"beta\", None, \"gamma\", \"delta\"]\n",
    "for w in words:\n",
    "    if not w:            # skip empty/None\n",
    "        continue\n",
    "    if w.startswith(\"g\"):\n",
    "        print(\"stop at:\", w)\n",
    "        break\n",
    "    print(\"ok:\", w)"
   ]
  },
  {
   "cell_type": "markdown",
   "metadata": {},
   "source": [
    "## 7) Sentinel iteration (no `while True`) using `iter(callable, sentinel)`\n",
    "\n",
    "Loop until a callable returns the sentinel value. Great for chunked I/O or repeated API calls."
   ]
  },
  {
   "cell_type": "code",
   "execution_count": 7,
   "metadata": {},
   "outputs": [
    {
     "name": "stdout",
     "output_type": "stream",
     "text": [
      "b'abc'\n",
      "b'def'\n",
      "b'ghi'\n",
      "b'j'\n"
     ]
    }
   ],
   "source": [
    "# Example: repeatedly read fixed-size chunks until b\"\" (EOF-like)\n",
    "data = b\"abcdefghij\"  # pretend this is a stream\n",
    "chunk_size = 3\n",
    "pos = 0\n",
    "\n",
    "def read_chunk():\n",
    "    global pos\n",
    "    if pos >= len(data):\n",
    "        return b\"\"  # sentinel\n",
    "    chunk = data[pos:pos+chunk_size]\n",
    "    pos += chunk_size\n",
    "    return chunk\n",
    "\n",
    "for chunk in iter(read_chunk, b\"\"):\n",
    "    print(chunk)"
   ]
  },
  {
   "cell_type": "markdown",
   "metadata": {},
   "source": [
    "## 8) Safe in-place modification while iterating\n",
    "\n",
    "Avoid mutating a list **as you iterate over it directly**. Use index-based assignment or build a new list."
   ]
  },
  {
   "cell_type": "code",
   "execution_count": 8,
   "metadata": {},
   "outputs": [
    {
     "name": "stdout",
     "output_type": "stream",
     "text": [
      "[1, 0, 3, 0, 5]\n",
      "[1, 0, 3, 0, 5]\n"
     ]
    }
   ],
   "source": [
    "nums = [1, None, 3, None, 5]\n",
    "\n",
    "# ✅ index-based update (safe)\n",
    "for i, x in enumerate(nums):\n",
    "    if x is None:\n",
    "        nums[i] = 0\n",
    "print(nums)\n",
    "\n",
    "# ✅ create a new list (also safe & often clearer)\n",
    "nums2 = [0 if x is None else x for x in nums]\n",
    "print(nums2)\n",
    "\n",
    "# ❌ removing/adding while iterating over the same list can skip elements"
   ]
  },
  {
   "cell_type": "markdown",
   "metadata": {},
   "source": [
    "## 9) Looping over matrices: direct, with indexes, and transpose trick"
   ]
  },
  {
   "cell_type": "code",
   "execution_count": 9,
   "metadata": {},
   "outputs": [
    {
     "name": "stdout",
     "output_type": "stream",
     "text": [
      "diag @0,0 = 1\n",
      "diag @2,2 = 9\n",
      "[(1, 4, 7), (2, 5, 8), (3, 6, 9)]\n"
     ]
    }
   ],
   "source": [
    "m = [\n",
    "    [1, 2, 3],\n",
    "    [4, 5, 6],\n",
    "    [7, 8, 9]\n",
    "]\n",
    "\n",
    "# Direct element iteration\n",
    "for row in m:\n",
    "    for x in row:\n",
    "        pass  # do stuff\n",
    "\n",
    "# With indexes (ragged rows supported)\n",
    "for i, row in enumerate(m):\n",
    "    for j, x in enumerate(row):\n",
    "        if (i, j) in [(0, 0), (2, 2)]:\n",
    "            print(f\"diag @{i},{j} = {x}\")\n",
    "\n",
    "# Transpose with zip(*) (requires equal-length rows)\n",
    "mt = list(zip(*m))  # columns as tuples\n",
    "print(mt)"
   ]
  },
  {
   "cell_type": "markdown",
   "metadata": {},
   "source": [
    "## 10) Accumulation patterns: any/all, running totals, grouping"
   ]
  },
  {
   "cell_type": "code",
   "execution_count": 10,
   "metadata": {},
   "outputs": [
    {
     "name": "stdout",
     "output_type": "stream",
     "text": [
      "True True\n",
      "[3, 8, 16, 28, 43]\n",
      "{'even': [8, 12], 'odd': [3, 5, 15]}\n"
     ]
    }
   ],
   "source": [
    "nums = [3, 5, 8, 12, 15]\n",
    "\n",
    "# any/all\n",
    "has_even = any(n % 2 == 0 for n in nums)\n",
    "all_pos  = all(n > 0 for n in nums)\n",
    "print(has_even, all_pos)\n",
    "\n",
    "# running total\n",
    "total = 0\n",
    "running = []\n",
    "for n in nums:\n",
    "    total += n\n",
    "    running.append(total)\n",
    "print(running)\n",
    "\n",
    "# simple grouping (bucket by parity)\n",
    "groups = {\"even\": [], \"odd\": []}\n",
    "for n in nums:\n",
    "    groups[\"even\" if n % 2 == 0 else \"odd\"].append(n)\n",
    "print(groups)"
   ]
  },
  {
   "cell_type": "markdown",
   "metadata": {},
   "source": [
    "## 11) Loop–`try/except` (robust processing of noisy data)"
   ]
  },
  {
   "cell_type": "code",
   "execution_count": 11,
   "metadata": {},
   "outputs": [
    {
     "name": "stdout",
     "output_type": "stream",
     "text": [
      "[10, -3, 7]\n"
     ]
    }
   ],
   "source": [
    "raw = [\"10\", \"-3\", \"x\", \"5.5\", None, \"7\"]\n",
    "clean = []\n",
    "for item in raw:\n",
    "    try:\n",
    "        clean.append(int(item))\n",
    "    except (TypeError, ValueError):\n",
    "        # log/skip/break as needed\n",
    "        continue\n",
    "print(clean)"
   ]
  },
  {
   "cell_type": "markdown",
   "metadata": {},
   "source": [
    "## 12) Looping over files & lines safely (context manager)"
   ]
  },
  {
   "cell_type": "code",
   "execution_count": 12,
   "metadata": {},
   "outputs": [
    {
     "data": {
      "text/plain": [
       "['alpha', 'beta', 'gamma']"
      ]
     },
     "execution_count": 12,
     "metadata": {},
     "output_type": "execute_result"
    }
   ],
   "source": [
    "# Demo content (normally you'd open an existing file)\n",
    "path = \"_demo.txt\"\n",
    "with open(path, \"w\", encoding=\"utf-8\") as f:\n",
    "    f.write(\"alpha\\n\\n beta\\n gamma \\n\")\n",
    "\n",
    "# Iterate lines lazily; strip whitespace; skip empty\n",
    "clean_lines = []\n",
    "with open(path, encoding=\"utf-8\") as f:\n",
    "    for line in f:\n",
    "        s = line.strip()\n",
    "        if not s:\n",
    "            continue\n",
    "        clean_lines.append(s)\n",
    "clean_lines"
   ]
  },
  {
   "cell_type": "markdown",
   "metadata": {},
   "source": [
    "## 13) Batching / chunking indices with `range` (pairs, windows)"
   ]
  },
  {
   "cell_type": "code",
   "execution_count": 13,
   "metadata": {},
   "outputs": [
    {
     "name": "stdout",
     "output_type": "stream",
     "text": [
      "[[1, 2, 3], [4, 5, 6], [7, 8, 9], [10]]\n",
      "[[1, 2, 3], [2, 3, 4], [3, 4, 5], [4, 5, 6], [5, 6, 7]]\n"
     ]
    }
   ],
   "source": [
    "arr = list(range(1, 11))  # 1..10\n",
    "\n",
    "# fixed-size non-overlapping batches (size=3)\n",
    "size = 3\n",
    "batches = [arr[i:i+size] for i in range(0, len(arr), size)]\n",
    "print(batches)\n",
    "\n",
    "# sliding window of size 3 (overlapping)\n",
    "windows = [arr[i:i+3] for i in range(len(arr)-2)]\n",
    "print(windows[:5])"
   ]
  },
  {
   "cell_type": "markdown",
   "metadata": {},
   "source": [
    "## 14) Cartesian products (nested loops) via `itertools.product`"
   ]
  },
  {
   "cell_type": "code",
   "execution_count": 14,
   "metadata": {},
   "outputs": [
    {
     "data": {
      "text/plain": [
       "[(0, 0), (0, 1), (1, 0), (1, 1), (2, 0), (2, 1)]"
      ]
     },
     "execution_count": 14,
     "metadata": {},
     "output_type": "execute_result"
    }
   ],
   "source": [
    "from itertools import product\n",
    "rows = [0, 1, 2]\n",
    "cols = [0, 1]\n",
    "coords = list(product(rows, cols))  # (r,c) pairs\n",
    "coords"
   ]
  },
  {
   "cell_type": "markdown",
   "metadata": {},
   "source": [
    "## 15) Mini-exercises\n",
    "1. Using `for`–`else`, search a list for a prime; print the prime or \"no prime\" if none found.\n",
    "2. Read `_demo.txt` and build a dict `{line: len(line)}` for non-empty lines.\n",
    "3. Given two equal-length lists of prices and quantities, compute total cost via `zip`.\n",
    "4. Create 3×3 identity matrix using **one** nested loop and conditional."
   ]
  },
  {
   "cell_type": "code",
   "execution_count": null,
   "metadata": {},
   "outputs": [],
   "source": []
  }
 ],
 "metadata": {
  "kernelspec": {
   "display_name": "Python 3 (ipykernel)",
   "language": "python",
   "name": "python3"
  },
  "language_info": {
   "codemirror_mode": {
    "name": "ipython",
    "version": 3
   },
   "file_extension": ".py",
   "mimetype": "text/x-python",
   "name": "python",
   "nbconvert_exporter": "python",
   "pygments_lexer": "ipython3",
   "version": "3.13.7"
  }
 },
 "nbformat": 4,
 "nbformat_minor": 4
}
