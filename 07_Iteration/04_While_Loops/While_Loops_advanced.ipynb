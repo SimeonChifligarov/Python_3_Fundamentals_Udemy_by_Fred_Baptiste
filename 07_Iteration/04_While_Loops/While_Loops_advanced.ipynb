{
 "cells": [
  {
   "cell_type": "markdown",
   "metadata": {},
   "source": [
    "### While Loops — Advanced Patterns (practical, not too insane)\n",
    "\n",
    "These patterns build on the basics: `while` conditions, guards to avoid infinite loops, `while`–`else`, input loops, backoff retries, queue/stack draining, two-pointer scans, and timeouts."
   ]
  },
  {
   "cell_type": "markdown",
   "metadata": {},
   "source": [
    "## 1) Emulating *do–while*: run body at least once"
   ]
  },
  {
   "cell_type": "code",
   "execution_count": 1,
   "metadata": {},
   "outputs": [
    {
     "name": "stdout",
     "output_type": "stream",
     "text": [
      "tick 1\n",
      "tick 2\n",
      "tick 3\n"
     ]
    }
   ],
   "source": [
    "x = 0\n",
    "while True:\n",
    "    x += 1  # body runs at least once\n",
    "    print(\"tick\", x)\n",
    "    if x >= 3:\n",
    "        break  # exit condition checked after body"
   ]
  },
  {
   "cell_type": "markdown",
   "metadata": {},
   "source": [
    "## 2) `while`–`else`: run `else` only if loop didn't `break`"
   ]
  },
  {
   "cell_type": "code",
   "execution_count": 2,
   "metadata": {},
   "outputs": [
    {
     "name": "stdout",
     "output_type": "stream",
     "text": [
      "all numbers were even\n"
     ]
    }
   ],
   "source": [
    "nums = [4, 8, 12, 16]\n",
    "i = 0\n",
    "while i < len(nums):\n",
    "    if nums[i] % 2:  # odd -> break\n",
    "        print(\"found odd\", nums[i])\n",
    "        break\n",
    "    i += 1\n",
    "else:  # reached naturally (no break)\n",
    "    print(\"all numbers were even\")"
   ]
  },
  {
   "cell_type": "markdown",
   "metadata": {},
   "source": [
    "## 3) Guard against infinite loops with a maximum-steps safety valve"
   ]
  },
  {
   "cell_type": "code",
   "execution_count": 3,
   "metadata": {},
   "outputs": [
    {
     "name": "stdout",
     "output_type": "stream",
     "text": [
      "done with state= 5\n"
     ]
    }
   ],
   "source": [
    "state = 0\n",
    "max_steps = 10_000\n",
    "steps = 0\n",
    "while state != 5:\n",
    "    state += 1  # pretend: complex transition\n",
    "    steps += 1\n",
    "    if steps > max_steps:\n",
    "        raise RuntimeError(\"loop safety valve tripped\")\n",
    "print(\"done with state=\", state)"
   ]
  },
  {
   "cell_type": "markdown",
   "metadata": {},
   "source": [
    "## 4) Time-based timeout using `time.monotonic()` (robust vs system clock changes)"
   ]
  },
  {
   "cell_type": "code",
   "execution_count": 4,
   "metadata": {},
   "outputs": [
    {
     "name": "stdout",
     "output_type": "stream",
     "text": [
      "{'ok': True, 'attempts': 3}\n"
     ]
    }
   ],
   "source": [
    "import time\n",
    "\n",
    "deadline = time.monotonic() + 1.5  # seconds from now\n",
    "attempts = 0\n",
    "ok = False\n",
    "while time.monotonic() < deadline:\n",
    "    attempts += 1\n",
    "    # fake condition; replace with real readiness check\n",
    "    if attempts == 3:\n",
    "        ok = True\n",
    "        break\n",
    "    time.sleep(0.2)\n",
    "print({\"ok\": ok, \"attempts\": attempts})"
   ]
  },
  {
   "cell_type": "markdown",
   "metadata": {},
   "source": [
    "## 5) Exponential backoff with jitter (retry pattern)"
   ]
  },
  {
   "cell_type": "code",
   "execution_count": 5,
   "metadata": {},
   "outputs": [
    {
     "name": "stdout",
     "output_type": "stream",
     "text": [
      "{'success': True, 'retries': 0}\n"
     ]
    }
   ],
   "source": [
    "import random, time\n",
    "\n",
    "retries = 0\n",
    "max_retries = 5\n",
    "base = 0.1  # seconds\n",
    "success = False\n",
    "\n",
    "while retries < max_retries:\n",
    "    # call flaky operation (here simulated)\n",
    "    success = random.random() < 0.35\n",
    "    if success:\n",
    "        break\n",
    "    delay = base * (2 ** retries) + random.uniform(0, base)\n",
    "    time.sleep(delay)\n",
    "    retries += 1\n",
    "\n",
    "print({\"success\": success, \"retries\": retries})"
   ]
  },
  {
   "cell_type": "markdown",
   "metadata": {},
   "source": [
    "## 6) Input validation loop using the walrus operator (`:=`)"
   ]
  },
  {
   "cell_type": "code",
   "execution_count": 6,
   "metadata": {},
   "outputs": [
    {
     "name": "stdout",
     "output_type": "stream",
     "text": [
      "invalid: abc\n",
      "invalid: -3\n",
      "accepted: 42\n"
     ]
    }
   ],
   "source": [
    "# In notebooks, replace input() by a list iterator for demo\n",
    "samples = iter([\"abc\", \"-3\", \"42\"])  # pretend these came from input()\n",
    "\n",
    "while True:\n",
    "    try:\n",
    "        s = next(samples)  # s := input(\"Enter a positive int: \")\n",
    "    except StopIteration:\n",
    "        print(\"no valid input provided\")\n",
    "        break\n",
    "    if s.isdigit() and int(s) > 0:\n",
    "        print(\"accepted:\", int(s))\n",
    "        break\n",
    "    print(\"invalid:\", s)"
   ]
  },
  {
   "cell_type": "markdown",
   "metadata": {},
   "source": [
    "## 7) Draining a stack / queue with `while` (mutation-friendly)"
   ]
  },
  {
   "cell_type": "code",
   "execution_count": 7,
   "metadata": {},
   "outputs": [
    {
     "name": "stdout",
     "output_type": "stream",
     "text": [
      "stack popped 3\n",
      "stack popped 2\n",
      "stack popped 1\n",
      "queue got  a\n",
      "queue got  b\n",
      "queue got  c\n"
     ]
    }
   ],
   "source": [
    "from collections import deque\n",
    "\n",
    "# Stack (LIFO)\n",
    "stack = [1, 2, 3]\n",
    "while stack:\n",
    "    x = stack.pop()  # last-in first-out\n",
    "    print(\"stack popped\", x)\n",
    "\n",
    "# Queue (FIFO)\n",
    "q = deque([\"a\", \"b\", \"c\"])\n",
    "while q:\n",
    "    x = q.popleft()\n",
    "    print(\"queue got \", x)"
   ]
  },
  {
   "cell_type": "markdown",
   "metadata": {},
   "source": [
    "## 8) Two-pointer technique with `while` (merge two sorted lists)\n",
    "Efficient O(n+m) merge used in mergesort and joining sorted streams."
   ]
  },
  {
   "cell_type": "code",
   "execution_count": 8,
   "metadata": {},
   "outputs": [
    {
     "name": "stdout",
     "output_type": "stream",
     "text": [
      "[1, 2, 3, 3, 6, 7, 10, 11]\n"
     ]
    }
   ],
   "source": [
    "a = [1, 3, 7, 10]\n",
    "b = [2, 3, 6, 11]\n",
    "i = j = 0\n",
    "merged = []\n",
    "\n",
    "while i < len(a) and j < len(b):\n",
    "    if a[i] <= b[j]:\n",
    "        merged.append(a[i]); i += 1\n",
    "    else:\n",
    "        merged.append(b[j]); j += 1\n",
    "\n",
    "# append any remainder\n",
    "while i < len(a):\n",
    "    merged.append(a[i]); i += 1\n",
    "while j < len(b):\n",
    "    merged.append(b[j]); j += 1\n",
    "\n",
    "print(merged)"
   ]
  },
  {
   "cell_type": "markdown",
   "metadata": {},
   "source": [
    "## 9) Reading lines until EOF with assignment expression\n",
    "This mirrors typical stream processing without loading entire file into memory."
   ]
  },
  {
   "cell_type": "code",
   "execution_count": 9,
   "metadata": {},
   "outputs": [
    {
     "name": "stdout",
     "output_type": "stream",
     "text": [
      "['alpha', 'beta', 'gamma']\n"
     ]
    }
   ],
   "source": [
    "# Prepare a demo file\n",
    "path = \"_demo_while_read.txt\"\n",
    "with open(path, \"w\", encoding=\"utf-8\") as f:\n",
    "    f.write(\"alpha\\n\\n beta\\n gamma \\n\")\n",
    "\n",
    "clean = []\n",
    "with open(path, encoding=\"utf-8\") as f:\n",
    "    line = f.readline()\n",
    "    while line:  # non-empty string means not EOF\n",
    "        s = line.strip()\n",
    "        if s:\n",
    "            clean.append(s)\n",
    "        line = f.readline()\n",
    "print(clean)"
   ]
  },
  {
   "cell_type": "markdown",
   "metadata": {},
   "source": [
    "## 10) Polling with incremental sleep (soft CPU usage)"
   ]
  },
  {
   "cell_type": "code",
   "execution_count": 10,
   "metadata": {},
   "outputs": [
    {
     "name": "stdout",
     "output_type": "stream",
     "text": [
      "{'ready': True, 'attempts': 4}\n"
     ]
    }
   ],
   "source": [
    "import time\n",
    "\n",
    "ready = False\n",
    "sleep_s = 0.05\n",
    "max_sleep = 0.4\n",
    "attempts = 0\n",
    "start = time.monotonic()\n",
    "\n",
    "while not ready and (time.monotonic() - start) < 1.0:\n",
    "    attempts += 1\n",
    "    # fake readiness after a few tries\n",
    "    if attempts == 4:\n",
    "        ready = True\n",
    "        break\n",
    "    time.sleep(sleep_s)\n",
    "    sleep_s = min(max_sleep, sleep_s * 2)  # gradually relax polling\n",
    "\n",
    "print({\"ready\": ready, \"attempts\": attempts})"
   ]
  },
  {
   "cell_type": "markdown",
   "metadata": {},
   "source": [
    "## 11) Finite-state style loop (simple numeric lexer)\n",
    "Recognize contiguous digits and emit them as integers; skip other chars."
   ]
  },
  {
   "cell_type": "code",
   "execution_count": 11,
   "metadata": {},
   "outputs": [
    {
     "name": "stdout",
     "output_type": "stream",
     "text": [
      "[12, 3, 9]\n"
     ]
    }
   ],
   "source": [
    "s = \"abc12d003x9\"\n",
    "i = 0\n",
    "out = []\n",
    "while i < len(s):\n",
    "    if s[i].isdigit():\n",
    "        j = i\n",
    "        while j < len(s) and s[j].isdigit():\n",
    "            j += 1\n",
    "        out.append(int(s[i:j]))\n",
    "        i = j\n",
    "    else:\n",
    "        i += 1\n",
    "print(out)  # [12, 3, 9]"
   ]
  },
  {
   "cell_type": "markdown",
   "metadata": {},
   "source": [
    "## 12) Robust removal while iterating (index-based from end)\n",
    "Modify a list in-place by walking indices **backwards** to avoid skipping elements."
   ]
  },
  {
   "cell_type": "code",
   "execution_count": 12,
   "metadata": {},
   "outputs": [
    {
     "name": "stdout",
     "output_type": "stream",
     "text": [
      "[1, 2, 3]\n"
     ]
    }
   ],
   "source": [
    "vals = [1, None, 2, None, 3, None]\n",
    "i = len(vals) - 1\n",
    "while i >= 0:\n",
    "    if vals[i] is None:\n",
    "        vals.pop(i)\n",
    "    i -= 1\n",
    "print(vals)  # [1, 2, 3]"
   ]
  },
  {
   "cell_type": "markdown",
   "metadata": {},
   "source": [
    "## 13) Mini-exercises\n",
    "1. Implement a `while` loop that keeps dividing `n` by 2 (integer division) until it reaches 0; count steps.\n",
    "2. Write a retry loop with a fixed timeout and **max attempts**; ensure both guards are enforced.\n",
    "3. Use a two-pointer `while` to check if a string is a palindrome, ignoring non-alphanumerics.\n",
    "4. Drain a `deque` of tasks where each task may append new tasks (simulate breadth-first processing)."
   ]
  },
  {
   "cell_type": "code",
   "execution_count": null,
   "metadata": {},
   "outputs": [],
   "source": []
  }
 ],
 "metadata": {
  "kernelspec": {
   "display_name": "Python 3 (ipykernel)",
   "language": "python",
   "name": "python3"
  },
  "language_info": {
   "codemirror_mode": {
    "name": "ipython",
    "version": 3
   },
   "file_extension": ".py",
   "mimetype": "text/x-python",
   "name": "python",
   "nbconvert_exporter": "python",
   "pygments_lexer": "ipython3",
   "version": "3.13.7"
  }
 },
 "nbformat": 4,
 "nbformat_minor": 4
}
