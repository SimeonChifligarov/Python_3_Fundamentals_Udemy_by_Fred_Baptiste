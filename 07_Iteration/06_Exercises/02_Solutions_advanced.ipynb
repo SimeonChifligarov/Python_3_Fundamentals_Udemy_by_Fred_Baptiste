{
 "cells": [
  {
   "cell_type": "markdown",
   "id": "631b823e",
   "metadata": {},
   "source": [
    "### 02 — Solutions (advanced, but not too much)"
   ]
  },
  {
   "cell_type": "markdown",
   "id": "9428eebe",
   "metadata": {},
   "source": [
    "#### Question 1 — m×n multiplication table"
   ]
  },
  {
   "cell_type": "code",
   "execution_count": 1,
   "id": "cdc26b77",
   "metadata": {},
   "outputs": [
    {
     "name": "stdout",
     "output_type": "stream",
     "text": [
      "1 x 1 = 1\n",
      "1 x 2 = 2\n",
      "1 x 3 = 3\n",
      "1 x 4 = 4\n",
      "---------------\n",
      "2 x 1 = 2\n",
      "2 x 2 = 4\n",
      "2 x 3 = 6\n",
      "2 x 4 = 8\n",
      "---------------\n",
      "3 x 1 = 3\n",
      "3 x 2 = 6\n",
      "3 x 3 = 9\n",
      "3 x 4 = 12\n",
      "---------------\n"
     ]
    }
   ],
   "source": [
    "def multiplication_table(m: int, n: int) -> None:\n",
    "    \"\"\"Print an m x n multiplication table.\n",
    "    Advanced touches:\n",
    "      • input validation\n",
    "      • dynamic separator width\n",
    "      • single place to format rows\n",
    "    \"\"\"\n",
    "    if not (isinstance(m, int) and isinstance(n, int)) or m <= 0 or n <= 0:\n",
    "        raise ValueError(\"m and n must be positive integers\")\n",
    "\n",
    "    # Longest line dictates the separator length\n",
    "    sample = f\"{m} x {n} = {m*n}\"\n",
    "    sep = \"-\" * max(15, len(sample))\n",
    "\n",
    "    for i in range(1, m + 1):\n",
    "        for j in range(1, n + 1):\n",
    "            print(f\"{i} x {j} = {i*j}\")\n",
    "        print(sep)\n",
    "\n",
    "# demo\n",
    "multiplication_table(3, 4)"
   ]
  },
  {
   "cell_type": "markdown",
   "id": "1bba49c1",
   "metadata": {},
   "source": [
    "**Alternative (returns a single string):** useful for tests or writing to files."
   ]
  },
  {
   "cell_type": "code",
   "execution_count": 2,
   "id": "ccde98b5",
   "metadata": {},
   "outputs": [
    {
     "name": "stdout",
     "output_type": "stream",
     "text": [
      "1 x 1 = 1\n",
      "1 x 2 = 2\n",
      "1 x 3 = 3\n",
      "1 x 4 = 4\n",
      "---------------\n",
      "2 x 1 = 2\n",
      "2 x 2 = 4\n",
      "2 x 3 = 6\n",
      "2 x 4 = 8\n",
      "---------------\n",
      "3 x 1 = 3\n",
      "3 x 2 = 6\n",
      "3 x 3 = 9\n",
      "3 x 4 = 12\n",
      "---------------\n"
     ]
    }
   ],
   "source": [
    "def multiplication_table_str(m: int, n: int) -> str:\n",
    "    sample = f\"{m} x {n} = {m*n}\"\n",
    "    sep = \"-\" * max(15, len(sample))\n",
    "    blocks = []\n",
    "    for i in range(1, m + 1):\n",
    "        rows = [f\"{i} x {j} = {i*j}\" for j in range(1, n + 1)]\n",
    "        blocks.append(\"\\n\".join(rows))\n",
    "    return (\"\\n\" + sep + \"\\n\").join(blocks) + \"\\n\" + sep\n",
    "\n",
    "print(multiplication_table_str(3, 4))"
   ]
  },
  {
   "cell_type": "markdown",
   "id": "a5a32e18",
   "metadata": {},
   "source": [
    "#### Question 2 — mutate rows with distance and find date of maximum"
   ]
  },
  {
   "cell_type": "code",
   "execution_count": 3,
   "id": "bfcae206",
   "metadata": {},
   "outputs": [
    {
     "name": "stdout",
     "output_type": "stream",
     "text": [
      "mutated data:\n",
      "['2021-01-01', 10, 20, 10]\n",
      "['2021-01-02', 20, 18, 2]\n",
      "['2021-01-03', -10, 10, 20]\n",
      "['2021-01-04', 100, 102, 2]\n",
      "['2021-01-05', 20, 45, 25]\n",
      "date of max distance: 2021-01-05\n"
     ]
    }
   ],
   "source": [
    "data = (\n",
    "    ['2021-01-01', 10, 20],\n",
    "    ['2021-01-02', 20, 18],\n",
    "    ['2021-01-03', -10, 10],\n",
    "    ['2021-01-04', 100, 102],\n",
    "    ['2021-01-05', 20, 45]\n",
    ")\n",
    "\n",
    "def annotate_and_find_max(span: tuple[list]) -> str:\n",
    "    \"\"\"Mutate each inner list by appending abs diff and return the date of the max distance.\n",
    "    Works for any number of rows; assumes each row is [date(str), x(int), y(int)].\n",
    "    \"\"\"\n",
    "    max_date = None\n",
    "    max_dist = float('-inf')\n",
    "    for row in span:\n",
    "        # robust parse: tolerate numeric-like strings\n",
    "        try:\n",
    "            a = int(row[1])\n",
    "            b = int(row[2])\n",
    "        except (ValueError, TypeError, IndexError):\n",
    "            raise ValueError(f\"Bad row: {row}\")\n",
    "        dist = abs(a - b)\n",
    "        if len(row) == 3:\n",
    "            row.append(dist)      # mutate in place\n",
    "        else:\n",
    "            row[3] = dist         # refresh if already present\n",
    "        if dist > max_dist:\n",
    "            max_dist = dist\n",
    "            max_date = row[0]\n",
    "    return max_date\n",
    "\n",
    "date_of_max = annotate_and_find_max(data)\n",
    "print(\"mutated data:\")\n",
    "for r in data:\n",
    "    print(r)\n",
    "print(\"date of max distance:\", date_of_max)"
   ]
  },
  {
   "cell_type": "markdown",
   "id": "697802e2",
   "metadata": {},
   "source": [
    "**Alternative (concise `max(..., key=...)` after mutation):**"
   ]
  },
  {
   "cell_type": "code",
   "execution_count": 4,
   "id": "3b8ec1d2",
   "metadata": {},
   "outputs": [
    {
     "name": "stdout",
     "output_type": "stream",
     "text": [
      "2021-01-05\n",
      "['2021-01-01', 10, 20, 10]\n",
      "['2021-01-02', 20, 18, 2]\n",
      "['2021-01-03', -10, 10, 20]\n",
      "['2021-01-04', 100, 102, 2]\n",
      "['2021-01-05', 20, 45, 25]\n"
     ]
    }
   ],
   "source": [
    "# re-create for a clean run\n",
    "data2 = (\n",
    "    ['2021-01-01', 10, 20],\n",
    "    ['2021-01-02', 20, 18],\n",
    "    ['2021-01-03', -10, 10],\n",
    "    ['2021-01-04', 100, 102],\n",
    "    ['2021-01-05', 20, 45]\n",
    ")\n",
    "\n",
    "for row in data2:\n",
    "    row.append(abs(int(row[1]) - int(row[2])))\n",
    "\n",
    "date_of_max2 = max(data2, key=lambda r: r[3])[0]\n",
    "print(date_of_max2)\n",
    "for r in data2:\n",
    "    print(r)"
   ]
  },
  {
   "cell_type": "markdown",
   "id": "8f0d762f",
   "metadata": {},
   "source": [
    "#### Question 3 — trend labels based on previous row’s close"
   ]
  },
  {
   "cell_type": "markdown",
   "id": "95607e6e",
   "metadata": {},
   "source": [
    "Rules:\n",
    "1) If current open > previous close → `up`\n",
    "2) If current open < previous close → `down`\n",
    "3) Else → `same`\n",
    "\n",
    "First row gets an empty string."
   ]
  },
  {
   "cell_type": "code",
   "execution_count": 5,
   "id": "af333d2c",
   "metadata": {},
   "outputs": [
    {
     "name": "stdout",
     "output_type": "stream",
     "text": [
      "[10, 20, '']\n",
      "[20, 30, 'same']\n",
      "[35, 50, 'up']\n",
      "[45, 60, 'down']\n"
     ]
    }
   ],
   "source": [
    "data = [\n",
    "    [10, 20],\n",
    "    [20, 30],\n",
    "    [35, 50],\n",
    "    [45, 60]\n",
    "]\n",
    "\n",
    "def label_trends(rows: list[list[int]]) -> None:\n",
    "    if not rows:\n",
    "        return\n",
    "    # first row\n",
    "    rows[0].append(\"\")\n",
    "    # subsequent rows (mutate in place)\n",
    "    for curr, prev in zip(rows[1:], rows[:-1]):\n",
    "        open_curr, close_prev = int(curr[0]), int(prev[1])\n",
    "        label = \"up\" if open_curr > close_prev else (\"down\" if open_curr < close_prev else \"same\")\n",
    "        curr.append(label)\n",
    "\n",
    "label_trends(data)\n",
    "for r in data:\n",
    "    print(r)"
   ]
  },
  {
   "cell_type": "markdown",
   "id": "85ba0507",
   "metadata": {},
   "source": [
    "**Variant (index-based, useful if you prefer explicit positions):**"
   ]
  },
  {
   "cell_type": "code",
   "execution_count": 6,
   "id": "10076379",
   "metadata": {},
   "outputs": [
    {
     "name": "stdout",
     "output_type": "stream",
     "text": [
      "[10, 20, '']\n",
      "[20, 30, 'same']\n",
      "[35, 50, 'up']\n",
      "[45, 60, 'down']\n"
     ]
    }
   ],
   "source": [
    "data2 = [\n",
    "    [10, 20],\n",
    "    [20, 30],\n",
    "    [35, 50],\n",
    "    [45, 60]\n",
    "]\n",
    "\n",
    "if data2:\n",
    "    data2[0].append(\"\")\n",
    "    for i in range(1, len(data2)):\n",
    "        open_curr = int(data2[i][0])\n",
    "        close_prev = int(data2[i-1][1])\n",
    "        if open_curr > close_prev:\n",
    "            data2[i].append(\"up\")\n",
    "        elif open_curr < close_prev:\n",
    "            data2[i].append(\"down\")\n",
    "        else:\n",
    "            data2[i].append(\"same\")\n",
    "\n",
    "for r in data2:\n",
    "    print(r)"
   ]
  },
  {
   "cell_type": "code",
   "execution_count": null,
   "id": "8caae5e2-a328-4f87-a682-93cbb1b067a6",
   "metadata": {},
   "outputs": [],
   "source": []
  }
 ],
 "metadata": {
  "kernelspec": {
   "display_name": "Python 3 (ipykernel)",
   "language": "python",
   "name": "python3"
  },
  "language_info": {
   "codemirror_mode": {
    "name": "ipython",
    "version": 3
   },
   "file_extension": ".py",
   "mimetype": "text/x-python",
   "name": "python",
   "nbconvert_exporter": "python",
   "pygments_lexer": "ipython3",
   "version": "3.13.7"
  }
 },
 "nbformat": 4,
 "nbformat_minor": 5
}
