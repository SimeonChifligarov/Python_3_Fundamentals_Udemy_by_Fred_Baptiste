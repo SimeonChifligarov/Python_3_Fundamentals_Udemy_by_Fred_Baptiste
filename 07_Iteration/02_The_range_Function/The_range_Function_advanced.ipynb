{
 "cells": [
  {
   "cell_type": "markdown",
   "metadata": {},
   "source": [
    "### The `range` Function — Advanced Usage (compact & practical)\n",
    "\n",
    "This notebook goes beyond basics: slicing `range` objects, membership math, length tricks, reversing, performance notes, and a few handy patterns.\n",
    "\n",
    "Key idea: `range(start, stop, step)` is an **immutable, lazy** arithmetic progression that behaves like a read-only sequence (supports `len`, indexing, slicing, containment) without storing all values."
   ]
  },
  {
   "cell_type": "markdown",
   "metadata": {},
   "source": [
    "#### 1) Anatomy & properties"
   ]
  },
  {
   "cell_type": "code",
   "execution_count": 1,
   "metadata": {},
   "outputs": [
    {
     "data": {
      "text/plain": [
       "(range, 2, 11, 2, 5, 2, 10)"
      ]
     },
     "execution_count": 1,
     "metadata": {},
     "output_type": "execute_result"
    }
   ],
   "source": [
    "r = range(2, 11, 2)    # 2,4,6,8,10\n",
    "type(r), r.start, r.stop, r.step, len(r), r[0], r[-1]"
   ]
  },
  {
   "cell_type": "markdown",
   "metadata": {},
   "source": [
    "#### 2) Indexing & slicing (slicing returns **another range**)\n",
    "\n",
    "Unlike lists, slicing a `range` yields a new `range`—still lazy and memory-cheap."
   ]
  },
  {
   "cell_type": "code",
   "execution_count": 2,
   "metadata": {},
   "outputs": [
    {
     "data": {
      "text/plain": [
       "(range(0, 10), range(0, 10, 2), range(3, 9, 2), range, [3, 5, 7])"
      ]
     },
     "execution_count": 2,
     "metadata": {},
     "output_type": "execute_result"
    }
   ],
   "source": [
    "r = range(10)          # 0..9\n",
    "r5 = r[::2]            # even indices from 0..9 → 0,2,4,6,8\n",
    "r_slice = r[3:9:2]     # 3,5,7\n",
    "r, r5, r_slice, type(r_slice), list(r_slice)"
   ]
  },
  {
   "cell_type": "markdown",
   "metadata": {},
   "source": [
    "#### 3) Reversing a range (two equivalent ways)"
   ]
  },
  {
   "cell_type": "code",
   "execution_count": 3,
   "metadata": {},
   "outputs": [
    {
     "data": {
      "text/plain": [
       "([5, 4, 3, 2, 1], [5, 4, 3, 2, 1])"
      ]
     },
     "execution_count": 3,
     "metadata": {},
     "output_type": "execute_result"
    }
   ],
   "source": [
    "r = range(1, 6)        # 1..5\n",
    "rev1 = r[::-1]         # slicing\n",
    "rev2 = range(r.stop-1, r.start-1, -r.step)  # explicit reverse\n",
    "list(rev1), list(rev2)"
   ]
  },
  {
   "cell_type": "markdown",
   "metadata": {},
   "source": [
    "#### 4) Membership (`in`) is O(1) via arithmetic, not search\n",
    "\n",
    "An integer `x` is in `range(a,b,s)` iff `a ≤ x < b` (or `a ≥ x > b` for negative `s`) **and** `(x - a)` is divisible by `s`."
   ]
  },
  {
   "cell_type": "code",
   "execution_count": 4,
   "metadata": {},
   "outputs": [
    {
     "data": {
      "text/plain": [
       "{3: True, 4: False, 11: True, 18: False, 19: True, 23: False}"
      ]
     },
     "execution_count": 4,
     "metadata": {},
     "output_type": "execute_result"
    }
   ],
   "source": [
    "r = range(3, 20, 4)    # 3,7,11,15,19\n",
    "tests = [3, 4, 11, 18, 19, 23]\n",
    "{x: (x in r) for x in tests}"
   ]
  },
  {
   "cell_type": "markdown",
   "metadata": {},
   "source": [
    "#### 5) Length formula (works for both positive and negative steps)\n",
    "\n",
    "Python uses a safe arithmetic formula; you can mirror it if needed:"
   ]
  },
  {
   "cell_type": "code",
   "execution_count": 5,
   "metadata": {},
   "outputs": [
    {
     "data": {
      "text/plain": [
       "({(0, 10, 1): 10, (2, 11, 2): 5, (10, 2, -2): 4, (5, 5, 1): 0, (5, 5, -1): 0},\n",
       " {(0, 10, 1): 10, (2, 11, 2): 5, (10, 2, -2): 4, (5, 5, 1): 0, (5, 5, -1): 0})"
      ]
     },
     "execution_count": 5,
     "metadata": {},
     "output_type": "execute_result"
    }
   ],
   "source": [
    "def range_len(start, stop, step=1):\n",
    "    if step == 0:\n",
    "        raise ValueError('step must not be zero')\n",
    "    # Align direction\n",
    "    if (step > 0 and start >= stop) or (step < 0 and start <= stop):\n",
    "        return 0\n",
    "    # Ceil division for ints with sign-aware math\n",
    "    return (abs(stop - start) + abs(step) - 1) // abs(step)\n",
    "\n",
    "cases = [(0,10,1), (2,11,2), (10,2,-2), (5,5,1), (5,5,-1)]\n",
    "{c: range_len(*c) for c in cases}, {c: len(range(*c)) for c in cases}"
   ]
  },
  {
   "cell_type": "markdown",
   "metadata": {},
   "source": [
    "#### 6) `.index` and `.count` on `range`\n",
    "\n",
    "`range` implements sequence methods: `x in r`, `r.index(x)`, `r.count(x)` (no scanning of all elements)."
   ]
  },
  {
   "cell_type": "code",
   "execution_count": 6,
   "metadata": {},
   "outputs": [
    {
     "data": {
      "text/plain": [
       "(1, 0, 2)"
      ]
     },
     "execution_count": 6,
     "metadata": {},
     "output_type": "execute_result"
    }
   ],
   "source": [
    "r = range(10, 21, 5)   # 10,15,20\n",
    "r.count(15), r.count(16), r.index(20)"
   ]
  },
  {
   "cell_type": "markdown",
   "metadata": {},
   "source": [
    "#### 7) Large ranges are tiny in memory (lazy)"
   ]
  },
  {
   "cell_type": "code",
   "execution_count": 7,
   "metadata": {},
   "outputs": [
    {
     "data": {
      "text/plain": [
       "48"
      ]
     },
     "execution_count": 7,
     "metadata": {},
     "output_type": "execute_result"
    }
   ],
   "source": [
    "import sys\n",
    "huge = range(0, 10**12, 10)\n",
    "sys.getsizeof(huge)  # small, independent of length"
   ]
  },
  {
   "cell_type": "markdown",
   "metadata": {},
   "source": [
    "#### 8) Using `range` for indices, batching, and pairing\n",
    "\n",
    "- Prefer `for i, x in enumerate(seq)` to `for i in range(len(seq))` when you need values.\n",
    "- For **windows/batches**, step the index.\n",
    "- Pair multiple ranges with `zip`."
   ]
  },
  {
   "cell_type": "code",
   "execution_count": 8,
   "metadata": {},
   "outputs": [
    {
     "data": {
      "text/plain": [
       "([(0, 'a'), (1, 'b'), (2, 'c'), (3, 'd'), (4, 'e'), (5, 'f'), (6, 'g')],\n",
       " [['a', 'b', 'c'], ['d', 'e', 'f'], ['g']],\n",
       " [(0, 100), (2, 102), (4, 104)])"
      ]
     },
     "execution_count": 8,
     "metadata": {},
     "output_type": "execute_result"
    }
   ],
   "source": [
    "data = list('abcdefg')\n",
    "# Enumerate indices + values\n",
    "pairs = [(i, ch) for i, ch in enumerate(data)]\n",
    "\n",
    "# Fixed-size batches (size=3)\n",
    "size = 3\n",
    "batches = [data[i:i+size] for i in range(0, len(data), size)]\n",
    "\n",
    "# Zipping ranges (parallel progressions)\n",
    "r1 = range(0, 10, 2)\n",
    "r2 = range(100, 110, 2)\n",
    "paired = list(zip(r1, r2))\n",
    "pairs, batches, paired[:3]"
   ]
  },
  {
   "cell_type": "markdown",
   "metadata": {},
   "source": [
    "#### 9) Edge cases & gotchas\n",
    "\n",
    "- `step` cannot be `0`.\n",
    "- Direction matters: with negative `step`, `start` should exceed `stop` or length becomes `0`.\n",
    "- Slicing composes steps: `range(...)[a:b:c]` multiplies step effectively (and still returns a `range`).\n",
    "- Membership is arithmetic; floating points are **not** allowed (only ints)."
   ]
  },
  {
   "cell_type": "markdown",
   "metadata": {},
   "source": [
    "#### 10) Practical mini-exercises (quick checks)"
   ]
  },
  {
   "cell_type": "code",
   "execution_count": 9,
   "metadata": {},
   "outputs": [
    {
     "data": {
      "text/plain": [
       "(range(5, 40, 5), [5, 10, 15, 20, 25, 30, 35])"
      ]
     },
     "execution_count": 9,
     "metadata": {},
     "output_type": "execute_result"
    }
   ],
   "source": [
    "# 10.1) All multiples of 7 between 50 and 200 inclusive, lazily\n",
    "first = 50 + ((7 - 50 % 7) % 7)\n",
    "r7 = range(first, 201, 7)\n",
    "len(r7), r7.start, r7.stop, r7.step, list(r7[:5])  # peek\n",
    "\n",
    "# 10.2) Every 3rd element of a reversed 1..100 sequence (i.e., 100,97,94,...)\n",
    "rev3 = range(100, 0, -3)\n",
    "rev3[:10]\n",
    "\n",
    "# 10.3) Work with slices without materializing: (range(0,50)[5:40:5])\n",
    "sub = range(0, 50)[5:40:5]\n",
    "sub, list(sub)"
   ]
  },
  {
   "cell_type": "code",
   "execution_count": null,
   "metadata": {},
   "outputs": [],
   "source": []
  }
 ],
 "metadata": {
  "kernelspec": {
   "display_name": "Python 3 (ipykernel)",
   "language": "python",
   "name": "python3"
  },
  "language_info": {
   "codemirror_mode": {
    "name": "ipython",
    "version": 3
   },
   "file_extension": ".py",
   "mimetype": "text/x-python",
   "name": "python",
   "nbconvert_exporter": "python",
   "pygments_lexer": "ipython3",
   "version": "3.13.7"
  }
 },
 "nbformat": 4,
 "nbformat_minor": 4
}
