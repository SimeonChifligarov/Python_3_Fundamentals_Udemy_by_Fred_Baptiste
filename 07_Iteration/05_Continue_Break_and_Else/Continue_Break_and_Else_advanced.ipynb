{
 "cells": [
  {
   "cell_type": "markdown",
   "metadata": {},
   "source": [
    "### Continue, Break, and Else — Advanced Patterns (practical, not too much)\n",
    "\n",
    "These examples expand your toolbox for loop control: guard-style `continue`, early-exit `break`, the underused `for/while ... else`, multi-level exits, and robust retry/cleanup flows."
   ]
  },
  {
   "cell_type": "markdown",
   "metadata": {},
   "source": [
    "## 1) Guard-style filtering with `continue` (skip bad records early)"
   ]
  },
  {
   "cell_type": "code",
   "execution_count": 1,
   "metadata": {},
   "outputs": [
    {
     "name": "stdout",
     "output_type": "stream",
     "text": [
      "[{'id': 1, 'name': 'Alice', 'age': 30}, {'id': 4, 'name': 'Dana', 'age': 40}]\n"
     ]
    }
   ],
   "source": [
    "rows = [\n",
    "    {\"id\": 1, \"name\": \"Alice\",  \"age\": 30},\n",
    "    {\"id\": 2, \"name\": \"\",       \"age\": 28},   # bad: empty name\n",
    "    {\"id\": 3, \"name\": \"Charlie\", \"age\": None}, # bad: missing age\n",
    "    {\"id\": 4, \"name\": \"Dana\",    \"age\": 40},\n",
    "]\n",
    "\n",
    "clean = []\n",
    "for r in rows:\n",
    "    # guard clauses → fast fail\n",
    "    if not r.get(\"name\"):\n",
    "        continue\n",
    "    if r.get(\"age\") is None:\n",
    "        continue\n",
    "    clean.append({\"id\": r[\"id\"], \"name\": r[\"name\"].strip(), \"age\": int(r[\"age\"])})\n",
    "\n",
    "print(clean)  # [{'id': 1, ...}, {'id': 4, ...}]"
   ]
  },
  {
   "cell_type": "markdown",
   "metadata": {},
   "source": [
    "## 2) Search with early `break` and `for ... else` fallback"
   ]
  },
  {
   "cell_type": "code",
   "execution_count": 2,
   "metadata": {},
   "outputs": [
    {
     "name": "stdout",
     "output_type": "stream",
     "text": [
      "found Guido at index 2\n"
     ]
    }
   ],
   "source": [
    "names = [\"Ada\", \"Grace\", \"Guido\", \"Ken\", \"Brian\"]\n",
    "target = \"Guido\"\n",
    "\n",
    "for i, n in enumerate(names):\n",
    "    if n == target:\n",
    "        print(f\"found {target} at index {i}\")\n",
    "        break\n",
    "else:  # only runs if no break occurred\n",
    "    print(f\"{target} not found\")"
   ]
  },
  {
   "cell_type": "markdown",
   "metadata": {},
   "source": [
    "## 3) Prime check using `for ... else` (classic, clean)"
   ]
  },
  {
   "cell_type": "code",
   "execution_count": 3,
   "metadata": {},
   "outputs": [
    {
     "name": "stdout",
     "output_type": "stream",
     "text": [
      "prime: 97\n"
     ]
    }
   ],
   "source": [
    "n = 97\n",
    "if n < 2:\n",
    "    print(\"not prime\")\n",
    "else:\n",
    "    for d in range(2, int(n ** 0.5) + 1):\n",
    "        if n % d == 0:\n",
    "            print(f\"composite: {n} = {d} * {n//d}\")\n",
    "            break\n",
    "    else:\n",
    "        print(f\"prime: {n}\")"
   ]
  },
  {
   "cell_type": "markdown",
   "metadata": {},
   "source": [
    "## 4) Nested loops: breaking the inner vs both levels"
   ]
  },
  {
   "cell_type": "code",
   "execution_count": 4,
   "metadata": {},
   "outputs": [
    {
     "name": "stdout",
     "output_type": "stream",
     "text": [
      "found at: (1, 1)\n",
      "first 2 at: (1, 1)\n",
      "locate_two: (1, 1)\n"
     ]
    }
   ],
   "source": [
    "grid = [\n",
    "    [0, 0, 0],\n",
    "    [0, 2, 0],\n",
    "    [0, 0, 0],\n",
    "]\n",
    "\n",
    "# Break only the inner loop\n",
    "for r in range(len(grid)):\n",
    "    for c in range(len(grid[r])):\n",
    "        if grid[r][c] == 2:\n",
    "            print(\"found at:\", (r, c))\n",
    "            break\n",
    "    # outer loop continues\n",
    "\n",
    "# Break both levels with a flag (simple, explicit)\n",
    "found = None\n",
    "for r in range(len(grid)):\n",
    "    for c in range(len(grid[r])):\n",
    "        if grid[r][c] == 2:\n",
    "            found = (r, c)\n",
    "            break\n",
    "    if found is not None:\n",
    "        break\n",
    "print(\"first 2 at:\", found)\n",
    "\n",
    "# Or: exit via a function to emulate a labeled break\n",
    "def locate_two(G):\n",
    "    for r in range(len(G)):\n",
    "        for c in range(len(G[r])):\n",
    "            if G[r][c] == 2:\n",
    "                return (r, c)\n",
    "    return None\n",
    "\n",
    "print(\"locate_two:\", locate_two(grid))"
   ]
  },
  {
   "cell_type": "markdown",
   "metadata": {},
   "source": [
    "## 5) `while ... else` for threshold scan (no early exit → else)"
   ]
  },
  {
   "cell_type": "code",
   "execution_count": 5,
   "metadata": {},
   "outputs": [
    {
     "name": "stdout",
     "output_type": "stream",
     "text": [
      "no value met threshold\n"
     ]
    }
   ],
   "source": [
    "values = [1, 3, 5, 7]\n",
    "i = 0\n",
    "threshold = 10\n",
    "\n",
    "while i < len(values):\n",
    "    if values[i] >= threshold:\n",
    "        print(\"hit threshold at index\", i)\n",
    "        break\n",
    "    i += 1\n",
    "else:  # never broke → no value ≥ threshold\n",
    "    print(\"no value met threshold\")"
   ]
  },
  {
   "cell_type": "markdown",
   "metadata": {},
   "source": [
    "## 6) Retry with `break/else`: success path vs all-attempts-failed path"
   ]
  },
  {
   "cell_type": "code",
   "execution_count": 6,
   "metadata": {},
   "outputs": [
    {
     "name": "stdout",
     "output_type": "stream",
     "text": [
      "success on attempt 1\n"
     ]
    }
   ],
   "source": [
    "import random\n",
    "\n",
    "MAX_TRIES = 4\n",
    "for attempt in range(1, MAX_TRIES + 1):\n",
    "    result = random.random() < 0.4  # pretend flaky call\n",
    "    if result:\n",
    "        print(f\"success on attempt {attempt}\")\n",
    "        break\n",
    "else:\n",
    "    print(\"all attempts failed; escalate or fallback\")"
   ]
  },
  {
   "cell_type": "markdown",
   "metadata": {},
   "source": [
    "## 7) Parsing with `continue`, sentinel `break`, and `for ... else` (no sentinel)"
   ]
  },
  {
   "cell_type": "code",
   "execution_count": 7,
   "metadata": {},
   "outputs": [
    {
     "name": "stdout",
     "output_type": "stream",
     "text": [
      "found sentinel END; stopping parse\n",
      "{'key': 'value'}\n"
     ]
    }
   ],
   "source": [
    "lines = [\n",
    "    \"# comment\",\n",
    "    \" key = value  \",\n",
    "    \"\",\n",
    "    \"END\",\n",
    "    \"ignored after END\",\n",
    "]\n",
    "\n",
    "pairs = {}\n",
    "for raw in lines:\n",
    "    line = raw.strip()\n",
    "    if not line or line.startswith('#'):\n",
    "        continue\n",
    "    if line == \"END\":\n",
    "        print(\"found sentinel END; stopping parse\")\n",
    "        break\n",
    "    if \"=\" in line:\n",
    "        k, v = (s.strip() for s in line.split(\"=\", 1))\n",
    "        pairs[k] = v\n",
    "else:\n",
    "    print(\"no END sentinel found; file may be truncated\")\n",
    "\n",
    "print(pairs)"
   ]
  },
  {
   "cell_type": "markdown",
   "metadata": {},
   "source": [
    "## 8) Cleanup always runs: `break` inside `try` with `finally`"
   ]
  },
  {
   "cell_type": "code",
   "execution_count": 8,
   "metadata": {},
   "outputs": [
    {
     "name": "stdout",
     "output_type": "stream",
     "text": [
      "condition met, breaking loop\n",
      "resource closed in finally\n"
     ]
    }
   ],
   "source": [
    "resource_open = False\n",
    "try:\n",
    "    resource_open = True\n",
    "    # loop that may break early\n",
    "    for x in [1, 2, 3, 4]:\n",
    "        if x == 3:\n",
    "            print(\"condition met, breaking loop\")\n",
    "            break\n",
    "        # work with resource\n",
    "finally:\n",
    "    if resource_open:\n",
    "        resource_open = False\n",
    "        print(\"resource closed in finally\")"
   ]
  },
  {
   "cell_type": "markdown",
   "metadata": {},
   "source": [
    "## 9) Multi-criteria filter: `continue` to keep the happy path left-aligned"
   ]
  },
  {
   "cell_type": "code",
   "execution_count": 9,
   "metadata": {},
   "outputs": [
    {
     "name": "stdout",
     "output_type": "stream",
     "text": [
      "['alice@example.com', 'carol@example.org']\n"
     ]
    }
   ],
   "source": [
    "emails = [\n",
    "    \" alice@example.com \",\n",
    "    \"bob@@example.com\",\n",
    "    \"\",\n",
    "    \"carol@example.org\",\n",
    "]\n",
    "\n",
    "valid = []\n",
    "for e in emails:\n",
    "    e = e.strip().lower()\n",
    "    if not e:\n",
    "        continue\n",
    "    if e.count(\"@\") != 1:\n",
    "        continue\n",
    "    user, domain = e.split(\"@\", 1)\n",
    "    if not user or not domain or \".\" not in domain:\n",
    "        continue\n",
    "    valid.append(e)\n",
    "\n",
    "print(valid)"
   ]
  },
  {
   "attachments": {},
   "cell_type": "markdown",
   "metadata": {},
   "source": [
    "## 10) Mini-exercises"
   ]
  },
  {
   "cell_type": "markdown",
   "metadata": {},
   "source": [
    "1. Use `for ... else` to scan for the first negative in a list and print its index; if none, print \"all non-negative\".\n",
    "2. Parse lines until a sentinel `STOP`; ignore blanks and `#` comments using `continue`.\n",
    "3. In a nested loop, stop both levels as soon as the sum `i+j` equals a target (try both a flag and a function-return pattern).\n",
    "4. Implement a fixed-attempt retry with `break/else` **and** a final `finally` cleanup section."
   ]
  },
  {
   "cell_type": "code",
   "execution_count": null,
   "metadata": {},
   "outputs": [],
   "source": []
  }
 ],
 "metadata": {
  "kernelspec": {
   "display_name": "Python 3 (ipykernel)",
   "language": "python",
   "name": "python3"
  },
  "language_info": {
   "codemirror_mode": {
    "name": "ipython",
    "version": 3
   },
   "file_extension": ".py",
   "mimetype": "text/x-python",
   "name": "python",
   "nbconvert_exporter": "python",
   "pygments_lexer": "ipython3",
   "version": "3.13.7"
  }
 },
 "nbformat": 4,
 "nbformat_minor": 4
}
