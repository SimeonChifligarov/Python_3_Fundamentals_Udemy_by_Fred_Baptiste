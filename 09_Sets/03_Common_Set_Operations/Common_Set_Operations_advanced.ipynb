{
 "cells": [
  {
   "cell_type": "markdown",
   "id": "786c272c",
   "metadata": {},
   "source": [
    "### Common Set Operations (advanced, but not too much)"
   ]
  },
  {
   "cell_type": "markdown",
   "id": "734d195d",
   "metadata": {},
   "source": [
    "**Recap**: Sets are unordered collections of **unique**, **hashable** items with fast membership tests.\n",
    "- Non-mutating (return new set): `|`, `&`, `-`, `^`, or `.union()`, `.intersection()`, `.difference()`, `.symmetric_difference()`\n",
    "- Mutating (in place): `|=`, `&=`, `-=`, `^=`, or `.update()`, `.intersection_update()`, `.difference_update()`, `.symmetric_difference_update()`\n",
    "- Relations: `.isdisjoint()`, subset/superset with `<=, <, >=, >`, or `.issubset()`, `.issuperset()`"
   ]
  },
  {
   "cell_type": "markdown",
   "id": "a62c6b4a",
   "metadata": {},
   "source": [
    "#### Disjointness (no elements in common)"
   ]
  },
  {
   "cell_type": "code",
   "execution_count": 1,
   "id": "c44b40bf",
   "metadata": {},
   "outputs": [
    {
     "data": {
      "text/plain": [
       "(True, False)"
      ]
     },
     "execution_count": 1,
     "metadata": {},
     "output_type": "execute_result"
    }
   ],
   "source": [
    "s1 = {'a', 'b', 'c'}\n",
    "s2 = {True, False}\n",
    "s3 = {'a', 100, 200}\n",
    "s1.isdisjoint(s2), s1.isdisjoint(s3)"
   ]
  },
  {
   "cell_type": "markdown",
   "id": "6d07631c",
   "metadata": {},
   "source": [
    "#### Subsets / Supersets (strict and non-strict)"
   ]
  },
  {
   "cell_type": "code",
   "execution_count": 2,
   "id": "f6edef68",
   "metadata": {},
   "outputs": [
    {
     "data": {
      "text/plain": [
       "(True, True, False, False)"
      ]
     },
     "execution_count": 2,
     "metadata": {},
     "output_type": "execute_result"
    }
   ],
   "source": [
    "a = set('abc')\n",
    "b = set('abcd')\n",
    "a <= b, a < b, b >= a, b > a  # non-strict vs strict\n",
    "\n",
    "# Equal sets: strict relations are False\n",
    "x = set('abc'); y = set('abc')\n",
    "x <= y, y >= x, x < y, y > x"
   ]
  },
  {
   "cell_type": "markdown",
   "id": "4bf2c0c2",
   "metadata": {},
   "source": [
    "#### Union / Intersection / Difference / Symmetric Difference (new sets)"
   ]
  },
  {
   "cell_type": "code",
   "execution_count": 3,
   "id": "760c7d37",
   "metadata": {},
   "outputs": [
    {
     "data": {
      "text/plain": [
       "({'a', 'b', 'c', 'd'}, {'b', 'c'}, {'a'}, {'a', 'd'})"
      ]
     },
     "execution_count": 3,
     "metadata": {},
     "output_type": "execute_result"
    }
   ],
   "source": [
    "left  = set('abc')\n",
    "right = set('bcd')\n",
    "\n",
    "u = left | right               # union\n",
    "i = left & right               # intersection\n",
    "d = left - right               # in left but not right\n",
    "sd = left ^ right              # in exactly one of the sets\n",
    "u, i, d, sd"
   ]
  },
  {
   "cell_type": "markdown",
   "id": "f846a4a7",
   "metadata": {},
   "source": [
    "Same operations via methods (handy for unpacking many sets)"
   ]
  },
  {
   "cell_type": "code",
   "execution_count": 4,
   "id": "55bc67a0",
   "metadata": {},
   "outputs": [
    {
     "data": {
      "text/plain": [
       "({'a', 'b', 'c', 'd', 'e'}, {'c'})"
      ]
     },
     "execution_count": 4,
     "metadata": {},
     "output_type": "execute_result"
    }
   ],
   "source": [
    "S = [set('abc'), set('bcd'), set('cde')]\n",
    "all_union = set().union(*S)\n",
    "all_intersection = set.intersection(*S)   # first arg is the type; unpack sets\n",
    "all_union, all_intersection"
   ]
  },
  {
   "cell_type": "markdown",
   "id": "6dc1fa5a",
   "metadata": {},
   "source": [
    "#### In-place variants (mutate the left set)"
   ]
  },
  {
   "cell_type": "code",
   "execution_count": 5,
   "id": "b3c0738b",
   "metadata": {},
   "outputs": [
    {
     "data": {
      "text/plain": [
       "({'a', 'b', 'c', 'd'}, {'b', 'c'}, {'a'}, {'a', 'd'})"
      ]
     },
     "execution_count": 5,
     "metadata": {},
     "output_type": "execute_result"
    }
   ],
   "source": [
    "base = set('abc')\n",
    "other = set('bcd')\n",
    "\n",
    "tmp = base.copy(); tmp |= other                # union update\n",
    "u_inplace = tmp\n",
    "\n",
    "tmp = base.copy(); tmp &= other                # intersection update\n",
    "i_inplace = tmp\n",
    "\n",
    "tmp = base.copy(); tmp -= other                # difference update\n",
    "d_inplace = tmp\n",
    "\n",
    "tmp = base.copy(); tmp ^= other                # symmetric difference update\n",
    "sd_inplace = tmp\n",
    "u_inplace, i_inplace, d_inplace, sd_inplace"
   ]
  },
  {
   "cell_type": "markdown",
   "id": "d96584e5",
   "metadata": {},
   "source": [
    "#### Add / Discard / Remove (mutations & safety)"
   ]
  },
  {
   "cell_type": "code",
   "execution_count": 6,
   "id": "7004d8bd",
   "metadata": {},
   "outputs": [
    {
     "data": {
      "text/plain": [
       "({100, 200}, {100, 200}, 'KeyError')"
      ]
     },
     "execution_count": 6,
     "metadata": {},
     "output_type": "execute_result"
    }
   ],
   "source": [
    "s = set()\n",
    "s.add(100); s.add(200); s.add(100)     # duplicates ignored\n",
    "after_add = s.copy()\n",
    "\n",
    "s.discard(999)                         # no error if missing\n",
    "discard_ok = s.copy()\n",
    "\n",
    "try:\n",
    "    s.remove(999)                      # KeyError if missing\n",
    "except KeyError:\n",
    "    removed_missing = 'KeyError'\n",
    "\n",
    "after_add, discard_ok, removed_missing"
   ]
  },
  {
   "cell_type": "markdown",
   "id": "ca4c99df",
   "metadata": {},
   "source": [
    "#### Practical examples"
   ]
  },
  {
   "cell_type": "markdown",
   "id": "9f060e2a",
   "metadata": {},
   "source": [
    "**1) Characters common to two strings** (intersection)"
   ]
  },
  {
   "cell_type": "code",
   "execution_count": 7,
   "id": "fb527e08",
   "metadata": {},
   "outputs": [
    {
     "data": {
      "text/plain": [
       "[' ', 'a', 'e', 'h', 'i', 'l', 'n', 'o', 'p', 's', 't', 'y']"
      ]
     },
     "execution_count": 7,
     "metadata": {},
     "output_type": "execute_result"
    }
   ],
   "source": [
    "s1 = 'python is an awesome language!'\n",
    "s2 = 'a python is also a snake.'\n",
    "sorted(set(s1) & set(s2))  # order for display only"
   ]
  },
  {
   "cell_type": "markdown",
   "id": "abf581ff",
   "metadata": {},
   "source": [
    "**2) Consolidate symbols from multiple sources** (union)"
   ]
  },
  {
   "cell_type": "code",
   "execution_count": 8,
   "id": "de5d43fe",
   "metadata": {},
   "outputs": [
    {
     "data": {
      "text/plain": [
       "['AAPL',\n",
       " 'AMZN',\n",
       " 'BABA',\n",
       " 'COST',\n",
       " 'F',\n",
       " 'FB',\n",
       " 'GM',\n",
       " 'GOOG',\n",
       " 'MSFT',\n",
       " 'NFLX',\n",
       " 'TSLA',\n",
       " 'WMT']"
      ]
     },
     "execution_count": 8,
     "metadata": {},
     "output_type": "execute_result"
    }
   ],
   "source": [
    "sA = {'FB', 'AMZN', 'AAPL', 'NFLX', 'GOOG', 'MSFT'}\n",
    "sB = {'BABA', 'WMT', 'COST'}\n",
    "sC = {'TSLA', 'F', 'GM'}\n",
    "consolidated = sA | sB | sC\n",
    "sorted(consolidated)"
   ]
  },
  {
   "cell_type": "markdown",
   "id": "5a4a023f",
   "metadata": {},
   "source": [
    "**3) Sold but not returned** (difference)"
   ]
  },
  {
   "cell_type": "code",
   "execution_count": 9,
   "id": "7736e9ab",
   "metadata": {},
   "outputs": [
    {
     "data": {
      "text/plain": [
       "['w2', 'w3', 'w4']"
      ]
     },
     "execution_count": 9,
     "metadata": {},
     "output_type": "execute_result"
    }
   ],
   "source": [
    "sold = {'w1', 'w2', 'w3', 'w4'}\n",
    "returned = {'w1'}\n",
    "sorted(sold - returned)"
   ]
  },
  {
   "cell_type": "markdown",
   "id": "e2894dcb",
   "metadata": {},
   "source": [
    "**4) Find missing alphabet letters (case-insensitive)**"
   ]
  },
  {
   "cell_type": "code",
   "execution_count": 10,
   "id": "73cc8bf2",
   "metadata": {},
   "outputs": [
    {
     "data": {
      "text/plain": [
       "[]"
      ]
     },
     "execution_count": 10,
     "metadata": {},
     "output_type": "execute_result"
    }
   ],
   "source": [
    "import string\n",
    "alphabet = set(string.ascii_lowercase)\n",
    "text = 'The quick brown fox jumps over the lazy dog'\n",
    "missing = alphabet - set(text.casefold())\n",
    "sorted(missing)   # should be empty for a pangram"
   ]
  },
  {
   "cell_type": "markdown",
   "id": "0556f8fc",
   "metadata": {},
   "source": [
    "**5) De Morgan’s law sanity check for sets**"
   ]
  },
  {
   "cell_type": "code",
   "execution_count": 11,
   "id": "58659c60",
   "metadata": {},
   "outputs": [
    {
     "data": {
      "text/plain": [
       "True"
      ]
     },
     "execution_count": 11,
     "metadata": {},
     "output_type": "execute_result"
    }
   ],
   "source": [
    "U = set(range(10))            # universe for complements\n",
    "A = {1,2,3,4}\n",
    "B = {3,4,5,6}\n",
    "lhs = U - (A | B)             # complement of union\n",
    "rhs = (U - A) & (U - B)       # intersection of complements\n",
    "lhs == rhs"
   ]
  },
  {
   "cell_type": "markdown",
   "id": "75af83ed",
   "metadata": {},
   "source": [
    "#### Tips & Pitfalls\n",
    "- **Order is arbitrary**; use `sorted(s)` for deterministic display.\n",
    "- Elements must be **hashable** (`list`/`dict` cannot be set members; `tuple`/`frozenset` can, if their contents are hashable).\n",
    "- Be explicit about **mutation**: prefer non-mutating ops when you need to keep originals intact; use `copy()` before in-place updates."
   ]
  },
  {
   "cell_type": "code",
   "execution_count": null,
   "id": "24fbe67e-f004-460c-a2ad-e5e678017fe2",
   "metadata": {},
   "outputs": [],
   "source": []
  }
 ],
 "metadata": {
  "kernelspec": {
   "display_name": "Python 3 (ipykernel)",
   "language": "python",
   "name": "python3"
  },
  "language_info": {
   "codemirror_mode": {
    "name": "ipython",
    "version": 3
   },
   "file_extension": ".py",
   "mimetype": "text/x-python",
   "name": "python",
   "nbconvert_exporter": "python",
   "pygments_lexer": "ipython3",
   "version": "3.13.7"
  }
 },
 "nbformat": 4,
 "nbformat_minor": 5
}
