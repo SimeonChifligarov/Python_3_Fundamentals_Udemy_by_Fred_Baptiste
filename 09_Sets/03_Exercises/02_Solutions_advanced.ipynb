{
 "cells": [
  {
   "cell_type": "markdown",
   "id": "solutions-title",
   "metadata": {},
   "source": [
    "### Solutions (advanced, but not too much)"
   ]
  },
  {
   "cell_type": "markdown",
   "id": "q1-title",
   "metadata": {},
   "source": [
    "#### Question 1 — Unique strings (case-sensitive)"
   ]
  },
  {
   "cell_type": "code",
   "execution_count": 1,
   "id": "q1-setup",
   "metadata": {},
   "outputs": [],
   "source": [
    "l = ['AAPL', 'AAPL', 'Aapl', 'aapl', 'MSFT']"
   ]
  },
  {
   "cell_type": "markdown",
   "id": "q1-notes",
   "metadata": {},
   "source": [
    "**Approach**: Use a set to remove duplicates (order not required). If you want deterministic display, wrap with `sorted()`."
   ]
  },
  {
   "cell_type": "code",
   "execution_count": 2,
   "id": "q1-solution",
   "metadata": {},
   "outputs": [
    {
     "data": {
      "text/plain": [
       "(['Aapl', 'MSFT', 'AAPL', 'aapl'], ['AAPL', 'Aapl', 'MSFT', 'aapl'])"
      ]
     },
     "execution_count": 2,
     "metadata": {},
     "output_type": "execute_result"
    }
   ],
   "source": [
    "unique_case_sensitive = list(set(l))\n",
    "unique_case_sensitive_sorted = sorted(set(l))  # optional: for stable reading\n",
    "\n",
    "unique_case_sensitive, unique_case_sensitive_sorted"
   ]
  },
  {
   "cell_type": "markdown",
   "id": "q2-title",
   "metadata": {},
   "source": [
    "#### Question 2 — Unique strings (case-insensitive)"
   ]
  },
  {
   "cell_type": "markdown",
   "id": "q2-notes",
   "metadata": {},
   "source": [
    "**Approach A (canonicalized)**: Normalize via `casefold()` (more robust than `lower()`), then dedupe.\n",
    "\n",
    "**Approach B (keep a representative)**: Keep the *first occurrence* of each canonical form (useful if you want to preserve original casing of the earliest item)."
   ]
  },
  {
   "cell_type": "code",
   "execution_count": 3,
   "id": "q2-solution-a",
   "metadata": {},
   "outputs": [
    {
     "data": {
      "text/plain": [
       "(['msft', 'aapl'], ['aapl', 'msft'])"
      ]
     },
     "execution_count": 3,
     "metadata": {},
     "output_type": "execute_result"
    }
   ],
   "source": [
    "# A) Canonicalized unique values (as lowercase/casefolded strings)\n",
    "unique_case_insensitive_canonical = list({s.casefold() for s in l})\n",
    "sorted_unique_case_insensitive_canonical = sorted({s.casefold() for s in l})\n",
    "\n",
    "unique_case_insensitive_canonical, sorted_unique_case_insensitive_canonical"
   ]
  },
  {
   "cell_type": "code",
   "execution_count": 4,
   "id": "q2-solution-b",
   "metadata": {},
   "outputs": [
    {
     "data": {
      "text/plain": [
       "['AAPL', 'MSFT']"
      ]
     },
     "execution_count": 4,
     "metadata": {},
     "output_type": "execute_result"
    }
   ],
   "source": [
    "# B) Preserve the first seen original for each canonical key\n",
    "seen = set()\n",
    "unique_preserve_first = []\n",
    "for s in l:\n",
    "    key = s.casefold()\n",
    "    if key not in seen:\n",
    "        seen.add(key)\n",
    "        unique_preserve_first.append(s)\n",
    "\n",
    "unique_preserve_first"
   ]
  },
  {
   "cell_type": "markdown",
   "id": "q3-title",
   "metadata": {},
   "source": [
    "#### Question 3 — Unique keys across nested dictionaries"
   ]
  },
  {
   "cell_type": "code",
   "execution_count": 5,
   "id": "q3-setup",
   "metadata": {},
   "outputs": [],
   "source": [
    "data = {\n",
    "    'd1': {'a': 1, 'b': 2, 'c': 3},\n",
    "    'd2': {'b': 20, 'c': 30, 'd': 40},\n",
    "    'd3': {'d': 100, 'x': 200}\n",
    "}"
   ]
  },
  {
   "cell_type": "markdown",
   "id": "q3-notes",
   "metadata": {},
   "source": [
    "**Approach A**: Unpack with `set.union` over all sub-dict key views.\n",
    "\n",
    "**Approach B**: Set comprehension."
   ]
  },
  {
   "cell_type": "code",
   "execution_count": 6,
   "id": "q3-solution-a",
   "metadata": {},
   "outputs": [
    {
     "data": {
      "text/plain": [
       "{'a', 'b', 'c', 'd', 'x'}"
      ]
     },
     "execution_count": 6,
     "metadata": {},
     "output_type": "execute_result"
    }
   ],
   "source": [
    "# A) Using set.union with unpacking\n",
    "all_keys_a = set().union(*(sub.keys() for sub in data.values()))\n",
    "all_keys_a"
   ]
  },
  {
   "cell_type": "code",
   "execution_count": 7,
   "id": "q3-solution-b",
   "metadata": {},
   "outputs": [
    {
     "data": {
      "text/plain": [
       "{'a', 'b', 'c', 'd', 'x'}"
      ]
     },
     "execution_count": 7,
     "metadata": {},
     "output_type": "execute_result"
    }
   ],
   "source": [
    "# B) Using a comprehension\n",
    "all_keys_b = {k for sub in data.values() for k in sub.keys()}\n",
    "all_keys_b"
   ]
  },
  {
   "cell_type": "code",
   "execution_count": null,
   "id": "990f88e4-7bd1-4e51-83f9-694629b6829a",
   "metadata": {},
   "outputs": [],
   "source": []
  }
 ],
 "metadata": {
  "kernelspec": {
   "display_name": "Python 3 (ipykernel)",
   "language": "python",
   "name": "python3"
  },
  "language_info": {
   "codemirror_mode": {
    "name": "ipython",
    "version": 3
   },
   "file_extension": ".py",
   "mimetype": "text/x-python",
   "name": "python",
   "nbconvert_exporter": "python",
   "pygments_lexer": "ipython3",
   "version": "3.13.7"
  }
 },
 "nbformat": 4,
 "nbformat_minor": 5
}
