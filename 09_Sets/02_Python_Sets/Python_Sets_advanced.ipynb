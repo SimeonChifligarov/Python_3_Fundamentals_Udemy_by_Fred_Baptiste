{
 "cells": [
  {
   "cell_type": "markdown",
   "id": "e12c8af3",
   "metadata": {},
   "source": [
    "### Python Sets (advanced, but not too much)"
   ]
  },
  {
   "cell_type": "markdown",
   "id": "1c20a21f",
   "metadata": {},
   "source": [
    "Python sets model mathematical sets: **unordered**, **unique**, **hashable** elements.\n",
    "- Fast membership tests (`O(1)` average)\n",
    "- No duplicates\n",
    "- Mutability: `set` is mutable; `frozenset` is immutable & hashable"
   ]
  },
  {
   "cell_type": "markdown",
   "id": "4f558999",
   "metadata": {},
   "source": [
    "#### Creating Sets"
   ]
  },
  {
   "cell_type": "code",
   "execution_count": 1,
   "id": "a0c16302",
   "metadata": {},
   "outputs": [
    {
     "data": {
      "text/plain": [
       "({'a', 'b', 'c'}, {'a', 'b', 'c'}, {'h', 'n', 'o', 'p', 't', 'y'}, set())"
      ]
     },
     "execution_count": 1,
     "metadata": {},
     "output_type": "execute_result"
    }
   ],
   "source": [
    "s1 = {'a', 'b', 'c'}              # literal\n",
    "s2 = set(['a', 'b', 'c'])         # from iterable\n",
    "s3 = set('python')                # from string\n",
    "empty = set()                     # empty set ({} would be an empty dict)\n",
    "s1, s2, s3, empty"
   ]
  },
  {
   "cell_type": "markdown",
   "id": "a6d1f350",
   "metadata": {},
   "source": [
    "#### Uniqueness & Hashability"
   ]
  },
  {
   "cell_type": "code",
   "execution_count": 2,
   "id": "42b69c27",
   "metadata": {},
   "outputs": [
    {
     "name": "stdout",
     "output_type": "stream",
     "text": [
      "Error: unhashable type: 'list'\n"
     ]
    },
    {
     "data": {
      "text/plain": [
       "{frozenset({1, 2})}"
      ]
     },
     "execution_count": 2,
     "metadata": {},
     "output_type": "execute_result"
    }
   ],
   "source": [
    "set(['a', 'a', 'b', 'b'])  # duplicates removed\n",
    "                            # set elements must be hashable:\n",
    "try:\n",
    "    set([[1,2], [1,2]])    # lists are unhashable -> TypeError\n",
    "except TypeError as e:\n",
    "    print('Error:', e)\n",
    "\n",
    "fs = {frozenset({1,2}), frozenset({1,2})}  # OK: frozenset is hashable\n",
    "fs"
   ]
  },
  {
   "cell_type": "markdown",
   "id": "d7ff1b68",
   "metadata": {},
   "source": [
    "#### Membership, Iteration, Size (order is arbitrary)"
   ]
  },
  {
   "cell_type": "code",
   "execution_count": 3,
   "id": "414db539",
   "metadata": {},
   "outputs": [
    {
     "name": "stdout",
     "output_type": "stream",
     "text": [
      "p\n",
      "n\n",
      "o\n",
      "h\n",
      "y\n",
      "t\n"
     ]
    }
   ],
   "source": [
    "s = set('python')\n",
    "'p' in s, 'x' not in s, len(s)\n",
    "for item in s:\n",
    "    print(item)  # iteration order is not guaranteed"
   ]
  },
  {
   "cell_type": "markdown",
   "id": "8a638033",
   "metadata": {},
   "source": [
    "#### Basic Mutating Operations (`add`, `update`, `remove`, `discard`, `pop`, `clear`)"
   ]
  },
  {
   "cell_type": "code",
   "execution_count": 4,
   "id": "1af61faa",
   "metadata": {},
   "outputs": [
    {
     "name": "stdout",
     "output_type": "stream",
     "text": [
      "after add/update: {'b', 'a', 'd', 'c'}\n",
      "remove failed on missing key\n",
      "after pop(): {'a', 'd', 'c'}\n"
     ]
    },
    {
     "data": {
      "text/plain": [
       "set()"
      ]
     },
     "execution_count": 4,
     "metadata": {},
     "output_type": "execute_result"
    }
   ],
   "source": [
    "s = {'a', 'b'}\n",
    "s.add('c')                    # add single element\n",
    "s.update(['c', 'd'])          # add many (any iterable)\n",
    "print('after add/update:', s)\n",
    "\n",
    "s.discard('x')                # safe (no error if missing)\n",
    "try:\n",
    "    s.remove('x')             # KeyError if missing\n",
    "except KeyError:\n",
    "    print('remove failed on missing key')\n",
    "\n",
    "_ = s.pop()                   # remove and return an arbitrary element\n",
    "print('after pop():', s)\n",
    "s.clear(); s"
   ]
  },
  {
   "cell_type": "markdown",
   "id": "ab9dfbd9",
   "metadata": {},
   "source": [
    "#### Set Algebra (union, intersection, difference, symmetric difference)"
   ]
  },
  {
   "cell_type": "code",
   "execution_count": 5,
   "id": "459cb72c",
   "metadata": {},
   "outputs": [
    {
     "data": {
      "text/plain": [
       "({'a', 'b', 'c', 'd', 'e', 'x', 'y', 'z'},\n",
       " {'b', 'd'},\n",
       " {'a', 'c', 'e'},\n",
       " {'a', 'c', 'e', 'x', 'y', 'z'})"
      ]
     },
     "execution_count": 5,
     "metadata": {},
     "output_type": "execute_result"
    }
   ],
   "source": [
    "a = set('abcde')\n",
    "b = set('bdxyz')\n",
    "\n",
    "a_union_b        = a | b          # union\n",
    "a_inter_b        = a & b          # intersection\n",
    "a_minus_b        = a - b          # elements in a not in b\n",
    "sym_diff         = a ^ b          # elements in exactly one set\n",
    "\n",
    "a_union_b, a_inter_b, a_minus_b, sym_diff"
   ]
  },
  {
   "cell_type": "markdown",
   "id": "547582ba",
   "metadata": {},
   "source": [
    "#### Relational Tests (`issubset`, `issuperset`, `isdisjoint`)"
   ]
  },
  {
   "cell_type": "code",
   "execution_count": 6,
   "id": "b8bfeb09",
   "metadata": {},
   "outputs": [
    {
     "name": "stdout",
     "output_type": "stream",
     "text": [
      "True True\n",
      "True\n"
     ]
    }
   ],
   "source": [
    "digits   = set('0123456789')\n",
    "even     = {'0','2','4','6','8'}\n",
    "print(even.issubset(digits), digits.issuperset(even))\n",
    "vowels   = set('aeiou')\n",
    "print(vowels.isdisjoint(set('xyz')))  # True (no overlap)"
   ]
  },
  {
   "cell_type": "markdown",
   "id": "39443eec",
   "metadata": {},
   "source": [
    "#### Practical Patterns"
   ]
  },
  {
   "cell_type": "markdown",
   "id": "4b94b6fe",
   "metadata": {},
   "source": [
    "**1) Deduplicate while preserving original order** (use a seen set)"
   ]
  },
  {
   "cell_type": "code",
   "execution_count": 7,
   "id": "573dcf64",
   "metadata": {},
   "outputs": [
    {
     "data": {
      "text/plain": [
       "[3, 1, 2, 4]"
      ]
     },
     "execution_count": 7,
     "metadata": {},
     "output_type": "execute_result"
    }
   ],
   "source": [
    "def dedupe_preserve_order(seq):\n",
    "    seen = set()\n",
    "    out = []\n",
    "    for x in seq:\n",
    "        if x not in seen:\n",
    "            seen.add(x)\n",
    "            out.append(x)\n",
    "    return out\n",
    "\n",
    "dedupe_preserve_order([3,1,2,3,2,1,4])"
   ]
  },
  {
   "cell_type": "markdown",
   "id": "4c099f8e",
   "metadata": {},
   "source": [
    "**2) Fast filtering / membership tests**"
   ]
  },
  {
   "cell_type": "code",
   "execution_count": 8,
   "id": "4ebd920d",
   "metadata": {},
   "outputs": [
    {
     "data": {
      "text/plain": [
       "['a.jpg', 'c.png', 'e.gif']"
      ]
     },
     "execution_count": 8,
     "metadata": {},
     "output_type": "execute_result"
    }
   ],
   "source": [
    "allowed = {'jpg','png','gif'}\n",
    "files = ['a.jpg','b.txt','c.png','d.docx','e.gif']\n",
    "[f for f in files if f.rsplit('.',1)[-1] in allowed]"
   ]
  },
  {
   "cell_type": "markdown",
   "id": "797466db",
   "metadata": {},
   "source": [
    "**3) Set comprehension** (readable filtering & transformation)"
   ]
  },
  {
   "cell_type": "code",
   "execution_count": 9,
   "id": "0d302716",
   "metadata": {},
   "outputs": [
    {
     "data": {
      "text/plain": [
       "{'alpha', 'beta', 'gamma'}"
      ]
     },
     "execution_count": 9,
     "metadata": {},
     "output_type": "execute_result"
    }
   ],
   "source": [
    "words = {'Alpha', 'beta', 'GAMMA', 'Beta'}\n",
    "normalized = {w.lower() for w in words}   # dedupe, normalize case\n",
    "normalized"
   ]
  },
  {
   "cell_type": "markdown",
   "id": "fdd52237",
   "metadata": {},
   "source": [
    "**4) Unique characters / tokens**"
   ]
  },
  {
   "cell_type": "code",
   "execution_count": 10,
   "id": "1be118ef",
   "metadata": {},
   "outputs": [
    {
     "data": {
      "text/plain": [
       "({' ', 'a', 'b', 'e', 'n', 'r', 's'}, {'are', 'bananas'})"
      ]
     },
     "execution_count": 10,
     "metadata": {},
     "output_type": "execute_result"
    }
   ],
   "source": [
    "text = 'bananas are bananas'\n",
    "unique_chars  = set(text)\n",
    "unique_words  = set(text.split())\n",
    "unique_chars, unique_words"
   ]
  },
  {
   "cell_type": "markdown",
   "id": "3b7391bf",
   "metadata": {},
   "source": [
    "#### Immutable Sets: `frozenset` (hashable; can be dict/set keys)"
   ]
  },
  {
   "cell_type": "code",
   "execution_count": 11,
   "id": "c584a4d8",
   "metadata": {},
   "outputs": [
    {
     "data": {
      "text/plain": [
       "'rw'"
      ]
     },
     "execution_count": 11,
     "metadata": {},
     "output_type": "execute_result"
    }
   ],
   "source": [
    "fs = frozenset({'read','write'})\n",
    "permissions_map = {fs: 'rw'}   # OK since frozenset is hashable\n",
    "permissions_map[fs]"
   ]
  },
  {
   "cell_type": "markdown",
   "id": "39a31ba8",
   "metadata": {},
   "source": [
    "#### Pitfalls & Notes\n",
    "- Set iteration order is **arbitrary** and can change between runs.\n",
    "- Only hashable elements are allowed.\n",
    "- Use `discard` instead of `remove` if you don't want errors on missing items.\n",
    "- For **stable ordering**, convert to a list and sort: `sorted(s)`."
   ]
  },
  {
   "cell_type": "markdown",
   "id": "fec33089",
   "metadata": {},
   "source": [
    "#### Example: Simple Venn-like Summary"
   ]
  },
  {
   "cell_type": "code",
   "execution_count": 12,
   "id": "29387230",
   "metadata": {},
   "outputs": [
    {
     "data": {
      "text/plain": [
       "{'A_only': [0, 1, 2, 3, 4],\n",
       " 'B_only': [10, 11, 12, 13, 14],\n",
       " 'intersection': [5, 6, 7, 8, 9],\n",
       " 'union_size': 15}"
      ]
     },
     "execution_count": 12,
     "metadata": {},
     "output_type": "execute_result"
    }
   ],
   "source": [
    "A = set(range(0, 10))\n",
    "B = set(range(5, 15))\n",
    "summary = {\n",
    "    'A_only': sorted(A - B),\n",
    "    'B_only': sorted(B - A),\n",
    "    'intersection': sorted(A & B),\n",
    "    'union_size': len(A | B)\n",
    "}\n",
    "summary"
   ]
  },
  {
   "cell_type": "code",
   "execution_count": null,
   "id": "07d5cdbe-2cd0-4c0f-bbfe-c39e9c5712dc",
   "metadata": {},
   "outputs": [],
   "source": []
  }
 ],
 "metadata": {
  "kernelspec": {
   "display_name": "Python 3 (ipykernel)",
   "language": "python",
   "name": "python3"
  },
  "language_info": {
   "codemirror_mode": {
    "name": "ipython",
    "version": 3
   },
   "file_extension": ".py",
   "mimetype": "text/x-python",
   "name": "python",
   "nbconvert_exporter": "python",
   "pygments_lexer": "ipython3",
   "version": "3.13.7"
  }
 },
 "nbformat": 4,
 "nbformat_minor": 5
}
