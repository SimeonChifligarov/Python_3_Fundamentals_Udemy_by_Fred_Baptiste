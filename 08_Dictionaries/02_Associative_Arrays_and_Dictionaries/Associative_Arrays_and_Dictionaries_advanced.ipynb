{
 "cells": [
  {
   "cell_type": "markdown",
   "metadata": {},
   "source": [
    "### Associative Arrays and Dictionaries (advanced, but not too much)"
   ]
  },
  {
   "cell_type": "markdown",
   "metadata": {},
   "source": [
    "This builds on the basics and adds a few power moves you'll use a lot:\n",
    "- safer lookups (`get`, `setdefault`),\n",
    "- elegant construction (dict comprehensions),\n",
    "- merging and unpacking (`|`, `**`),\n",
    "- handy batteries (`collections.Counter`, `defaultdict`),\n",
    "- iteration patterns (over keys/values/items),\n",
    "- sorting, pretty printing, and immutability notes."
   ]
  },
  {
   "cell_type": "markdown",
   "metadata": {},
   "source": [
    "## Safer lookups: `get`, default values, and `setdefault`"
   ]
  },
  {
   "cell_type": "code",
   "execution_count": 1,
   "metadata": {},
   "outputs": [
    {
     "name": "stdout",
     "output_type": "stream",
     "text": [
      "month: UNKNOWN\n",
      "favorite_color: blue\n",
      "{'first_name': 'Eric', 'last_name': 'Idle', 'year_born': 1943, 'favorite_color': 'blue'}\n"
     ]
    }
   ],
   "source": [
    "person = {\n",
    "    'first_name': 'Eric',\n",
    "    'last_name': 'Idle',\n",
    "    'year_born': 1943\n",
    "}\n",
    "\n",
    "# .get avoids KeyError and lets you provide a fallback\n",
    "month = person.get('month_born', 'UNKNOWN')\n",
    "print('month:', month)\n",
    "\n",
    ",\n",
    "# .setdefault returns existing value or inserts-and-returns default\n",
    "fav_color = person.setdefault('favorite_color', 'blue')\n",
    "print('favorite_color:', fav_color)\n",
    "print(person)  # notice the key got added"
   ]
  },
  {
   "cell_type": "markdown",
   "metadata": {},
   "source": [
    "## Constructing dictionaries cleanly (comprehensions)"
   ]
  },
  {
   "cell_type": "code",
   "execution_count": 2,
   "metadata": {},
   "outputs": [
    {
     "name": "stdout",
     "output_type": "stream",
     "text": [
      "{'python': 6, 'rocks': 5, 'spam': 4, 'eggs': 4}\n",
      "{'python': 6, 'rocks': 5}\n",
      "{'a': 1, 'b': 2, 'c': 3}\n"
     ]
    }
   ],
   "source": [
    "words = ['python', 'rocks', 'spam', 'eggs']\n",
    "\n",
    "# Map each word to its length\n",
    "lengths = {w: len(w) for w in words}\n",
    "print(lengths)\n",
    "\n",
    "# Filter while building: keep only words with length >= 5\n",
    "long_only = {w: len(w) for w in words if len(w) >= 5}\n",
    "print(long_only)\n",
    "\n",
    "# Build from pairs\n",
    "pairs = [('a', 1), ('b', 2), ('c', 3)]\n",
    "d_from_pairs = {k: v for k, v in pairs}\n",
    "print(d_from_pairs)"
   ]
  },
  {
   "cell_type": "markdown",
   "metadata": {},
   "source": [
    "## Iteration patterns: keys, values, items (and unpacking during loops)"
   ]
  },
  {
   "cell_type": "code",
   "execution_count": 3,
   "metadata": {},
   "outputs": [
    {
     "name": "stdout",
     "output_type": "stream",
     "text": [
      "keys:\n",
      "FR\n",
      "IT\n",
      "ES\n",
      "\n",
      "values:\n",
      "Paris\n",
      "Rome\n",
      "Madrid\n",
      "\n",
      "items (unpack into k, v):\n",
      "FR -> Paris\n",
      "IT -> Rome\n",
      "ES -> Madrid\n",
      "\n",
      "now items_view includes DE: [('FR', 'Paris'), ('IT', 'Rome'), ('ES', 'Madrid'), ('DE', 'Berlin')]\n"
     ]
    }
   ],
   "source": [
    "capitals = {'FR': 'Paris', 'IT': 'Rome', 'ES': 'Madrid'}\n",
    "\n",
    "print('keys:')\n",
    "for code in capitals:  # same as capitals.keys()\n",
    "    print(code)\n",
    "\n",
    "print('\\nvalues:')\n",
    "for city in capitals.values():\n",
    "    print(city)\n",
    "\n",
    "print('\\nitems (unpack into k, v):')\n",
    "for code, city in capitals.items():\n",
    "    print(f\"{code} -> {city}\")\n",
    "\n",
    "# Dict views are dynamic: they reflect mutations\n",
    "items_view = capitals.items()\n",
    "capitals['DE'] = 'Berlin'\n",
    "print('\\nnow items_view includes DE:', list(items_view))"
   ]
  },
  {
   "cell_type": "markdown",
   "metadata": {},
   "source": [
    "## Merging and unpacking dictionaries: `|`, `|=`, and `**`"
   ]
  },
  {
   "cell_type": "code",
   "execution_count": 4,
   "metadata": {},
   "outputs": [
    {
     "name": "stdout",
     "output_type": "stream",
     "text": [
      "merged: {'a': 1, 'b': 20, 'c': 3}\n",
      "base after |=: {'a': 1, 'b': 2, 'd': 4}\n",
      "cfg_final: {'timeout': 20, 'retries': 3, 'verbose': True}\n"
     ]
    }
   ],
   "source": [
    "base = {'a': 1, 'b': 2}\n",
    "extra = {'b': 20, 'c': 3}\n",
    "\n",
    "# Python 3.9+: union operator creates a new dict\n",
    "merged = base | extra   # right-hand side wins on conflicts\n",
    "print('merged:', merged)\n",
    "\n",
    "# In-place union\n",
    "base |= {'d': 4}\n",
    "print('base after |=:', base)\n",
    "\n",
    "# Double-star unpacking when building literals\n",
    "cfg_default = {'timeout': 10, 'retries': 3}\n",
    "cfg_env = {'timeout': 20}\n",
    "cfg_final = {**cfg_default, **cfg_env, 'verbose': True}\n",
    "print('cfg_final:', cfg_final)"
   ]
  },
  {
   "cell_type": "markdown",
   "metadata": {},
   "source": [
    "## Deleting safely: `pop`, `pop` with default, and `popitem` (LIFO)"
   ]
  },
  {
   "cell_type": "code",
   "execution_count": 5,
   "metadata": {},
   "outputs": [
    {
     "name": "stdout",
     "output_type": "stream",
     "text": [
      "removed AAPL: 3\n",
      "removed GOOG (defaulted): 0\n",
      "popped pair: MSFT 5\n",
      "stock now: {}\n"
     ]
    }
   ],
   "source": [
    "stock = {'AAPL': 3, 'MSFT': 5}\n",
    "qty = stock.pop('AAPL')  # returns removed value\n",
    "print('removed AAPL:', qty)\n",
    "\n",
    "# Provide a default to avoid KeyError\n",
    "missing = stock.pop('GOOG', 0)\n",
    "print('removed GOOG (defaulted):', missing)\n",
    "\n",
    "# popitem removes an arbitrary item (in CPython 3.7+ it's LIFO)\n",
    "ticker, qty = stock.popitem()\n",
    "print('popped pair:', ticker, qty)\n",
    "print('stock now:', stock)"
   ]
  },
  {
   "cell_type": "markdown",
   "metadata": {},
   "source": [
    "## Counting and grouping with `collections` (`Counter`, `defaultdict`)"
   ]
  },
  {
   "cell_type": "code",
   "execution_count": 6,
   "metadata": {},
   "outputs": [
    {
     "name": "stdout",
     "output_type": "stream",
     "text": [
      "Counter: Counter({'a': 5, 'b': 2, 'r': 2, 'c': 1, 'd': 1})\n",
      "most common 2: [('a', 5), ('b', 2)]\n",
      "grouped: {'a': ['apple', 'art'], 'b': ['bee', 'bat'], 'c': ['car']}\n"
     ]
    }
   ],
   "source": [
    "from collections import Counter, defaultdict\n",
    "\n",
    "letters = \"abracadabra\"\n",
    "counts = Counter(letters)\n",
    "print('Counter:', counts)\n",
    "print('most common 2:', counts.most_common(2))\n",
    "\n",
    "# defaultdict for convenient grouping/aggregation\n",
    "words = ['apple', 'art', 'bee', 'bat', 'car']\n",
    "by_initial = defaultdict(list)\n",
    "for w in words:\n",
    "    by_initial[w[0]].append(w)\n",
    "print('grouped:', dict(by_initial))  # cast to regular dict for display"
   ]
  },
  {
   "cell_type": "markdown",
   "metadata": {},
   "source": [
    "## Sorting dictionaries by key or by value (produces lists of pairs)"
   ]
  },
  {
   "cell_type": "code",
   "execution_count": 7,
   "metadata": {},
   "outputs": [
    {
     "name": "stdout",
     "output_type": "stream",
     "text": [
      "by key: [('apple', 1.2), ('banana', 2.5), ('pear', 2.1)]\n",
      "by value: [('apple', 1.2), ('pear', 2.1), ('banana', 2.5)]\n",
      "by value then key: [('apple', 1.2), ('pear', 2.1), ('banana', 2.5)]\n"
     ]
    }
   ],
   "source": [
    "prices = {'banana': 2.5, 'apple': 1.2, 'pear': 2.1}\n",
    "\n",
    "# Sort by key (alphabetical)\n",
    "by_key = sorted(prices.items())\n",
    "print('by key:', by_key)\n",
    "\n",
    "# Sort by value (ascending)\n",
    "by_value = sorted(prices.items(), key=lambda kv: kv[1])\n",
    "print('by value:', by_value)\n",
    "\n",
    "# Sort by value then key (stable sorts)\n",
    "by_value_then_key = sorted(prices.items(), key=lambda kv: (kv[1], kv[0]))\n",
    "print('by value then key:', by_value_then_key)"
   ]
  },
  {
   "cell_type": "markdown",
   "metadata": {},
   "source": [
    "## Pretty printing nested dictionaries (quick debugging)"
   ]
  },
  {
   "cell_type": "code",
   "execution_count": 8,
   "metadata": {},
   "outputs": [
    {
     "name": "stdout",
     "output_type": "stream",
     "text": [
      "{'id': 101,\n",
      " 'name': {'first': 'Terry', 'last': 'Gilliam'},\n",
      " 'prefs': {'notifications': {'email': True, 'sms': False}, 'theme': 'dark'},\n",
      " 'roles': ['writer', 'director']}\n",
      "\n",
      "After mutating original nested key:\n",
      "shallow['prefs']['theme'] -> light\n",
      "deep['prefs']['theme']    -> dark\n"
     ]
    }
   ],
   "source": [
    "from pprint import pprint\n",
    "\n",
    "user = {\n",
    "    'id': 101,\n",
    "    'name': {'first': 'Terry', 'last': 'Gilliam'},\n",
    "    'roles': ['writer', 'director'],\n",
    "    'prefs': {'theme': 'dark', 'notifications': {'email': True, 'sms': False}}\n",
    "}\n",
    "\n",
    "pprint(user)\n",
    "\n",
    "# shallow vs deep copy reminder (dicts hold references)\n",
    "import copy\n",
    "shallow = user.copy()\n",
    "deep = copy.deepcopy(user)\n",
    "user['prefs']['theme'] = 'light'\n",
    "print('\\nAfter mutating original nested key:')\n",
    "print('shallow[\\'prefs\\'][\\'theme\\'] ->', shallow['prefs']['theme'])  # changed\n",
    "print('deep[\\'prefs\\'][\\'theme\\']    ->', deep['prefs']['theme'])      # unchanged"
   ]
  },
  {
   "cell_type": "markdown",
   "metadata": {},
   "source": [
    "## Keys must be hashable: tuples OK, lists not; `frozenset` can help"
   ]
  },
  {
   "cell_type": "code",
   "execution_count": 9,
   "metadata": {},
   "outputs": [
    {
     "name": "stdout",
     "output_type": "stream",
     "text": [
      "x\n",
      "edge AB weight: 1.0\n"
     ]
    }
   ],
   "source": [
    "# Tuples are hashable if all their contents are hashable\n",
    "grid = {(0, 0): 'origin', (1, 0): 'x', (0, 1): 'y'}\n",
    "print(grid[(1, 0)])\n",
    "\n",
    "# Using a frozenset when the logical key is a set (order-insensitive)\n",
    "edges = {}\n",
    "a, b = 'A', 'B'\n",
    "edges[frozenset({a, b})] = 1.0   # same as {B, A}\n",
    "print('edge AB weight:', edges[frozenset({'B', 'A'})])"
   ]
  },
  {
   "cell_type": "markdown",
   "metadata": {},
   "source": [
    "## Practical mini-exercises"
   ]
  },
  {
   "cell_type": "markdown",
   "metadata": {},
   "source": [
    "### 1) Frequency of words (normalized, case-insensitive) using `Counter` and `casefold()`"
   ]
  },
  {
   "cell_type": "code",
   "execution_count": 10,
   "metadata": {},
   "outputs": [
    {
     "name": "stdout",
     "output_type": "stream",
     "text": [
      "Counter({'spam': 4, 'eggs': 1, 'bacon': 1})\n"
     ]
    }
   ],
   "source": [
    "text = \"\"\"Spam spam SPAM eggs, bacon; spam!\"\"\"\n",
    "import re\n",
    "tokens = re.findall(r\"[\\w']+\", text.casefold())  # simple tokenization\n",
    "freq = Counter(tokens)\n",
    "print(freq)"
   ]
  },
  {
   "cell_type": "markdown",
   "metadata": {},
   "source": [
    "### 2) Invert a dictionary (values must be unique & hashable)"
   ]
  },
  {
   "cell_type": "code",
   "execution_count": 11,
   "metadata": {},
   "outputs": [
    {
     "name": "stdout",
     "output_type": "stream",
     "text": [
      "{'France': 'FR', 'Italy': 'IT', 'Spain': 'ES'}\n",
      "{1: {'a', 'b'}, 2: {'c'}}\n"
     ]
    }
   ],
   "source": [
    "countries = {'FR': 'France', 'IT': 'Italy', 'ES': 'Spain'}\n",
    "inv = {v: k for k, v in countries.items()}\n",
    "print(inv)\n",
    "\n",
    "# If values may repeat, invert to sets of keys\n",
    "dup = {'a': 1, 'b': 1, 'c': 2}\n",
    "inv_multi = defaultdict(set)\n",
    "for k, v in dup.items():\n",
    "    inv_multi[v].add(k)\n",
    "print(dict(inv_multi))"
   ]
  },
  {
   "cell_type": "markdown",
   "metadata": {},
   "source": [
    "### 3) Safe nested access with chained `.get()` (quick-and-dirty)"
   ]
  },
  {
   "cell_type": "code",
   "execution_count": 12,
   "metadata": {},
   "outputs": [
    {
     "name": "stdout",
     "output_type": "stream",
     "text": [
      "name: Ada | email: <none>\n"
     ]
    }
   ],
   "source": [
    "payload = {'meta': {'page': 1}, 'data': {'user': {'name': 'Ada'}}}\n",
    "name = payload.get('data', {}).get('user', {}).get('name')\n",
    "missing = payload.get('data', {}).get('user', {}).get('email', '<none>')\n",
    "print('name:', name, '| email:', missing)"
   ]
  },
  {
   "cell_type": "code",
   "execution_count": null,
   "metadata": {},
   "outputs": [],
   "source": []
  }
 ],
 "metadata": {
  "kernelspec": {
   "display_name": "Python 3 (ipykernel)",
   "language": "python",
   "name": "python3"
  },
  "language_info": {
   "codemirror_mode": {
    "name": "ipython",
    "version": 3
   },
   "file_extension": ".py",
   "mimetype": "text/x-python",
   "name": "python",
   "nbconvert_exporter": "python",
   "pygments_lexer": "ipython3",
   "version": "3.13.7"
  }
 },
 "nbformat": 4,
 "nbformat_minor": 4
}
