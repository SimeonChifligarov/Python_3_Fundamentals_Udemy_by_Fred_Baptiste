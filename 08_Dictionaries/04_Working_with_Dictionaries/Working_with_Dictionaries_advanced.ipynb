{
 "cells": [
  {
   "cell_type": "markdown",
   "metadata": {},
   "source": [
    "### Working with Dictionaries (advanced, but not too much)"
   ]
  },
  {
   "cell_type": "markdown",
   "metadata": {},
   "source": [
    "This notebook adds a few powerful patterns on top of the basics: fast membership tests, safer lookups with defaults, counting/accumulating, merging, safe deletion, views/set-ops, and common creation/transformation tricks."
   ]
  },
  {
   "cell_type": "markdown",
   "metadata": {},
   "source": [
    "## Membership tests are on keys"
   ]
  },
  {
   "cell_type": "code",
   "execution_count": 1,
   "metadata": {},
   "outputs": [
    {
     "name": "stdout",
     "output_type": "stream",
     "text": [
      "True\n",
      "False\n",
      "True\n"
     ]
    }
   ],
   "source": [
    "data = {\n",
    "    'open': 100,\n",
    "    'high': 110,\n",
    "    'low': 95,\n",
    "    'close': 110\n",
    "}\n",
    "\n",
    "print('open' in data)     # True\n",
    "print('volume' in data)   # False\n",
    "print('volume' not in data)  # True"
   ]
  },
  {
   "cell_type": "markdown",
   "metadata": {},
   "source": [
    "## Clearing, size, shallow vs deep copy"
   ]
  },
  {
   "cell_type": "code",
   "execution_count": 2,
   "metadata": {},
   "outputs": [
    {
     "name": "stdout",
     "output_type": "stream",
     "text": [
      "original : {'a': [1, 2, 99], 'b': [3]}\n",
      "shallow  : {'a': [1, 2, 99], 'b': [3]}\n",
      "deep     : {'a': [1, 2], 'b': [3]}\n",
      "len(original) = 2\n",
      "cleared  : {}\n"
     ]
    }
   ],
   "source": [
    "original = {'a': [1, 2], 'b': [3]}\n",
    "shallow = original.copy()          # same as dict(original)\n",
    "\n",
    "from copy import deepcopy\n",
    "deep = deepcopy(original)\n",
    "\n",
    "original['a'].append(99)\n",
    "print('original :', original)\n",
    "print('shallow  :', shallow)   # shares inner lists -> mutated\n",
    "print('deep     :', deep)      # fully independent\n",
    "\n",
    "print('len(original) =', len(original))\n",
    "tmp = {'x': 1, 'y': 2}\n",
    "tmp.clear()\n",
    "print('cleared  :', tmp)"
   ]
  },
  {
   "cell_type": "markdown",
   "metadata": {},
   "source": [
    "## Creating dictionaries quickly"
   ]
  },
  {
   "cell_type": "code",
   "execution_count": 3,
   "metadata": {},
   "outputs": [
    {
     "name": "stdout",
     "output_type": "stream",
     "text": [
      "{'high': 100, 'low': 95}\n",
      "{'open': 0, 'high': 0, 'low': 0, 'close': 0}\n",
      "mutable fromkeys pitfall: {'a': [1], 'b': [1], 'c': [1]}\n",
      "fixed                         {'a': [1], 'b': [], 'c': []}\n"
     ]
    }
   ],
   "source": [
    "d1 = dict(high=100, low=95)   # keyword-style keys\n",
    "print(d1)\n",
    "\n",
    "# fromkeys: all keys share the same value object\n",
    "d2 = dict.fromkeys(['open', 'high', 'low', 'close'], 0)\n",
    "print(d2)\n",
    "\n",
    "# ⚠️ Pitfall: mutable default is shared\n",
    "d3 = dict.fromkeys('abc', [])\n",
    "d3['a'].append(1)\n",
    "print('mutable fromkeys pitfall:', d3)   # lists shared!\n",
    "\n",
    "# Proper way when needing independent lists\n",
    "d4 = {k: [] for k in 'abc'}\n",
    "d4['a'].append(1)\n",
    "print('fixed                        ', d4)"
   ]
  },
  {
   "cell_type": "markdown",
   "metadata": {},
   "source": [
    "## Idiomatic lookups with defaults: get(), setdefault(), and a light taste of defaultdict"
   ]
  },
  {
   "cell_type": "markdown",
   "metadata": {},
   "source": [
    "- `dict.get(key, default)` — read with a fallback; **does not** insert.\n",
    "- `dict.setdefault(key, default)` — read-or-insert default **and** return it.\n",
    "- `collections.defaultdict` — like `setdefault` at the dict level using a factory (shown briefly)."
   ]
  },
  {
   "cell_type": "code",
   "execution_count": 4,
   "metadata": {},
   "outputs": [
    {
     "name": "stdout",
     "output_type": "stream",
     "text": [
      "total sold      : {'widget': 15, 'license': 2}\n",
      "grouped keys    : {'widget': 3, 'license': 3}\n",
      "defaultdict keys: {'widget': 3, 'license': 3}\n"
     ]
    }
   ],
   "source": [
    "transactions = [\n",
    "    {'item': 'widget',  'trans_type': 'sale',   'quantity': 10},\n",
    "    {'item': 'widget',  'trans_type': 'sale',   'quantity': 5},\n",
    "    {'item': 'widget',  'trans_type': 'refund', 'quantity': 2},\n",
    "    {'item': 'license', 'trans_type': 'sale',   'quantity': 1},\n",
    "    {'item': 'license', 'trans_type': 'sale',   'quantity': 1},\n",
    "    {'item': 'license', 'trans_type': 'refund', 'quantity': 1},\n",
    "]\n",
    "\n",
    "# Using get() for totals\n",
    "total_sold = {}\n",
    "for t in transactions:\n",
    "    if t['trans_type'] == 'sale':\n",
    "        item = t['item']\n",
    "        total_sold[item] = total_sold.get(item, 0) + t['quantity']\n",
    "print('total sold      :', total_sold)\n",
    "\n",
    "# Using setdefault() for grouping\n",
    "by_item = {}\n",
    "for t in transactions:\n",
    "    by_item.setdefault(t['item'], []).append(t)\n",
    "print('grouped keys    :', {k: len(v) for k, v in by_item.items()})\n",
    "\n",
    "# A brief look at defaultdict (optional, similar effect)\n",
    "from collections import defaultdict\n",
    "group_dd = defaultdict(list)\n",
    "for t in transactions:\n",
    "    group_dd[t['item']].append(t)\n",
    "print('defaultdict keys:', {k: len(v) for k, v in group_dd.items()})"
   ]
  },
  {
   "cell_type": "markdown",
   "metadata": {},
   "source": [
    "## Merging dictionaries: update(), union operator `|`, and unpacking"
   ]
  },
  {
   "cell_type": "markdown",
   "metadata": {},
   "source": [
    "- `d.update(other)` mutates `d` in-place.\n",
    "- `d3 = d1 | d2` (Python ≥ 3.9) returns a **new** dict. Right side wins on key collisions.\n",
    "- `{**d1, **d2}` also builds a new dict (earlier Python compatibility)."
   ]
  },
  {
   "cell_type": "code",
   "execution_count": 5,
   "metadata": {},
   "outputs": [
    {
     "name": "stdout",
     "output_type": "stream",
     "text": [
      "update   -> {'a': 1, 'b': 200, 'c': 3}\n",
      "| union  -> {'a': 1, 'b': 200, 'c': 3}\n",
      "unpacking-> {'a': 1, 'b': 200, 'c': 3}\n",
      "|= result -> {'x': 9, 'y': 2}\n"
     ]
    }
   ],
   "source": [
    "d1 = {'a': 1, 'b': 2}\n",
    "d2 = {'b': 200, 'c': 3}\n",
    "\n",
    "m1 = d1.copy(); m1.update(d2)   # mutate copy\n",
    "print('update   ->', m1)\n",
    "\n",
    "m2 = d1 | d2                     # new dict, Python 3.9+\n",
    "print('| union  ->', m2)\n",
    "\n",
    "m3 = {**d1, **d2}                # unpacking\n",
    "print('unpacking->', m3)\n",
    "\n",
    "# In-place union\n",
    "x = {'x': 1}\n",
    "x |= {'x': 9, 'y': 2}\n",
    "print('|= result ->', x)"
   ]
  },
  {
   "cell_type": "markdown",
   "metadata": {},
   "source": [
    "## Safe deletion: del, pop with default, popitem (LIFO)"
   ]
  },
  {
   "cell_type": "code",
   "execution_count": 6,
   "metadata": {},
   "outputs": [
    {
     "name": "stdout",
     "output_type": "stream",
     "text": [
      "popped b -> 2 remaining: {'a': 1, 'c': 3}\n",
      "popitem -> ('c', 3) remaining: {'a': 1}\n",
      "del missing -> KeyError: 'missing'\n"
     ]
    }
   ],
   "source": [
    "d = {'a': 1, 'b': 2, 'c': 3}\n",
    "\n",
    "# pop returns the value and can take a default (avoids KeyError)\n",
    "val = d.pop('b', None)\n",
    "print('popped b ->', val, 'remaining:', d)\n",
    "\n",
    "# popitem removes and returns the last inserted (Python 3.7+)\n",
    "k, v = d.popitem()\n",
    "print('popitem ->', (k, v), 'remaining:', d)\n",
    "\n",
    "# del raises if missing\n",
    "try:\n",
    "    del d['missing']\n",
    "except KeyError as e:\n",
    "    print('del missing -> KeyError:', e)"
   ]
  },
  {
   "cell_type": "markdown",
   "metadata": {},
   "source": [
    "## Dictionary views: dynamic and set-like (intersection, diff, etc.)"
   ]
  },
  {
   "cell_type": "code",
   "execution_count": 7,
   "metadata": {},
   "outputs": [
    {
     "name": "stdout",
     "output_type": "stream",
     "text": [
      "keys(a) & keys(b) -> {'y', 'z'}\n",
      "keys(a) - keys(b) -> {'x'}\n",
      "values view is dynamic:\n",
      "[1, 2, 3]\n",
      "[1, 2, 3, 99]\n"
     ]
    }
   ],
   "source": [
    "a = {'x': 1, 'y': 2, 'z': 3}\n",
    "b = {'w': 0, 'y': 20, 'z': 30}\n",
    "print('keys(a) & keys(b) ->', a.keys() & b.keys())\n",
    "print('keys(a) - keys(b) ->', a.keys() - b.keys())\n",
    "print('values view is dynamic:')\n",
    "vals = a.values()\n",
    "print(list(vals))\n",
    "a['new'] = 99\n",
    "print(list(vals))  # reflects change"
   ]
  },
  {
   "cell_type": "markdown",
   "metadata": {},
   "source": [
    "## Transforming and filtering: comprehensions"
   ]
  },
  {
   "cell_type": "code",
   "execution_count": 8,
   "metadata": {},
   "outputs": [
    {
     "name": "stdout",
     "output_type": "stream",
     "text": [
      "discounted: {'banana': 2.25, 'apple': 1.2, 'pear': 1.8900000000000001, 'cherry': 4.5}\n",
      "p_only    : {'pear': 2.1}\n"
     ]
    }
   ],
   "source": [
    "prices = {'banana': 2.5, 'apple': 1.2, 'pear': 2.1, 'cherry': 5.0}\n",
    "\n",
    "# Apply a 10% discount to items priced >= 2.0\n",
    "discounted = {k: (v * 0.9 if v >= 2.0 else v) for k, v in prices.items()}\n",
    "print('discounted:', discounted)\n",
    "\n",
    "# Keep only keys starting with 'p'\n",
    "p_only = {k: v for k, v in prices.items() if k.startswith('p')}\n",
    "print('p_only    :', p_only)"
   ]
  },
  {
   "cell_type": "markdown",
   "metadata": {},
   "source": [
    "## Accumulation patterns: counting and netting with a single pass"
   ]
  },
  {
   "cell_type": "code",
   "execution_count": 9,
   "metadata": {},
   "outputs": [
    {
     "name": "stdout",
     "output_type": "stream",
     "text": [
      "counts: {'hit': 3, 'miss': 2}\n",
      "net   : {'widget': 13, 'license': 1}\n"
     ]
    }
   ],
   "source": [
    "events = ['hit', 'miss', 'hit', 'hit', 'miss']\n",
    "counts = {}\n",
    "for e in events:\n",
    "    counts[e] = counts.get(e, 0) + 1\n",
    "print('counts:', counts)\n",
    "\n",
    "# Net quantities (sales as +, refunds as -) in one pass\n",
    "net = {}\n",
    "for t in transactions:\n",
    "    q = t['quantity'] * (1 if t['trans_type'] == 'sale' else -1)\n",
    "    net[t['item']] = net.get(t['item'], 0) + q\n",
    "print('net   :', net)"
   ]
  },
  {
   "cell_type": "markdown",
   "metadata": {},
   "source": [
    "## Robust nested get (avoid KeyError chains)"
   ]
  },
  {
   "cell_type": "code",
   "execution_count": 10,
   "metadata": {},
   "outputs": [
    {
     "name": "stdout",
     "output_type": "stream",
     "text": [
      "city: London\n",
      "zip : None\n"
     ]
    }
   ],
   "source": [
    "order = {\n",
    "    'id': 123,\n",
    "    'customer': {\n",
    "        'name': 'Ada',\n",
    "        'address': {'city': 'London'}\n",
    "    }\n",
    "}\n",
    "\n",
    "city = order.get('customer', {}).get('address', {}).get('city', 'Unknown')\n",
    "print('city:', city)\n",
    "\n",
    "missing_zip = order.get('customer', {}).get('address', {}).get('zip', None)\n",
    "print('zip :', missing_zip)"
   ]
  },
  {
   "cell_type": "code",
   "execution_count": null,
   "metadata": {},
   "outputs": [],
   "source": []
  }
 ],
 "metadata": {
  "kernelspec": {
   "display_name": "Python 3 (ipykernel)",
   "language": "python",
   "name": "python3"
  },
  "language_info": {
   "codemirror_mode": {
    "name": "ipython",
    "version": 3
   },
   "file_extension": ".py",
   "mimetype": "text/x-python",
   "name": "python",
   "nbconvert_exporter": "python",
   "pygments_lexer": "ipython3",
   "version": "3.13.7"
  }
 },
 "nbformat": 4,
 "nbformat_minor": 4
}
