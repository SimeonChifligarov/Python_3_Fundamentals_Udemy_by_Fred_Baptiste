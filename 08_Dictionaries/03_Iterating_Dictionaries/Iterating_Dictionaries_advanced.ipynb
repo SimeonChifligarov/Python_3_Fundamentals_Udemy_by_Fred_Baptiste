{
 "cells": [
  {
   "cell_type": "markdown",
   "metadata": {},
   "source": [
    "### Iterating Dictionaries (advanced, but not too much)"
   ]
  },
  {
   "cell_type": "markdown",
   "metadata": {},
   "source": [
    "Recap: iterating a `dict` yields **keys**. Below are practical patterns to iterate keys, values, and key–value pairs, plus ordering, mutation safety, and a few power moves."
   ]
  },
  {
   "cell_type": "markdown",
   "metadata": {},
   "source": [
    "## Keys, values, and items"
   ]
  },
  {
   "cell_type": "code",
   "execution_count": 1,
   "metadata": {},
   "outputs": [
    {
     "name": "stdout",
     "output_type": "stream",
     "text": [
      "Iterating keys (default):\n",
      "key 1\n",
      "key 2\n",
      "3.14\n",
      "\n",
      "Using keys() explicitly:\n",
      "key 1 = 1\n",
      "key 2 = 2\n",
      "3.14 = pi\n",
      "\n",
      "Values only:\n",
      "1\n",
      "2\n",
      "pi\n",
      "\n",
      "Key–value pairs via items():\n",
      "key 1 = 1\n",
      "key 2 = 2\n",
      "3.14 = pi\n"
     ]
    }
   ],
   "source": [
    "d = {\n",
    "    'key 1': 1,\n",
    "    'key 2': 2,\n",
    "    3.14: 'pi'\n",
    "}\n",
    "\n",
    "print('Iterating keys (default):')\n",
    "for k in d:\n",
    "    print(k)\n",
    "\n",
    "print('\\nUsing keys() explicitly:')\n",
    "for k in d.keys():\n",
    "    print(f\"{k} = {d[k]}\")\n",
    "\n",
    "print('\\nValues only:')\n",
    "for v in d.values():\n",
    "    print(v)\n",
    "\n",
    "print('\\nKey–value pairs via items():')\n",
    "for k, v in d.items():\n",
    "    print(f'{k} = {v}')"
   ]
  },
  {
   "cell_type": "markdown",
   "metadata": {},
   "source": [
    "## Views are live (reflect mutations)"
   ]
  },
  {
   "cell_type": "code",
   "execution_count": 2,
   "metadata": {},
   "outputs": [
    {
     "name": "stdout",
     "output_type": "stream",
     "text": [
      "before: [('key 1', 1), ('key 2', 2), (3.14, 'pi')]\n",
      "after adding key: [('key 1', 1), ('key 2', 2), (3.14, 'pi'), ('new', 42)]\n",
      "values reflect updates too: [1, 200, 'pi', 42]\n"
     ]
    }
   ],
   "source": [
    "items_view = d.items()     # a dynamic view\n",
    "values_view = d.values()\n",
    "print('before:', list(items_view))\n",
    "d['new'] = 42\n",
    "print('after adding key:', list(items_view))\n",
    "d['key 2'] = 200\n",
    "print('values reflect updates too:', list(values_view))"
   ]
  },
  {
   "cell_type": "markdown",
   "metadata": {},
   "source": [
    "## Ordering: insertion order and sorted iteration"
   ]
  },
  {
   "cell_type": "code",
   "execution_count": 3,
   "metadata": {},
   "outputs": [
    {
     "name": "stdout",
     "output_type": "stream",
     "text": [
      "insertion order:\n",
      "a\n",
      "b\n",
      "c\n",
      "x\n",
      "\n",
      "sorted by key:\n",
      "a\n",
      "b\n",
      "c\n",
      "x\n",
      "\n",
      "sorted by value then key:\n",
      "a 1\n",
      "b 2\n",
      "c 3\n",
      "x 24\n"
     ]
    }
   ],
   "source": [
    "ordered = {'a': 1, 'b': 2, 'c': 3}\n",
    "ordered['x'] = 24  # appended at the end (insertion order)\n",
    "print('insertion order:')\n",
    "for k in ordered:\n",
    "    print(k)\n",
    "\n",
    "# Sorting by key or by value when you need deterministic custom order\n",
    "print('\\nsorted by key:')\n",
    "for k in sorted(ordered):\n",
    "    print(k)\n",
    "\n",
    "print('\\nsorted by value then key:')\n",
    "for k, v in sorted(ordered.items(), key=lambda kv: (kv[1], kv[0])):\n",
    "    print(k, v)"
   ]
  },
  {
   "cell_type": "markdown",
   "metadata": {},
   "source": [
    "## Safe mutation while iterating (copy the keys/items!)"
   ]
  },
  {
   "cell_type": "code",
   "execution_count": 4,
   "metadata": {},
   "outputs": [
    {
     "name": "stdout",
     "output_type": "stream",
     "text": [
      "after deletion: {'alice': 10, 'carol': 7}\n",
      "filtered copy: {'alice': 10, 'carol': 7}\n"
     ]
    }
   ],
   "source": [
    "scores = {'alice': 10, 'bob': 0, 'carol': 7, 'dave': 0}\n",
    "\n",
    "# BAD: mutating the dict you iterate can raise RuntimeError or skip entries\n",
    "# for k in scores:  # don't do this\n",
    "#     if scores[k] == 0:\n",
    "#         del scores[k]\n",
    "\n",
    "# GOOD: iterate over a static list of keys (or items)\n",
    "for k in list(scores.keys()):\n",
    "    if scores[k] == 0:\n",
    "        del scores[k]\n",
    "print('after deletion:', scores)\n",
    "\n",
    "# Another common pattern: build a new dict via comprehension\n",
    "scores = {'alice': 10, 'bob': 0, 'carol': 7, 'dave': 0}\n",
    "non_zero = {k: v for k, v in scores.items() if v != 0}\n",
    "print('filtered copy:', non_zero)"
   ]
  },
  {
   "cell_type": "markdown",
   "metadata": {},
   "source": [
    "## Iterating nested dictionaries (deep walk and flatten examples)"
   ]
  },
  {
   "cell_type": "code",
   "execution_count": 5,
   "metadata": {},
   "outputs": [
    {
     "name": "stdout",
     "output_type": "stream",
     "text": [
      "deep walk:\n",
      "books/python: $30 (5 left)\n",
      "books/data: $45 (2 left)\n",
      "accessories/mug: $12 (20 left)\n",
      "\n",
      "flattened keys: ['books.python', 'books.data', 'accessories.mug']\n"
     ]
    }
   ],
   "source": [
    "catalog = {\n",
    "    'books': {\n",
    "        'python': {'price': 30, 'stock': 5},\n",
    "        'data': {'price': 45, 'stock': 2}\n",
    "    },\n",
    "    'accessories': {'mug': {'price': 12, 'stock': 20}}\n",
    "}\n",
    "\n",
    "print('deep walk:')\n",
    "for category, items in catalog.items():\n",
    "    for name, meta in items.items():\n",
    "        price = meta['price']\n",
    "        stock = meta['stock']\n",
    "        print(f\"{category}/{name}: ${price} ({stock} left)\")\n",
    "\n",
    "# Flatten to a single-level dict with compound keys\n",
    "flat = {f\"{cat}.{name}\": meta for cat, items in catalog.items() for name, meta in items.items()}\n",
    "print('\\nflattened keys:', list(flat.keys()))"
   ]
  },
  {
   "cell_type": "markdown",
   "metadata": {},
   "source": [
    "## Views as set-like objects (membership and set ops on keys)"
   ]
  },
  {
   "cell_type": "code",
   "execution_count": 6,
   "metadata": {},
   "outputs": [
    {
     "name": "stdout",
     "output_type": "stream",
     "text": [
      "membership on keys view: True\n",
      "common keys: {'z', 'y'}\n",
      "keys only in a: {'x'}\n",
      "symmetric difference: {'w', 'x'}\n"
     ]
    }
   ],
   "source": [
    "a = {'x': 1, 'y': 2, 'z': 3}\n",
    "b = {'w': 0, 'y': 20, 'z': 30}\n",
    "\n",
    "print('membership on keys view:', 'x' in a.keys())\n",
    "print('common keys:', a.keys() & b.keys())\n",
    "print('keys only in a:', a.keys() - b.keys())\n",
    "print('symmetric difference:', a.keys() ^ b.keys())"
   ]
  },
  {
   "cell_type": "markdown",
   "metadata": {},
   "source": [
    "## Enumerating with index while iterating items (rare, but sometimes handy)"
   ]
  },
  {
   "cell_type": "code",
   "execution_count": 7,
   "metadata": {},
   "outputs": [
    {
     "name": "stdout",
     "output_type": "stream",
     "text": [
      "1. host = localhost\n",
      "2. port = 5432\n",
      "3. db = app\n"
     ]
    }
   ],
   "source": [
    "conf = {'host': 'localhost', 'port': 5432, 'db': 'app'}\n",
    "for idx, (k, v) in enumerate(conf.items(), start=1):\n",
    "    print(f\"{idx}. {k} = {v}\")"
   ]
  },
  {
   "cell_type": "markdown",
   "metadata": {},
   "source": [
    "## Transforming dictionaries while iterating (map & filter in one go)"
   ]
  },
  {
   "cell_type": "code",
   "execution_count": 8,
   "metadata": {},
   "outputs": [
    {
     "name": "stdout",
     "output_type": "stream",
     "text": [
      "{'banana': 2.25, 'apple': 1.2, 'pear': 1.8900000000000001, 'cherry': 4.5}\n",
      "{'pear': 2.1}\n"
     ]
    }
   ],
   "source": [
    "prices = {'banana': 2.5, 'apple': 1.2, 'pear': 2.1, 'cherry': 5.0}\n",
    "\n",
    "# 10% discount on items priced >= 2.0, keep others as-is\n",
    "discounted = {\n",
    "    k: (v * 0.9 if v >= 2.0 else v)\n",
    "    for k, v in prices.items()\n",
    "}\n",
    "print(discounted)\n",
    "\n",
    "# Keep only items that start with 'p'\n",
    "p_only = {k: v for k, v in prices.items() if k.startswith('p')}\n",
    "print(p_only)"
   ]
  },
  {
   "cell_type": "markdown",
   "metadata": {},
   "source": [
    "## Re-insertion changes order; updating a value does not (demonstration)"
   ]
  },
  {
   "cell_type": "code",
   "execution_count": 9,
   "metadata": {},
   "outputs": [
    {
     "name": "stdout",
     "output_type": "stream",
     "text": [
      "after update: [('a', 1), ('b', 200), ('c', 3)]\n",
      "after delete: [('a', 1), ('c', 3)]\n",
      "after re-insert: [('a', 1), ('c', 3), ('b', 200)]\n"
     ]
    }
   ],
   "source": [
    "d2 = {'a': 1, 'b': 2, 'c': 3}\n",
    "d2['b'] = 200   # update keeps position\n",
    "print('after update:', list(d2.items()))\n",
    "del d2['b']     # delete removes it\n",
    "print('after delete:', list(d2.items()))\n",
    "d2['b'] = 200   # re-insert makes it last\n",
    "print('after re-insert:', list(d2.items()))"
   ]
  },
  {
   "cell_type": "markdown",
   "metadata": {},
   "source": [
    "## Bonus: iterating a dict of callables (dispatch tables)"
   ]
  },
  {
   "cell_type": "code",
   "execution_count": 10,
   "metadata": {},
   "outputs": [
    {
     "name": "stdout",
     "output_type": "stream",
     "text": [
      "double(5) = 10\n",
      "square(5) = 25\n",
      "neg(5) = -5\n"
     ]
    }
   ],
   "source": [
    "ops = {\n",
    "    'double': lambda x: x * 2,\n",
    "    'square': lambda x: x * x,\n",
    "    'neg': lambda x: -x,\n",
    "}\n",
    "x = 5\n",
    "for name, fn in ops.items():\n",
    "    print(f\"{name}({x}) = {fn(x)}\")"
   ]
  },
  {
   "cell_type": "code",
   "execution_count": null,
   "metadata": {},
   "outputs": [],
   "source": []
  }
 ],
 "metadata": {
  "kernelspec": {
   "display_name": "Python 3 (ipykernel)",
   "language": "python",
   "name": "python3"
  },
  "language_info": {
   "codemirror_mode": {
    "name": "ipython",
    "version": 3
   },
   "file_extension": ".py",
   "mimetype": "text/x-python",
   "name": "python",
   "nbconvert_exporter": "python",
   "pygments_lexer": "ipython3",
   "version": "3.13.7"
  }
 },
 "nbformat": 4,
 "nbformat_minor": 4
}
