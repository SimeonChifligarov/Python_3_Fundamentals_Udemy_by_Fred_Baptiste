{
 "cells": [
  {
   "cell_type": "markdown",
   "id": "corporate-husband",
   "metadata": {},
   "source": [
    "### Solutions (advanced, but not too much)"
   ]
  },
  {
   "cell_type": "markdown",
   "id": "romance-tracker",
   "metadata": {},
   "source": [
    "#### Question 1 — Count ASCII letter frequencies (`a-z A-Z`)"
   ]
  },
  {
   "cell_type": "markdown",
   "id": "empty-slovenia",
   "metadata": {},
   "source": [
    "**Best practices used:** input-agnostic function, clear filtering, no zero entries, stable & readable code.\n",
    "- We count **only** ASCII letters (`string.ascii_letters`), and keep case-sensitive counts.\n",
    "- Two idioms shown: manual dict accumulation with `get`, and a compact `Counter` variant."
   ]
  },
  {
   "cell_type": "code",
   "execution_count": 1,
   "id": "q1-solution",
   "metadata": {},
   "outputs": [
    {
     "name": "stdout",
     "output_type": "stream",
     "text": [
      "{'A': 2, 'a': 2, 'B': 2, 'b': 1, 'C': 1}\n"
     ]
    }
   ],
   "source": [
    "from collections import Counter\n",
    "import string\n",
    "\n",
    "ASCII_LETTERS = set(string.ascii_letters)  # 'abcdefghijklmnopqrstuvwxyzABCDEFGHIJKLMNOPQRSTUVWXYZ'\n",
    "\n",
    "def count_ascii_letters(s: str) -> dict:\n",
    "    \"\"\"Return frequency dict for ASCII letters in s (case-sensitive).\"\"\"\n",
    "    counts: dict[str, int] = {}\n",
    "    for ch in s:\n",
    "        if ch in ASCII_LETTERS:\n",
    "            counts[ch] = counts.get(ch, 0) + 1\n",
    "    return counts\n",
    "\n",
    "# Alternative (equivalent) using Counter\n",
    "def count_ascii_letters_counter(s: str) -> dict:\n",
    "    return dict(Counter(ch for ch in s if ch in ASCII_LETTERS))\n",
    "\n",
    "# --- Samples ---\n",
    "s = 'Aa, Bb - A a B C'\n",
    "print(count_ascii_letters(s))\n",
    "\n",
    "s1 = \"\"\"\n",
    "“'And' and 'or' are the basic operations of logic. Together with 'no' (the logical operation \n",
    "of negation) they are a complete set of basic logical operations — all other logical \n",
    "operations, no matter how complex, can be obtained by suitable combinations of these.” \n",
    "― John von Neumann, The Computer and the Brain\n",
    "\"\"\"\n",
    "\n",
    "s2 = \"\"\"\n",
    "Lorem ipsum dolor sit amet, consectetur adipiscing elit, sed do eiusmod tempor incididunt ut \n",
    "labore et dolore magna aliqua. Ut enim ad minim veniam, quis nostrud exercitation ullamco laboris \n",
    "nisi ut aliquip ex ea commodo consequat. Duis aute irure dolor in reprehenderit in voluptate velit \n",
    "esse cillum dolore eu fugiat nulla pariatur. Excepteur sint occaecat cupidatat non proident, sunt \n",
    "in culpa qui officia deserunt mollit anim id est laborum.\n",
    "\"\"\"\n",
    "\n",
    "_ = count_ascii_letters(s1)  # just to show it runs\n",
    "_ = count_ascii_letters_counter(s2)"
   ]
  },
  {
   "cell_type": "markdown",
   "id": "double-engine",
   "metadata": {},
   "source": [
    "#### Question 2 — Collect keys and values from multiple dictionaries"
   ]
  },
  {
   "cell_type": "markdown",
   "id": "q2-notes",
   "metadata": {},
   "source": [
    "**Best practices used:** handle an arbitrary number of dicts, preserve duplicates, order not important.\n",
    "- Uses a flat list-comprehension over `dicts` for clarity.\n",
    "- Works for any mix of key/value types."
   ]
  },
  {
   "cell_type": "code",
   "execution_count": 2,
   "id": "racial-medline",
   "metadata": {},
   "outputs": [
    {
     "name": "stdout",
     "output_type": "stream",
     "text": [
      "['a', 'b', 'c', 'd', 'e', 'f', 'f', 'g']\n",
      "[10, 20, 30, 100, 200, 300, 30, 40]\n"
     ]
    }
   ],
   "source": [
    "d1 = {'a': 10, 'b': 20, 'c': 30}\n",
    "d2 = {'d': 100, 'e': 200, 'f': 300}\n",
    "d3 = {'f': 30, 'g': 40}\n",
    "\n",
    "dicts = [d1, d2, d3]\n",
    "\n",
    "all_keys   = [k for d in dicts for k in d.keys()]\n",
    "all_values = [v for d in dicts for v in d.values()]\n",
    "\n",
    "print(all_keys)\n",
    "print(all_values)"
   ]
  },
  {
   "cell_type": "markdown",
   "id": "hawaiian-proxy",
   "metadata": {},
   "source": [
    "#### Question 3 — Update grade book with latest exam (prepend), fill missing with `None`"
   ]
  },
  {
   "cell_type": "markdown",
   "id": "q3-notes",
   "metadata": {},
   "source": [
    "**Best practices used:** do not assume alignment, use `.get()` with a default, insert at front.\n",
    "- If a student is missing in `exam`, we prepend `None`.\n",
    "- If `exam` contains a new student not in `grades`, we also add them (optional enhancement)."
   ]
  },
  {
   "cell_type": "code",
   "execution_count": 3,
   "id": "q3-solution",
   "metadata": {},
   "outputs": [
    {
     "name": "stdout",
     "output_type": "stream",
     "text": [
      "{'John': [100, 90, 95, 98], 'Eric': [99, 86, 84, 92], 'Michael': [None, 90, 89, 85]}\n"
     ]
    }
   ],
   "source": [
    "grades = {\n",
    "    'John': [90, 95, 98],\n",
    "    'Eric': [86, 84, 92],\n",
    "    'Michael': [90, 89, 85]\n",
    "}\n",
    "\n",
    "exam = {\n",
    "    'Eric': 99,\n",
    "    'John': 100\n",
    "}\n",
    "\n",
    "# Prepend latest grade (or None) for existing students\n",
    "for student, scores in grades.items():\n",
    "    scores.insert(0, exam.get(student, None))\n",
    "\n",
    "# Optional: include newly-appearing students from `exam` that were not in `grades`\n",
    "for student, score in exam.items():\n",
    "    if student not in grades:\n",
    "        grades[student] = [score]\n",
    "\n",
    "print(grades)\n",
    "# Expected core result:\n",
    "# {\n",
    "#   'John': [100, 90, 95, 98],\n",
    "#   'Eric': [99, 86, 84, 92],\n",
    "#   'Michael': [None, 90, 89, 85]\n",
    "# }"
   ]
  },
  {
   "cell_type": "code",
   "execution_count": null,
   "id": "d5615dd5-b5be-478d-9a0c-985fa5c4999a",
   "metadata": {},
   "outputs": [],
   "source": []
  }
 ],
 "metadata": {
  "kernelspec": {
   "display_name": "Python 3 (ipykernel)",
   "language": "python",
   "name": "python3"
  },
  "language_info": {
   "codemirror_mode": {
    "name": "ipython",
    "version": 3
   },
   "file_extension": ".py",
   "mimetype": "text/x-python",
   "name": "python",
   "nbconvert_exporter": "python",
   "pygments_lexer": "ipython3",
   "version": "3.13.7"
  }
 },
 "nbformat": 4,
 "nbformat_minor": 5
}
