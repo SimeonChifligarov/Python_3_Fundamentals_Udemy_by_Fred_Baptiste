{
 "cells": [
  {
   "cell_type": "markdown",
   "metadata": {},
   "source": [
    "# Advanced `if / elif / else`\n",
    "\n",
    "Beyond the basics: readability patterns, guard clauses, conditional expressions, assignment expressions (`:=`), truthiness pitfalls, `any`/`all`, and when *not* to use `if` (EAFP vs LBYL)."
   ]
  },
  {
   "cell_type": "markdown",
   "metadata": {},
   "source": [
    "## 1) `if / elif / else`: mutually exclusive branches\n",
    "Use `elif` (not nested `if`) when branches are **mutually exclusive**. It makes intent and performance clearer."
   ]
  },
  {
   "cell_type": "code",
   "execution_count": 1,
   "metadata": {
    "tags": [
     "demo"
    ]
   },
   "outputs": [
    {
     "name": "stdout",
     "output_type": "stream",
     "text": [
      "C\n"
     ]
    }
   ],
   "source": [
    "score = 72\n",
    "if score >= 90:\n",
    "    grade = 'A'\n",
    "elif score >= 80:\n",
    "    grade = 'B'\n",
    "elif score >= 70:\n",
    "    grade = 'C'\n",
    "elif score >= 60:\n",
    "    grade = 'D'\n",
    "else:\n",
    "    grade = 'F'\n",
    "print(grade)  # C"
   ]
  },
  {
   "cell_type": "markdown",
   "metadata": {},
   "source": [
    "### Tip: Order from most-restrictive to least-restrictive\n",
    "Top checks should be the *strongest* (e.g., `>= 90`) so later checks can assume earlier ones failed."
   ]
  },
  {
   "cell_type": "markdown",
   "metadata": {},
   "source": [
    "## 2) Guard clauses: reduce nesting, improve readability\n",
    "When a function has preconditions, **return early** on invalid states. This flattens code and avoids deep nesting."
   ]
  },
  {
   "cell_type": "code",
   "execution_count": 2,
   "metadata": {
    "tags": [
     "guard"
    ]
   },
   "outputs": [
    {
     "name": "stdout",
     "output_type": "stream",
     "text": [
      "Withdrawal approved\n",
      "Invalid amount\n",
      "Insufficient funds\n",
      "Account disabled\n"
     ]
    }
   ],
   "source": [
    "def withdraw(balance: float, amount: float, enabled: bool) -> float:\n",
    "    if not enabled:\n",
    "        print(\"Account disabled\")\n",
    "        return balance\n",
    "    if amount <= 0:\n",
    "        print(\"Invalid amount\")\n",
    "        return balance\n",
    "    if amount > balance:\n",
    "        print(\"Insufficient funds\")\n",
    "        return balance\n",
    "    # Happy path below\n",
    "    print(\"Withdrawal approved\")\n",
    "    return balance - amount\n",
    "\n",
    "assert withdraw(1000, 50, True) == 950\n",
    "assert withdraw(1000, -1, True) == 1000\n",
    "assert withdraw(1000, 5000, True) == 1000\n",
    "assert withdraw(1000, 50, False) == 1000"
   ]
  },
  {
   "cell_type": "markdown",
   "metadata": {},
   "source": [
    "## 3) Conditional expression (`x if cond else y`)\n",
    "Use for short, expression-level choices. Keep it simple—avoid complex nesting.\n",
    "\n",
    "Good:\n",
    "```python\n",
    "status = \"hot\" if temp > 30 else \"ok\"\n",
    "```\n",
    "Be cautious when `0`/`\"\"` are valid values—don’t use `or` as a drop-in replacement."
   ]
  },
  {
   "cell_type": "code",
   "execution_count": 3,
   "metadata": {
    "tags": [
     "ternary"
    ]
   },
   "outputs": [],
   "source": [
    "temp = 31\n",
    "status = \"hot\" if temp > 30 else \"ok\"\n",
    "assert status == \"hot\"\n",
    "\n",
    "# Nested, but still readable (limit to 2 levels max in practice)\n",
    "def bucketize(n: int) -> str:\n",
    "    return (\"negative\" if n < 0 else (\"zero\" if n == 0 else \"positive\"))\n",
    "assert bucketize(-1) == \"negative\"\n",
    "assert bucketize(0) == \"zero\"\n",
    "assert bucketize(5) == \"positive\""
   ]
  },
  {
   "cell_type": "markdown",
   "metadata": {},
   "source": [
    "## 4) Assignment expression (`:=`, the walrus) in `if`\n",
    "Use `:=` to reuse a computed value inside the condition and body **without** recomputing it. Great for input parsing or expensive calls.\n",
    "\n",
    "Guideline: Only when it enhances clarity—don’t cram logic into the condition."
   ]
  },
  {
   "cell_type": "code",
   "execution_count": 4,
   "metadata": {
    "tags": [
     "walrus"
    ]
   },
   "outputs": [],
   "source": [
    "def read_first_nonempty(lines):\n",
    "    for raw in lines:\n",
    "        if (s := raw.strip()):  # truthy if not empty after strip\n",
    "            return s\n",
    "    return None\n",
    "\n",
    "assert read_first_nonempty([\"  \", \"\\t\", \" hello \"]) == \"hello\"\n",
    "assert read_first_nonempty([\"  \", \"\\t\"]) is None"
   ]
  },
  {
   "cell_type": "markdown",
   "metadata": {},
   "source": [
    "## 5) Truthiness pitfalls\n",
    "- `0`, `0.0`, `''`, `[]`, `{}`, `set()`, `None` are **falsy**.\n",
    "- Distinguish `0` (valid value) from `None` (missing). Prefer `is None`/`is not None` for sentinel checks.\n",
    "- Avoid `if x:` when `x` can be `0` but is valid; be explicit."
   ]
  },
  {
   "cell_type": "code",
   "execution_count": 5,
   "metadata": {
    "tags": [
     "truthiness"
    ]
   },
   "outputs": [],
   "source": [
    "count = 0            # valid value!\n",
    "limit = None         # missing\n",
    "\n",
    "msg_count = (\"no data\" if count is None else f\"count={count}\")\n",
    "msg_limit = (\"no limit\" if limit is None else f\"limit={limit}\")\n",
    "assert msg_count == \"count=0\"\n",
    "assert msg_limit == \"no limit\""
   ]
  },
  {
   "cell_type": "markdown",
   "metadata": {},
   "source": [
    "## 6) `any`/`all` in conditionals\n",
    "These short-circuit internally and keep complex checks tidy.\n",
    "- `any(iterable)` → True if **any** item truthy\n",
    "- `all(iterable)` → True if **all** items truthy (True for empty iterables — vacuous truth)"
   ]
  },
  {
   "cell_type": "code",
   "execution_count": 6,
   "metadata": {
    "tags": [
     "anyall"
    ]
   },
   "outputs": [],
   "source": [
    "user = {\"email\": \"a@b.com\", \"phone\": \"\", \"backup\": None}\n",
    "if any(user.get(k) for k in (\"email\", \"phone\", \"backup\")):\n",
    "    contactable = True\n",
    "else:\n",
    "    contactable = False\n",
    "assert contactable is True\n",
    "\n",
    "password = \"Abc123!\"  # demo only\n",
    "rules = [\n",
    "    any(c.islower() for c in password),\n",
    "    any(c.isupper() for c in password),\n",
    "    any(c.isdigit() for c in password),\n",
    "    any(not c.isalnum() for c in password),\n",
    "    len(password) >= 8,\n",
    "]\n",
    "assert all(rules) is False  # length rule fails"
   ]
  },
  {
   "cell_type": "markdown",
   "metadata": {},
   "source": [
    "## 7) LBYL vs EAFP (When *not* to use `if`)\n",
    "- **LBYL** (Look Before You Leap): check conditions **before** acting (often via `if`).\n",
    "- **EAFP** (Easier to Ask Forgiveness than Permission): try the action, handle exceptions.\n",
    "\n",
    "Prefer EAFP when it removes race conditions and avoids duplicate work. Use `if` (LBYL) for cheap checks or to avoid exceptions in hot paths."
   ]
  },
  {
   "cell_type": "code",
   "execution_count": 7,
   "metadata": {
    "tags": [
     "eafp"
    ]
   },
   "outputs": [],
   "source": [
    "def get_int_safe(d, key):\n",
    "    # LBYL\n",
    "    if key in d and isinstance(d[key], int):\n",
    "        return d[key]\n",
    "    return 0\n",
    "\n",
    "def get_int_eafp(d, key):\n",
    "    # EAFP\n",
    "    try:\n",
    "        v = d[key]\n",
    "        return v if isinstance(v, int) else 0\n",
    "    except KeyError:\n",
    "        return 0\n",
    "\n",
    "sample = {\"a\": 10}\n",
    "assert get_int_safe(sample, \"a\") == 10\n",
    "assert get_int_safe(sample, \"b\") == 0\n",
    "assert get_int_eafp(sample, \"a\") == 10\n",
    "assert get_int_eafp(sample, \"b\") == 0"
   ]
  },
  {
   "cell_type": "markdown",
   "metadata": {},
   "source": [
    "## 8) Combining comparisons & guarding expensive work\n",
    "Use chained comparisons; pre-check cheap conditions before expensive calls."
   ]
  },
  {
   "cell_type": "code",
   "execution_count": 8,
   "metadata": {
    "tags": [
     "combine"
    ]
   },
   "outputs": [],
   "source": [
    "def expensive(x):\n",
    "    # simulate cost\n",
    "    for _ in range(10000):\n",
    "        pass\n",
    "    return x * x\n",
    "\n",
    "x = 10\n",
    "if 0 < x < 20 and (y := expensive(x)) > 50:\n",
    "    result = y\n",
    "else:\n",
    "    result = None\n",
    "assert result == 100"
   ]
  },
  {
   "cell_type": "markdown",
   "metadata": {},
   "source": [
    "## 9) Pattern: mapping ranges to labels using `if` vs data-driven\n",
    "Advanced note: for many disjoint numeric ranges, `if/elif` is fine. For lots of categories, consider data-driven tables/functions. Still, here’s a clean `if/elif` range mapper:"
   ]
  },
  {
   "cell_type": "code",
   "execution_count": 9,
   "metadata": {
    "tags": [
     "ranges"
    ]
   },
   "outputs": [],
   "source": [
    "def letter_grade(score: int) -> str:\n",
    "    if score >= 90: return 'A'\n",
    "    if score >= 80: return 'B'\n",
    "    if score >= 70: return 'C'\n",
    "    if score >= 60: return 'D'\n",
    "    return 'F'\n",
    "\n",
    "assert letter_grade(95) == 'A'\n",
    "assert letter_grade(72) == 'C'\n",
    "assert letter_grade(12) == 'F'"
   ]
  },
  {
   "cell_type": "markdown",
   "metadata": {},
   "source": [
    "---\n",
    "## 10) Exercises\n",
    "Try these first; solutions follow."
   ]
  },
  {
   "cell_type": "markdown",
   "metadata": {},
   "source": [
    "**Exercise A — Normalized division**\n",
    "\n",
    "Write `safe_ratio(a, b)` that returns:\n",
    "- `None` if `b == 0`,\n",
    "- otherwise `a / b`.\n",
    "Use a **guard clause** to avoid division by zero. Don’t use `try/except` here."
   ]
  },
  {
   "cell_type": "code",
   "execution_count": 10,
   "metadata": {
    "tags": [
     "exercise"
    ]
   },
   "outputs": [],
   "source": [
    "def safe_ratio(a, b):\n",
    "    # TODO: implement with a guard clause\n",
    "    raise NotImplementedError()\n",
    "\n",
    "# Quick checks (uncomment when implemented)\n",
    "# assert safe_ratio(10, 2) == 5\n",
    "# assert safe_ratio(1, 0) is None"
   ]
  },
  {
   "cell_type": "markdown",
   "metadata": {},
   "source": [
    "**Exercise B — Choose display name**\n",
    "\n",
    "Write `display_name(primary, fallback)` returning:\n",
    "- `primary` if it is **not None** (even if empty string),\n",
    "- else `fallback`.\n",
    "Use explicit `is not None` rather than `or`."
   ]
  },
  {
   "cell_type": "code",
   "execution_count": 11,
   "metadata": {
    "tags": [
     "exercise"
    ]
   },
   "outputs": [],
   "source": [
    "def display_name(primary, fallback):\n",
    "    # TODO: keep empty string if primary is ''\n",
    "    raise NotImplementedError()\n",
    "\n",
    "# assert display_name(\"Alice\", \"<anon>\") == \"Alice\"\n",
    "# assert display_name(\"\", \"<anon>\") == \"\"\n",
    "# assert display_name(None, \"<anon>\") == \"<anon>\""
   ]
  },
  {
   "cell_type": "markdown",
   "metadata": {},
   "source": [
    "**Exercise C — First valid token**\n",
    "\n",
    "Given a list of strings, return the first token that is **non-empty after stripping**, otherwise `None`.\n",
    "Use the walrus operator inside the `if` condition."
   ]
  },
  {
   "cell_type": "code",
   "execution_count": 12,
   "metadata": {
    "tags": [
     "exercise"
    ]
   },
   "outputs": [],
   "source": [
    "def first_token(tokens):\n",
    "    # TODO: use (t := tok.strip()) in the conditional\n",
    "    raise NotImplementedError()\n",
    "\n",
    "# assert first_token([\"  \", \" x \", \"y\"]) == \"x\"\n",
    "# assert first_token([\"  \", \"\\t\"]) is None"
   ]
  },
  {
   "cell_type": "markdown",
   "metadata": {},
   "source": [
    "**Exercise D — Range label with `elif`**\n",
    "\n",
    "Write `temperature_label(c)` that returns one of: `\"freezing\"` (<= 0), `\"cold\"` (1–10), `\"mild\"` (11–20), `\"warm\"` (21–30), `\"hot\"` (> 30). Use `if/elif/else` (mutually exclusive)."
   ]
  },
  {
   "cell_type": "code",
   "execution_count": 13,
   "metadata": {
    "tags": [
     "exercise"
    ]
   },
   "outputs": [],
   "source": [
    "def temperature_label(c: int) -> str:\n",
    "    # TODO\n",
    "    raise NotImplementedError()\n",
    "\n",
    "# assert temperature_label(-3) == \"freezing\"\n",
    "# assert temperature_label(10) == \"cold\"\n",
    "# assert temperature_label(15) == \"mild\"\n",
    "# assert temperature_label(25) == \"warm\"\n",
    "# assert temperature_label(31) == \"hot\""
   ]
  },
  {
   "cell_type": "markdown",
   "metadata": {},
   "source": [
    "---\n",
    "## Solutions (reveal when ready)"
   ]
  },
  {
   "cell_type": "code",
   "execution_count": 14,
   "metadata": {
    "tags": [
     "solution"
    ]
   },
   "outputs": [],
   "source": [
    "# Exercise A\n",
    "def safe_ratio(a, b):\n",
    "    if b == 0:\n",
    "        return None\n",
    "    return a / b\n",
    "\n",
    "# Exercise B\n",
    "def display_name(primary, fallback):\n",
    "    return primary if primary is not None else fallback\n",
    "\n",
    "# Exercise C\n",
    "def first_token(tokens):\n",
    "    for tok in tokens:\n",
    "        if (t := tok.strip()):\n",
    "            return t\n",
    "    return None\n",
    "\n",
    "# Exercise D\n",
    "def temperature_label(c: int) -> str:\n",
    "    if c <= 0:\n",
    "        return \"freezing\"\n",
    "    elif c <= 10:\n",
    "        return \"cold\"\n",
    "    elif c <= 20:\n",
    "        return \"mild\"\n",
    "    elif c <= 30:\n",
    "        return \"warm\"\n",
    "    else:\n",
    "        return \"hot\"\n",
    "\n",
    "# quick self-checks\n",
    "assert safe_ratio(10, 2) == 5\n",
    "assert safe_ratio(1, 0) is None\n",
    "assert display_name(\"Alice\", \"<anon>\") == \"Alice\"\n",
    "assert display_name(\"\", \"<anon>\") == \"\"\n",
    "assert display_name(None, \"<anon>\") == \"<anon>\"\n",
    "assert first_token([\"  \", \" x \", \"y\"]) == \"x\"\n",
    "assert first_token([\"  \", \"\\t\"]) is None\n",
    "assert temperature_label(-3) == \"freezing\"\n",
    "assert temperature_label(10) == \"cold\"\n",
    "assert temperature_label(15) == \"mild\"\n",
    "assert temperature_label(25) == \"warm\"\n",
    "assert temperature_label(31) == \"hot\""
   ]
  },
  {
   "cell_type": "markdown",
   "metadata": {},
   "source": [
    "---\n",
    "## Final Tests\n",
    "Run to validate all examples and solutions."
   ]
  },
  {
   "cell_type": "code",
   "execution_count": 15,
   "metadata": {
    "tags": [
     "tests"
    ]
   },
   "outputs": [
    {
     "name": "stdout",
     "output_type": "stream",
     "text": [
      "All advanced if/else checks passed ✅\n"
     ]
    }
   ],
   "source": [
    "# Re-run a subset plus extra edges\n",
    "assert (lambda s: (\"hot\" if s > 30 else \"ok\"))(31) == \"hot\"\n",
    "assert read_first_nonempty([\"\\n\", \"  hi  \"]) == \"hi\"\n",
    "assert (lambda lines: read_first_nonempty(lines))([\"  \"]) is None\n",
    "\n",
    "for v in [0, 0.0, \"\", [], {}, set(), None]:\n",
    "    assert (bool(v) is False) == (v in (0, 0.0, \"\", [], {}, set(), None))\n",
    "\n",
    "password = \"Abc123!Z\"\n",
    "rules = [\n",
    "    any(c.islower() for c in password),\n",
    "    any(c.isupper() for c in password),\n",
    "    any(c.isdigit() for c in password),\n",
    "    any(not c.isalnum() for c in password),\n",
    "    len(password) >= 8,\n",
    "]\n",
    "assert all(rules)\n",
    "\n",
    "assert safe_ratio(0, 5) == 0\n",
    "assert display_name(\"\", \"fallback\") == \"\"\n",
    "assert first_token([\"  a  \"]) == \"a\"\n",
    "assert temperature_label(0) == \"freezing\"\n",
    "\n",
    "print(\"All advanced if/else checks passed ✅\")"
   ]
  },
  {
   "cell_type": "code",
   "execution_count": null,
   "metadata": {},
   "outputs": [],
   "source": []
  }
 ],
 "metadata": {
  "kernelspec": {
   "display_name": "Python 3 (ipykernel)",
   "language": "python",
   "name": "python3"
  },
  "language_info": {
   "codemirror_mode": {
    "name": "ipython",
    "version": 3
   },
   "file_extension": ".py",
   "mimetype": "text/x-python",
   "name": "python",
   "nbconvert_exporter": "python",
   "pygments_lexer": "ipython3",
   "version": "3.13.7"
  }
 },
 "nbformat": 4,
 "nbformat_minor": 4
}
