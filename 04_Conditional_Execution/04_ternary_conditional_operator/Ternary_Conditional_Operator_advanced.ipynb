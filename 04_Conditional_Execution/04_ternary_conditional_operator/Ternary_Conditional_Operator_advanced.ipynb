{
 "cells": [
  {
   "cell_type": "markdown",
   "metadata": {},
   "source": [
    "# Ternary Conditional Operator — Advanced Usage"
   ]
  },
  {
   "cell_type": "markdown",
   "metadata": {},
   "source": [
    "Recall the form:\n",
    "\n",
    "```python\n",
    "expr_if_true if condition else expr_if_false\n",
    "```\n",
    "\n",
    "It returns the first expression when `condition` is truthy, otherwise the second. In this notebook we’ll cover advanced patterns, precedence pitfalls, and exercises with tests + solutions."
   ]
  },
  {
   "cell_type": "markdown",
   "metadata": {},
   "source": [
    "## 1) Readability first — avoid nesting when it hurts clarity"
   ]
  },
  {
   "cell_type": "code",
   "execution_count": 1,
   "metadata": {
    "tags": [
     "demo"
    ]
   },
   "outputs": [
    {
     "name": "stdout",
     "output_type": "stream",
     "text": [
      "ACTIVE\n"
     ]
    }
   ],
   "source": [
    "# OK when very simple:\n",
    "status = 'open'\n",
    "label = 'ACTIVE' if status == 'open' else 'INACTIVE'\n",
    "print(label)\n",
    "\n",
    "# Avoid **deeply nested** conditionals in a single expression.\n",
    "# Prefer a small if/elif/else ladder in those cases."
   ]
  },
  {
   "cell_type": "markdown",
   "metadata": {},
   "source": [
    "## 2) Operator precedence: parentheses matter\n",
    "The conditional expression has **lower precedence** than `+`, `-`, `*`, etc. Use parentheses to make intent explicit."
   ]
  },
  {
   "cell_type": "code",
   "execution_count": 2,
   "metadata": {
    "tags": [
     "precedence"
    ]
   },
   "outputs": [
    {
     "name": "stdout",
     "output_type": "stream",
     "text": [
      "13 13\n"
     ]
    }
   ],
   "source": [
    "x, y = 3, 10\n",
    "\n",
    "# Without parentheses this means: (x + y) if x > 0 else 0\n",
    "s1 = x + y if x > 0 else 0\n",
    "\n",
    "# If you intended x + (y if x > 0 else 0), you must write:\n",
    "s2 = x + (y if x > 0 else 0)\n",
    "\n",
    "print(s1, s2)  # Here both are 13, but in general they can differ!"
   ]
  },
  {
   "cell_type": "markdown",
   "metadata": {},
   "source": [
    "## 3) Truthy/Falsey and why `x or default` can be wrong\n",
    "`or` returns the first truthy operand, otherwise the second. This is **not** equivalent to “use `x` unless it is `None`” because values like `0`, `''`, and `False` are falsey.\n",
    "\n",
    "Prefer the explicit check with a conditional expression when you only want to replace `None`:"
   ]
  },
  {
   "cell_type": "code",
   "execution_count": 3,
   "metadata": {
    "tags": [
     "truthy"
    ]
   },
   "outputs": [
    {
     "name": "stdout",
     "output_type": "stream",
     "text": [
      "99 0\n"
     ]
    }
   ],
   "source": [
    "x = 0\n",
    "default = 99\n",
    "\n",
    "bad = x or default          # 0 is falsey, so bad == 99 (WRONG if 0 is a valid value!)\n",
    "good = x if x is not None else default  # preserves 0\n",
    "\n",
    "print(bad, good)  # 99 0"
   ]
  },
  {
   "cell_type": "markdown",
   "metadata": {},
   "source": [
    "## 4) Using conditional expressions in f-strings and comprehensions"
   ]
  },
  {
   "cell_type": "code",
   "execution_count": 4,
   "metadata": {
    "tags": [
     "fstring",
     "comp"
    ]
   },
   "outputs": [
    {
     "name": "stdout",
     "output_type": "stream",
     "text": [
      "Result: PASS\n"
     ]
    },
    {
     "data": {
      "text/plain": [
       "['even', 'odd', 'even', 'odd', 'even', 'odd', 'even', 'odd']"
      ]
     },
     "execution_count": 4,
     "metadata": {},
     "output_type": "execute_result"
    }
   ],
   "source": [
    "score = 87\n",
    "msg = f\"Result: {'PASS' if score >= 60 else 'FAIL'}\"\n",
    "print(msg)\n",
    "\n",
    "nums = range(8)\n",
    "labels = ['even' if n % 2 == 0 else 'odd' for n in nums]\n",
    "labels"
   ]
  },
  {
   "cell_type": "markdown",
   "metadata": {},
   "source": [
    "## 5) Conditional expressions to choose a function/strategy"
   ]
  },
  {
   "cell_type": "code",
   "execution_count": 5,
   "metadata": {
    "tags": [
     "strategy"
    ]
   },
   "outputs": [
    {
     "data": {
      "text/plain": [
       "'HELLO'"
      ]
     },
     "execution_count": 5,
     "metadata": {},
     "output_type": "execute_result"
    }
   ],
   "source": [
    "def encode_text(s: str) -> str:\n",
    "    return s.upper()\n",
    "\n",
    "def encode_bytes(b: bytes) -> bytes:\n",
    "    return b[::-1]\n",
    "\n",
    "data = 'hello'\n",
    "encoder = encode_text if isinstance(data, str) else encode_bytes\n",
    "encoder(data)"
   ]
  },
  {
   "cell_type": "markdown",
   "metadata": {},
   "source": [
    "## 6) Guard vs ternary\n",
    "Prefer a normal `if` when side-effects or multi-step logic are present. Prefer a ternary for single, clear expressions."
   ]
  },
  {
   "cell_type": "code",
   "execution_count": 6,
   "metadata": {
    "tags": [
     "guard"
    ]
   },
   "outputs": [
    {
     "name": "stdout",
     "output_type": "stream",
     "text": [
      "INSUFFICIENT\n"
     ]
    },
    {
     "data": {
      "text/plain": [
       "(75, 'CHARGED_FEE')"
      ]
     },
     "execution_count": 6,
     "metadata": {},
     "output_type": "execute_result"
    }
   ],
   "source": [
    "amount = 120\n",
    "balance = 100\n",
    "\n",
    "# Ternary for a small value:\n",
    "message = 'OK' if amount <= balance else 'INSUFFICIENT'\n",
    "print(message)\n",
    "\n",
    "# Guard for multi-step handling:\n",
    "if amount > balance:\n",
    "    fee = 25\n",
    "    balance -= fee\n",
    "    outcome = 'CHARGED_FEE'\n",
    "else:\n",
    "    balance -= amount\n",
    "    outcome = 'PAID'\n",
    "balance, outcome"
   ]
  },
  {
   "cell_type": "markdown",
   "metadata": {},
   "source": [
    "## 7) Subtle float comparisons with tolerance (inside a ternary)\n",
    "Use a tolerance when comparing floats (because of representation):"
   ]
  },
  {
   "cell_type": "code",
   "execution_count": 7,
   "metadata": {
    "tags": [
     "floats"
    ]
   },
   "outputs": [
    {
     "name": "stdout",
     "output_type": "stream",
     "text": [
      "0.3000000000000000444089210\n",
      "0.2999999999999999888977698\n",
      "equal-ish\n"
     ]
    }
   ],
   "source": [
    "from math import isclose\n",
    "\n",
    "a, b, tol = 0.1 * 3, 0.3, 1e-12\n",
    "result = 'equal-ish' if isclose(a, b, rel_tol=0.0, abs_tol=tol) else 'different'\n",
    "print(format(a, '.25f'))\n",
    "print(format(b, '.25f'))\n",
    "print(result)"
   ]
  },
  {
   "cell_type": "markdown",
   "metadata": {},
   "source": [
    "---\n",
    "## 8) Exercises\n",
    "Try first, then reveal **Solutions** and run **Tests**."
   ]
  },
  {
   "cell_type": "markdown",
   "metadata": {},
   "source": [
    "**Exercise A — Safe divide label**\n",
    "\n",
    "Write `ratio_label(a, b)` that returns:\n",
    "- `'undef'` if `b == 0`\n",
    "    - `'>1'` if `a/b > 1`\n",
    "- otherwise `'<='`.\n",
    "\n",
    "Use **one** ternary conditional expression (you may nest **once** if needed)."
   ]
  },
  {
   "cell_type": "code",
   "execution_count": 8,
   "metadata": {
    "tags": [
     "exercise"
    ]
   },
   "outputs": [],
   "source": [
    "def ratio_label(a: float, b: float) -> str:\n",
    "    # TODO: implement with a conditional expression\n",
    "    raise NotImplementedError()\n",
    "\n",
    "# Examples to pass:\n",
    "# assert ratio_label(2, 1) == '>1'\n",
    "# assert ratio_label(1, 2) == '<='\n",
    "# assert ratio_label(10, 0) == 'undef'"
   ]
  },
  {
   "cell_type": "markdown",
   "metadata": {},
   "source": [
    "**Exercise B — None-coalesce (but preserve falsy values)**\n",
    "\n",
    "Implement `coalesce_none(x, default)` that returns `x` unless `x is None`, in which case return `default`.\n",
    "Use a conditional expression (do **not** use `or`)."
   ]
  },
  {
   "cell_type": "code",
   "execution_count": 9,
   "metadata": {
    "tags": [
     "exercise"
    ]
   },
   "outputs": [],
   "source": [
    "def coalesce_none(x, default):\n",
    "    # TODO: return x unless x is None\n",
    "    raise NotImplementedError()\n",
    "\n",
    "# Examples to pass:\n",
    "# assert coalesce_none(0, 99) == 0\n",
    "# assert coalesce_none('', 'X') == ''\n",
    "# assert coalesce_none(False, True) is False\n",
    "# assert coalesce_none(None, 'fallback') == 'fallback'"
   ]
  },
  {
   "cell_type": "markdown",
   "metadata": {},
   "source": [
    "**Exercise C — Label list with comprehension**\n",
    "\n",
    "Given a list of integers, return a new list where each element is `'even'` or `'odd'` using a list comprehension with a conditional expression."
   ]
  },
  {
   "cell_type": "code",
   "execution_count": 10,
   "metadata": {
    "tags": [
     "exercise"
    ]
   },
   "outputs": [],
   "source": [
    "def even_odd_labels(seq):\n",
    "    # TODO: list comprehension with ternary\n",
    "    raise NotImplementedError()\n",
    "\n",
    "# Examples to pass:\n",
    "# assert even_odd_labels([0,1,2,3]) == ['even','odd','even','odd']"
   ]
  },
  {
   "cell_type": "markdown",
   "metadata": {},
   "source": [
    "---\n",
    "## Solutions (reveal when ready)"
   ]
  },
  {
   "cell_type": "code",
   "execution_count": 11,
   "metadata": {
    "tags": [
     "solution"
    ]
   },
   "outputs": [],
   "source": [
    "# Exercise A — solution\n",
    "def ratio_label(a: float, b: float) -> str:\n",
    "    return ('undef' if b == 0 else ('>1' if (a / b) > 1 else '<='))\n",
    "\n",
    "# Exercise B — solution\n",
    "def coalesce_none(x, default):\n",
    "    return x if x is not None else default\n",
    "\n",
    "# Exercise C — solution\n",
    "def even_odd_labels(seq):\n",
    "    return ['even' if n % 2 == 0 else 'odd' for n in seq]"
   ]
  },
  {
   "cell_type": "markdown",
   "metadata": {},
   "source": [
    "## Tests — run to verify"
   ]
  },
  {
   "cell_type": "code",
   "execution_count": 12,
   "metadata": {
    "tags": [
     "tests"
    ]
   },
   "outputs": [
    {
     "name": "stdout",
     "output_type": "stream",
     "text": [
      "All ternary-advanced checks passed ✅\n"
     ]
    }
   ],
   "source": [
    "# A\n",
    "assert ratio_label(2, 1) == '>1'\n",
    "assert ratio_label(1, 2) == '<='\n",
    "assert ratio_label(10, 0) == 'undef'\n",
    "\n",
    "# B\n",
    "assert coalesce_none(0, 99) == 0\n",
    "assert coalesce_none('', 'X') == ''\n",
    "assert coalesce_none(False, True) is False\n",
    "assert coalesce_none(None, 'fallback') == 'fallback'\n",
    "\n",
    "# C\n",
    "assert even_odd_labels([0,1,2,3]) == ['even','odd','even','odd']\n",
    "\n",
    "print('All ternary-advanced checks passed ✅')"
   ]
  },
  {
   "cell_type": "code",
   "execution_count": null,
   "metadata": {},
   "outputs": [],
   "source": []
  }
 ],
 "metadata": {
  "kernelspec": {
   "display_name": "Python 3 (ipykernel)",
   "language": "python",
   "name": "python3"
  },
  "language_info": {
   "codemirror_mode": {
    "name": "ipython",
    "version": 3
   },
   "file_extension": ".py",
   "mimetype": "text/x-python",
   "name": "python",
   "nbconvert_exporter": "python",
   "pygments_lexer": "ipython3",
   "version": "3.13.7"
  }
 },
 "nbformat": 4,
 "nbformat_minor": 4
}
