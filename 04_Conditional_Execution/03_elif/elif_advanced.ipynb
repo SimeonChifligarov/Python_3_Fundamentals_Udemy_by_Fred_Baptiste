{
 "cells": [
  {
   "cell_type": "markdown",
   "metadata": {},
   "source": [
    "# Advanced `elif` — Writing Clear, Correct Branches"
   ]
  },
  {
   "cell_type": "markdown",
   "metadata": {},
   "source": [
    "This notebook deepens the `if / elif / else` topic:\n",
    "- Replacing nested `if` trees with flat, mutually exclusive branches\n",
    "- Correct ordering and boundary coverage\n",
    "- Detecting overlapping/unreachable branches\n",
    "- Chained comparisons & containment in conditions\n",
    "- Guard clauses and early returns (to avoid giant ladders)\n",
    "- Data-driven alternatives to big `elif` ladders\n",
    "- Exercises with tests and solutions"
   ]
  },
  {
   "cell_type": "markdown",
   "metadata": {},
   "source": [
    "## 1) `elif` flattens nested trees\n",
    "Any time you see an `else:` followed immediately by an `if`, think `elif`.\n",
    "\n",
    "### Nested version (harder to scan):"
   ]
  },
  {
   "cell_type": "code",
   "execution_count": 8,
   "metadata": {
    "tags": [
     "demo"
    ]
   },
   "outputs": [
    {
     "name": "stdout",
     "output_type": "stream",
     "text": [
      "C\n"
     ]
    }
   ],
   "source": [
    "grade = 72\n",
    "if grade >= 90:\n",
    "    letter = 'A'\n",
    "else:\n",
    "    if grade >= 80:\n",
    "        letter = 'B'\n",
    "    else:\n",
    "        if grade >= 70:\n",
    "            letter = 'C'\n",
    "        else:\n",
    "            if grade >= 60:\n",
    "                letter = 'D'\n",
    "            else:\n",
    "                letter = 'F'\n",
    "print(letter)  # C"
   ]
  },
  {
   "cell_type": "markdown",
   "metadata": {},
   "source": [
    "### Equivalent `elif` version (flat & mutually exclusive):"
   ]
  },
  {
   "cell_type": "code",
   "execution_count": 9,
   "metadata": {
    "tags": [
     "demo"
    ]
   },
   "outputs": [
    {
     "name": "stdout",
     "output_type": "stream",
     "text": [
      "C\n"
     ]
    }
   ],
   "source": [
    "grade = 72\n",
    "if grade >= 90:\n",
    "    letter = 'A'\n",
    "elif grade >= 80:\n",
    "    letter = 'B'\n",
    "elif grade >= 70:\n",
    "    letter = 'C'\n",
    "elif grade >= 60:\n",
    "    letter = 'D'\n",
    "else:\n",
    "    letter = 'F'\n",
    "print(letter)  # C"
   ]
  },
  {
   "cell_type": "markdown",
   "metadata": {},
   "source": [
    "## 2) Ordering and boundaries matter\n",
    "Place the most restrictive/highest thresholds first. Decide **inclusive** vs **exclusive** boundaries and stick with them."
   ]
  },
  {
   "cell_type": "code",
   "execution_count": 10,
   "metadata": {
    "tags": [
     "boundaries"
    ]
   },
   "outputs": [],
   "source": [
    "def bracket(n):\n",
    "    # Intention: [0, 10] -> 'low', (10, 20] -> 'mid', > 20 -> 'high'\n",
    "    if n <= 10:\n",
    "        return 'low'\n",
    "    elif n <= 20:  # at this point n > 10 holds from the previous branch\n",
    "        return 'mid'\n",
    "    else:\n",
    "        return 'high'\n",
    "\n",
    "    # quick checks\n",
    "assert bracket(0) == 'low'\n",
    "assert bracket(10) == 'low'     # inclusive lower range\n",
    "assert bracket(11) == 'mid'\n",
    "assert bracket(20) == 'mid'\n",
    "assert bracket(21) == 'high'"
   ]
  },
  {
   "cell_type": "markdown",
   "metadata": {},
   "source": [
    "### Pitfall: overlapping conditions make earlier branches shadow later ones"
   ]
  },
  {
   "cell_type": "code",
   "execution_count": 11,
   "metadata": {
    "tags": [
     "overlap"
    ]
   },
   "outputs": [],
   "source": [
    "def label_bad(x):\n",
    "    if x >= 0:\n",
    "        return 'non-negative'\n",
    "    elif x >= 10:  # unreachable: if x >= 10, first branch already returned\n",
    "        return '10 or more'\n",
    "    else:\n",
    "        return 'negative'\n",
    "\n",
    "assert label_bad(15) == 'non-negative'  # but maybe you wanted '10 or more'"
   ]
  },
  {
   "cell_type": "markdown",
   "metadata": {},
   "source": [
    "**Fix by ordering strongest condition first**:"
   ]
  },
  {
   "cell_type": "code",
   "execution_count": 12,
   "metadata": {
    "tags": [
     "overlap-fix"
    ]
   },
   "outputs": [],
   "source": [
    "def label_good(x):\n",
    "    if x >= 10:\n",
    "        return '10 or more'\n",
    "    elif x >= 0:\n",
    "        return 'non-negative'\n",
    "    else:\n",
    "        return 'negative'\n",
    "\n",
    "assert label_good(15) == '10 or more'\n",
    "assert label_good(5) == 'non-negative'\n",
    "assert label_good(-1) == 'negative'"
   ]
  },
  {
   "cell_type": "markdown",
   "metadata": {},
   "source": [
    "## 3) Chained comparisons & containment simplify conditions"
   ]
  },
  {
   "cell_type": "code",
   "execution_count": 13,
   "metadata": {
    "tags": [
     "chained"
    ]
   },
   "outputs": [],
   "source": [
    "def temp_bucket(c):\n",
    "    if c <= 0:\n",
    "        return 'freezing'\n",
    "    elif 1 <= c <= 10:  # chained comparison reads like math\n",
    "        return 'cold'\n",
    "    elif 11 <= c <= 20:\n",
    "        return 'mild'\n",
    "    elif 21 <= c <= 30:\n",
    "        return 'warm'\n",
    "    else:\n",
    "        return 'hot'\n",
    "\n",
    "assert temp_bucket(0) == 'freezing'\n",
    "assert temp_bucket(10) == 'cold'\n",
    "assert temp_bucket(15) == 'mild'\n",
    "assert temp_bucket(25) == 'warm'\n",
    "assert temp_bucket(31) == 'hot'\n",
    "\n",
    "def transport(mode):\n",
    "    if mode in {'car','van','truck'}:\n",
    "        return 'road'\n",
    "    elif mode in {'boat','ship'}:\n",
    "        return 'water'\n",
    "    elif mode in {'plane','jet'}:\n",
    "        return 'air'\n",
    "    else:\n",
    "        return 'unknown'\n",
    "\n",
    "assert transport('truck') == 'road'\n",
    "assert transport('boat') == 'water'\n",
    "assert transport('jet') == 'air'\n",
    "assert transport('bike') == 'unknown'"
   ]
  },
  {
   "cell_type": "markdown",
   "metadata": {},
   "source": [
    "## 4) Guard clauses reduce `elif` depth in functions\n",
    "Return early for invalid states; keep the happy path short and clear."
   ]
  },
  {
   "cell_type": "code",
   "execution_count": 14,
   "metadata": {
    "tags": [
     "guard"
    ]
   },
   "outputs": [],
   "source": [
    "def authorize_withdraw(balance, amount, enabled):\n",
    "    if not enabled:\n",
    "        return 'account disabled'\n",
    "    if amount <= 0:\n",
    "        return 'invalid amount'\n",
    "    if amount > balance:\n",
    "        return 'insufficient funds'\n",
    "    return 'authorized'\n",
    "\n",
    "assert authorize_withdraw(1000, 50, True) == 'authorized'\n",
    "assert authorize_withdraw(1000, 5000, True) == 'insufficient funds'\n",
    "assert authorize_withdraw(1000, 50, False) == 'account disabled'"
   ]
  },
  {
   "cell_type": "markdown",
   "metadata": {},
   "source": [
    "## 5) Data-driven alternatives to large `elif` ladders\n",
    "When the mapping is discrete (not ranges), consider a dict. For ranges, consider a small helper table and loop."
   ]
  },
  {
   "cell_type": "code",
   "execution_count": 15,
   "metadata": {
    "tags": [
     "mapping"
    ]
   },
   "outputs": [],
   "source": [
    "# Discrete mapping\n",
    "SEVERITY = {\n",
    "    'DEBUG': 10,\n",
    "    'INFO': 20,\n",
    "    'WARNING': 30,\n",
    "    'ERROR': 40,\n",
    "    'CRITICAL': 50,\n",
    "}\n",
    "\n",
    "def sev(level: str) -> int:\n",
    "    return SEVERITY.get(level.upper(), 0)\n",
    "\n",
    "assert sev('info') == 20\n",
    "assert sev('unknown') == 0\n",
    "\n",
    "# Range table (upper bounds)\n",
    "GRADE_TABLE = [\n",
    "    (59, 'F'), (69, 'D'), (79, 'C'), (89, 'B'), (100, 'A')\n",
    "]\n",
    "\n",
    "def letter_by_table(score: int) -> str:\n",
    "    for upper, label in GRADE_TABLE:\n",
    "        if score <= upper:\n",
    "            return label\n",
    "    return 'A'  # fallback for >100 (or raise)\n",
    "\n",
    "assert letter_by_table(72) == 'C'\n",
    "assert letter_by_table(89) == 'B'\n",
    "assert letter_by_table(101) == 'A'"
   ]
  },
  {
   "cell_type": "markdown",
   "metadata": {},
   "source": [
    "---\n",
    "## 6) Exercises\n",
    "Try these first, then reveal the **Solutions** cell and run the tests."
   ]
  },
  {
   "cell_type": "markdown",
   "metadata": {},
   "source": [
    "**Exercise A — Shipping bands**\n",
    "\n",
    "Given a package weight `w` (kg), return a band:\n",
    "- `w <= 1` → `'XS'`\n",
    "- `1 < w <= 5` → `'S'`\n",
    "- `5 < w <= 20` → `'M'`\n",
    "- `20 < w <= 50` → `'L'`\n",
    "- `w > 50` → `'XL'`\n",
    "\n",
    "Use a clean `elif` ladder with correct, non-overlapping boundaries."
   ]
  },
  {
   "cell_type": "code",
   "execution_count": 16,
   "metadata": {
    "tags": [
     "exercise"
    ]
   },
   "outputs": [],
   "source": [
    "def shipping_band(w: float) -> str:\n",
    "    # TODO: implement with elif, covering all weights\n",
    "    raise NotImplementedError()\n",
    "\n",
    "# Examples to pass:\n",
    "# assert shipping_band(0.8) == 'XS'\n",
    "# assert shipping_band(1.0) == 'XS'\n",
    "# assert shipping_band(1.1) == 'S'\n",
    "# assert shipping_band(5) == 'S'\n",
    "# assert shipping_band(5.1) == 'M'\n",
    "# assert shipping_band(20) == 'M'\n",
    "# assert shipping_band(35) == 'L'\n",
    "# assert shipping_band(50) == 'L'\n",
    "# assert shipping_band(55) == 'XL'"
   ]
  },
  {
   "cell_type": "markdown",
   "metadata": {},
   "source": [
    "**Exercise B — Score to label with chained comparisons**\n",
    "\n",
    "Return `'low'` for `0–10`, `'mid'` for `11–20`, `'high'` for `21–30`, otherwise `'out'`.\n",
    "Use chained comparisons (e.g., `11 <= n <= 20`)."
   ]
  },
  {
   "cell_type": "code",
   "execution_count": 17,
   "metadata": {
    "tags": [
     "exercise"
    ]
   },
   "outputs": [],
   "source": [
    "def score_label(n: int) -> str:\n",
    "    # TODO: implement using chained comparisons\n",
    "    raise NotImplementedError()\n",
    "\n",
    "# assert score_label(0) == 'low'\n",
    "# assert score_label(10) == 'low'\n",
    "# assert score_label(11) == 'mid'\n",
    "# assert score_label(20) == 'mid'\n",
    "# assert score_label(22) == 'high'\n",
    "# assert score_label(31) == 'out'"
   ]
  },
  {
   "cell_type": "markdown",
   "metadata": {},
   "source": [
    "**Exercise C — Overlap check (reasoning)**\n",
    "\n",
    "Consider the following (buggy) ladder and **fix the order** so that all branches are reachable:\n",
    "```python\n",
    "def buggy(x):\n",
    "    if x >= 0:\n",
    "        return 'non-neg'\n",
    "    elif x >= 10:\n",
    "        return 'big'\n",
    "    else:\n",
    "        return 'neg'\n",
    "```\n",
    "Write `fixed(x)` that returns `'big'` for `x >= 10`, `'non-neg'` for `0 <= x < 10`, `'neg'` otherwise."
   ]
  },
  {
   "cell_type": "code",
   "execution_count": 18,
   "metadata": {
    "tags": [
     "exercise"
    ]
   },
   "outputs": [],
   "source": [
    "def fixed(x: int) -> str:\n",
    "    # TODO: order strongest condition first\n",
    "    raise NotImplementedError()\n",
    "\n",
    "# assert fixed(15) == 'big'\n",
    "# assert fixed(5) == 'non-neg'\n",
    "# assert fixed(-1) == 'neg'"
   ]
  },
  {
   "cell_type": "markdown",
   "metadata": {},
   "source": [
    "---\n",
    "## Solutions (reveal when ready)"
   ]
  },
  {
   "cell_type": "code",
   "execution_count": 19,
   "metadata": {
    "tags": [
     "solution"
    ]
   },
   "outputs": [],
   "source": [
    "# Exercise A — solution\n",
    "def shipping_band(w: float) -> str:\n",
    "    if w <= 1:\n",
    "        return 'XS'\n",
    "    elif w <= 5:\n",
    "        return 'S'\n",
    "    elif w <= 20:\n",
    "        return 'M'\n",
    "    elif w <= 50:\n",
    "        return 'L'\n",
    "    else:\n",
    "        return 'XL'\n",
    "\n",
    "# Exercise B — solution (chained)\n",
    "def score_label(n: int) -> str:\n",
    "    if 0 <= n <= 10:\n",
    "        return 'low'\n",
    "    elif 11 <= n <= 20:\n",
    "        return 'mid'\n",
    "    elif 21 <= n <= 30:\n",
    "        return 'high'\n",
    "    else:\n",
    "        return 'out'\n",
    "\n",
    "# Exercise C — solution\n",
    "def fixed(x: int) -> str:\n",
    "    if x >= 10:\n",
    "        return 'big'\n",
    "    elif x >= 0:\n",
    "        return 'non-neg'\n",
    "    else:\n",
    "        return 'neg'\n"
   ]
  },
  {
   "cell_type": "markdown",
   "metadata": {},
   "source": [
    "## Tests — run to verify"
   ]
  },
  {
   "cell_type": "code",
   "execution_count": 20,
   "metadata": {
    "tags": [
     "tests"
    ]
   },
   "outputs": [
    {
     "name": "stdout",
     "output_type": "stream",
     "text": [
      "All elif-advanced checks passed ✅\n"
     ]
    }
   ],
   "source": [
    "# Exercise A\n",
    "assert shipping_band(0.8) == 'XS'\n",
    "assert shipping_band(1.0) == 'XS'\n",
    "assert shipping_band(1.1) == 'S'\n",
    "assert shipping_band(5.0) == 'S'\n",
    "assert shipping_band(5.1) == 'M'\n",
    "assert shipping_band(20.0) == 'M'\n",
    "assert shipping_band(35.0) == 'L'\n",
    "assert shipping_band(50.0) == 'L'\n",
    "assert shipping_band(55.0) == 'XL'\n",
    "\n",
    "# Exercise B\n",
    "assert score_label(0) == 'low'\n",
    "assert score_label(10) == 'low'\n",
    "assert score_label(11) == 'mid'\n",
    "assert score_label(20) == 'mid'\n",
    "assert score_label(22) == 'high'\n",
    "assert score_label(31) == 'out'\n",
    "\n",
    "# Exercise C\n",
    "assert fixed(15) == 'big'\n",
    "assert fixed(5) == 'non-neg'\n",
    "assert fixed(-1) == 'neg'\n",
    "\n",
    "print('All elif-advanced checks passed ✅')"
   ]
  },
  {
   "cell_type": "code",
   "execution_count": null,
   "metadata": {},
   "outputs": [],
   "source": []
  }
 ],
 "metadata": {
  "kernelspec": {
   "display_name": "Python 3 (ipykernel)",
   "language": "python",
   "name": "python3"
  },
  "language_info": {
   "codemirror_mode": {
    "name": "ipython",
    "version": 3
   },
   "file_extension": ".py",
   "mimetype": "text/x-python",
   "name": "python",
   "nbconvert_exporter": "python",
   "pygments_lexer": "ipython3",
   "version": "3.13.7"
  }
 },
 "nbformat": 4,
 "nbformat_minor": 4
}
