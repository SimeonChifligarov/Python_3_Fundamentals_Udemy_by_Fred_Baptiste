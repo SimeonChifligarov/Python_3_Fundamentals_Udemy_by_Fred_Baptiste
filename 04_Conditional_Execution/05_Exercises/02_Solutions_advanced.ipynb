{
 "cells": [
  {
   "cell_type": "markdown",
   "id": "hdr-solutions-advanced",
   "metadata": {},
   "source": [
    "### Advanced Solutions & Patterns\n",
    "\n",
    "These solutions go beyond the basic approaches by adding:\n",
    "- input validation and **type-safety** (type hints)\n",
    "- discussion of common **edge cases** and pitfalls\n",
    "- alternative, more **pythonic** or **scalable** patterns (table-driven code, `bisect`, and `match`-`case`)\n",
    "- quick, lightweight **tests**"
   ]
  },
  {
   "cell_type": "markdown",
   "id": "ex1-title",
   "metadata": {},
   "source": [
    "#### Exercise 1\n",
    "Given a variable `a` (containing any value), re-assign the value `'N/A'` if `a` is `None`, and leave `a` unchanged otherwise."
   ]
  },
  {
   "cell_type": "markdown",
   "id": "ex1-discuss",
   "metadata": {},
   "source": [
    "**Why `is None` matters**\n",
    "- Avoid `a or 'N/A'`: values like `0`, `0.0`, `''`, `False` are *falsy* but **not** missing.\n",
    "- Use an explicit `is None` check."
   ]
  },
  {
   "cell_type": "code",
   "execution_count": 1,
   "id": "ex1-solution-basic",
   "metadata": {},
   "outputs": [
    {
     "data": {
      "text/plain": [
       "['N/A', 0, 0.0, '', False, 'Python']"
      ]
     },
     "execution_count": 1,
     "metadata": {},
     "output_type": "execute_result"
    }
   ],
   "source": [
    "# Basic, explicit if/else (safe for falsy values)\n",
    "from typing import Any\n",
    "\n",
    "def coalesce_none_to_na(a: Any) -> Any:\n",
    "    if a is None:\n",
    "        return \"N/A\"\n",
    "    else:\n",
    "        return a\n",
    "\n",
    "# Demo\n",
    "samples = [None, 0, 0.0, \"\", False, \"Python\"]\n",
    "[coalesce_none_to_na(x) for x in samples]"
   ]
  },
  {
   "cell_type": "code",
   "execution_count": 2,
   "id": "ex1-solution-ternary",
   "metadata": {},
   "outputs": [
    {
     "data": {
      "text/plain": [
       "['N/A', 0, 0.0, '', False, 'Python']"
      ]
     },
     "execution_count": 2,
     "metadata": {},
     "output_type": "execute_result"
    }
   ],
   "source": [
    "# Ternary (conditional expression) — concise and equally safe\n",
    "def coalesce_none_to_na_ternary(a: Any) -> Any:\n",
    "    return \"N/A\" if a is None else a\n",
    "\n",
    "# Demo\n",
    "[coalesce_none_to_na_ternary(x) for x in samples]"
   ]
  },
  {
   "cell_type": "markdown",
   "id": "ex1-pitfall",
   "metadata": {},
   "source": [
    "**Common Pitfall (don’t do this):**\n",
    "```python\n",
    "a = a or \"N/A\"  # WRONG for this task\n",
    "```\n",
    "This would convert `0`, `''`, and `False` to `'N/A'`, which is **not** what we want."
   ]
  },
  {
   "cell_type": "markdown",
   "id": "ex2-title",
   "metadata": {},
   "source": [
    "#### Exercise 2\n",
    "Do the same thing as Exercise 1, but this time **use a ternary operator**."
   ]
  },
  {
   "cell_type": "code",
   "execution_count": 3,
   "id": "ex2-solution",
   "metadata": {},
   "outputs": [
    {
     "data": {
      "text/plain": [
       "'ok'"
      ]
     },
     "execution_count": 3,
     "metadata": {},
     "output_type": "execute_result"
    }
   ],
   "source": [
    "# Already shown above, but packaged for clarity\n",
    "def coalesce_none_to_na_ternary_strict(a):\n",
    "    return \"N/A\" if a is None else a\n",
    "\n",
    "# Quick checks\n",
    "assert coalesce_none_to_na_ternary_strict(None) == \"N/A\"\n",
    "assert coalesce_none_to_na_ternary_strict(0) == 0\n",
    "assert coalesce_none_to_na_ternary_strict(\"\") == \"\"\n",
    "assert coalesce_none_to_na_ternary_strict(False) is False\n",
    "\"ok\""
   ]
  },
  {
   "cell_type": "markdown",
   "id": "ex3-title",
   "metadata": {},
   "source": [
    "#### Exercise 3\n",
    "Map a **credit score** to a **rating**:\n",
    "\n",
    "- [0, 580) → Poor\n",
    "- [580, 670) → Fair\n",
    "- [670, 740) → Good\n",
    "- [740, 800) → Very Good\n",
    "- [800, 850] → Excellent"
   ]
  },
  {
   "cell_type": "markdown",
   "id": "ex3-advanced-notes",
   "metadata": {},
   "source": [
    "**Advanced notes**\n",
    "- Validate range (0–850). Decide what to do for invalid inputs (raise or return a sentinel like `'Invalid'`).\n",
    "- Prefer **table-driven** code when ranges or labels may change.\n",
    "- For efficient range lookup, use **`bisect`** (binary search)."
   ]
  },
  {
   "cell_type": "code",
   "execution_count": 4,
   "id": "ex3-solution-bisect",
   "metadata": {},
   "outputs": [
    {
     "data": {
      "text/plain": [
       "'credit_rating: all checks passed ✅'"
      ]
     },
     "execution_count": 4,
     "metadata": {},
     "output_type": "execute_result"
    }
   ],
   "source": [
    "from bisect import bisect_left\n",
    "from typing import Tuple\n",
    "\n",
    "# Table-driven with boundaries (lower bounds) and labels\n",
    "BOUNDS: Tuple[int, ...] = (0, 580, 670, 740, 800)\n",
    "LABELS: Tuple[str, ...] = (\"Poor\", \"Fair\", \"Good\", \"Very Good\", \"Excellent\")\n",
    "\n",
    "def credit_rating(score: int) -> str:\n",
    "    if not isinstance(score, int):\n",
    "        raise TypeError(\"score must be an int\")\n",
    "    if score < 0 or score > 850:\n",
    "        return \"Invalid\"\n",
    "    idx = bisect_left(BOUNDS, score)\n",
    "    idx = min(idx, len(BOUNDS) - 1)\n",
    "    if score < BOUNDS[idx]:\n",
    "        idx -= 1\n",
    "    return LABELS[idx]\n",
    "\n",
    "# Sanity checks\n",
    "tests = {\n",
    "    0: \"Poor\", 579: \"Poor\",\n",
    "    580: \"Fair\", 669: \"Fair\",\n",
    "    670: \"Good\", 739: \"Good\",\n",
    "    740: \"Very Good\", 799: \"Very Good\",\n",
    "    800: \"Excellent\", 850: \"Excellent\",\n",
    "}\n",
    "for s, expected in tests.items():\n",
    "    assert credit_rating(s) == expected, (s, credit_rating(s), expected)\n",
    "assert credit_rating(-1) == \"Invalid\"\n",
    "assert credit_rating(851) == \"Invalid\"\n",
    "\"credit_rating: all checks passed ✅\""
   ]
  },
  {
   "cell_type": "code",
   "execution_count": 5,
   "id": "ex3-solution-match",
   "metadata": {},
   "outputs": [
    {
     "data": {
      "text/plain": [
       "'alternate impls consistent ✅'"
      ]
     },
     "execution_count": 5,
     "metadata": {},
     "output_type": "execute_result"
    }
   ],
   "source": [
    "# Alternative: explicit conditions (clear for readers)\n",
    "def credit_rating_readable(score: int) -> str:\n",
    "    if score < 0 or score > 850:\n",
    "        return \"Invalid\"\n",
    "    if score >= 800:\n",
    "        return \"Excellent\"\n",
    "    elif score >= 740:\n",
    "        return \"Very Good\"\n",
    "    elif score >= 670:\n",
    "        return \"Good\"\n",
    "    elif score >= 580:\n",
    "        return \"Fair\"\n",
    "    else:\n",
    "        return \"Poor\"\n",
    "\n",
    "# Python 3.10+ pattern matching for ranges (using guards)\n",
    "def credit_rating_match(score: int) -> str:\n",
    "    match score:\n",
    "        case s if s < 0 or s > 850:\n",
    "            return \"Invalid\"\n",
    "        case s if s >= 800:\n",
    "            return \"Excellent\"\n",
    "        case s if s >= 740:\n",
    "            return \"Very Good\"\n",
    "        case s if s >= 670:\n",
    "            return \"Good\"\n",
    "        case s if s >= 580:\n",
    "            return \"Fair\"\n",
    "        case _:\n",
    "            return \"Poor\"\n",
    "\n",
    "# Quick parity check among implementations\n",
    "for s in (0, 100, 579, 580, 669, 670, 739, 740, 799, 800, 850):\n",
    "    assert credit_rating(s) == credit_rating_readable(s) == credit_rating_match(s)\n",
    "\"alternate impls consistent ✅\""
   ]
  },
  {
   "cell_type": "markdown",
   "id": "ex4-title",
   "metadata": {},
   "source": [
    "#### Exercise 4\n",
    "Given an `elapsed` time (in seconds), set `magnitude` according to:\n",
    "- `< 60` → `'seconds'`\n",
    "- `>= 60 and < 3600` → `'minutes'`\n",
    "- `>= 3600 and < 86400` → `'hours'`\n",
    "- `>= 86400 and < 604800` → `'days'`\n",
    "- `>= 604800` → `'weeks'`"
   ]
  },
  {
   "cell_type": "markdown",
   "id": "ex4-advanced-notes",
   "metadata": {},
   "source": [
    "**Advanced notes**\n",
    "- Validate non-negative integers.\n",
    "- Prefer named constants for readability.\n",
    "- Table-driven/bisect scales easily if you add months/years later."
   ]
  },
  {
   "cell_type": "code",
   "execution_count": 6,
   "id": "ex4-constants",
   "metadata": {},
   "outputs": [],
   "source": [
    "SEC_PER_MIN = 60\n",
    "SEC_PER_HOUR = 60 * SEC_PER_MIN\n",
    "SEC_PER_DAY = 24 * SEC_PER_HOUR\n",
    "SEC_PER_WEEK = 7 * SEC_PER_DAY"
   ]
  },
  {
   "cell_type": "code",
   "execution_count": 7,
   "id": "ex4-solution-ifelse",
   "metadata": {},
   "outputs": [
    {
     "data": {
      "text/plain": [
       "[(0, 'seconds'),\n",
       " (59, 'seconds'),\n",
       " (60, 'minutes'),\n",
       " (3599, 'minutes'),\n",
       " (3600, 'hours'),\n",
       " (86399, 'hours'),\n",
       " (86400, 'days'),\n",
       " (604799, 'days'),\n",
       " (604800, 'weeks'),\n",
       " (9999999, 'weeks')]"
      ]
     },
     "execution_count": 7,
     "metadata": {},
     "output_type": "execute_result"
    }
   ],
   "source": [
    "def elapsed_magnitude(elapsed: int) -> str:\n",
    "    if not isinstance(elapsed, int):\n",
    "        raise TypeError(\"elapsed must be an int (seconds)\")\n",
    "    if elapsed < 0:\n",
    "        raise ValueError(\"elapsed must be non-negative\")\n",
    "\n",
    "    if elapsed < SEC_PER_MIN:\n",
    "        return \"seconds\"\n",
    "    elif elapsed < SEC_PER_HOUR:\n",
    "        return \"minutes\"\n",
    "    elif elapsed < SEC_PER_DAY:\n",
    "        return \"hours\"\n",
    "    elif elapsed < SEC_PER_WEEK:\n",
    "        return \"days\"\n",
    "    else:\n",
    "        return \"weeks\"\n",
    "\n",
    "# Demos\n",
    "demo_values = [0, 59, 60, 3599, 3600, 86399, 86400, 604799, 604800, 9999999]\n",
    "[(v, elapsed_magnitude(v)) for v in demo_values]"
   ]
  },
  {
   "cell_type": "code",
   "execution_count": 8,
   "id": "ex4-solution-bisect",
   "metadata": {},
   "outputs": [
    {
     "data": {
      "text/plain": [
       "'elapsed magnitude: both implementations match ✅'"
      ]
     },
     "execution_count": 8,
     "metadata": {},
     "output_type": "execute_result"
    }
   ],
   "source": [
    "from bisect import bisect_right\n",
    "\n",
    "# Table-driven variant (easier to extend)\n",
    "THRESHOLDS = (SEC_PER_MIN, SEC_PER_HOUR, SEC_PER_DAY, SEC_PER_WEEK)\n",
    "LABELS_TIME = (\"seconds\", \"minutes\", \"hours\", \"days\", \"weeks\")\n",
    "\n",
    "def elapsed_magnitude_bisect(elapsed: int) -> str:\n",
    "    if not isinstance(elapsed, int):\n",
    "        raise TypeError(\"elapsed must be an int (seconds)\")\n",
    "    if elapsed < 0:\n",
    "        raise ValueError(\"elapsed must be non-negative\")\n",
    "    idx = bisect_right(THRESHOLDS, elapsed)\n",
    "    return LABELS_TIME[idx]\n",
    "\n",
    "# Confirm both versions match\n",
    "for v in demo_values:\n",
    "    assert elapsed_magnitude(v) == elapsed_magnitude_bisect(v)\n",
    "\"elapsed magnitude: both implementations match ✅\""
   ]
  },
  {
   "cell_type": "markdown",
   "id": "tests-title",
   "metadata": {},
   "source": [
    "---\n",
    "### Quick Tests"
   ]
  },
  {
   "cell_type": "code",
   "execution_count": 9,
   "id": "tests-cell",
   "metadata": {},
   "outputs": [
    {
     "name": "stdout",
     "output_type": "stream",
     "text": [
      "All advanced checks passed ✅\n"
     ]
    }
   ],
   "source": [
    "# Exercise 1 & 2: strict coalescing (None only)\n",
    "assert coalesce_none_to_na(None) == \"N/A\"\n",
    "assert coalesce_none_to_na(0) == 0\n",
    "assert coalesce_none_to_na(\"\") == \"\"\n",
    "assert coalesce_none_to_na(False) is False\n",
    "assert coalesce_none_to_na_ternary(None) == \"N/A\"\n",
    "\n",
    "# Exercise 3: boundary tests (already done above, repeat a few)\n",
    "for s, exp in {0:\"Poor\", 580:\"Fair\", 670:\"Good\", 740:\"Very Good\", 800:\"Excellent\", 850:\"Excellent\"}.items():\n",
    "    assert credit_rating(s) == exp\n",
    "\n",
    "# Exercise 4: boundaries\n",
    "assert elapsed_magnitude(0) == 'seconds'\n",
    "assert elapsed_magnitude(59) == 'seconds'\n",
    "assert elapsed_magnitude(60) == 'minutes'\n",
    "assert elapsed_magnitude(3599) == 'minutes'\n",
    "assert elapsed_magnitude(3600) == 'hours'\n",
    "assert elapsed_magnitude(86399) == 'hours'\n",
    "assert elapsed_magnitude(86400) == 'days'\n",
    "assert elapsed_magnitude(604799) == 'days'\n",
    "assert elapsed_magnitude(604800) == 'weeks'\n",
    "\n",
    "print(\"All advanced checks passed ✅\")"
   ]
  },
  {
   "cell_type": "code",
   "execution_count": null,
   "id": "4921d4b8-27d9-41f8-9c3d-67cd55ce91b7",
   "metadata": {},
   "outputs": [],
   "source": []
  }
 ],
 "metadata": {
  "kernelspec": {
   "display_name": "Python 3 (ipykernel)",
   "language": "python",
   "name": "python3"
  },
  "language_info": {
   "codemirror_mode": {
    "name": "ipython",
    "version": 3
   },
   "file_extension": ".py",
   "mimetype": "text/x-python",
   "name": "python",
   "nbconvert_exporter": "python",
   "pygments_lexer": "ipython3",
   "version": "3.13.7"
  }
 },
 "nbformat": 4,
 "nbformat_minor": 5
}
