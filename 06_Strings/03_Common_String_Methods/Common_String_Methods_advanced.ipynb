{
 "cells": [
  {
   "cell_type": "markdown",
   "metadata": {},
   "source": [
    "### Advanced Exercises: Common String Methods\n",
    "\n",
    "These problems go a step beyond the basics you covered (case mappings, stripping, splitting/joining, substring search). Each exercise is immediately followed by a concise solution cell you can run."
   ]
  },
  {
   "cell_type": "markdown",
   "metadata": {},
   "source": [
    "#### Exercise 1 — Case-Insensitive Equality (the right way)\n",
    "Write a function `equal_ci(a, b)` that returns `True` when two strings are equal **case-insensitively** using **casefolding** (not `.lower()` or `.upper()`).\n",
    "\n",
    "Test it with:\n",
    "- `BMW` vs `bmw`\n",
    "- `straße` vs `STRASSE`"
   ]
  },
  {
   "cell_type": "code",
   "execution_count": 1,
   "metadata": {},
   "outputs": [
    {
     "name": "stdout",
     "output_type": "stream",
     "text": [
      "True\n",
      "True\n"
     ]
    }
   ],
   "source": [
    "def equal_ci(a: str, b: str) -> bool:\n",
    "    return a.casefold() == b.casefold()\n",
    "\n",
    "print(equal_ci('BMW', 'bmw'))      # True\n",
    "print(equal_ci('straße', 'STRASSE'))  # True"
   ]
  },
  {
   "cell_type": "markdown",
   "metadata": {},
   "source": [
    "#### Exercise 2 — Unicode Normalization + Casefolding\n",
    "Two visually identical strings may be encoded differently (precomposed vs combining marks). Implement `equal_unicode(a, b)` that first normalizes both strings to NFC, then casefolds, then compares.\n",
    "\n",
    "Test:\n",
    "- `'ê'` (precomposed) vs `'ê'` (e + combining ^)\n",
    "- `'İ'` (LATIN CAPITAL LETTER I WITH DOT ABOVE) vs `'i̇'` (i + combining dot)"
   ]
  },
  {
   "cell_type": "code",
   "execution_count": 2,
   "metadata": {},
   "outputs": [
    {
     "name": "stdout",
     "output_type": "stream",
     "text": [
      "True\n",
      "True\n"
     ]
    }
   ],
   "source": [
    "import unicodedata as _ud\n",
    "\n",
    "def equal_unicode(a: str, b: str) -> bool:\n",
    "    a_n = _ud.normalize('NFC', a).casefold()\n",
    "    b_n = _ud.normalize('NFC', b).casefold()\n",
    "    return a_n == b_n\n",
    "\n",
    "print(equal_unicode('ê', 'ê'))  # True\n",
    "print(equal_unicode('İ', 'i\\u0307'))  # True in many contexts"
   ]
  },
  {
   "cell_type": "markdown",
   "metadata": {},
   "source": [
    "#### Exercise 3 — Title Case with Small-Word Exceptions\n",
    "Write `smart_title(s, small_words)` that returns a title-cased string but **does not capitalize** words from `small_words` *except* when they are the first or last word.\n",
    "\n",
    "Example:\n",
    "- Input: `\"the definitive guide to python\"`, small words: `{\"the\",\"to\",\"of\",\"and\"}`\n",
    "- Output: `\"The Definitive Guide to Python\"`"
   ]
  },
  {
   "cell_type": "code",
   "execution_count": 3,
   "metadata": {},
   "outputs": [
    {
     "name": "stdout",
     "output_type": "stream",
     "text": [
      "The Definitive Guide to Python\n"
     ]
    }
   ],
   "source": [
    "def smart_title(s: str, small_words=None) -> str:\n",
    "    if small_words is None:\n",
    "        small_words = {\"a\",\"an\",\"and\",\"as\",\"at\",\"but\",\"by\",\"for\",\"in\",\"of\",\"on\",\"or\",\"to\",\"the\"}\n",
    "    words = s.split()\n",
    "    if not words:\n",
    "        return s\n",
    "    def cap(word):\n",
    "        return word[0:1].upper() + word[1:].lower()\n",
    "    out = []\n",
    "    for i, w in enumerate(words):\n",
    "        wl = w.lower()\n",
    "        if i == 0 or i == len(words)-1:\n",
    "            out.append(cap(w))\n",
    "        else:\n",
    "            out.append(wl if wl in small_words else cap(w))\n",
    "    return ' '.join(out)\n",
    "\n",
    "print(smart_title('the definitive guide to python', {\"the\",\"to\",\"of\",\"and\"}))"
   ]
  },
  {
   "cell_type": "markdown",
   "metadata": {},
   "source": [
    "#### Exercise 4 — Strip **all** Kinds of Whitespace\n",
    "Write `strip_all_ws(s)` that strips *any Unicode whitespace* from both ends (not just ASCII spaces). Test it on strings containing ordinary spaces, tabs, non-breaking spaces (`\\u00A0`) and em spaces (`\\u2003`)."
   ]
  },
  {
   "cell_type": "code",
   "execution_count": 4,
   "metadata": {},
   "outputs": [
    {
     "name": "stdout",
     "output_type": "stream",
     "text": [
      "'hello'\n",
      "'hello'\n",
      "'hello'\n"
     ]
    }
   ],
   "source": [
    "def strip_all_ws(s: str) -> str:\n",
    "    # Python's .strip() already removes all Unicode whitespace by default\n",
    "    return s.strip()\n",
    "\n",
    "samples = [\n",
    "    '\\t  hello\\n',\n",
    "    '\\u00A0hello\\u00A0',   # no-break space\n",
    "    '\\u2003hello\\u2003'    # em space\n",
    "]\n",
    "for t in samples:\n",
    "    print(repr(strip_all_ws(t)))  # all should print 'hello'"
   ]
  },
  {
   "cell_type": "markdown",
   "metadata": {},
   "source": [
    "#### Exercise 5 — Find **all** Occurrences (including overlaps)\n",
    "Implement `find_all(haystack, needle)` that returns a list of start indices for **every** occurrence of `needle` in `haystack`, including overlapping matches.\n",
    "\n",
    "Example:\n",
    "- `find_all('aaaa', 'aa') -> [0, 1, 2]`"
   ]
  },
  {
   "cell_type": "code",
   "execution_count": 5,
   "metadata": {},
   "outputs": [
    {
     "name": "stdout",
     "output_type": "stream",
     "text": [
      "[0, 1, 2]\n",
      "[3, 16]\n"
     ]
    }
   ],
   "source": [
    "def find_all(haystack: str, needle: str):\n",
    "    if not needle:\n",
    "        return []\n",
    "    out, i = [], 0\n",
    "    while True:\n",
    "        i = haystack.find(needle, i)\n",
    "        if i == -1:\n",
    "            return out\n",
    "        out.append(i)\n",
    "        i += 1  # allow overlaps\n",
    "\n",
    "print(find_all('aaaa', 'aa'))     # [0, 1, 2]\n",
    "print(find_all('To be or not to be', 'be'))  # positions of 'be'"
   ]
  },
  {
   "cell_type": "markdown",
   "metadata": {},
   "source": [
    "#### Exercise 6 — Robust CSV-like Split & Join\n",
    "Given a line like `name,age,city\\n` but with commas possibly **inside quotes**, split it correctly into fields using the `csv` module, then re-join with `'; '`.\n",
    "\n",
    "Test with: `\"Doe, \\\"Jane\\\"\",27,\"New York, NY\"` → `[\"Doe, \\\"Jane\\\"\", \"27\", \"New York, NY\"]` → rejoin to `\"Doe, \\\"Jane\\\"\"; 27; New York, NY`"
   ]
  },
  {
   "cell_type": "code",
   "execution_count": 6,
   "metadata": {},
   "outputs": [
    {
     "name": "stdout",
     "output_type": "stream",
     "text": [
      "['Doe, Jane\"\"', '27', 'New York, NY']\n",
      "Doe, Jane\"\"; 27; New York, NY\n"
     ]
    }
   ],
   "source": [
    "import csv, io\n",
    "\n",
    "row = '\"Doe, \\\"Jane\\\"\",27,\"New York, NY\"\\n'\n",
    "fields = next(csv.reader(io.StringIO(row)))\n",
    "print(fields)\n",
    "print('; '.join(fields))"
   ]
  },
  {
   "cell_type": "markdown",
   "metadata": {},
   "source": [
    "#### Exercise 7 — `translate` with `maketrans`\n",
    "Create a translation that:\n",
    "1) removes all digits, and \n",
    "2) maps any of the characters `.,;:!?` to a single space.\n",
    "\n",
    "Then normalize whitespace to single spaces.\n",
    "\n",
    "Input: `\"Py3thon,  is...  fun!? Yes; very: fun42.\"` → `\"Py thon is fun Yes very fun\"`"
   ]
  },
  {
   "cell_type": "code",
   "execution_count": 7,
   "metadata": {},
   "outputs": [
    {
     "name": "stdout",
     "output_type": "stream",
     "text": [
      "Python is fun Yes very fun\n"
     ]
    }
   ],
   "source": [
    "import string\n",
    "\n",
    "punct = '.,;:!?'\n",
    "remove_digits = {ord(d): None for d in string.digits}\n",
    "map_punct_to_space = {ord(ch): ' ' for ch in punct}\n",
    "table = {**remove_digits, **map_punct_to_space}\n",
    "\n",
    "s = 'Py3thon,  is...  fun!? Yes; very: fun42.'\n",
    "clean = s.translate(table)\n",
    "normalized = ' '.join(clean.split())\n",
    "print(normalized)"
   ]
  },
  {
   "cell_type": "markdown",
   "metadata": {},
   "source": [
    "#### Exercise 8 — Parsing with `partition` / `rpartition`\n",
    "Given strings of the form `key=value=maybe_more`, split them into `(key, value)` such that key is everything **before the first `=`** and value is everything **after the first `=`** (may contain `=`). Then also demonstrate how to split on the **last** `=` using `rpartition`.\n",
    "\n",
    "Test with:\n",
    "- `\"path=/usr/local/bin\"`\n",
    "- `\"token=abc=123=xyz\"`"
   ]
  },
  {
   "cell_type": "code",
   "execution_count": 8,
   "metadata": {},
   "outputs": [
    {
     "name": "stdout",
     "output_type": "stream",
     "text": [
      "('path', '/usr/local/bin')\n",
      "('token', 'abc=123=xyz')\n",
      "('token=abc=123', 'xyz')\n"
     ]
    }
   ],
   "source": [
    "def split_first_eq(s: str):\n",
    "    left, sep, right = s.partition('=')\n",
    "    return left, right if sep else None\n",
    "\n",
    "def split_last_eq(s: str):\n",
    "    left, sep, right = s.rpartition('=')\n",
    "    return left if sep else None, right if sep else None\n",
    "\n",
    "print(split_first_eq('path=/usr/local/bin'))   # ('path', '/usr/local/bin')\n",
    "print(split_first_eq('token=abc=123=xyz'))     # ('token', 'abc=123=xyz')\n",
    "print(split_last_eq('token=abc=123=xyz'))      # ('token=abc=123', 'xyz')"
   ]
  },
  {
   "cell_type": "code",
   "execution_count": null,
   "metadata": {},
   "outputs": [],
   "source": []
  }
 ],
 "metadata": {
  "kernelspec": {
   "display_name": "Python 3 (ipykernel)",
   "language": "python",
   "name": "python3"
  },
  "language_info": {
   "codemirror_mode": {
    "name": "ipython",
    "version": 3
   },
   "file_extension": ".py",
   "mimetype": "text/x-python",
   "name": "python",
   "nbconvert_exporter": "python",
   "pygments_lexer": "ipython3",
   "version": "3.13.7"
  }
 },
 "nbformat": 4,
 "nbformat_minor": 4
}
