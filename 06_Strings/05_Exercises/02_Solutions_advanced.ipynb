{
 "cells": [
  {
   "cell_type": "markdown",
   "id": "intro-adv",
   "metadata": {},
   "source": [
    "### Solutions (slightly advanced)\n",
    "These versions use comprehensions, the formatting mini-language, and small f-string tricks while staying readable."
   ]
  },
  {
   "cell_type": "markdown",
   "id": "q1-title",
   "metadata": {},
   "source": [
    "#### Question 1 — codepoints, lower, upper (comma-separated input)"
   ]
  },
  {
   "cell_type": "code",
   "execution_count": 1,
   "id": "q1-setup",
   "metadata": {},
   "outputs": [
    {
     "data": {
      "text/plain": [
       "(['0x3a0', '0x3cd', '0x3b8', '0x3c9', '0x3bd'],\n",
       " ['π', 'ύ', 'θ', 'ω', 'ν'],\n",
       " ['Π', 'Ύ', 'Θ', 'Ω', 'Ν'])"
      ]
     },
     "execution_count": 1,
     "metadata": {},
     "output_type": "execute_result"
    }
   ],
   "source": [
    "s = 'Π, ύ, θ, ω, ν'  # given\n",
    "\n",
    "# split once, strip safely, ignore empties\n",
    "chars = [c.strip() for c in s.split(',') if c.strip()]\n",
    "\n",
    "# hex code points (lowercase hex, 0x prefix)\n",
    "codepoints_hex = [f\"0x{ord(c):x}\" for c in chars]\n",
    "\n",
    "# lowercase and uppercase variants\n",
    "lower_chars = [c.lower() for c in chars]\n",
    "upper_chars = [c.upper() for c in chars]\n",
    "\n",
    "codepoints_hex, lower_chars, upper_chars"
   ]
  },
  {
   "cell_type": "markdown",
   "id": "q1-alt",
   "metadata": {},
   "source": [
    "_Note:_ If you need a **single comma-delimited string** instead of lists, you can post-process with `', '.join(seq)`."
   ]
  },
  {
   "cell_type": "markdown",
   "id": "q2-title",
   "metadata": {},
   "source": [
    "#### Question 2 — two interpolation styles with an inline condition"
   ]
  },
  {
   "cell_type": "code",
   "execution_count": 2,
   "id": "q2-code",
   "metadata": {},
   "outputs": [
    {
     "data": {
      "text/plain": [
       "('The number 42 is even', 'The number 42 is even')"
      ]
     },
     "execution_count": 2,
     "metadata": {},
     "output_type": "execute_result"
    }
   ],
   "source": [
    "a = 42  # try with 31 as well\n",
    "\n",
    "# 1) f-string with inline conditional\n",
    "msg1 = f\"The number {a} is {'even' if a % 2 == 0 else 'not even'}\"\n",
    "\n",
    "# 2) str.format with a computed field\n",
    "state = ('even' if a % 2 == 0 else 'not even')\n",
    "msg2 = \"The number {val} is {state}\".format(val=a, state=state)\n",
    "\n",
    "msg1, msg2"
   ]
  },
  {
   "cell_type": "markdown",
   "id": "q3-title",
   "metadata": {},
   "source": [
    "#### Question 3 — formatted division with consistent precision (4 dp)"
   ]
  },
  {
   "cell_type": "code",
   "execution_count": 3,
   "id": "q3-code",
   "metadata": {},
   "outputs": [
    {
     "data": {
      "text/plain": [
       "'7.0000 / 3.0000 = 2.3333'"
      ]
     },
     "execution_count": 3,
     "metadata": {},
     "output_type": "execute_result"
    }
   ],
   "source": [
    "a, b = 7, 3  # b is non-zero\n",
    "res = a / b\n",
    "\n",
    "# Use a dynamic precision variable and f-strings' nested precision spec\n",
    "PREC = 4\n",
    "line = (\n",
    "    f\"{a:.{PREC}f} / \"\n",
    "    f\"{b:.{PREC}f} = \"\n",
    "    f\"{res:.{PREC}f}\"\n",
    ")\n",
    "line"
   ]
  },
  {
   "cell_type": "markdown",
   "id": "q3-alt",
   "metadata": {},
   "source": [
    "If you also want thousands separators while keeping 4 decimals, use `:,.{PREC}f`:\n",
    "\n",
    "```python\n",
    "f\"{a:,.{PREC}f} / {b:,.{PREC}f} = {res:,.{PREC}f}\"\n",
    "```"
   ]
  },
  {
   "cell_type": "code",
   "execution_count": null,
   "id": "0445121a-c36e-40eb-aca4-7ab1af587754",
   "metadata": {},
   "outputs": [],
   "source": []
  }
 ],
 "metadata": {
  "kernelspec": {
   "display_name": "Python 3 (ipykernel)",
   "language": "python",
   "name": "python3"
  },
  "language_info": {
   "codemirror_mode": {
    "name": "ipython",
    "version": 3
   },
   "file_extension": ".py",
   "mimetype": "text/x-python",
   "name": "python",
   "nbconvert_exporter": "python",
   "pygments_lexer": "ipython3",
   "version": "3.13.7"
  }
 },
 "nbformat": 4,
 "nbformat_minor": 5
}
