{
 "cells": [
  {
   "cell_type": "markdown",
   "id": "adfc5b8c",
   "metadata": {},
   "source": [
    "## Unicode — Medium Exercises with Solutions\n",
    "\n",
    "These are in-between the basics and the very advanced set. Only standard library: `unicodedata`, `re`.\n",
    "\n",
    "Run cells top-to-bottom. Each exercise has a short solution you can tweak."
   ]
  },
  {
   "cell_type": "markdown",
   "id": "96f7799f",
   "metadata": {},
   "source": [
    "### Exercise 1 — Quick Code Point Table\n",
    "Write `codepoint_table(s)` that returns a list of rows `(char, dec, hex_u, name)`.\n",
    "- `dec`: decimal code point (int)\n",
    "- `hex_u`: like `U+0041` or `U+1F600` (uppercase, zero-padded to 4 or 6 hex digits)\n",
    "- `name`: Unicode name or `'<no name>'`"
   ]
  },
  {
   "cell_type": "code",
   "execution_count": 1,
   "id": "ee01368d",
   "metadata": {},
   "outputs": [
    {
     "name": "stdout",
     "output_type": "stream",
     "text": [
      "('A', 65, 'U+0041', 'LATIN CAPITAL LETTER A')\n",
      "('α', 945, 'U+03B1', 'GREEK SMALL LETTER ALPHA')\n",
      "('😀', 128512, 'U+01F600', 'GRINNING FACE')\n"
     ]
    }
   ],
   "source": [
    "import unicodedata as ud\n",
    "\n",
    "def _uhex(cp: int) -> str:\n",
    "    return f\"U+{cp:04X}\" if cp <= 0xFFFF else f\"U+{cp:06X}\"\n",
    "\n",
    "def codepoint_table(s: str):\n",
    "    rows = []\n",
    "    for ch in s:\n",
    "        cp = ord(ch)\n",
    "        rows.append((ch, cp, _uhex(cp), ud.name(ch, '<no name>')))\n",
    "    return rows\n",
    "\n",
    "# Demo\n",
    "ntry = \"Aα😀\"\n",
    "for row in codepoint_table(ntry):\n",
    "    print(row)"
   ]
  },
  {
   "cell_type": "markdown",
   "id": "37b28fe8",
   "metadata": {},
   "source": [
    "### Exercise 2 — NFC Equality Checker\n",
    "Create `equal_nfc(a, b)` that returns `True` if strings are equal after NFC normalization.\n",
    "Test on `'é'` vs `'e\\u0301'`, and `'Å'` vs `'A\\u030A'`."
   ]
  },
  {
   "cell_type": "code",
   "execution_count": 2,
   "id": "73fab671",
   "metadata": {},
   "outputs": [
    {
     "name": "stdout",
     "output_type": "stream",
     "text": [
      "é é -> True\n",
      "Å Å -> True\n",
      "hello hello -> True\n"
     ]
    }
   ],
   "source": [
    "def equal_nfc(a: str, b: str) -> bool:\n",
    "    return ud.normalize('NFC', a) == ud.normalize('NFC', b)\n",
    "\n",
    "# Demo\n",
    "pairs = [('é', 'e\\u0301'), ('Å', 'A\\u030A'), ('hello', 'hello')]\n",
    "for a, b in pairs:\n",
    "    print(a, b, '->', equal_nfc(a, b))"
   ]
  },
  {
   "cell_type": "markdown",
   "id": "acb3284f",
   "metadata": {},
   "source": [
    "### Exercise 3 — Strip Diacritics (Accent Folding)\n",
    "Implement `strip_accents(s)` that removes combining marks but keeps base letters.\n",
    "Apply it to a sentence with accents and ligatures (e.g., `Café déjà-vu — naïve façade`)."
   ]
  },
  {
   "cell_type": "code",
   "execution_count": 3,
   "id": "b4a0661c",
   "metadata": {},
   "outputs": [
    {
     "name": "stdout",
     "output_type": "stream",
     "text": [
      "Cafe deja-vu — naive facade\n"
     ]
    }
   ],
   "source": [
    "def strip_accents(s: str) -> str:\n",
    "    nfd = ud.normalize('NFD', s)\n",
    "    no_marks = ''.join(ch for ch in nfd if ud.combining(ch) == 0)\n",
    "    return ud.normalize('NFC', no_marks)\n",
    "\n",
    "# Demo\n",
    "text = 'Café déjà-vu — naïve façade'\n",
    "print(strip_accents(text))"
   ]
  },
  {
   "cell_type": "markdown",
   "id": "0875c9c7",
   "metadata": {},
   "source": [
    "### Exercise 4 — Accent-Insensitive Contains\n",
    "Write `contains_word(text, needle)` that returns `True` if `needle` occurs in `text` ignoring accents and case.\n",
    "- Hint: use `strip_accents(...)` and `casefold()`.\n",
    "- It should match whole substrings (no need for word boundaries here)."
   ]
  },
  {
   "cell_type": "code",
   "execution_count": 4,
   "id": "1d6ebb5a",
   "metadata": {},
   "outputs": [
    {
     "name": "stdout",
     "output_type": "stream",
     "text": [
      "True\n",
      "True\n",
      "True\n",
      "True\n"
     ]
    }
   ],
   "source": [
    "def norm_fold(s: str) -> str:\n",
    "    return strip_accents(s).casefold()\n",
    "\n",
    "def contains_word(text: str, needle: str) -> bool:\n",
    "    return norm_fold(needle) in norm_fold(text)\n",
    "\n",
    "# Demo\n",
    "print(contains_word('Café CAFÉ caffè', 'cafe'))      # True\n",
    "print(contains_word('El Niño is here', 'nino'))        # True\n",
    "print(contains_word('Résumé tips', 'resume'))          # True\n",
    "print(contains_word('Résumé tips', 'sumé'))            # False (substring still respected)"
   ]
  },
  {
   "cell_type": "markdown",
   "id": "452c6556",
   "metadata": {},
   "source": [
    "### Exercise 5 — Safe Encoding Round-Trip\n",
    "Write `roundtrip(s, encodings)` that, for each encoding, tries to encode and decode `s`.\n",
    "Return a dict `{encoding: (ok, byte_length)}` where `ok` is `True` only if decoded equals original.\n",
    "Test on `s = 'Aα😀'` and encodings `['utf-8', 'utf-16-le', 'latin-1']`."
   ]
  },
  {
   "cell_type": "code",
   "execution_count": 5,
   "id": "954fae77",
   "metadata": {},
   "outputs": [
    {
     "name": "stdout",
     "output_type": "stream",
     "text": [
      "{'utf-8': (True, 7), 'utf-16-le': (True, 8), 'latin-1': (False, None)}\n"
     ]
    }
   ],
   "source": [
    "def roundtrip(s: str, encodings):\n",
    "    out = {}\n",
    "    for enc in encodings:\n",
    "        try:\n",
    "            b = s.encode(enc)\n",
    "            back = b.decode(enc)\n",
    "            out[enc] = (back == s, len(b))\n",
    "        except UnicodeEncodeError:\n",
    "            out[enc] = (False, None)\n",
    "    return out\n",
    "\n",
    "# Demo\n",
    "print(roundtrip('Aα😀', ['utf-8', 'utf-16-le', 'latin-1']))"
   ]
  },
  {
   "cell_type": "markdown",
   "id": "2f6028b8",
   "metadata": {},
   "source": [
    "### Exercise 6 — Uppercase-Only Filter\n",
    "Write `only_upper_letters(s)` that returns a new string containing only characters whose Unicode category is `Lu` (Letter, uppercase).\n",
    "Apply it to `'AaBbΣσßẞ İ i̇ № ™ ©'` and observe which characters survive."
   ]
  },
  {
   "cell_type": "code",
   "execution_count": 6,
   "id": "b9c49831",
   "metadata": {},
   "outputs": [
    {
     "name": "stdout",
     "output_type": "stream",
     "text": [
      "AaBbΣσßẞ İ i̇ № ™ ©\n",
      "ABΣẞİ\n"
     ]
    }
   ],
   "source": [
    "def only_upper_letters(s: str) -> str:\n",
    "    return ''.join(ch for ch in s if ud.category(ch) == 'Lu')\n",
    "\n",
    "# Demo\n",
    "sample = 'AaBbΣσßẞ İ i̇ № ™ ©'\n",
    "print(sample)\n",
    "print(only_upper_letters(sample))"
   ]
  },
  {
   "cell_type": "markdown",
   "id": "34f7c561",
   "metadata": {},
   "source": [
    "### Exercise 7 — Basic Grapheme-Like Split (Combining Marks Only)\n",
    "Write `split_graphemes_simple(s)` that groups a base character with the combining marks that follow it.\n",
    "Test on `'e\\u0301 a\\u0302\\u0301 café'`.\n",
    "> Note: This is not full Unicode grapheme segmentation but works for simple combining marks cases."
   ]
  },
  {
   "cell_type": "code",
   "execution_count": 7,
   "id": "5002375f",
   "metadata": {},
   "outputs": [
    {
     "name": "stdout",
     "output_type": "stream",
     "text": [
      "['é', ' ', 'ấ', ' ', 'c', 'a', 'f', 'é']\n"
     ]
    }
   ],
   "source": [
    "def split_graphemes_simple(s: str):\n",
    "    clusters = []\n",
    "    buf = ''\n",
    "    for ch in s:\n",
    "        if not buf:\n",
    "            buf = ch\n",
    "            continue\n",
    "        if ud.combining(ch):\n",
    "            buf += ch\n",
    "        else:\n",
    "            clusters.append(buf)\n",
    "            buf = ch\n",
    "    if buf:\n",
    "        clusters.append(buf)\n",
    "    return clusters\n",
    "\n",
    "# Demo\n",
    "print(split_graphemes_simple('e\\u0301 a\\u0302\\u0301 café'))"
   ]
  },
  {
   "cell_type": "markdown",
   "id": "5c727f1a",
   "metadata": {},
   "source": [
    "### Exercise 8 — Flag Emoji to ISO Code (RIS)\n",
    "Implement `flag_to_iso(flag)` that converts a 2-character flag emoji (two Regional Indicator Symbols) into its ISO country code (e.g., `'🇧🇬' -> 'BG'`).\n",
    "Raise `ValueError` for invalid inputs."
   ]
  },
  {
   "cell_type": "code",
   "execution_count": 8,
   "id": "441aa907",
   "metadata": {},
   "outputs": [
    {
     "name": "stdout",
     "output_type": "stream",
     "text": [
      "BG\n",
      "US\n"
     ]
    }
   ],
   "source": [
    "def flag_to_iso(flag: str) -> str:\n",
    "    if len(flag) != 2:\n",
    "        raise ValueError('Flag must be exactly 2 code points long')\n",
    "    base = 0x1F1E6\n",
    "    letters = []\n",
    "    for ch in flag:\n",
    "        cp = ord(ch)\n",
    "        if not (0x1F1E6 <= cp <= 0x1F1FF):\n",
    "            raise ValueError('Code point is not a Regional Indicator Symbol')\n",
    "        letters.append(chr(ord('A') + (cp - base)))\n",
    "    return ''.join(letters)\n",
    "\n",
    "# Demo\n",
    "print(flag_to_iso('🇧🇬'))  # BG\n",
    "print(flag_to_iso('🇺🇸'))  # US"
   ]
  },
  {
   "cell_type": "code",
   "execution_count": null,
   "id": "2f7fbbcf-b234-4269-90a3-1561485add7b",
   "metadata": {},
   "outputs": [],
   "source": []
  }
 ],
 "metadata": {
  "kernelspec": {
   "display_name": "Python 3 (ipykernel)",
   "language": "python",
   "name": "python3"
  },
  "language_info": {
   "codemirror_mode": {
    "name": "ipython",
    "version": 3
   },
   "file_extension": ".py",
   "mimetype": "text/x-python",
   "name": "python",
   "nbconvert_exporter": "python",
   "pygments_lexer": "ipython3",
   "version": "3.13.7"
  }
 },
 "nbformat": 4,
 "nbformat_minor": 5
}
