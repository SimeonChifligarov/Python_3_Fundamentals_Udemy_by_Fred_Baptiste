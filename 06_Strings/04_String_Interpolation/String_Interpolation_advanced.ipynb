{
 "cells": [
  {
   "cell_type": "markdown",
   "metadata": {},
   "source": [
    "### Advanced Exercises — String Interpolation (`str.format`, f-strings, format-specs)\n",
    "\n",
    "These problems deepen your practice with Python’s formatting mini-language using both `format()` and f-strings. Each exercise is followed by a runnable solution cell."
   ]
  },
  {
   "cell_type": "markdown",
   "metadata": {},
   "source": [
    "#### Setup"
   ]
  },
  {
   "cell_type": "code",
   "execution_count": 1,
   "metadata": {},
   "outputs": [],
   "source": [
    "from datetime import datetime, timezone, timedelta\n",
    "from decimal import Decimal\n",
    "price, qty, disc = 1234.5, 7, 0.075\n",
    "name, side = 'Ada Lovelace', 'BUY'\n",
    "ts = datetime(2024, 6, 1, 14, 5, 9, 123456, tzinfo=timezone.utc)\n",
    "vec = (0.123456, -9876.5, 42.0)\n",
    "px = Decimal('12345.6789')\n",
    "book = {'bid': 1.5760, 'ask': 1.5763}\n",
    "class Trade:\n",
    "    def __init__(self, id, side, qty, price):\n",
    "        self.id = id; self.side = side; self.qty = qty; self.price = price\n",
    "    def __repr__(self):\n",
    "        return f\"Trade(id={self.id!r}, side={self.side!r}, qty={self.qty!r}, price={self.price!r})\"\n",
    "t = Trade('T-42', 'SELL', 3, 99.95)"
   ]
  },
  {
   "cell_type": "markdown",
   "metadata": {},
   "source": [
    "#### Exercise 1 — Column alignment & width\n",
    "Format a one-line order ticket with fixed-width columns:\n",
    "\n",
    "- `side` left-aligned width 4\n",
    "- `qty` right-aligned width 6\n",
    "- `price` right-aligned width 10 with 2 decimals\n",
    "\n",
    "Target shape (exact spacing):\n",
    "```\n",
    "BUY  |     7 |   1,234.50\n",
    "```"
   ]
  },
  {
   "cell_type": "code",
   "execution_count": 2,
   "metadata": {},
   "outputs": [
    {
     "name": "stdout",
     "output_type": "stream",
     "text": [
      "BUY  |      7 |   1,234.50\n"
     ]
    }
   ],
   "source": [
    "row = f\"{side:<4} | {qty:>6} | {price:>10,.2f}\"\n",
    "print(row)"
   ]
  },
  {
   "cell_type": "markdown",
   "metadata": {},
   "source": [
    "#### Exercise 2 — Signs, zero-padding, and thousands separators\n",
    "Show `+/-` signs, zero-pad to width 12, use thousands separators, 2 decimals for `price` and 0 for `qty`:\n",
    "```\n",
    "+000001,234.50  -000000,007\n",
    "```"
   ]
  },
  {
   "cell_type": "code",
   "execution_count": 3,
   "metadata": {},
   "outputs": [
    {
     "name": "stdout",
     "output_type": "stream",
     "text": [
      "+0,001,234.50 -000,000,007\n"
     ]
    }
   ],
   "source": [
    "s1 = f\"{price:+012,.2f}\"\n",
    "s2 = f\"{-(qty):+012,}\"\n",
    "print(s1, s2)"
   ]
  },
  {
   "cell_type": "markdown",
   "metadata": {},
   "source": [
    "#### Exercise 3 — Percentage and basis points\n",
    "Format the discount `disc=0.075` as a percentage with 1 decimal and also as basis points (bps) with no decimals:\n",
    "```\n",
    "7.5% (750 bps)\n",
    "```"
   ]
  },
  {
   "cell_type": "code",
   "execution_count": 4,
   "metadata": {},
   "outputs": [
    {
     "name": "stdout",
     "output_type": "stream",
     "text": [
      "7.5% (750 bps)\n"
     ]
    }
   ],
   "source": [
    "pct = f\"{disc:.1%}\"\n",
    "bps = f\"{disc*10_000:.0f} bps\"\n",
    "print(f\"{pct} ({bps})\")"
   ]
  },
  {
   "cell_type": "markdown",
   "metadata": {},
   "source": [
    "#### Exercise 4 — Scientific vs general format switching\n",
    "Format each element of `vec` twice: scientific (`.3e`) and general (`.6g`) in a single line:\n",
    "```\n",
    "0.123e+00 | 0.123456   ;  -9.877e+03 | -9876.5   ;  4.200e+01 | 42\n",
    "```"
   ]
  },
  {
   "cell_type": "code",
   "execution_count": 5,
   "metadata": {},
   "outputs": [
    {
     "name": "stdout",
     "output_type": "stream",
     "text": [
      "1.235e-01 | 0.123456 ;  -9.876e+03 | -9876.5 ;  4.200e+01 | 42\n"
     ]
    }
   ],
   "source": [
    "parts = []\n",
    "for x in vec:\n",
    "    parts.append(f\"{x:.3e} | {x:.6g}\")\n",
    "print(' ;  '.join(parts))"
   ]
  },
  {
   "cell_type": "markdown",
   "metadata": {},
   "source": [
    "#### Exercise 5 — Datetime formatting (ISO-like & custom)\n",
    "1) ISO-like with milliseconds and `Z` for UTC: `2024-06-01T14:05:09.123Z`\n",
    "2) Human: `Sat, 01 Jun 2024 14:05 UTC`\n",
    "\n",
    "*(Hint: use `:%f`, slice to 3 digits, `%a`, `%d %b %Y %H:%M`)*"
   ]
  },
  {
   "cell_type": "code",
   "execution_count": 6,
   "metadata": {},
   "outputs": [
    {
     "name": "stdout",
     "output_type": "stream",
     "text": [
      "2024-06-01T14:05:09.123Z\n",
      "Sat, 01 Jun 2024 14:05 UTC\n"
     ]
    }
   ],
   "source": [
    "# 1) ISO-like with milliseconds\n",
    "iso_ms = ts.strftime('%Y-%m-%dT%H:%M:%S.%f')[:-3] + 'Z'\n",
    "# 2) Human short\n",
    "human = ts.strftime('%a, %d %b %Y %H:%M UTC')\n",
    "print(iso_ms)\n",
    "print(human)"
   ]
  },
  {
   "cell_type": "markdown",
   "metadata": {},
   "source": [
    "#### Exercise 6 — Debug-friendly formatting with `!r`, `!s`, `!a`\n",
    "Produce three representations of `t` using f-strings coercions:\n",
    "- repr: `{t!r}`\n",
    "- str: `{t!s}`\n",
    "- ascii: `{name!a}`\n",
    "\n",
    "Print them on one line separated by ` | `."
   ]
  },
  {
   "cell_type": "code",
   "execution_count": 7,
   "metadata": {},
   "outputs": [
    {
     "name": "stdout",
     "output_type": "stream",
     "text": [
      "Trade(id='T-42', side='SELL', qty=3, price=99.95) | Trade(id='T-42', side='SELL', qty=3, price=99.95) | 'Ada Lovelace'\n"
     ]
    }
   ],
   "source": [
    "out = f\"{t!r} | {t!s} | {name!a}\"\n",
    "print(out)"
   ]
  },
  {
   "cell_type": "markdown",
   "metadata": {},
   "source": [
    "#### Exercise 7 — Nested attribute & key access in f-strings\n",
    "Using `book={'bid':..., 'ask':...}`, render:\n",
    "```\n",
    "BBO: 1.5760 / 1.5763 (spread 0.0003)\n",
    "```\n",
    "All numbers to 4 decimals. Compute spread inline."
   ]
  },
  {
   "cell_type": "code",
   "execution_count": 8,
   "metadata": {},
   "outputs": [
    {
     "name": "stdout",
     "output_type": "stream",
     "text": [
      "BBO: 1.5760 / 1.5763 (spread 0.0003)\n"
     ]
    }
   ],
   "source": [
    "print(f\"BBO: {book['bid']:.4f} / {book['ask']:.4f} (spread {book['ask']-book['bid']:.4f})\")"
   ]
  },
  {
   "cell_type": "markdown",
   "metadata": {},
   "source": [
    "#### Exercise 8 — Reusing one spec via `format()` spec nesting\n",
    "Define a reusable spec for prices (thousands, 2dp, width 12) and apply it to a list `[1234.5, 9999999.9, 12]` producing rows like:\n",
    "```\n",
    "|      1,234.50|\n",
    "|  9,999,999.90|\n",
    "|         12.00|\n",
    "```"
   ]
  },
  {
   "cell_type": "code",
   "execution_count": 9,
   "metadata": {},
   "outputs": [
    {
     "name": "stdout",
     "output_type": "stream",
     "text": [
      "|    1,234.50|\n",
      "|9,999,999.90|\n",
      "|       12.00|\n"
     ]
    }
   ],
   "source": [
    "spec = \",.2f\"\n",
    "vals = [1234.5, 9_999_999.9, 12]\n",
    "for v in vals:\n",
    "    print(\"|\" + f\"{v:{spec}}\".rjust(12) + \"|\")"
   ]
  },
  {
   "cell_type": "markdown",
   "metadata": {},
   "source": [
    "#### Exercise 9 — Dynamic precision\n",
    "Format `px=Decimal('12345.6789')` with a **dynamic** number of decimals coming from a variable `dp`. Show outputs for `dp=0,2,4` on one line:\n",
    "```\n",
    "12346 | 12,345.68 | 12,345.6789\n",
    "```"
   ]
  },
  {
   "cell_type": "code",
   "execution_count": 10,
   "metadata": {},
   "outputs": [
    {
     "name": "stdout",
     "output_type": "stream",
     "text": [
      "12,346 | 12,345.68 | 12,345.6789\n"
     ]
    }
   ],
   "source": [
    "def fmt_dp(x, dp):\n",
    "    return f\"{x:,.{dp}f}\"\n",
    "print(' | '.join(fmt_dp(px, d) for d in (0,2,4)))"
   ]
  },
  {
   "cell_type": "markdown",
   "metadata": {},
   "source": [
    "#### Exercise 10 — Table with headers and rule line\n",
    "Build a neat table for trades with aligned columns and a rule line sized from the header. Use f-strings and width specs.\n",
    "\n",
    "Target (spacing may differ slightly, but alignment must be correct):\n",
    "```\n",
    "ID    | SIDE |   QTY |     PRICE\n",
    "--------------------------------\n",
    "T-42  | SELL |     3 |      99.95\n",
    "X-7   |  BUY |   120 |   1,234.50\n",
    "```\n",
    "Use: `rows = [(t.id, t.side, t.qty, t.price), ('X-7','BUY',120,1234.5)]`"
   ]
  },
  {
   "cell_type": "code",
   "execution_count": 11,
   "metadata": {},
   "outputs": [
    {
     "name": "stdout",
     "output_type": "stream",
     "text": [
      "ID     | SIDE   |    QTY |        PRICE\n",
      "---------------------------------------\n",
      "T-42   | SELL   |      3 |        99.95\n",
      "X-7    | BUY    |    120 |     1,234.50\n"
     ]
    }
   ],
   "source": [
    "rows = [(t.id, t.side, t.qty, t.price), ('X-7','BUY',120,1234.5)]\n",
    "hdr = (\"ID\", \"SIDE\", \"QTY\", \"PRICE\")\n",
    "w = (6, 6, 6, 12)\n",
    "header = f\"{hdr[0]:<{w[0]}} | {hdr[1]:<{w[1]}} | {hdr[2]:>{w[2]}} | {hdr[3]:>{w[3]}}\"\n",
    "rule = '-' * len(header)\n",
    "print(header)\n",
    "print(rule)\n",
    "for rid, s, q, p in rows:\n",
    "    print(f\"{rid:<{w[0]}} | {s:<{w[1]}} | {q:>{w[2]}} | {p:>{w[3]},.2f}\")"
   ]
  },
  {
   "cell_type": "markdown",
   "metadata": {},
   "source": [
    "#### Exercise 11 — Safe mapping with missing keys\n",
    "Use `str.format_map` with a dict that may miss keys. Create a `SafeDict` that returns `'<NA>'` for missing keys so that:\n",
    "\n",
    "Template: `\"{first} {last} — {role}\"`\n",
    "\n",
    "Data: `{'first':'Ada', 'last':'Lovelace'}`\n",
    "\n",
    "Output: `\"Ada Lovelace — <NA>\"`"
   ]
  },
  {
   "cell_type": "code",
   "execution_count": 12,
   "metadata": {},
   "outputs": [
    {
     "name": "stdout",
     "output_type": "stream",
     "text": [
      "Ada Lovelace — <NA>\n"
     ]
    }
   ],
   "source": [
    "class SafeDict(dict):\n",
    "    def __missing__(self, key):\n",
    "        return '<NA>'\n",
    "\n",
    "tpl = \"{first} {last} — {role}\"\n",
    "data = SafeDict(first='Ada', last='Lovelace')\n",
    "print(tpl.format_map(data))"
   ]
  },
  {
   "cell_type": "markdown",
   "metadata": {},
   "source": [
    "#### Exercise 12 — Nested formatting with computed width\n",
    "Compute the width based on the longest of `['EURUSD','USDJPY','GBPUSD']` plus 3, then format each as left-aligned in that width, and a number right-aligned in width 8 with 5 decimals.\n",
    "\n",
    "Example shape:\n",
    "```\n",
    "EURUSD   1.07654\n",
    "USDJPY 155.23400\n",
    "GBPUSD   1.26910\n",
    "```"
   ]
  },
  {
   "cell_type": "code",
   "execution_count": 13,
   "metadata": {},
   "outputs": [
    {
     "name": "stdout",
     "output_type": "stream",
     "text": [
      "EURUSD    1.07654\n",
      "USDJPY   155.23400\n",
      "GBPUSD    1.26910\n"
     ]
    }
   ],
   "source": [
    "pairs = ['EURUSD','USDJPY','GBPUSD']\n",
    "quotes = [1.076543, 155.234, 1.269098]\n",
    "wname = max(len(p) for p in pairs) + 3\n",
    "for p, q in zip(pairs, quotes):\n",
    "    print(f\"{p:<{wname}}{q:>8.5f}\")"
   ]
  },
  {
   "cell_type": "code",
   "execution_count": null,
   "metadata": {},
   "outputs": [],
   "source": []
  }
 ],
 "metadata": {
  "kernelspec": {
   "display_name": "Python 3 (ipykernel)",
   "language": "python",
   "name": "python3"
  },
  "language_info": {
   "codemirror_mode": {
    "name": "ipython",
    "version": 3
   },
   "file_extension": ".py",
   "mimetype": "text/x-python",
   "name": "python",
   "nbconvert_exporter": "python",
   "pygments_lexer": "ipython3",
   "version": "3.13.7"
  }
 },
 "nbformat": 4,
 "nbformat_minor": 4
}
