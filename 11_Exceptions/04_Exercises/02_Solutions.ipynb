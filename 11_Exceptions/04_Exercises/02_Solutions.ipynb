{
 "cells": [
  {
   "cell_type": "markdown",
   "id": "laughing-stick",
   "metadata": {},
   "source": [
    "### Solutions"
   ]
  },
  {
   "cell_type": "markdown",
   "id": "agricultural-cookie",
   "metadata": {},
   "source": [
    "#### Question 1"
   ]
  },
  {
   "cell_type": "markdown",
   "id": "temporal-february",
   "metadata": {},
   "source": [
    "The following code is meant to calculate the smallest absolute value of a given sequence of numbers."
   ]
  },
  {
   "cell_type": "code",
   "execution_count": 1,
   "id": "mexican-maryland",
   "metadata": {},
   "outputs": [
    {
     "name": "stdout",
     "output_type": "stream",
     "text": [
      "Minimum is: 1\n"
     ]
    }
   ],
   "source": [
    "values = [1, 2, 3, 4]\n",
    "\n",
    "minimum = abs(values[0])\n",
    "for value in values[1:]:\n",
    "    if abs(value) < minimum:\n",
    "        minimum = abs(value)\n",
    "print(f'Minimum is: {minimum}')"
   ]
  },
  {
   "cell_type": "markdown",
   "id": "resistant-creativity",
   "metadata": {},
   "source": [
    "The problem is that if the sequence is empty, it will raise an exception.\n",
    "\n",
    "Write code such that if the `values` sequence is empty, the calculated minimum is printed as `0`."
   ]
  },
  {
   "cell_type": "markdown",
   "id": "greater-share",
   "metadata": {},
   "source": [
    "##### Solution"
   ]
  },
  {
   "cell_type": "markdown",
   "id": "enormous-antibody",
   "metadata": {},
   "source": [
    "Let's try running this code with an empty list and see what exception we get:"
   ]
  },
  {
   "cell_type": "code",
   "execution_count": 2,
   "id": "local-casino",
   "metadata": {},
   "outputs": [
    {
     "ename": "IndexError",
     "evalue": "list index out of range",
     "output_type": "error",
     "traceback": [
      "\u001b[31m---------------------------------------------------------------------------\u001b[39m",
      "\u001b[31mIndexError\u001b[39m                                Traceback (most recent call last)",
      "\u001b[36mCell\u001b[39m\u001b[36m \u001b[39m\u001b[32mIn[2]\u001b[39m\u001b[32m, line 3\u001b[39m\n\u001b[32m      1\u001b[39m values = []\n\u001b[32m----> \u001b[39m\u001b[32m3\u001b[39m minimum = \u001b[38;5;28mabs\u001b[39m(\u001b[43mvalues\u001b[49m\u001b[43m[\u001b[49m\u001b[32;43m0\u001b[39;49m\u001b[43m]\u001b[49m)\n\u001b[32m      4\u001b[39m \u001b[38;5;28;01mfor\u001b[39;00m value \u001b[38;5;129;01min\u001b[39;00m values[\u001b[32m1\u001b[39m:]:\n\u001b[32m      5\u001b[39m     \u001b[38;5;28;01mif\u001b[39;00m \u001b[38;5;28mabs\u001b[39m(value) < minimum:\n",
      "\u001b[31mIndexError\u001b[39m: list index out of range"
     ]
    }
   ],
   "source": [
    "values = []\n",
    "\n",
    "minimum = abs(values[0])\n",
    "for value in values[1:]:\n",
    "    if abs(value) < minimum:\n",
    "        minimum = abs(value)\n",
    "print(f'Minimum is: {minimum}')"
   ]
  },
  {
   "cell_type": "markdown",
   "id": "happy-property",
   "metadata": {},
   "source": [
    "As you can see the problem lies in trying to retrieve the first element of an empty sequence."
   ]
  },
  {
   "cell_type": "markdown",
   "id": "weighted-introduction",
   "metadata": {},
   "source": [
    "We could take a LBYL approach, and test for the length of the sequence:"
   ]
  },
  {
   "cell_type": "code",
   "execution_count": 3,
   "id": "abandoned-bobby",
   "metadata": {},
   "outputs": [
    {
     "name": "stdout",
     "output_type": "stream",
     "text": [
      "Minimum is: 0\n"
     ]
    }
   ],
   "source": [
    "values = []\n",
    "\n",
    "if len(values) == 0:\n",
    "    print(f'Minimum is: 0')\n",
    "else:\n",
    "    minimum = abs(values[0])\n",
    "    for value in values[1:]:\n",
    "        if abs(value) < minimum:\n",
    "            minimum = abs(value)\n",
    "    print(f'Minimum is: {minimum}')"
   ]
  },
  {
   "cell_type": "code",
   "execution_count": 4,
   "id": "least-norman",
   "metadata": {},
   "outputs": [
    {
     "name": "stdout",
     "output_type": "stream",
     "text": [
      "Minimum is: 2\n"
     ]
    }
   ],
   "source": [
    "values = [3, -2, 5]\n",
    "\n",
    "if len(values) == 0:\n",
    "    print(f'Minimum is: 0')\n",
    "else:\n",
    "    minimum = abs(values[0])\n",
    "    for value in values[1:]:\n",
    "        if abs(value) < minimum:\n",
    "            minimum = abs(value)\n",
    "    print(f'Minimum is: {minimum}')"
   ]
  },
  {
   "cell_type": "markdown",
   "id": "scheduled-dutch",
   "metadata": {},
   "source": [
    "But we can also take a EAFP approach, using exception handling:"
   ]
  },
  {
   "cell_type": "code",
   "execution_count": 5,
   "id": "extended-fifty",
   "metadata": {},
   "outputs": [
    {
     "name": "stdout",
     "output_type": "stream",
     "text": [
      "Minimum is: 0\n"
     ]
    }
   ],
   "source": [
    "values = []\n",
    "\n",
    "try:\n",
    "    minimum = abs(values[0])\n",
    "    for value in values[1:]:\n",
    "        if abs(value) < minimum:\n",
    "            minimum = abs(value)\n",
    "    print(f'Minimum is: {minimum}')\n",
    "except IndexError:\n",
    "    print('Minimum is: 0')"
   ]
  },
  {
   "cell_type": "markdown",
   "id": "reported-replication",
   "metadata": {},
   "source": [
    "I don't like have two separate print statements - mainly because I need to be careful about keeping the format of the string the same in both cases. So, I would rewrite this code like this:"
   ]
  },
  {
   "cell_type": "code",
   "execution_count": 6,
   "id": "hundred-subject",
   "metadata": {},
   "outputs": [
    {
     "name": "stdout",
     "output_type": "stream",
     "text": [
      "Minimum is: 0\n"
     ]
    }
   ],
   "source": [
    "values = []\n",
    "\n",
    "try:\n",
    "    minimum = abs(values[0])\n",
    "    for value in values[1:]:\n",
    "        if abs(value) < minimum:\n",
    "            minimum = abs(value)\n",
    "except IndexError:\n",
    "    minimum = 0\n",
    "    \n",
    "print(f'Minimum is: {minimum}')"
   ]
  },
  {
   "cell_type": "code",
   "execution_count": 7,
   "id": "impressed-sunrise",
   "metadata": {},
   "outputs": [
    {
     "name": "stdout",
     "output_type": "stream",
     "text": [
      "Minimum is: 1\n"
     ]
    }
   ],
   "source": [
    "values = [2, -3, 4, -1]\n",
    "\n",
    "try:\n",
    "    minimum = abs(values[0])\n",
    "    for value in values[1:]:\n",
    "        if abs(value) < minimum:\n",
    "            minimum = abs(value)\n",
    "except IndexError:\n",
    "    minimum = 0\n",
    "    \n",
    "print(f'Minimum is: {minimum}')"
   ]
  },
  {
   "cell_type": "markdown",
   "id": "sound-daughter",
   "metadata": {},
   "source": [
    "#### Question 2"
   ]
  },
  {
   "cell_type": "markdown",
   "id": "unable-chase",
   "metadata": {},
   "source": [
    "Write code that raises the built-in Python exception `ValueError` with a custom message, and catches the exception and prints the custom message."
   ]
  },
  {
   "cell_type": "markdown",
   "id": "inclusive-dominant",
   "metadata": {},
   "source": [
    "##### Solution"
   ]
  },
  {
   "cell_type": "markdown",
   "id": "opponent-faculty",
   "metadata": {},
   "source": [
    "To raise an exception we'll use a `raise` statement, and then we'll catch the `ValueError` using a `try...except...`."
   ]
  },
  {
   "cell_type": "markdown",
   "id": "environmental-campbell",
   "metadata": {},
   "source": [
    "Let's write the code to raise the exception first:"
   ]
  },
  {
   "cell_type": "code",
   "execution_count": 8,
   "id": "square-pattern",
   "metadata": {},
   "outputs": [
    {
     "ename": "ValueError",
     "evalue": "Some custom message",
     "output_type": "error",
     "traceback": [
      "\u001b[31m---------------------------------------------------------------------------\u001b[39m",
      "\u001b[31mValueError\u001b[39m                                Traceback (most recent call last)",
      "\u001b[36mCell\u001b[39m\u001b[36m \u001b[39m\u001b[32mIn[8]\u001b[39m\u001b[32m, line 1\u001b[39m\n\u001b[32m----> \u001b[39m\u001b[32m1\u001b[39m \u001b[38;5;28;01mraise\u001b[39;00m \u001b[38;5;167;01mValueError\u001b[39;00m(\u001b[33m'\u001b[39m\u001b[33mSome custom message\u001b[39m\u001b[33m'\u001b[39m)\n",
      "\u001b[31mValueError\u001b[39m: Some custom message"
     ]
    }
   ],
   "source": [
    "raise ValueError('Some custom message')"
   ]
  },
  {
   "cell_type": "markdown",
   "id": "irish-circulation",
   "metadata": {},
   "source": [
    "Finally, we'll put this in a try catch statement:"
   ]
  },
  {
   "cell_type": "code",
   "execution_count": 9,
   "id": "apparent-payday",
   "metadata": {},
   "outputs": [
    {
     "name": "stdout",
     "output_type": "stream",
     "text": [
      "Some custom message\n"
     ]
    }
   ],
   "source": [
    "try:\n",
    "    raise ValueError('Some custom message')\n",
    "except ValueError as ex:\n",
    "    print(ex)"
   ]
  },
  {
   "cell_type": "code",
   "execution_count": null,
   "id": "a590cf8c-6ca6-4355-a186-7a88e46f672a",
   "metadata": {},
   "outputs": [],
   "source": []
  }
 ],
 "metadata": {
  "kernelspec": {
   "display_name": "Python 3 (ipykernel)",
   "language": "python",
   "name": "python3"
  },
  "language_info": {
   "codemirror_mode": {
    "name": "ipython",
    "version": 3
   },
   "file_extension": ".py",
   "mimetype": "text/x-python",
   "name": "python",
   "nbconvert_exporter": "python",
   "pygments_lexer": "ipython3",
   "version": "3.13.7"
  }
 },
 "nbformat": 4,
 "nbformat_minor": 5
}
