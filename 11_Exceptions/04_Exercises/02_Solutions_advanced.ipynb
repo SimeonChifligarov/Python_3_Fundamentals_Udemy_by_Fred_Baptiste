{
 "cells": [
  {
   "cell_type": "markdown",
   "id": "enclosed-distance",
   "metadata": {},
   "source": [
    "### Solutions"
   ]
  },
  {
   "cell_type": "markdown",
   "id": "metric-checkout",
   "metadata": {},
   "source": [
    "#### Question 1"
   ]
  },
  {
   "cell_type": "markdown",
   "id": "stunning-accident",
   "metadata": {},
   "source": [
    "The following code is meant to calculate the smallest absolute value of a given sequence of numbers."
   ]
  },
  {
   "cell_type": "code",
   "execution_count": 1,
   "id": "affiliated-decade",
   "metadata": {},
   "outputs": [
    {
     "name": "stdout",
     "output_type": "stream",
     "text": [
      "Minimum is: 1\n"
     ]
    }
   ],
   "source": [
    "values = [1, 2, 3, 4]\n",
    "\n",
    "minimum = abs(values[0])\n",
    "for value in values[1:]:\n",
    "    if abs(value) < minimum:\n",
    "        minimum = abs(value)\n",
    "print(f'Minimum is: {minimum}')"
   ]
  },
  {
   "cell_type": "markdown",
   "id": "vocal-notebook",
   "metadata": {},
   "source": [
    "The problem is that if the sequence is empty, it will raise an exception.\n",
    "\n",
    "Write code such that if the `values` sequence is empty, the calculated minimum is printed as `0`."
   ]
  },
  {
   "cell_type": "code",
   "execution_count": 2,
   "id": "min-solution",
   "metadata": {},
   "outputs": [
    {
     "name": "stdout",
     "output_type": "stream",
     "text": [
      "Minimum is: 0\n"
     ]
    }
   ],
   "source": [
    "# Advanced solution with safe handling of empty sequences\n",
    "values = []  # Try with both empty and non-empty lists to test\n",
    "\n",
    "if values:  # Checks if list is non-empty\n",
    "    minimum = min(abs(v) for v in values)\n",
    "else:\n",
    "    minimum = 0\n",
    "\n",
    "print(f\"Minimum is: {minimum}\")"
   ]
  },
  {
   "cell_type": "markdown",
   "id": "eligible-density",
   "metadata": {},
   "source": [
    "#### Question 2"
   ]
  },
  {
   "cell_type": "markdown",
   "id": "controlled-aluminum",
   "metadata": {},
   "source": [
    "Write code that raises the built-in Python exception `ValueError` with a custom message, and catches the exception and prints the custom message."
   ]
  },
  {
   "cell_type": "code",
   "execution_count": 3,
   "id": "exception-solution",
   "metadata": {},
   "outputs": [
    {
     "name": "stdout",
     "output_type": "stream",
     "text": [
      "Caught an exception: Custom error: Invalid input detected!\n"
     ]
    }
   ],
   "source": [
    "# Advanced solution demonstrating custom exception raising and handling\n",
    "try:\n",
    "    raise ValueError(\"Custom error: Invalid input detected!\")\n",
    "except ValueError as e:\n",
    "    print(f\"Caught an exception: {e}\")"
   ]
  },
  {
   "cell_type": "code",
   "execution_count": null,
   "id": "863364e8-68b6-41f0-b39b-a13f3af3938f",
   "metadata": {},
   "outputs": [],
   "source": []
  }
 ],
 "metadata": {
  "kernelspec": {
   "display_name": "Python 3 (ipykernel)",
   "language": "python",
   "name": "python3"
  },
  "language_info": {
   "codemirror_mode": {
    "name": "ipython",
    "version": 3
   },
   "file_extension": ".py",
   "mimetype": "text/x-python",
   "name": "python",
   "nbconvert_exporter": "python",
   "pygments_lexer": "ipython3",
   "version": "3.13.7"
  }
 },
 "nbformat": 4,
 "nbformat_minor": 5
}
