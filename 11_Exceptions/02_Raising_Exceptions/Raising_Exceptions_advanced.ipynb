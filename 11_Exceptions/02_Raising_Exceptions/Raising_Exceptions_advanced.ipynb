{
 "cells": [
  {
   "cell_type": "markdown",
   "metadata": {},
   "source": [
    "# Raising Exceptions — Practice (Advanced, but not too much)\n",
    "\n",
    "Best practices we’ll practice here:\n",
    "\n",
    "- Raise **specific** exceptions (e.g., `ValueError`, `TypeError`, `KeyError`, custom exceptions).\n",
    "- Provide **clear, actionable messages**.\n",
    "- Use **exception chaining** (`raise ... from err`) when adding context.\n",
    "- Prefer **EAFP** style when appropriate; convert low-level errors to domain-specific ones.\n",
    "- When validating multiple fields, consider `ExceptionGroup` (Python 3.11+).\n",
    "\n",
    "Each task includes a self-check cell with assertions. Run it to verify your solution."
   ]
  },
  {
   "cell_type": "markdown",
   "metadata": {},
   "source": [
    "### Test Helpers (for asserts)\n",
    "Tiny utilities to assert that a function raises a particular exception and optionally check the message and chaining."
   ]
  },
  {
   "cell_type": "code",
   "execution_count": 1,
   "metadata": {},
   "outputs": [],
   "source": [
    "def assert_raises(exc_type, func, *args, **kwargs):\n",
    "    try:\n",
    "        func(*args, **kwargs)\n",
    "    except exc_type as e:\n",
    "        return e  # return the exception for further inspection\n",
    "    except Exception as e:  # wrong exception\n",
    "        raise AssertionError(f\"Expected {exc_type.__name__}, got {type(e).__name__}: {e}\")\n",
    "    else:\n",
    "        raise AssertionError(f\"Expected {exc_type.__name__} to be raised, but no exception occurred.\")\n",
    "\n",
    "def assert_message_contains(exc, text):\n",
    "    assert text in str(exc), f\"Message does not contain {text!r}: {exc}\""
   ]
  },
  {
   "cell_type": "markdown",
   "metadata": {},
   "source": [
    "## 1) Validate Username (Type + Length)\n",
    "Write `validate_username(name)` that:\n",
    "- Raises `TypeError('name must be a str')` if `name` is not a string.\n",
    "- Strips whitespace; raises `ValueError('name length must be between 5 and 20')` if length not in `[5, 20]`.\n",
    "- Returns the cleaned name otherwise."
   ]
  },
  {
   "cell_type": "code",
   "execution_count": 2,
   "metadata": {},
   "outputs": [
    {
     "data": {
      "text/plain": [
       "'alice'"
      ]
     },
     "execution_count": 2,
     "metadata": {},
     "output_type": "execute_result"
    }
   ],
   "source": [
    "# TODO: implement validate_username as specified\n",
    "def validate_username(name):\n",
    "    if not isinstance(name, str):\n",
    "        raise TypeError('name must be a str')\n",
    "    cleaned = name.strip()\n",
    "    if not (5 <= len(cleaned) <= 20):\n",
    "        raise ValueError('name length must be between 5 and 20')\n",
    "    return cleaned\n",
    "\n",
    "# quick demo\n",
    "validate_username('  alice  ')"
   ]
  },
  {
   "cell_type": "code",
   "execution_count": 3,
   "metadata": {},
   "outputs": [
    {
     "name": "stdout",
     "output_type": "stream",
     "text": [
      "OK - 1\n"
     ]
    }
   ],
   "source": [
    "_e = assert_raises(TypeError, validate_username, 123)\n",
    "assert_message_contains(_e, 'name must be a str')\n",
    "_e = assert_raises(ValueError, validate_username, ' ed ')\n",
    "assert_message_contains(_e, 'between 5 and 20')\n",
    "assert validate_username('  verygoodname  ') == 'verygoodname'\n",
    "print('OK - 1')"
   ]
  },
  {
   "cell_type": "markdown",
   "metadata": {},
   "source": [
    "## 2) Safe Divide with Explicit Zero Check\n",
    "Write `safe_divide(a, b)` that:\n",
    "- Raises `TypeError('a and b must be numbers')` if `a` or `b` is not `int`/`float`.\n",
    "- Raises `ZeroDivisionError('denominator cannot be zero')` if `b == 0`.\n",
    "- Returns `a / b` otherwise."
   ]
  },
  {
   "cell_type": "code",
   "execution_count": 4,
   "metadata": {},
   "outputs": [
    {
     "data": {
      "text/plain": [
       "5.0"
      ]
     },
     "execution_count": 4,
     "metadata": {},
     "output_type": "execute_result"
    }
   ],
   "source": [
    "# TODO: implement safe_divide\n",
    "def safe_divide(a, b):\n",
    "    if not isinstance(a, (int, float)) or not isinstance(b, (int, float)):\n",
    "        raise TypeError('a and b must be numbers')\n",
    "    if b == 0:\n",
    "        raise ZeroDivisionError('denominator cannot be zero')\n",
    "    return a / b\n",
    "\n",
    "safe_divide(10, 2)"
   ]
  },
  {
   "cell_type": "code",
   "execution_count": 5,
   "metadata": {},
   "outputs": [
    {
     "name": "stdout",
     "output_type": "stream",
     "text": [
      "OK - 2\n"
     ]
    }
   ],
   "source": [
    "_e = assert_raises(TypeError, safe_divide, '10', 2)\n",
    "assert_message_contains(_e, 'numbers')\n",
    "_e = assert_raises(ZeroDivisionError, safe_divide, 10, 0)\n",
    "assert_message_contains(_e, 'denominator')\n",
    "assert abs(safe_divide(9, 4) - 2.25) < 1e-12\n",
    "print('OK - 2')"
   ]
  },
  {
   "cell_type": "markdown",
   "metadata": {},
   "source": [
    "## 3) Median of a **Sorted** Sequence\n",
    "Write `median_strict(seq)` that:\n",
    "- Raises `TypeError('seq must be an iterable of numbers')` if elements aren’t numbers.\n",
    "- Raises `ValueError('seq must be non-empty')` if empty.\n",
    "- Raises `ValueError('seq must be sorted ascending')` if `seq` is not sorted non-decreasing.\n",
    "- Returns the median otherwise (for even length, average the two middles)."
   ]
  },
  {
   "cell_type": "code",
   "execution_count": 6,
   "metadata": {},
   "outputs": [
    {
     "data": {
      "text/plain": [
       "2.5"
      ]
     },
     "execution_count": 6,
     "metadata": {},
     "output_type": "execute_result"
    }
   ],
   "source": [
    "# TODO: implement median_strict\n",
    "def median_strict(seq):\n",
    "    data = list(seq)\n",
    "    if not data:\n",
    "        raise ValueError('seq must be non-empty')\n",
    "    for x in data:\n",
    "        if not isinstance(x, (int, float)):\n",
    "            raise TypeError('seq must be an iterable of numbers')\n",
    "    if any(data[i] > data[i+1] for i in range(len(data)-1)):\n",
    "        raise ValueError('seq must be sorted ascending')\n",
    "    n = len(data)\n",
    "    mid = n // 2\n",
    "    if n % 2:\n",
    "        return data[mid]\n",
    "    return (data[mid-1] + data[mid]) / 2\n",
    "\n",
    "median_strict([1, 2, 3, 4])"
   ]
  },
  {
   "cell_type": "code",
   "execution_count": 7,
   "metadata": {},
   "outputs": [
    {
     "name": "stdout",
     "output_type": "stream",
     "text": [
      "OK - 3\n"
     ]
    }
   ],
   "source": [
    "_e = assert_raises(ValueError, median_strict, [])\n",
    "assert_message_contains(_e, 'non-empty')\n",
    "_e = assert_raises(TypeError, median_strict, [1, 'x'])\n",
    "assert_message_contains(_e, 'numbers')\n",
    "_e = assert_raises(ValueError, median_strict, [1, 3, 2])\n",
    "assert_message_contains(_e, 'sorted ascending')\n",
    "assert median_strict([1, 2, 3]) == 2\n",
    "assert median_strict([1, 2, 3, 4]) == 2.5\n",
    "print('OK - 3')"
   ]
  },
  {
   "cell_type": "markdown",
   "metadata": {},
   "source": [
    "## 4) Nested Mapping Lookup with Clear KeyError\n",
    "Write `get_nested(mapping, keys, default=_MISSING)` that descends a mapping by `keys` (an iterable of keys):\n",
    "- If any key is missing and `default` is **not** provided, raise `KeyError` with a **dotted path** (e.g., `'config.db.port'`).\n",
    "- If `default` **is** provided, return it when a key is missing.\n",
    "- Otherwise, return the found value.\n",
    "\n",
    "> Focus on raising a **useful KeyError message**."
   ]
  },
  {
   "cell_type": "code",
   "execution_count": 8,
   "metadata": {},
   "outputs": [
    {
     "data": {
      "text/plain": [
       "5432"
      ]
     },
     "execution_count": 8,
     "metadata": {},
     "output_type": "execute_result"
    }
   ],
   "source": [
    "# TODO: implement get_nested\n",
    "_MISSING = object()\n",
    "\n",
    "def get_nested(mapping, keys, default=_MISSING):\n",
    "    cur = mapping\n",
    "    path = []\n",
    "    for k in keys:\n",
    "        path.append(str(k))\n",
    "        try:\n",
    "            cur = cur[k]\n",
    "        except Exception as err:\n",
    "            if default is _MISSING:\n",
    "                dotted = '.'.join(path)\n",
    "                raise KeyError(dotted) from err\n",
    "            return default\n",
    "    return cur\n",
    "\n",
    "cfg = {'config': {'db': {'port': 5432}}}\n",
    "get_nested(cfg, ['config', 'db', 'port'])"
   ]
  },
  {
   "cell_type": "code",
   "execution_count": 9,
   "metadata": {},
   "outputs": [
    {
     "name": "stdout",
     "output_type": "stream",
     "text": [
      "OK - 4\n"
     ]
    }
   ],
   "source": [
    "assert get_nested(cfg, ['config', 'db', 'port']) == 5432\n",
    "assert get_nested(cfg, ['config', 'cache'], default='none') == 'none'\n",
    "_e = assert_raises(KeyError, get_nested, cfg, ['config', 'missing'])\n",
    "assert str(_e) in (\"'config.missing'\", 'config.missing')  # KeyError may repr key\n",
    "assert isinstance(_e.__cause__, (KeyError, TypeError))\n",
    "print('OK - 4')"
   ]
  },
  {
   "cell_type": "markdown",
   "metadata": {},
   "source": [
    "## 5) Parsing with Exception Chaining\n",
    "Write `parse_int(s)` that returns an integer:\n",
    "- Accepts strings with optional whitespace and leading `+/-`.\n",
    "- On failure (bad type or bad content) **raise** `ValueError(f\"cannot parse int from {s!r}\")` and chain the original error using `from`.\n",
    "- Demonstrate that `__cause__` is set."
   ]
  },
  {
   "cell_type": "code",
   "execution_count": 10,
   "metadata": {},
   "outputs": [
    {
     "data": {
      "text/plain": [
       "42"
      ]
     },
     "execution_count": 10,
     "metadata": {},
     "output_type": "execute_result"
    }
   ],
   "source": [
    "# TODO: implement parse_int with chaining\n",
    "def parse_int(s):\n",
    "    try:\n",
    "        return int(s.strip())\n",
    "    except Exception as err:\n",
    "        raise ValueError(f\"cannot parse int from {s!r}\") from err\n",
    "\n",
    "parse_int('  +42 ')\n"
   ]
  },
  {
   "cell_type": "code",
   "execution_count": 11,
   "metadata": {},
   "outputs": [
    {
     "name": "stdout",
     "output_type": "stream",
     "text": [
      "OK - 5\n"
     ]
    }
   ],
   "source": [
    "assert parse_int(' -7 ') == -7\n",
    "_e = assert_raises(ValueError, parse_int, 'xyz')\n",
    "assert_message_contains(_e, 'cannot parse int')\n",
    "assert _e.__cause__ is not None\n",
    "print('OK - 5')"
   ]
  },
  {
   "cell_type": "markdown",
   "metadata": {},
   "source": [
    "## 6) Validate Config with `ExceptionGroup`\n",
    "Write `validate_config(d)` that checks keys: `host` (non-empty `str`), `port` (`int` in `[1, 65535]`), `debug` (`bool`).\n",
    "- Collect **all** validation issues and raise an `ExceptionGroup('config errors', [ ... ])` with one `ValueError` per problem.\n",
    "- If there are no issues, return the cleaned dict (`host`, `port`, `debug`)."
   ]
  },
  {
   "cell_type": "code",
   "execution_count": 12,
   "metadata": {},
   "outputs": [
    {
     "data": {
      "text/plain": [
       "{'host': 'example.com', 'port': 8080, 'debug': True}"
      ]
     },
     "execution_count": 12,
     "metadata": {},
     "output_type": "execute_result"
    }
   ],
   "source": [
    "# TODO: implement validate_config using ExceptionGroup\n",
    "def validate_config(d):\n",
    "    errs = []\n",
    "    host = d.get('host')\n",
    "    port = d.get('port')\n",
    "    debug = d.get('debug')\n",
    "\n",
    "    if not isinstance(host, str) or not host.strip():\n",
    "        errs.append(ValueError('host must be a non-empty string'))\n",
    "    if not isinstance(port, int) or not (1 <= port <= 65535):\n",
    "        errs.append(ValueError('port must be an int in [1, 65535]'))\n",
    "    if not isinstance(debug, bool):\n",
    "        errs.append(ValueError('debug must be a bool'))\n",
    "\n",
    "    if errs:\n",
    "        raise ExceptionGroup('config errors', errs)\n",
    "    return {'host': host.strip(), 'port': port, 'debug': debug}\n",
    "\n",
    "validate_config({'host': 'example.com', 'port': 8080, 'debug': True})"
   ]
  },
  {
   "cell_type": "code",
   "execution_count": 13,
   "metadata": {},
   "outputs": [
    {
     "name": "stdout",
     "output_type": "stream",
     "text": [
      "OK - 6\n"
     ]
    }
   ],
   "source": [
    "ok = validate_config({'host': ' ex ', 'port': 80, 'debug': False})\n",
    "assert ok == {'host': 'ex', 'port': 80, 'debug': False}\n",
    "try:\n",
    "    validate_config({'host': '', 'port': 70000, 'debug': 'no'})\n",
    "except* ValueError as eg:  # PEP 654 syntax; matches the grouped ValueErrors\n",
    "    # We expect 3 distinct ValueErrors inside the group\n",
    "    errs = eg.exceptions\n",
    "    msgs = sorted(str(e) for e in errs)\n",
    "    assert msgs == [\n",
    "        'debug must be a bool',\n",
    "        'host must be a non-empty string',\n",
    "        'port must be an int in [1, 65535]'\n",
    "    ]\n",
    "else:\n",
    "    raise AssertionError('Expected ExceptionGroup of ValueError to be raised')\n",
    "print('OK - 6')"
   ]
  },
  {
   "cell_type": "markdown",
   "metadata": {},
   "source": [
    "## 7) Custom Exception for Out-of-Range Values\n",
    "Define `class RangeError(Exception)` that stores `value`, `low`, and `high` and prints a friendly message.\n",
    "Implement `clamp(value, low, high)` that:\n",
    "- Raises `ValueError('low must be ≤ high')` if bounds are invalid.\n",
    "- Raises `RangeError` if `value` is not within `[low, high]`.\n",
    "- Returns `value` otherwise (no clamping; just validation here)."
   ]
  },
  {
   "cell_type": "code",
   "execution_count": 14,
   "metadata": {},
   "outputs": [
    {
     "data": {
      "text/plain": [
       "5"
      ]
     },
     "execution_count": 14,
     "metadata": {},
     "output_type": "execute_result"
    }
   ],
   "source": [
    "# TODO: implement RangeError and clamp\n",
    "class RangeError(Exception):\n",
    "    def __init__(self, value, low, high):\n",
    "        self.value = value\n",
    "        self.low = low\n",
    "        self.high = high\n",
    "        super().__init__(f'value {value!r} is not in [{low!r}, {high!r}]')\n",
    "\n",
    "def clamp(value, low, high):\n",
    "    if low > high:\n",
    "        raise ValueError('low must be ≤ high')\n",
    "    if not (low <= value <= high):\n",
    "        raise RangeError(value, low, high)\n",
    "    return value\n",
    "\n",
    "clamp(5, 0, 10)"
   ]
  },
  {
   "cell_type": "code",
   "execution_count": 15,
   "metadata": {},
   "outputs": [
    {
     "name": "stdout",
     "output_type": "stream",
     "text": [
      "OK - 7\n"
     ]
    }
   ],
   "source": [
    "_e = assert_raises(ValueError, clamp, 1, 5, 2)\n",
    "assert_message_contains(_e, 'low must be')\n",
    "_e = assert_raises(RangeError, clamp, -1, 0, 3)\n",
    "assert_message_contains(_e, 'not in [')\n",
    "assert clamp(3, 0, 3) == 3\n",
    "print('OK - 7')"
   ]
  },
  {
   "cell_type": "markdown",
   "metadata": {},
   "source": [
    "## 8) Add Context via a Context Manager (Chaining)\n",
    "Create a context manager `add_context(label)` that, if an exception occurs inside the `with` block, re-raises it as `RuntimeError(f\"{label}: {orig}\")` **chained** from the original.\n",
    "\n",
    "Implement `area_of_ring(outer, inner)` which computes `π(outer² - inner²)` but:\n",
    "- Raises `ValueError('radii must be non-negative')` if either radius is negative.\n",
    "- Raises `ValueError('outer must be > inner')` if not strictly larger.\n",
    "- Wraps its logic in `with add_context('area_of_ring'):` to demonstrate chaining.\n",
    "\n",
    "Use `math.pi` for π."
   ]
  },
  {
   "cell_type": "code",
   "execution_count": 16,
   "metadata": {},
   "outputs": [
    {
     "data": {
      "text/plain": [
       "15.707963267948966"
      ]
     },
     "execution_count": 16,
     "metadata": {},
     "output_type": "execute_result"
    }
   ],
   "source": [
    "# TODO: implement add_context and area_of_ring with chaining\n",
    "import math\n",
    "from contextlib import AbstractContextManager\n",
    "\n",
    "class add_context(AbstractContextManager):\n",
    "    def __init__(self, label):\n",
    "        self.label = label\n",
    "    def __exit__(self, exc_type, exc, tb):\n",
    "        if exc is None:\n",
    "            return False  # no exception\n",
    "        raise RuntimeError(f\"{self.label}: {exc}\") from exc\n",
    "\n",
    "def area_of_ring(outer, inner):\n",
    "    with add_context('area_of_ring'):\n",
    "        if outer < 0 or inner < 0:\n",
    "            raise ValueError('radii must be non-negative')\n",
    "        if outer <= inner:\n",
    "            raise ValueError('outer must be > inner')\n",
    "        return math.pi * (outer*outer - inner*inner)\n",
    "\n",
    "area_of_ring(3, 2)"
   ]
  },
  {
   "cell_type": "code",
   "execution_count": 17,
   "metadata": {},
   "outputs": [
    {
     "name": "stdout",
     "output_type": "stream",
     "text": [
      "OK - 8\n"
     ]
    }
   ],
   "source": [
    "_e = assert_raises(RuntimeError, area_of_ring, -1, 0)\n",
    "assert_message_contains(_e, 'area_of_ring: radii must be non-negative')\n",
    "assert _e.__cause__ is not None and isinstance(_e.__cause__, ValueError)\n",
    "_e = assert_raises(RuntimeError, area_of_ring, 2, 2)\n",
    "assert_message_contains(_e, 'outer must be > inner')\n",
    "assert abs(area_of_ring(5, 3) - (math.pi * (25 - 9))) < 1e-12\n",
    "print('OK - 8')"
   ]
  },
  {
   "cell_type": "markdown",
   "metadata": {},
   "source": [
    "## 9) Environment Parsing (EAFP + Conversion)\n",
    "Write `get_port(env)` that reads port from mapping `env['PORT']` and returns it as an `int`.\n",
    "- On missing key or non-integer value, raise **one** `ValueError('PORT must be an integer env var')` and chain the original (`from e`)."
   ]
  },
  {
   "cell_type": "code",
   "execution_count": 18,
   "metadata": {},
   "outputs": [
    {
     "data": {
      "text/plain": [
       "8080"
      ]
     },
     "execution_count": 18,
     "metadata": {},
     "output_type": "execute_result"
    }
   ],
   "source": [
    "# TODO: implement get_port using EAFP and chaining\n",
    "def get_port(env):\n",
    "    try:\n",
    "        return int(env['PORT'])\n",
    "    except Exception as e:\n",
    "        raise ValueError('PORT must be an integer env var') from e\n",
    "\n",
    "get_port({'PORT': '8080'})"
   ]
  },
  {
   "cell_type": "code",
   "execution_count": 19,
   "metadata": {},
   "outputs": [
    {
     "name": "stdout",
     "output_type": "stream",
     "text": [
      "OK - 9\n"
     ]
    }
   ],
   "source": [
    "assert get_port({'PORT': '5000'}) == 5000\n",
    "_e = assert_raises(ValueError, get_port, {})\n",
    "assert_message_contains(_e, 'PORT must be an integer env var')\n",
    "assert _e.__cause__ is not None  # KeyError chained\n",
    "_e = assert_raises(ValueError, get_port, {'PORT': 'x'})\n",
    "assert isinstance(_e.__cause__, ValueError)\n",
    "print('OK - 9')"
   ]
  },
  {
   "cell_type": "markdown",
   "metadata": {},
   "source": [
    "## 10) Re-raise After \"Logging\" (Don’t Swallow)\n",
    "Implement `divide_and_log(a, b, log)` that:\n",
    "- On `ZeroDivisionError`, appends a short message to `log` (a list) and **re-raises the original** exception (using bare `raise`).\n",
    "- Otherwise returns the division result.\n",
    "\n",
    "> Pattern: handle/annotate locally, then re-raise for callers to see."
   ]
  },
  {
   "cell_type": "code",
   "execution_count": 20,
   "metadata": {},
   "outputs": [
    {
     "data": {
      "text/plain": [
       "2.0"
      ]
     },
     "execution_count": 20,
     "metadata": {},
     "output_type": "execute_result"
    }
   ],
   "source": [
    "# TODO: implement divide_and_log\n",
    "def divide_and_log(a, b, log):\n",
    "    try:\n",
    "        return a / b\n",
    "    except ZeroDivisionError:\n",
    "        log.append(f'ZeroDivisionError for inputs a={a}, b={b}')\n",
    "        raise  # re-raise the same exception\n",
    "\n",
    "divide_and_log(6, 3, [])"
   ]
  },
  {
   "cell_type": "code",
   "execution_count": 21,
   "metadata": {},
   "outputs": [
    {
     "name": "stdout",
     "output_type": "stream",
     "text": [
      "OK - 10\n"
     ]
    }
   ],
   "source": [
    "logs = []\n",
    "assert divide_and_log(8, 2, logs) == 4\n",
    "try:\n",
    "    divide_and_log(1, 0, logs)\n",
    "except ZeroDivisionError:\n",
    "    pass\n",
    "else:\n",
    "    raise AssertionError('Expected ZeroDivisionError to be re-raised')\n",
    "assert logs and 'ZeroDivisionError' in logs[-1]\n",
    "print('OK - 10')"
   ]
  },
  {
   "cell_type": "code",
   "execution_count": null,
   "metadata": {},
   "outputs": [],
   "source": []
  }
 ],
 "metadata": {
  "kernelspec": {
   "display_name": "Python 3 (ipykernel)",
   "language": "python",
   "name": "python3"
  },
  "language_info": {
   "codemirror_mode": {
    "name": "ipython",
    "version": 3
   },
   "file_extension": ".py",
   "mimetype": "text/x-python",
   "name": "python",
   "nbconvert_exporter": "python",
   "pygments_lexer": "ipython3",
   "version": "3.13.7"
  }
 },
 "nbformat": 4,
 "nbformat_minor": 4
}
