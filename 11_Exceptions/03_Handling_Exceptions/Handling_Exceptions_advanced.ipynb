{
 "cells": [
  {
   "cell_type": "markdown",
   "metadata": {},
   "source": [
    "# Handling Exceptions — Practice (Advanced, but not too much)\n",
    "\n",
    "What we’ll practice:\n",
    "- Catching **specific** exceptions (not overbroad `except Exception` unless you re-raise).\n",
    "- Using `try/except/else/finally` appropriately.\n",
    "- Re-raising and adding context.\n",
    "- `contextlib.suppress` for ignore-and-continue cases.\n",
    "- Simple retry patterns and resource cleanup.\n",
    "\n",
    "Each task has a `# TODO` cell and an assert cell. Run the asserts to verify."
   ]
  },
  {
   "cell_type": "markdown",
   "metadata": {},
   "source": [
    "### Test Helpers (for asserts)\n",
    "Small helpers to assert exceptions and messages."
   ]
  },
  {
   "cell_type": "code",
   "execution_count": 1,
   "metadata": {},
   "outputs": [],
   "source": [
    "def assert_raises(exc_type, func, *args, **kwargs):\n",
    "    try:\n",
    "        func(*args, **kwargs)\n",
    "    except exc_type as e:\n",
    "        return e\n",
    "    except Exception as e:\n",
    "        raise AssertionError(f\"Expected {exc_type.__name__}, got {type(e).__name__}: {e}\")\n",
    "    else:\n",
    "        raise AssertionError(f\"Expected {exc_type.__name__} to be raised, but no exception occurred.\")\n",
    "\n",
    "def assert_message_contains(exc, text):\n",
    "    assert text in str(exc), f\"Message does not contain {text!r}: {exc}\""
   ]
  },
  {
   "cell_type": "markdown",
   "metadata": {},
   "source": [
    "## 1) Safe Int Conversion with Fallback\n",
    "Implement `safe_int(s, default=None)`:\n",
    "- Return `int(s)` when possible.\n",
    "- If `s` is a string/number but not convertible (e.g., `'x'`), return `default`.\n",
    "- If `s` is the wrong type (e.g., `None`, list), raise `TypeError('s must be str or number')`."
   ]
  },
  {
   "cell_type": "code",
   "execution_count": 2,
   "metadata": {},
   "outputs": [
    {
     "data": {
      "text/plain": [
       "10"
      ]
     },
     "execution_count": 2,
     "metadata": {},
     "output_type": "execute_result"
    }
   ],
   "source": [
    "# TODO: implement safe_int\n",
    "def safe_int(s, default=None):\n",
    "    try:\n",
    "        return int(s)\n",
    "    except ValueError:\n",
    "        return default\n",
    "    except TypeError:\n",
    "        raise TypeError('s must be str or number')\n",
    "\n",
    "safe_int('10')"
   ]
  },
  {
   "cell_type": "code",
   "execution_count": 3,
   "metadata": {},
   "outputs": [
    {
     "name": "stdout",
     "output_type": "stream",
     "text": [
      "OK - 1\n"
     ]
    }
   ],
   "source": [
    "assert safe_int('10') == 10\n",
    "assert safe_int('x', -1) == -1\n",
    "_e = assert_raises(TypeError, safe_int, None)\n",
    "assert_message_contains(_e, 'str or number')\n",
    "print('OK - 1')"
   ]
  },
  {
   "cell_type": "markdown",
   "metadata": {},
   "source": [
    "## 2) Read Key with Type Check (using `else`)\n",
    "Implement `read_key(mapping, key, required_type=None, default=None)`:\n",
    "- Return `mapping[key]` if present.\n",
    "- On missing key, return `default`.\n",
    "- If `required_type` is given and value isn’t an instance, raise `TypeError('wrong type for key')`.\n",
    "- **Fix included:** treat `bool` as **not** `int` when `required_type` is `int`.\n",
    "- Use `try/except ... else:` so the type check runs only when the lookup succeeds."
   ]
  },
  {
   "cell_type": "code",
   "execution_count": 4,
   "metadata": {},
   "outputs": [
    {
     "data": {
      "text/plain": [
       "1"
      ]
     },
     "execution_count": 4,
     "metadata": {},
     "output_type": "execute_result"
    }
   ],
   "source": [
    "# TODO: implement read_key (fixed for bool vs int)\n",
    "def read_key(mapping, key, required_type=None, default=None):\n",
    "    try:\n",
    "        val = mapping[key]\n",
    "    except KeyError:\n",
    "        return default\n",
    "    else:\n",
    "        if required_type is not None:\n",
    "            if required_type is int and isinstance(val, bool):\n",
    "                raise TypeError('wrong type for key')\n",
    "            if not isinstance(val, required_type):\n",
    "                raise TypeError('wrong type for key')\n",
    "        return val\n",
    "\n",
    "read_key({'a': 1}, 'a')"
   ]
  },
  {
   "cell_type": "code",
   "execution_count": 5,
   "metadata": {},
   "outputs": [
    {
     "name": "stdout",
     "output_type": "stream",
     "text": [
      "OK - 2\n"
     ]
    }
   ],
   "source": [
    "d = {'port': 8080, 'debug': True}\n",
    "assert read_key(d, 'port', int) == 8080\n",
    "assert read_key(d, 'missing', default='N/A') == 'N/A'\n",
    "_e = assert_raises(TypeError, read_key, d, 'debug', int)\n",
    "assert_message_contains(_e, 'wrong type')\n",
    "print('OK - 2')"
   ]
  },
  {
   "cell_type": "markdown",
   "metadata": {},
   "source": [
    "## 3) Divide or Log (with `else`)\n",
    "Implement `divide_or_log(a, b, logger)`:\n",
    "- On success, append `'ok'` to `logger` in the `else:` block and return the result.\n",
    "- On `ZeroDivisionError`, append a short message and return `float('inf')`.\n",
    "- Do **not** catch other exceptions."
   ]
  },
  {
   "cell_type": "code",
   "execution_count": 6,
   "metadata": {},
   "outputs": [
    {
     "data": {
      "text/plain": [
       "2.0"
      ]
     },
     "execution_count": 6,
     "metadata": {},
     "output_type": "execute_result"
    }
   ],
   "source": [
    "# TODO: implement divide_or_log\n",
    "def divide_or_log(a, b, logger):\n",
    "    try:\n",
    "        res = a / b\n",
    "    except ZeroDivisionError as e:\n",
    "        logger.append(f'ZeroDivisionError: {e}')\n",
    "        return float('inf')\n",
    "    else:\n",
    "        logger.append('ok')\n",
    "        return res\n",
    "\n",
    "divide_or_log(6, 3, [])"
   ]
  },
  {
   "cell_type": "code",
   "execution_count": 7,
   "metadata": {},
   "outputs": [
    {
     "name": "stdout",
     "output_type": "stream",
     "text": [
      "OK - 3\n"
     ]
    }
   ],
   "source": [
    "log = []\n",
    "assert divide_or_log(8, 4, log) == 2.0\n",
    "assert log[-1] == 'ok'\n",
    "r = divide_or_log(1, 0, log)\n",
    "assert r == float('inf') and any('ZeroDivisionError' in s for s in log)\n",
    "print('OK - 3')"
   ]
  },
  {
   "cell_type": "markdown",
   "metadata": {},
   "source": [
    "## 4) Sum Only Numeric Elements (skip others)\n",
    "Implement `sum_numeric(iterable)` that adds numeric elements (int/float). If an element raises `TypeError` on `+`, **skip** it. If no numeric elements exist, return `0`.\n",
    "\n",
    "> Use a `try/except` inside the loop to skip just the bad element."
   ]
  },
  {
   "cell_type": "code",
   "execution_count": 8,
   "metadata": {},
   "outputs": [
    {
     "data": {
      "text/plain": [
       "3.5"
      ]
     },
     "execution_count": 8,
     "metadata": {},
     "output_type": "execute_result"
    }
   ],
   "source": [
    "# TODO: implement sum_numeric\n",
    "def sum_numeric(iterable):\n",
    "    total = 0\n",
    "    count = 0\n",
    "    for x in iterable:\n",
    "        try:\n",
    "            total += x\n",
    "            count += 1\n",
    "        except TypeError:\n",
    "            pass\n",
    "    return total if count > 0 else 0\n",
    "\n",
    "sum_numeric([1, 'a', 2.5])"
   ]
  },
  {
   "cell_type": "code",
   "execution_count": 9,
   "metadata": {},
   "outputs": [
    {
     "name": "stdout",
     "output_type": "stream",
     "text": [
      "OK - 4\n"
     ]
    }
   ],
   "source": [
    "assert sum_numeric([1, 'a', 2.5]) == 3.5\n",
    "assert sum_numeric([]) == 0\n",
    "assert sum_numeric(['x']) == 0\n",
    "print('OK - 4')"
   ]
  },
  {
   "cell_type": "markdown",
   "metadata": {},
   "source": [
    "## 5) Ensure Cleanup with `finally`\n",
    "Implement `use_resource(div_by)` that computes `10/div_by` but always marks the resource as closed using a `finally` block. Track the last-closed flag on the function itself as `use_resource.last_closed` for testing.\n",
    "\n",
    "> Even if a `ZeroDivisionError` happens, `last_closed` must be `True` after the call exits."
   ]
  },
  {
   "cell_type": "code",
   "execution_count": 10,
   "metadata": {},
   "outputs": [
    {
     "data": {
      "text/plain": [
       "5.0"
      ]
     },
     "execution_count": 10,
     "metadata": {},
     "output_type": "execute_result"
    }
   ],
   "source": [
    "# TODO: implement use_resource with finally\n",
    "def use_resource(div_by):\n",
    "    use_resource.last_closed = False\n",
    "    class _Dummy:\n",
    "        def close(self):\n",
    "            use_resource.last_closed = True\n",
    "    r = _Dummy()\n",
    "    try:\n",
    "        return 10 / div_by\n",
    "    finally:\n",
    "        r.close()\n",
    "\n",
    "use_resource(2)"
   ]
  },
  {
   "cell_type": "code",
   "execution_count": 11,
   "metadata": {},
   "outputs": [
    {
     "name": "stdout",
     "output_type": "stream",
     "text": [
      "OK - 5\n"
     ]
    }
   ],
   "source": [
    "assert use_resource(2) == 5\n",
    "assert use_resource.last_closed is True\n",
    "try:\n",
    "    use_resource(0)\n",
    "except ZeroDivisionError:\n",
    "    pass\n",
    "assert use_resource.last_closed is True\n",
    "print('OK - 5')"
   ]
  },
  {
   "cell_type": "markdown",
   "metadata": {},
   "source": [
    "## 6) Parse JSON Field with Unified Error\n",
    "Implement `parse_json_field(s, field)` that returns `json.loads(s)[field]`.\n",
    "- On JSON errors, wrong type, or missing field, raise **one** `ValueError('invalid payload or missing field')` and chain the original (`from err`)."
   ]
  },
  {
   "cell_type": "code",
   "execution_count": 12,
   "metadata": {},
   "outputs": [
    {
     "data": {
      "text/plain": [
       "1"
      ]
     },
     "execution_count": 12,
     "metadata": {},
     "output_type": "execute_result"
    }
   ],
   "source": [
    "# TODO: implement parse_json_field with chaining\n",
    "import json\n",
    "\n",
    "def parse_json_field(s, field):\n",
    "    try:\n",
    "        obj = json.loads(s)\n",
    "        return obj[field]\n",
    "    except Exception as err:\n",
    "        raise ValueError('invalid payload or missing field') from err\n",
    "\n",
    "parse_json_field('{\"x\": 1}', 'x')"
   ]
  },
  {
   "cell_type": "code",
   "execution_count": 13,
   "metadata": {},
   "outputs": [
    {
     "name": "stdout",
     "output_type": "stream",
     "text": [
      "OK - 6\n"
     ]
    }
   ],
   "source": [
    "assert parse_json_field('{\"n\": 7}', 'n') == 7\n",
    "_e = assert_raises(ValueError, parse_json_field, '{bad json', 'x')\n",
    "assert _e.__cause__ is not None\n",
    "_e = assert_raises(ValueError, parse_json_field, '{\"x\": 1}', 'y')\n",
    "assert_message_contains(_e, 'invalid payload')\n",
    "print('OK - 6')"
   ]
  },
  {
   "cell_type": "markdown",
   "metadata": {},
   "source": [
    "## 7) Try Multiple Sources, Report Failures\n",
    "Implement `fetch_first(urls, fetch)` that tries each `url` with `fetch(url)` until one succeeds, then returns its value.\n",
    "- Collect messages of failures; if all fail, raise `RuntimeError('all fetches failed: ...')` summarizing the errors.\n",
    "- Only catch broad exceptions if you **use them** (to record) and then **raise** your own summary error."
   ]
  },
  {
   "cell_type": "code",
   "execution_count": 14,
   "metadata": {},
   "outputs": [
    {
     "data": {
      "text/plain": [
       "'data:ok'"
      ]
     },
     "execution_count": 14,
     "metadata": {},
     "output_type": "execute_result"
    }
   ],
   "source": [
    "# TODO: implement fetch_first\n",
    "def fetch_first(urls, fetch):\n",
    "    failures = []\n",
    "    for u in urls:\n",
    "        try:\n",
    "            return fetch(u)\n",
    "        except Exception as e:\n",
    "            failures.append(str(e))\n",
    "    raise RuntimeError('all fetches failed: ' + '; '.join(failures))\n",
    "\n",
    "def _fake_fetch(u):\n",
    "    if 'ok' in u:\n",
    "        return f'data:{u}'\n",
    "    raise IOError(f'404 for {u}')\n",
    "\n",
    "fetch_first(['a', 'b', 'ok'], _fake_fetch)"
   ]
  },
  {
   "cell_type": "code",
   "execution_count": 15,
   "metadata": {},
   "outputs": [
    {
     "name": "stdout",
     "output_type": "stream",
     "text": [
      "OK - 7\n"
     ]
    }
   ],
   "source": [
    "assert fetch_first(['x', 'y', 'ok'], _fake_fetch) == 'data:ok'\n",
    "_e = assert_raises(RuntimeError, fetch_first, ['x'], _fake_fetch)\n",
    "assert_message_contains(_e, 'all fetches failed')\n",
    "assert_message_contains(_e, '404 for x')\n",
    "print('OK - 7')"
   ]
  },
  {
   "cell_type": "markdown",
   "metadata": {},
   "source": [
    "## 8) Ignore Specific Errors with `contextlib.suppress`\n",
    "Implement `count_valid(callables_list)` that calls each zero-arg function:\n",
    "- Count how many calls succeed.\n",
    "- Ignore (`suppress`) **only** `ValueError`.\n",
    "- Let other exceptions propagate (e.g., `TypeError`)."
   ]
  },
  {
   "cell_type": "code",
   "execution_count": 16,
   "metadata": {},
   "outputs": [
    {
     "data": {
      "text/plain": [
       "2"
      ]
     },
     "execution_count": 16,
     "metadata": {},
     "output_type": "execute_result"
    }
   ],
   "source": [
    "# TODO: implement count_valid using suppress\n",
    "from contextlib import suppress\n",
    "\n",
    "def count_valid(callables_list):\n",
    "    count = 0\n",
    "    for fn in callables_list:\n",
    "        with suppress(ValueError):\n",
    "            fn()\n",
    "            count += 1\n",
    "    return count\n",
    "\n",
    "def _ok():\n",
    "    int('10')\n",
    "\n",
    "def _bad_val():\n",
    "    int('x')  # ValueError\n",
    "\n",
    "def _bad_type():\n",
    "    int(None)  # TypeError\n",
    "\n",
    "count_valid([_ok, _bad_val, _ok])"
   ]
  },
  {
   "cell_type": "code",
   "execution_count": 17,
   "metadata": {},
   "outputs": [
    {
     "name": "stdout",
     "output_type": "stream",
     "text": [
      "OK - 8\n"
     ]
    }
   ],
   "source": [
    "assert count_valid([_ok, _bad_val, _ok]) == 2\n",
    "_e = assert_raises(TypeError, count_valid, [_ok, _bad_type])\n",
    "print('OK - 8')"
   ]
  },
  {
   "cell_type": "markdown",
   "metadata": {},
   "source": [
    "## 9) Simple Retry Helper\n",
    "Implement `try_n_times(n, func, *a, **kw)`:\n",
    "- Call `func(*a, **kw)` up to `n` times until success.\n",
    "- Catch any exception, keep the last, and after `n` failures re-raise the last one.\n",
    "- Don’t swallow the error silently—only try again and surface it if all attempts fail."
   ]
  },
  {
   "cell_type": "code",
   "execution_count": 18,
   "metadata": {},
   "outputs": [
    {
     "data": {
      "text/plain": [
       "'OK'"
      ]
     },
     "execution_count": 18,
     "metadata": {},
     "output_type": "execute_result"
    }
   ],
   "source": [
    "# TODO: implement try_n_times\n",
    "def try_n_times(n, func, *a, **kw):\n",
    "    last_exc = None\n",
    "    for _ in range(n):\n",
    "        try:\n",
    "            return func(*a, **kw)\n",
    "        except Exception as e:\n",
    "            last_exc = e\n",
    "    raise last_exc\n",
    "\n",
    "def make_flaky(k, result):\n",
    "    calls = {'n': 0}\n",
    "    def f():\n",
    "        calls['n'] += 1\n",
    "        if calls['n'] <= k:\n",
    "            raise RuntimeError('flaky')\n",
    "        return result\n",
    "    return f\n",
    "\n",
    "try_n_times(3, make_flaky(2, 'OK'))"
   ]
  },
  {
   "cell_type": "code",
   "execution_count": 19,
   "metadata": {},
   "outputs": [
    {
     "name": "stdout",
     "output_type": "stream",
     "text": [
      "OK - 9\n"
     ]
    }
   ],
   "source": [
    "assert try_n_times(3, make_flaky(2, 99)) == 99\n",
    "_e = assert_raises(RuntimeError, try_n_times, 2, make_flaky(3, 'never'))\n",
    "assert_message_contains(_e, 'flaky')\n",
    "print('OK - 9')"
   ]
  },
  {
   "cell_type": "markdown",
   "metadata": {},
   "source": [
    "## 10) `try/except/else` for Validation\n",
    "Implement `all_parsable_ints(seq)` that returns `True` iff **every** element in `seq` can be converted by `int()`.\n",
    "- Use one `try` around the whole loop and put the loop in the `try` block.\n",
    "- On any failure, return `False` from `except`.\n",
    "- If no exception, return `True` from `else`."
   ]
  },
  {
   "cell_type": "code",
   "execution_count": 20,
   "metadata": {},
   "outputs": [
    {
     "data": {
      "text/plain": [
       "True"
      ]
     },
     "execution_count": 20,
     "metadata": {},
     "output_type": "execute_result"
    }
   ],
   "source": [
    "# TODO: implement all_parsable_ints using try/except/else\n",
    "def all_parsable_ints(seq):\n",
    "    try:\n",
    "        for x in seq:\n",
    "            int(x)\n",
    "    except Exception:\n",
    "        return False\n",
    "    else:\n",
    "        return True\n",
    "\n",
    "all_parsable_ints(['1', 2, 3.0])"
   ]
  },
  {
   "cell_type": "code",
   "execution_count": 21,
   "metadata": {},
   "outputs": [
    {
     "name": "stdout",
     "output_type": "stream",
     "text": [
      "OK - 10\n"
     ]
    }
   ],
   "source": [
    "assert all_parsable_ints(['1', 2, 3.0]) is True\n",
    "assert all_parsable_ints(['1', 'x']) is False\n",
    "assert all_parsable_ints([]) is True\n",
    "print('OK - 10')"
   ]
  },
  {
   "cell_type": "code",
   "execution_count": null,
   "metadata": {},
   "outputs": [],
   "source": []
  }
 ],
 "metadata": {
  "kernelspec": {
   "display_name": "Python 3 (ipykernel)",
   "language": "python",
   "name": "python3"
  },
  "language_info": {
   "codemirror_mode": {
    "name": "ipython",
    "version": 3
   },
   "file_extension": ".py",
   "mimetype": "text/x-python",
   "name": "python",
   "nbconvert_exporter": "python",
   "pygments_lexer": "ipython3",
   "version": "3.13.7"
  }
 },
 "nbformat": 4,
 "nbformat_minor": 4
}
